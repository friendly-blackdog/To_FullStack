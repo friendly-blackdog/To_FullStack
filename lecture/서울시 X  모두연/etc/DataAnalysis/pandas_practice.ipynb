{
 "nbformat": 4,
 "nbformat_minor": 2,
 "metadata": {
  "language_info": {
   "name": "python",
   "codemirror_mode": {
    "name": "ipython",
    "version": 3
   },
   "version": "3.7.3-final"
  },
  "orig_nbformat": 2,
  "file_extension": ".py",
  "mimetype": "text/x-python",
  "name": "python",
  "npconvert_exporter": "python",
  "pygments_lexer": "ipython3",
  "version": 3,
  "kernelspec": {
   "name": "python37464bit0d9ff674201c47f98c8e18ab917eae56",
   "display_name": "Python 3.7.4 64-bit"
  }
 },
 "cells": [
  {
   "cell_type": "markdown",
   "metadata": {},
   "source": [
    "# Pandas Transform 실전 연습 문제"
   ]
  },
  {
   "cell_type": "markdown",
   "metadata": {},
   "source": [
    "### 0. 데이터 불러오기"
   ]
  },
  {
   "cell_type": "code",
   "execution_count": 4,
   "metadata": {},
   "outputs": [],
   "source": [
    "import pandas as pd\n",
    "import numpy as np"
   ]
  },
  {
   "cell_type": "code",
   "execution_count": 8,
   "metadata": {},
   "outputs": [
    {
     "output_type": "stream",
     "name": "stderr",
     "text": "/Users/jooyoungson/Library/Python/3.7/lib/python/site-packages/IPython/core/interactiveshell.py:3051: DtypeWarning: Columns (12) have mixed types. Specify dtype option on import or set low_memory=False.\n  interactivity=interactivity, compiler=compiler, result=result)\n"
    }
   ],
   "source": [
    "sal = pd.read_csv('Salaries.csv')\n",
    "sal = pd.read_csv(\"Salaries.csv\")"
   ]
  },
  {
   "cell_type": "code",
   "execution_count": 9,
   "metadata": {},
   "outputs": [
    {
     "output_type": "execute_result",
     "data": {
      "text/plain": "   Id    EmployeeName                                        JobTitle  \\\n0   1  NATHANIEL FORD  GENERAL MANAGER-METROPOLITAN TRANSIT AUTHORITY   \n1   2    GARY JIMENEZ                 CAPTAIN III (POLICE DEPARTMENT)   \n\n     BasePay  OvertimePay   OtherPay  Benefits   TotalPay  TotalPayBenefits  \\\n0  167411.18         0.00  400184.25       NaN  567595.43         567595.43   \n1  155966.02    245131.88  137811.38       NaN  538909.28         538909.28   \n\n   Year  Notes         Agency Status  \n0  2011    NaN  San Francisco    NaN  \n1  2011    NaN  San Francisco    NaN  ",
      "text/html": "<div>\n<style scoped>\n    .dataframe tbody tr th:only-of-type {\n        vertical-align: middle;\n    }\n\n    .dataframe tbody tr th {\n        vertical-align: top;\n    }\n\n    .dataframe thead th {\n        text-align: right;\n    }\n</style>\n<table border=\"1\" class=\"dataframe\">\n  <thead>\n    <tr style=\"text-align: right;\">\n      <th></th>\n      <th>Id</th>\n      <th>EmployeeName</th>\n      <th>JobTitle</th>\n      <th>BasePay</th>\n      <th>OvertimePay</th>\n      <th>OtherPay</th>\n      <th>Benefits</th>\n      <th>TotalPay</th>\n      <th>TotalPayBenefits</th>\n      <th>Year</th>\n      <th>Notes</th>\n      <th>Agency</th>\n      <th>Status</th>\n    </tr>\n  </thead>\n  <tbody>\n    <tr>\n      <td>0</td>\n      <td>1</td>\n      <td>NATHANIEL FORD</td>\n      <td>GENERAL MANAGER-METROPOLITAN TRANSIT AUTHORITY</td>\n      <td>167411.18</td>\n      <td>0.00</td>\n      <td>400184.25</td>\n      <td>NaN</td>\n      <td>567595.43</td>\n      <td>567595.43</td>\n      <td>2011</td>\n      <td>NaN</td>\n      <td>San Francisco</td>\n      <td>NaN</td>\n    </tr>\n    <tr>\n      <td>1</td>\n      <td>2</td>\n      <td>GARY JIMENEZ</td>\n      <td>CAPTAIN III (POLICE DEPARTMENT)</td>\n      <td>155966.02</td>\n      <td>245131.88</td>\n      <td>137811.38</td>\n      <td>NaN</td>\n      <td>538909.28</td>\n      <td>538909.28</td>\n      <td>2011</td>\n      <td>NaN</td>\n      <td>San Francisco</td>\n      <td>NaN</td>\n    </tr>\n  </tbody>\n</table>\n</div>"
     },
     "metadata": {},
     "execution_count": 9
    }
   ],
   "source": [
    "sal.head(2)"
   ]
  },
  {
   "cell_type": "code",
   "execution_count": 10,
   "metadata": {},
   "outputs": [
    {
     "output_type": "stream",
     "name": "stdout",
     "text": "<class 'pandas.core.frame.DataFrame'>\nRangeIndex: 148645 entries, 0 to 148644\nData columns (total 13 columns):\nId                  148645 non-null int64\nEmployeeName        148645 non-null object\nJobTitle            148645 non-null object\nBasePay             148040 non-null float64\nOvertimePay         148645 non-null float64\nOtherPay            148645 non-null float64\nBenefits            112486 non-null float64\nTotalPay            148645 non-null float64\nTotalPayBenefits    148645 non-null float64\nYear                148645 non-null int64\nNotes               0 non-null float64\nAgency              148645 non-null object\nStatus              38114 non-null object\ndtypes: float64(7), int64(2), object(4)\nmemory usage: 14.7+ MB\n"
    }
   ],
   "source": [
    "sal.info()"
   ]
  },
  {
   "cell_type": "markdown",
   "metadata": {},
   "source": [
    "### 1. 평균 basepay는 얼마인가요? "
   ]
  },
  {
   "cell_type": "code",
   "execution_count": 13,
   "metadata": {},
   "outputs": [
    {
     "output_type": "execute_result",
     "data": {
      "text/plain": "66327.68895967308"
     },
     "metadata": {},
     "execution_count": 13
    }
   ],
   "source": [
    "sal['BasePay'].mean()"
   ]
  },
  {
   "cell_type": "markdown",
   "metadata": {},
   "source": [
    "### 2. 최대 OvertimePay는 얼마인가요?"
   ]
  },
  {
   "cell_type": "code",
   "execution_count": 15,
   "metadata": {},
   "outputs": [
    {
     "output_type": "execute_result",
     "data": {
      "text/plain": "245131.88"
     },
     "metadata": {},
     "execution_count": 15
    }
   ],
   "source": [
    "sal['OvertimePay'].max()"
   ]
  },
  {
   "cell_type": "markdown",
   "metadata": {},
   "source": [
    "### 3. JOSEPH DRISCOLL의 job title은 무엇인가요?"
   ]
  },
  {
   "cell_type": "code",
   "execution_count": 16,
   "metadata": {},
   "outputs": [
    {
     "output_type": "execute_result",
     "data": {
      "text/plain": "24    CAPTAIN, FIRE SUPPRESSION\nName: JobTitle, dtype: object"
     },
     "metadata": {},
     "execution_count": 16
    }
   ],
   "source": [
    "sal[sal['EmployeeName'] == 'JOSEPH DRISCOLL']['JobTitle']"
   ]
  },
  {
   "cell_type": "markdown",
   "metadata": {},
   "source": [
    "### 4. JOSEPH DRISCOLL의 급여는 얼마인가요? (benefits 포함해서)"
   ]
  },
  {
   "cell_type": "code",
   "execution_count": 17,
   "metadata": {},
   "outputs": [
    {
     "output_type": "execute_result",
     "data": {
      "text/plain": "24    270324.91\nName: TotalPayBenefits, dtype: float64"
     },
     "metadata": {},
     "execution_count": 17
    }
   ],
   "source": [
    "sal[sal['EmployeeName'] == 'JOSEPH DRISCOLL']['TotalPayBenefits']"
   ]
  },
  {
   "cell_type": "markdown",
   "metadata": {},
   "source": [
    "### 5. 월급(Benefit포함) 이 가장 높은 사람은 누구인가요?"
   ]
  },
  {
   "cell_type": "code",
   "execution_count": 18,
   "metadata": {},
   "outputs": [
    {
     "output_type": "execute_result",
     "data": {
      "text/plain": "0    NATHANIEL FORD\nName: EmployeeName, dtype: object"
     },
     "metadata": {},
     "execution_count": 18
    }
   ],
   "source": [
    "sal[sal['TotalPayBenefits']==sal['TotalPayBenefits'].max()]['EmployeeName']"
   ]
  },
  {
   "cell_type": "markdown",
   "metadata": {},
   "source": [
    "### 6. 월급(Benefit포함) 이 가장 낮은 사람은 누구인가요? "
   ]
  },
  {
   "cell_type": "code",
   "execution_count": 19,
   "metadata": {},
   "outputs": [
    {
     "output_type": "execute_result",
     "data": {
      "text/plain": "            Id   EmployeeName          JobTitle  BasePay  OvertimePay  \\\n110530  110531  David P Kucia  Police Officer 3      NaN          0.0   \n\n        OtherPay  Benefits  TotalPay  TotalPayBenefits  Year  Notes  \\\n110530       0.0    -33.89       0.0            -33.89  2013    NaN   \n\n               Agency Status  \n110530  San Francisco    NaN  ",
      "text/html": "<div>\n<style scoped>\n    .dataframe tbody tr th:only-of-type {\n        vertical-align: middle;\n    }\n\n    .dataframe tbody tr th {\n        vertical-align: top;\n    }\n\n    .dataframe thead th {\n        text-align: right;\n    }\n</style>\n<table border=\"1\" class=\"dataframe\">\n  <thead>\n    <tr style=\"text-align: right;\">\n      <th></th>\n      <th>Id</th>\n      <th>EmployeeName</th>\n      <th>JobTitle</th>\n      <th>BasePay</th>\n      <th>OvertimePay</th>\n      <th>OtherPay</th>\n      <th>Benefits</th>\n      <th>TotalPay</th>\n      <th>TotalPayBenefits</th>\n      <th>Year</th>\n      <th>Notes</th>\n      <th>Agency</th>\n      <th>Status</th>\n    </tr>\n  </thead>\n  <tbody>\n    <tr>\n      <td>110530</td>\n      <td>110531</td>\n      <td>David P Kucia</td>\n      <td>Police Officer 3</td>\n      <td>NaN</td>\n      <td>0.0</td>\n      <td>0.0</td>\n      <td>-33.89</td>\n      <td>0.0</td>\n      <td>-33.89</td>\n      <td>2013</td>\n      <td>NaN</td>\n      <td>San Francisco</td>\n      <td>NaN</td>\n    </tr>\n  </tbody>\n</table>\n</div>"
     },
     "metadata": {},
     "execution_count": 19
    }
   ],
   "source": [
    "sal[sal['TotalPayBenefits']==sal['TotalPayBenefits'].min()]"
   ]
  },
  {
   "cell_type": "markdown",
   "metadata": {},
   "source": [
    "### 7. 2011~2014년 동안의 BasePay의 평균은 얼마 인가요?"
   ]
  },
  {
   "cell_type": "code",
   "execution_count": 20,
   "metadata": {},
   "outputs": [
    {
     "output_type": "execute_result",
     "data": {
      "text/plain": "Year\n2011    63595.956517\n2012    65436.406857\n2013    69630.030216\n2014    66573.154204\nName: BasePay, dtype: float64"
     },
     "metadata": {},
     "execution_count": 20
    }
   ],
   "source": [
    "sal.groupby('Year').mean()['BasePay']"
   ]
  },
  {
   "cell_type": "markdown",
   "metadata": {},
   "source": [
    "### 8. JobTitle의 종류는 몇개 인가요? "
   ]
  },
  {
   "cell_type": "code",
   "execution_count": 21,
   "metadata": {},
   "outputs": [
    {
     "output_type": "execute_result",
     "data": {
      "text/plain": "2158"
     },
     "metadata": {},
     "execution_count": 21
    }
   ],
   "source": [
    "sal['JobTitle'].nunique()"
   ]
  },
  {
   "cell_type": "markdown",
   "metadata": {},
   "source": [
    "### 9. JobTitle중 가장 많은 상위 5개의 JobTitle은 무엇인가요?  "
   ]
  },
  {
   "cell_type": "code",
   "execution_count": 22,
   "metadata": {},
   "outputs": [
    {
     "output_type": "execute_result",
     "data": {
      "text/plain": "Transit Operator                7036\nSpecial Nurse                   4389\nRegistered Nurse                3736\nPublic Svc Aide-Public Works    2518\nPolice Officer 3                2421\nName: JobTitle, dtype: int64"
     },
     "metadata": {},
     "execution_count": 22
    }
   ],
   "source": [
    "sal['JobTitle'].value_counts().head(5)"
   ]
  },
  {
   "cell_type": "markdown",
   "metadata": {},
   "source": [
    "### 10. Chief 란 단어를 갖는 job title은 몇개인가요? (lambda 함수를 사용해 보세요)"
   ]
  },
  {
   "cell_type": "code",
   "execution_count": 23,
   "metadata": {},
   "outputs": [],
   "source": [
    "def chief_string(title):\n",
    "    if 'chief' in title.lower().split(): \n",
    "        return True\n",
    "    else:\n",
    "        return False"
   ]
  },
  {
   "cell_type": "code",
   "execution_count": 24,
   "metadata": {},
   "outputs": [
    {
     "output_type": "execute_result",
     "data": {
      "text/plain": "477"
     },
     "metadata": {},
     "execution_count": 24
    }
   ],
   "source": [
    "sum(sal['JobTitle'].apply(lambda x : chief_string(x)))"
   ]
  },
  {
   "cell_type": "code",
   "execution_count": null,
   "metadata": {},
   "outputs": [],
   "source": []
  }
 ]
}