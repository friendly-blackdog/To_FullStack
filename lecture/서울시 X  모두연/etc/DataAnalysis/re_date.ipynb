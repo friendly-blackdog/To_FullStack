{
 "nbformat": 4,
 "nbformat_minor": 2,
 "metadata": {
  "language_info": {
   "name": "python",
   "codemirror_mode": {
    "name": "ipython",
    "version": 3
   },
   "version": "3.7.4-final"
  },
  "orig_nbformat": 2,
  "file_extension": ".py",
  "mimetype": "text/x-python",
  "name": "python",
  "npconvert_exporter": "python",
  "pygments_lexer": "ipython3",
  "version": 3,
  "kernelspec": {
   "name": "python37464bit2ca5af9ea4dd4c818af2de9ba3f7b37b",
   "display_name": "Python 3.7.4 64-bit"
  }
 },
 "cells": [
  {
   "cell_type": "markdown",
   "metadata": {},
   "source": [
    "## 1.4.3 정규 표현식과 매칭\n",
    "\n",
    "- 데이터 분석에는 정규 표현식(regular expression)이라는 패턴 매칭이 사용된다. \n",
    "- 예를 들어, \"서울\" 지역의 모든 음식점을 찾고 싶다면 찾고 싶은 패턴은 \"서울\"이다. \n",
    "- 파이썬은 텍스트 내에서 특정한 패턴을 찾아주는 정규표현식인 re모듈을 외장 함수로 지원한다. \n",
    "- re모듈을 임포트 함으로써 다양한 종류의 메타 문자와 임의의 복잡한 패턴에 대해 생성 및 검색 기능을 사용할 수 있다. \n",
    "- 메타문자: 특별한 의미를 지닌 정규 표현식 문자들이다. 프로그램에 해당 메타문자가 있다면 각 메타 문자가 뜻하는 패턴을 찾으려는 것이다. \n",
    "- https://docs.python.org/3/library/re.html"
   ]
  },
  {
   "cell_type": "code",
   "execution_count": 8,
   "metadata": {},
   "outputs": [],
   "source": [
    "import re"
   ]
  },
  {
   "cell_type": "code",
   "execution_count": 11,
   "metadata": {},
   "outputs": [
    {
     "data": {
      "text/plain": "<RegexFlag.IGNORECASE: 2>"
     },
     "execution_count": 11,
     "metadata": {},
     "output_type": "execute_result"
    }
   ],
   "source": [
    "re.compile #텍스트 기반의 패턴을 정규 표현식으로 컴파일한다. \n",
    "re.search\n",
    "re.sub\n",
    "re.IGNORECASE \n",
    "re.I #패턴이 대/소문자 구분 없이 해준다.\n",
    "#r: 원시 문자열 (raw string) "
   ]
  },
  {
   "cell_type": "code",
   "execution_count": 12,
   "metadata": {},
   "outputs": [
    {
     "name": "stdout",
     "output_type": "stream",
     "text": "Output #the: 2\n"
    }
   ],
   "source": [
    "string = \"The quick brown fox jumps over the lazy dog.\"\n",
    "string_list = string.split()\n",
    "pattern = re.compile(r\"The\", re.I)\n",
    "count = 0\n",
    "for word in string_list:\n",
    "    if pattern.search(word):\n",
    "        count +=1\n",
    "print(\"Output #the: {0:d}\".format(count))"
   ]
  },
  {
   "cell_type": "code",
   "execution_count": 13,
   "metadata": {},
   "outputs": [
    {
     "data": {
      "text/plain": "['The', 'quick', 'brown', 'fox', 'jumps', 'over', 'the', 'lazy', 'dog.']"
     },
     "execution_count": 13,
     "metadata": {},
     "output_type": "execute_result"
    }
   ],
   "source": [
    "string_list"
   ]
  },
  {
   "cell_type": "code",
   "execution_count": 6,
   "metadata": {},
   "outputs": [
    {
     "data": {
      "text/plain": "re.compile(r'The', re.IGNORECASE|re.UNICODE)"
     },
     "execution_count": 6,
     "metadata": {},
     "output_type": "execute_result"
    }
   ],
   "source": [
    "pattern"
   ]
  },
  {
   "cell_type": "markdown",
   "metadata": {},
   "source": [
    "정규 표현식은 검색에 이용할 수 있는 매우 강력한 도구이다. \n",
    "\n",
    "동시에 쓰기 전용 언어라 불일 만큼 가독성은 취약하다. "
   ]
  },
  {
   "cell_type": "code",
   "execution_count": 14,
   "metadata": {},
   "outputs": [
    {
     "name": "stdout",
     "output_type": "stream",
     "text": "Output #the: \nThe\nthe\n"
    }
   ],
   "source": [
    "string = \"The quick brown fox jumps over the lazy dog.\"\n",
    "string_list = string.split()\n",
    "pattern = re.compile(r\"(?P<match_word>The)\", re.I)\n",
    "print(\"Output #the: \")\n",
    "for word in string_list:\n",
    "    if pattern.search(word):\n",
    "        print(\"{:s}\".format(pattern.search(word).group('match_word')))"
   ]
  },
  {
   "cell_type": "markdown",
   "metadata": {},
   "source": [
    "메타문자: (?P<이름>)"
   ]
  },
  {
   "cell_type": "code",
   "execution_count": 15,
   "metadata": {},
   "outputs": [
    {
     "name": "stdout",
     "output_type": "stream",
     "text": "Output: a quick brown fox jumps over a lazy dog.\n"
    }
   ],
   "source": [
    "string_to_find = r\"The\"\n",
    "pattern = re.compile(string_to_find, re.I)\n",
    "print(\"Output: {:s}\".format(pattern.sub(\"a\", string)))"
   ]
  },
  {
   "cell_type": "markdown",
   "metadata": {},
   "source": [
    "## 7. 정규표현식으로 패턴 대조하기\n",
    "\n",
    "검색할 텍스트의 패턴을 지정할 수 있다. \n",
    "\n",
    "451-555-8910"
   ]
  },
  {
   "cell_type": "code",
   "execution_count": 20,
   "metadata": {},
   "outputs": [],
   "source": [
    "def is_phone_number(text):\n",
    "    if len(text) != 12:\n",
    "        return False\n",
    "    for i in range(0, 3):\n",
    "        if not text[i].isdecimal():\n",
    "            return False\n",
    "    if text[3] != '-' or text[7] != '-':\n",
    "        return False\n",
    "    for i in range(4, 7):\n",
    "        if not text[i].isdecimal():\n",
    "            return False\n",
    "    for i in range(8, 12):\n",
    "        if not text[i].isdecimal():\n",
    "            return False\n",
    "    return True"
   ]
  },
  {
   "cell_type": "code",
   "execution_count": 21,
   "metadata": {},
   "outputs": [
    {
     "data": {
      "text/plain": "True"
     },
     "execution_count": 21,
     "metadata": {},
     "output_type": "execute_result"
    }
   ],
   "source": [
    "text = '451-555-8910'\n",
    "is_phone_number(text)"
   ]
  },
  {
   "cell_type": "code",
   "execution_count": 22,
   "metadata": {},
   "outputs": [
    {
     "name": "stdout",
     "output_type": "stream",
     "text": "Phone Number is: 451-555-1011\nPhone Number is: 415-555-9999\ndone\n"
    }
   ],
   "source": [
    "message = 'Call me at 451-555-1011 tomorrow. 415-555-9999 is my office'\n",
    "for i in range(len(message)):\n",
    "    chunk = message[i:i+12]\n",
    "    if is_phone_number(chunk):\n",
    "        print('Phone Number is: ' + chunk)\n",
    "print('done')"
   ]
  },
  {
   "cell_type": "code",
   "execution_count": 24,
   "metadata": {},
   "outputs": [
    {
     "data": {
      "text/plain": "'Call me at 451-555-1011 tomorrow. 415-555-9999 is my office'"
     },
     "execution_count": 24,
     "metadata": {},
     "output_type": "execute_result"
    }
   ],
   "source": [
    "message"
   ]
  },
  {
   "cell_type": "code",
   "execution_count": 32,
   "metadata": {},
   "outputs": [
    {
     "name": "stdout",
     "output_type": "stream",
     "text": "<re.Match object; span=(13, 25), match='451-555-4242'>\n451-555-4242\nphone number found: 451-555-4242\n"
    }
   ],
   "source": [
    "phoneNumRegex = re.compile(r'\\d\\d\\d-\\d\\d\\d-\\d\\d\\d\\d')\n",
    "mo = phoneNumRegex.search('My number is 451-555-4242.')\n",
    "print(mo)\n",
    "print(mo.group())\n",
    "print('phone number found: ' + mo.group())"
   ]
  },
  {
   "cell_type": "code",
   "execution_count": 42,
   "metadata": {},
   "outputs": [
    {
     "name": "stdout",
     "output_type": "stream",
     "text": "<re.Match object; span=(13, 25), match='451-555-4242'>\n451-555-4242\n451\nphone number found: 451-555-4242\n"
    }
   ],
   "source": [
    "phoneNumRegex = re.compile(r'(\\d\\d\\d)-(\\d\\d\\d-\\d\\d\\d\\d)')\n",
    "mo = phoneNumRegex.search('My number is 451-555-4242.')\n",
    "print(mo)\n",
    "print(mo.group())\n",
    "print(mo.group(1))\n",
    "print('phone number found: ' + mo.group())"
   ]
  },
  {
   "cell_type": "code",
   "execution_count": null,
   "metadata": {},
   "outputs": [],
   "source": []
  }
 ]
}