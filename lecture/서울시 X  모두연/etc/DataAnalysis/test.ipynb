{
 "cells": [
  {
   "cell_type": "code",
   "execution_count": 1,
   "metadata": {},
   "outputs": [
    {
     "output_type": "stream",
     "name": "stdout",
     "text": "[('tiger', '2', '3000'), ('weasel', '1', '2000')]\n"
    }
   ],
   "source": [
    "import sqlite3\n",
    "conn = sqlite3.connect('zoo.db')\n",
    "curs = conn.cursor()\n",
    "curs.execute(\"\"\" CREATE TABLE zoo\n",
    "                 (animal text PRIMARY KEY, \n",
    "                 count text,\n",
    "                 cost text) \"\"\")\n",
    "curs.execute('INSERT INTO zoo VALUES(\"tiger\", 2, 3000)')\n",
    "ins = 'INSERT INTO zoo (animal, count, cost) VALUES(?, ?, ?)'\n",
    "curs.execute(ins, ('weasel', 1, 2000))\n",
    "curs.execute('SELECT * FROM zoo')\n",
    "rows = curs.fetchall()\n",
    "print(rows)\n",
    "conn.close()"
   ]
  },
  {
   "cell_type": "code",
   "execution_count": 3,
   "metadata": {},
   "outputs": [
    {
     "output_type": "stream",
     "name": "stderr",
     "text": "Exception in Tkinter callback\nTraceback (most recent call last):\n  File \"/Library/Frameworks/Python.framework/Versions/3.8/lib/python3.8/tkinter/__init__.py\", line 1883, in __call__\n    return self.func(*args)\n  File \"<ipython-input-3-eb4322b1548d>\", line 17, in add\n    'animal': animal.get(),\nAttributeError: 'NoneType' object has no attribute 'get'\n"
    }
   ],
   "source": [
    "from tkinter import *\n",
    "import tkinter.ttk as ttk\n",
    "\n",
    "window = Tk()\n",
    "window.title(\"ZOO\")\n",
    "\n",
    "\n",
    "animal = ttk.Entry(window, width=30).grid(row=0, column=1, padx=20)\n",
    "number = ttk.Entry(window, width=30).grid(row=1, column=1, padx=20)\n",
    "price = ttk.Entry(window, width=30).grid(row=2, column=1, padx=20)\n",
    "\n",
    "\n",
    "def add():\n",
    "    conn = sqlite3.connect('zoo.db')\n",
    "    c = conn.cursor()\n",
    "    c.execute(\"INSERT INTO zoo VALUES (:animal, :number, :price)\", {\n",
    "        'animal': animal.get(),\n",
    "        'number': number.get(),\n",
    "        'price': price.get()\n",
    "        })\n",
    "\n",
    "    animal.delete(0, END)\n",
    "    number.delete(0, END)\n",
    "    price.delete(0, END)\n",
    "\n",
    "\n",
    "def show():\n",
    "    conn = sqlite3.connect('zoo.db')\n",
    "    c = conn.cursor()\n",
    "    c.execute('SELECT * FROM zoo')\n",
    "    rows = c.fetchall()\n",
    "\n",
    "    print_records = ''\n",
    "    for row in rows:\n",
    "        print_records += str(row) + \"\\n\"\n",
    "    \n",
    "    query_label = ttk.Label(window, text=print_records)\n",
    "    query_label.grid(row=5, column=0, columnspan=2)\n",
    "\n",
    "    conn.commit()\n",
    "    conn.close()\n",
    "    \n",
    "\n",
    "animal_label = ttk.Label(window, text='animal').grid(row=0, column=0, padx=20)\n",
    "number_label = ttk.Label(window, text='number').grid(row=1, column=0, padx=20)\n",
    "price_label = ttk.Label(window, text='price').grid(row=2, column=0, padx=20)\n",
    "\n",
    "update_btn = ttk.Button(window, text=\"Add Data\", command=add)\n",
    "update_btn.grid(row=3, column=0, columnspan=2, pady=10, padx=10, ipadx=100)\n",
    "query_btn = ttk.Button(window, text='Show Data', command=show)\n",
    "query_btn.grid(row=4, column=0, columnspan=2, pady=10, padx=10, ipadx=100)\n",
    "\n",
    "window.mainloop()"
   ]
  },
  {
   "cell_type": "code",
   "execution_count": 1,
   "metadata": {},
   "outputs": [],
   "source": []
  },
  {
   "cell_type": "code",
   "execution_count": 16,
   "metadata": {},
   "outputs": [],
   "source": [
    "from collections import defaultdict\n",
    "\n",
    "Text = \"\"\"I have a depression, and then there was a girl who came into \n",
    "my life. One day, my life was changed because that girl just changed my \n",
    "life. She taught me how to love and how to be an active person. \n",
    "And then, I feel so happy when I am always with her. \n",
    "I love her so much. I don't want let her go. I am sad because she \n",
    "is with her favorite friends. I will do anything to make her proud\"\"\"\n",
    "\n",
    "result = defaultdict(int)\n",
    "word = Text.split()\n",
    "\n",
    "for i in word:\n",
    "    result[i] += 1"
   ]
  },
  {
   "cell_type": "code",
   "execution_count": 17,
   "metadata": {},
   "outputs": [
    {
     "output_type": "execute_result",
     "data": {
      "text/plain": "defaultdict(int, {})"
     },
     "metadata": {},
     "execution_count": 17
    }
   ],
   "source": [
    "result"
   ]
  },
  {
   "cell_type": "code",
   "execution_count": 19,
   "metadata": {},
   "outputs": [
    {
     "output_type": "execute_result",
     "data": {
      "text/plain": "defaultdict(int,\n            {'I': 7,\n             'have': 1,\n             'a': 2,\n             'depression,': 1,\n             'and': 2,\n             'then': 1,\n             'there': 1,\n             'was': 2,\n             'girl': 2,\n             'who': 1,\n             'came': 1,\n             'into': 1,\n             'my': 3,\n             'life.': 2,\n             'One': 1,\n             'day,': 1,\n             'life': 1,\n             'changed': 2,\n             'because': 2,\n             'that': 1,\n             'just': 1,\n             'She': 1,\n             'taught': 1,\n             'me': 1,\n             'how': 2,\n             'to': 3,\n             'love': 2,\n             'be': 1,\n             'an': 1,\n             'active': 1,\n             'person.': 1,\n             'And': 1,\n             'then,': 1,\n             'feel': 1,\n             'so': 2,\n             'happy': 1,\n             'when': 1,\n             'am': 2,\n             'always': 1,\n             'with': 2,\n             'her.': 1,\n             'her': 4,\n             'much.': 1,\n             \"don't\": 1,\n             'want': 1,\n             'let': 1,\n             'go.': 1,\n             'sad': 1,\n             'she': 1,\n             'is': 1,\n             'favorite': 1,\n             'friends.': 1,\n             'will': 1,\n             'do': 1,\n             'anything': 1,\n             'make': 1,\n             'proud': 1})"
     },
     "metadata": {},
     "execution_count": 19
    }
   ],
   "source": [
    "\n",
    "result"
   ]
  },
  {
   "cell_type": "code",
   "execution_count": null,
   "metadata": {},
   "outputs": [],
   "source": []
  }
 ],
 "metadata": {
  "language_info": {
   "codemirror_mode": {
    "name": "ipython",
    "version": 3
   },
   "file_extension": ".py",
   "mimetype": "text/x-python",
   "name": "python",
   "nbconvert_exporter": "python",
   "pygments_lexer": "ipython3",
   "version": "3.8.2-final"
  },
  "orig_nbformat": 2,
  "kernelspec": {
   "name": "python37464bit2ca5af9ea4dd4c818af2de9ba3f7b37b",
   "display_name": "Python 3.7.4 64-bit"
  }
 },
 "nbformat": 4,
 "nbformat_minor": 2
}