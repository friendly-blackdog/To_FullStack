{
 "cells": [
  {
   "cell_type": "markdown",
   "metadata": {},
   "source": [
    "## Class 상속 보충 설명\n",
    "\n",
    "- 상속 방법\n",
    "- 메소드 추가 : 부모클래스에 없는 메소드를 정의\n",
    "- 메소드 오버라이드 : 부모클래스에 있는 메소드를 재 정의\n",
    "- super() : 부모클래스에 있는 메소드를 호출 "
   ]
  },
  {
   "cell_type": "code",
   "execution_count": 97,
   "metadata": {},
   "outputs": [],
   "source": [
    "class Car():\n",
    "    Manufacturer = 'India'\n",
    "    def __init__(self, color, category):\n",
    "        self.color = color\n",
    "        self.category = category\n",
    "    def drive(self):\n",
    "        print(\"driving\")"
   ]
  },
  {
   "cell_type": "code",
   "execution_count": 98,
   "metadata": {},
   "outputs": [],
   "source": [
    "class NewCarAdd(Car):\n",
    "    def fly(self):\n",
    "        print(\"I'm flying\")"
   ]
  },
  {
   "cell_type": "code",
   "execution_count": 99,
   "metadata": {},
   "outputs": [],
   "source": [
    "class NewCarOverride1(Car):\n",
    "    def drive(self, current_speed=10):\n",
    "        self.current_speed = current_speed\n",
    "        print(\"driving at\", self.current_speed)"
   ]
  },
  {
   "cell_type": "code",
   "execution_count": 100,
   "metadata": {},
   "outputs": [],
   "source": [
    "y = NewCarAdd('yellow','truck')\n",
    "x = NewCarOverride1('red','sedan')"
   ]
  },
  {
   "cell_type": "code",
   "execution_count": 101,
   "metadata": {},
   "outputs": [
    {
     "output_type": "stream",
     "name": "stdout",
     "text": "I'm flying\n"
    }
   ],
   "source": [
    "y.fly()"
   ]
  },
  {
   "cell_type": "code",
   "execution_count": 102,
   "metadata": {},
   "outputs": [
    {
     "output_type": "error",
     "ename": "AttributeError",
     "evalue": "'NewCarOverride1' object has no attribute 'fly'",
     "traceback": [
      "\u001b[0;31m---------------------------------------------------------------------------\u001b[0m",
      "\u001b[0;31mAttributeError\u001b[0m                            Traceback (most recent call last)",
      "\u001b[0;32m<ipython-input-102-46c7edee9a84>\u001b[0m in \u001b[0;36m<module>\u001b[0;34m\u001b[0m\n\u001b[0;32m----> 1\u001b[0;31m \u001b[0mx\u001b[0m\u001b[0;34m.\u001b[0m\u001b[0mfly\u001b[0m\u001b[0;34m(\u001b[0m\u001b[0;34m)\u001b[0m\u001b[0;34m\u001b[0m\u001b[0;34m\u001b[0m\u001b[0m\n\u001b[0m",
      "\u001b[0;31mAttributeError\u001b[0m: 'NewCarOverride1' object has no attribute 'fly'"
     ]
    }
   ],
   "source": [
    "x.fly()"
   ]
  },
  {
   "cell_type": "code",
   "execution_count": 103,
   "metadata": {},
   "outputs": [
    {
     "output_type": "stream",
     "name": "stdout",
     "text": "driving\n"
    }
   ],
   "source": [
    "y.drive()"
   ]
  },
  {
   "cell_type": "code",
   "execution_count": 104,
   "metadata": {},
   "outputs": [
    {
     "output_type": "stream",
     "name": "stdout",
     "text": "driving at 10\n"
    }
   ],
   "source": [
    "x.drive()"
   ]
  },
  {
   "cell_type": "code",
   "execution_count": 105,
   "metadata": {},
   "outputs": [],
   "source": [
    "class NewCarOverride2(Car):\n",
    "    def __init__(self, color, category, year):\n",
    "        self.color = color\n",
    "        self.cateogry = category\n",
    "        self.year = year"
   ]
  },
  {
   "cell_type": "code",
   "execution_count": 106,
   "metadata": {},
   "outputs": [],
   "source": [
    "z = NewCarOverride2('black', 'sports car', 2000)"
   ]
  },
  {
   "cell_type": "code",
   "execution_count": 107,
   "metadata": {},
   "outputs": [
    {
     "output_type": "execute_result",
     "data": {
      "text/plain": "<bound method NewCarOverride2.__init__ of <__main__.NewCarOverride2 object at 0x1123e21c0>>"
     },
     "metadata": {},
     "execution_count": 107
    }
   ],
   "source": [
    "z.__init__"
   ]
  },
  {
   "cell_type": "code",
   "execution_count": 108,
   "metadata": {},
   "outputs": [
    {
     "output_type": "execute_result",
     "data": {
      "text/plain": "'black'"
     },
     "metadata": {},
     "execution_count": 108
    }
   ],
   "source": [
    "z.color"
   ]
  },
  {
   "cell_type": "code",
   "execution_count": 109,
   "metadata": {},
   "outputs": [
    {
     "output_type": "execute_result",
     "data": {
      "text/plain": "'sports car'"
     },
     "metadata": {},
     "execution_count": 109
    }
   ],
   "source": [
    "z.cateogry"
   ]
  },
  {
   "cell_type": "code",
   "execution_count": 136,
   "metadata": {},
   "outputs": [],
   "source": [
    "class NewCarsuper(Car):\n",
    "    def __init__(self, year):\n",
    "        super().__init__(color, category)\n",
    "        self.year = year"
   ]
  },
  {
   "cell_type": "markdown",
   "metadata": {},
   "source": [
    "- `__init__()`를 정의 한다는 것은 메소드 오버라이드에 해당.\n",
    "- super()는 부모 클래스의 메소드를 호출할 때 사용한다. \n",
    "- super().메소드이름()"
   ]
  },
  {
   "cell_type": "code",
   "execution_count": 141,
   "metadata": {},
   "outputs": [],
   "source": [
    "class NewCarsuper1(Car):\n",
    "    def __init__(self, year):\n",
    "        super().__init__(color)\n",
    "        self.year = year"
   ]
  },
  {
   "cell_type": "code",
   "execution_count": 142,
   "metadata": {},
   "outputs": [
    {
     "output_type": "error",
     "ename": "NameError",
     "evalue": "name 'color' is not defined",
     "traceback": [
      "\u001b[0;31m---------------------------------------------------------------------------\u001b[0m",
      "\u001b[0;31mNameError\u001b[0m                                 Traceback (most recent call last)",
      "\u001b[0;32m<ipython-input-142-4497578c7656>\u001b[0m in \u001b[0;36m<module>\u001b[0;34m\u001b[0m\n\u001b[0;32m----> 1\u001b[0;31m \u001b[0mw\u001b[0m \u001b[0;34m=\u001b[0m \u001b[0mNewCarsuper1\u001b[0m\u001b[0;34m(\u001b[0m\u001b[0;36m2010\u001b[0m\u001b[0;34m)\u001b[0m\u001b[0;34m\u001b[0m\u001b[0;34m\u001b[0m\u001b[0m\n\u001b[0m",
      "\u001b[0;32m<ipython-input-141-010b2f805807>\u001b[0m in \u001b[0;36m__init__\u001b[0;34m(self, year)\u001b[0m\n\u001b[1;32m      1\u001b[0m \u001b[0;32mclass\u001b[0m \u001b[0mNewCarsuper1\u001b[0m\u001b[0;34m(\u001b[0m\u001b[0mCar\u001b[0m\u001b[0;34m)\u001b[0m\u001b[0;34m:\u001b[0m\u001b[0;34m\u001b[0m\u001b[0;34m\u001b[0m\u001b[0m\n\u001b[1;32m      2\u001b[0m     \u001b[0;32mdef\u001b[0m \u001b[0m__init__\u001b[0m\u001b[0;34m(\u001b[0m\u001b[0mself\u001b[0m\u001b[0;34m,\u001b[0m \u001b[0myear\u001b[0m\u001b[0;34m)\u001b[0m\u001b[0;34m:\u001b[0m\u001b[0;34m\u001b[0m\u001b[0;34m\u001b[0m\u001b[0m\n\u001b[0;32m----> 3\u001b[0;31m         \u001b[0msuper\u001b[0m\u001b[0;34m(\u001b[0m\u001b[0;34m)\u001b[0m\u001b[0;34m.\u001b[0m\u001b[0m__init__\u001b[0m\u001b[0;34m(\u001b[0m\u001b[0mcolor\u001b[0m\u001b[0;34m)\u001b[0m\u001b[0;34m\u001b[0m\u001b[0;34m\u001b[0m\u001b[0m\n\u001b[0m\u001b[1;32m      4\u001b[0m         \u001b[0mself\u001b[0m\u001b[0;34m.\u001b[0m\u001b[0myear\u001b[0m \u001b[0;34m=\u001b[0m \u001b[0myear\u001b[0m\u001b[0;34m\u001b[0m\u001b[0;34m\u001b[0m\u001b[0m\n",
      "\u001b[0;31mNameError\u001b[0m: name 'color' is not defined"
     ]
    }
   ],
   "source": [
    "w = NewCarsuper1(2010)"
   ]
  },
  {
   "cell_type": "code",
   "execution_count": 143,
   "metadata": {},
   "outputs": [
    {
     "output_type": "error",
     "ename": "TypeError",
     "evalue": "__init__() takes 2 positional arguments but 4 were given",
     "traceback": [
      "\u001b[0;31m---------------------------------------------------------------------------\u001b[0m",
      "\u001b[0;31mTypeError\u001b[0m                                 Traceback (most recent call last)",
      "\u001b[0;32m<ipython-input-143-1a91947aea86>\u001b[0m in \u001b[0;36m<module>\u001b[0;34m\u001b[0m\n\u001b[0;32m----> 1\u001b[0;31m \u001b[0mw\u001b[0m \u001b[0;34m=\u001b[0m \u001b[0mNewCarsuper\u001b[0m\u001b[0;34m(\u001b[0m\u001b[0;34m'red'\u001b[0m\u001b[0;34m,\u001b[0m\u001b[0;34m'small'\u001b[0m\u001b[0;34m,\u001b[0m\u001b[0;36m2010\u001b[0m\u001b[0;34m)\u001b[0m\u001b[0;34m\u001b[0m\u001b[0;34m\u001b[0m\u001b[0m\n\u001b[0m",
      "\u001b[0;31mTypeError\u001b[0m: __init__() takes 2 positional arguments but 4 were given"
     ]
    }
   ],
   "source": [
    "w = NewCarsuper('red','small',2010)"
   ]
  },
  {
   "cell_type": "code",
   "execution_count": 159,
   "metadata": {},
   "outputs": [],
   "source": [
    "class Car:\n",
    "    Manufacture = \"India\"\n",
    "    def __init__(self, color='red', category='sedan'):\n",
    "        self.color = color\n",
    "        self.category = category\n",
    "    def drive(self):\n",
    "        print(\"I'm driving\")"
   ]
  },
  {
   "cell_type": "code",
   "execution_count": 166,
   "metadata": {},
   "outputs": [],
   "source": [
    "class NewCar(Car):\n",
    "    def __init__(self, color, category, year):\n",
    "        super().__init__(color)\n",
    "        super().__init__(category)\n",
    "        self.year = year"
   ]
  },
  {
   "cell_type": "code",
   "execution_count": 167,
   "metadata": {},
   "outputs": [
    {
     "output_type": "error",
     "ename": "TypeError",
     "evalue": "__init__() missing 3 required positional arguments: 'color', 'category', and 'year'",
     "traceback": [
      "\u001b[0;31m---------------------------------------------------------------------------\u001b[0m",
      "\u001b[0;31mTypeError\u001b[0m                                 Traceback (most recent call last)",
      "\u001b[0;32m<ipython-input-167-e455128c7e34>\u001b[0m in \u001b[0;36m<module>\u001b[0;34m\u001b[0m\n\u001b[1;32m      1\u001b[0m \u001b[0ma\u001b[0m \u001b[0;34m=\u001b[0m \u001b[0mCar\u001b[0m\u001b[0;34m(\u001b[0m\u001b[0;34m)\u001b[0m\u001b[0;34m\u001b[0m\u001b[0;34m\u001b[0m\u001b[0m\n\u001b[0;32m----> 2\u001b[0;31m \u001b[0mb\u001b[0m \u001b[0;34m=\u001b[0m \u001b[0mNewCar\u001b[0m\u001b[0;34m(\u001b[0m\u001b[0;34m)\u001b[0m\u001b[0;34m\u001b[0m\u001b[0;34m\u001b[0m\u001b[0m\n\u001b[0m",
      "\u001b[0;31mTypeError\u001b[0m: __init__() missing 3 required positional arguments: 'color', 'category', and 'year'"
     ]
    }
   ],
   "source": [
    "a = Car()\n",
    "b = NewCar()"
   ]
  },
  {
   "cell_type": "code",
   "execution_count": 124,
   "metadata": {},
   "outputs": [
    {
     "output_type": "execute_result",
     "data": {
      "text/plain": "'SUV'"
     },
     "metadata": {},
     "execution_count": 124
    }
   ],
   "source": [
    "w.category"
   ]
  },
  {
   "cell_type": "code",
   "execution_count": 125,
   "metadata": {},
   "outputs": [
    {
     "output_type": "execute_result",
     "data": {
      "text/plain": "2010"
     },
     "metadata": {},
     "execution_count": 125
    }
   ],
   "source": [
    "w.year"
   ]
  },
  {
   "cell_type": "code",
   "execution_count": 134,
   "metadata": {},
   "outputs": [],
   "source": [
    "class NewCarsuper2(Car):\n",
    "    def __init__(self, color, category, year):\n",
    "        super().__init__(color):\n",
    "        self.year = year"
   ]
  },
  {
   "cell_type": "code",
   "execution_count": 135,
   "metadata": {},
   "outputs": [
    {
     "output_type": "error",
     "ename": "TypeError",
     "evalue": "__init__() missing 1 required positional argument: 'category'",
     "traceback": [
      "\u001b[0;31m---------------------------------------------------------------------------\u001b[0m",
      "\u001b[0;31mTypeError\u001b[0m                                 Traceback (most recent call last)",
      "\u001b[0;32m<ipython-input-135-db62100b47c2>\u001b[0m in \u001b[0;36m<module>\u001b[0;34m\u001b[0m\n\u001b[0;32m----> 1\u001b[0;31m \u001b[0mu\u001b[0m \u001b[0;34m=\u001b[0m \u001b[0mNewCarsuper2\u001b[0m\u001b[0;34m(\u001b[0m\u001b[0mcolor\u001b[0m\u001b[0;34m=\u001b[0m\u001b[0;34m'red'\u001b[0m\u001b[0;34m,\u001b[0m\u001b[0mcategory\u001b[0m\u001b[0;34m=\u001b[0m\u001b[0;34m'S'\u001b[0m\u001b[0;34m,\u001b[0m \u001b[0myear\u001b[0m\u001b[0;34m=\u001b[0m\u001b[0;36m2000\u001b[0m\u001b[0;34m)\u001b[0m\u001b[0;34m\u001b[0m\u001b[0;34m\u001b[0m\u001b[0m\n\u001b[0m",
      "\u001b[0;32m<ipython-input-134-2921acee4ae5>\u001b[0m in \u001b[0;36m__init__\u001b[0;34m(self, color, category, year)\u001b[0m\n\u001b[1;32m      1\u001b[0m \u001b[0;32mclass\u001b[0m \u001b[0mNewCarsuper2\u001b[0m\u001b[0;34m(\u001b[0m\u001b[0mCar\u001b[0m\u001b[0;34m)\u001b[0m\u001b[0;34m:\u001b[0m\u001b[0;34m\u001b[0m\u001b[0;34m\u001b[0m\u001b[0m\n\u001b[1;32m      2\u001b[0m     \u001b[0;32mdef\u001b[0m \u001b[0m__init__\u001b[0m\u001b[0;34m(\u001b[0m\u001b[0mself\u001b[0m\u001b[0;34m,\u001b[0m \u001b[0mcolor\u001b[0m\u001b[0;34m,\u001b[0m \u001b[0mcategory\u001b[0m\u001b[0;34m,\u001b[0m \u001b[0myear\u001b[0m\u001b[0;34m)\u001b[0m\u001b[0;34m:\u001b[0m\u001b[0;34m\u001b[0m\u001b[0;34m\u001b[0m\u001b[0m\n\u001b[0;32m----> 3\u001b[0;31m         \u001b[0msuper\u001b[0m\u001b[0;34m(\u001b[0m\u001b[0;34m)\u001b[0m\u001b[0;34m.\u001b[0m\u001b[0m__init__\u001b[0m\u001b[0;34m(\u001b[0m\u001b[0mcolor\u001b[0m\u001b[0;34m)\u001b[0m\u001b[0;34m\u001b[0m\u001b[0;34m\u001b[0m\u001b[0m\n\u001b[0m\u001b[1;32m      4\u001b[0m         \u001b[0mself\u001b[0m\u001b[0;34m.\u001b[0m\u001b[0myear\u001b[0m \u001b[0;34m=\u001b[0m \u001b[0myear\u001b[0m\u001b[0;34m\u001b[0m\u001b[0;34m\u001b[0m\u001b[0m\n",
      "\u001b[0;31mTypeError\u001b[0m: __init__() missing 1 required positional argument: 'category'"
     ]
    }
   ],
   "source": [
    "u = NewCarsuper2(color='red',category='S', year=2000)"
   ]
  },
  {
   "cell_type": "markdown",
   "metadata": {},
   "source": [
    "https://github.com/shoark7/Effective-Python/blob/master/files/BetterWay25_InitializeSuperClassWithSuper.mdhttps://github.com/shoark7/Effective-Python/blob/master/files/BetterWay25_InitializeSuperClassWithSuper.md"
   ]
  },
  {
   "cell_type": "markdown",
   "metadata": {},
   "source": [
    "# 5Day\n",
    "\n",
    "## OOP (Object Oriented Programming), Class\n",
    "\n",
    "- 동작 원리에 대한 설명이 아니다. \n",
    "- 동작 방법(구현 방법)에 대한 설명 이다.\n",
    "    - (이미 구현된) 여러가지 객체들간의 상호작용 (파이썬은 모든것이 객체다.) \n",
    "    - (우리가 만들어볼) 객체, Class에 대한 이야기 \n",
    "\n",
    "## 클래스 문법\n",
    "\n",
    "1. 선언하는 방법\n",
    "2. 사용하는 방법: 객체 vs 인스턴스 객체\n",
    "3. 속성과 메소드\n",
    "    - self\n",
    "4. 생성자\n",
    "    - (다른 OOP언어와의 차이)\n",
    "    - 매직 메소드..\n",
    "5. 클래스 변수, 인스턴스 변수\n",
    "6. 상속\n"
   ]
  },
  {
   "cell_type": "code",
   "execution_count": null,
   "metadata": {},
   "outputs": [],
   "source": []
  },
  {
   "cell_type": "markdown",
   "metadata": {},
   "source": [
    "## 객체 왜 쓰지?\n",
    "\n",
    "- 추상화(abstraction) \n",
    "    - 컴퓨터 과학에서 추상화(abstraction)는 복잡한 자료, 모듈, 시스템 등으로부터 핵심적인 개념 또는 기능을 간추려 내는 것을 말한다.\n",
    "\n",
    "- 캡슐화(영어: encapsulation)\n",
    "    - 객체의 속성(data fields)과 행위(메서드, methods)를 하나로 묶는다. \n",
    "    - 실제 구현 내용 일부를 외부에 감추어 은닉한다. (-> 모듈, 패키지, 라이브러리)\n",
    "\n",
    "- 추상화, 캡슐화의 예시1 \n",
    "    - 은행 계좌 프로그램\n",
    "\n",
    "- 추상화, 캡슐화 예시2\n",
    "\n",
    "https://github.com/python/cpython/blob/3.8/Lib/random.py\n",
    "https://docs.python.org/3.8/library/random.html#random.random\n",
    "\n",
    "\n",
    "- 추상화, 캡슐화 예시3 + collections 모듈\n",
    "\n",
    "https://github.com/python/cpython/blob/3.8/Lib/collections/__init__.py"
   ]
  },
  {
   "cell_type": "code",
   "execution_count": null,
   "metadata": {},
   "outputs": [],
   "source": [
    "class Account():\n",
    "    "
   ]
  },
  {
   "cell_type": "markdown",
   "metadata": {},
   "source": [
    "## 데이터 컬렉션"
   ]
  },
  {
   "cell_type": "code",
   "execution_count": 10,
   "metadata": {},
   "outputs": [
    {
     "output_type": "execute_result",
     "data": {
      "text/plain": "defaultdict(None, {})"
     },
     "metadata": {},
     "execution_count": 10
    }
   ],
   "source": [
    "from collections import defaultdict\n",
    "\n",
    "d = defaultdict()\n",
    "d"
   ]
  },
  {
   "cell_type": "code",
   "execution_count": 25,
   "metadata": {},
   "outputs": [
    {
     "output_type": "execute_result",
     "data": {
      "text/plain": "defaultdict(<function __main__.<lambda>()>, {})"
     },
     "metadata": {},
     "execution_count": 25
    }
   ],
   "source": [
    "d = defaultdict(lambda: 0)\n",
    "d"
   ]
  },
  {
   "cell_type": "code",
   "execution_count": 26,
   "metadata": {},
   "outputs": [
    {
     "output_type": "execute_result",
     "data": {
      "text/plain": "0"
     },
     "metadata": {},
     "execution_count": 26
    }
   ],
   "source": [
    "d['b']"
   ]
  },
  {
   "cell_type": "code",
   "execution_count": 19,
   "metadata": {},
   "outputs": [],
   "source": [
    "\n",
    "text = \"\"\"won't you celebrate with me what i have shaped into a kind of life? i had no model.\n",
    "born in babylon\n",
    "both nonwhite and woman\n",
    "what did i see to be except myself?\n",
    "i made it up\n",
    "here on this bridge between\n",
    "starshine and clay,\n",
    "my one hand holding tight\n",
    "my other hand; come celebrate\n",
    "with me that everyday\n",
    "something has tried to kill me\n",
    "and has failed.\"\"\""
   ]
  },
  {
   "cell_type": "code",
   "execution_count": 20,
   "metadata": {},
   "outputs": [
    {
     "output_type": "execute_result",
     "data": {
      "text/plain": "68"
     },
     "metadata": {},
     "execution_count": 20
    }
   ],
   "source": [
    "textlist = text.lower().split()\n",
    "len(textlist)"
   ]
  },
  {
   "cell_type": "code",
   "execution_count": 21,
   "metadata": {},
   "outputs": [],
   "source": [
    "dword = defaultdict(object)\n",
    "dword = defaultdict(lambda: 0)\n",
    "for i in textlist:\n",
    "    dword[i] += 1"
   ]
  },
  {
   "cell_type": "code",
   "execution_count": 22,
   "metadata": {},
   "outputs": [
    {
     "output_type": "execute_result",
     "data": {
      "text/plain": "defaultdict(<function __main__.<lambda>()>,\n            {\"won't\": 1,\n             'you': 1,\n             'celebrate': 2,\n             'with': 2,\n             'me': 3,\n             'what': 2,\n             'i': 4,\n             'have': 1,\n             'shaped': 1,\n             'into': 1,\n             'a': 1,\n             'kind': 1,\n             'of': 1,\n             'life?': 1,\n             'had': 1,\n             'no': 1,\n             'model.': 1,\n             'born': 1,\n             'in': 1,\n             'babylon': 1,\n             'both': 1,\n             'nonwhite': 1,\n             'and': 3,\n             'woman': 1,\n             'did': 1,\n             'see': 1,\n             'to': 2,\n             'be': 1,\n             'except': 1,\n             'myself?': 1,\n             'made': 1,\n             'it': 1,\n             'up': 1,\n             'here': 1,\n             'on': 1,\n             'this': 1,\n             'bridge': 1,\n             'between': 1,\n             'starshine': 1,\n             'clay,': 1,\n             'my': 2,\n             'one': 1,\n             'hand': 1,\n             'holding': 1,\n             'tight': 1,\n             'other': 1,\n             'hand;': 1,\n             'come': 1,\n             'that': 1,\n             'everyday': 1,\n             'something': 1,\n             'has': 2,\n             'tried': 1,\n             'kill': 1,\n             'failed.': 1})"
     },
     "metadata": {},
     "execution_count": 22
    }
   ],
   "source": [
    "dword"
   ]
  },
  {
   "cell_type": "code",
   "execution_count": 27,
   "metadata": {},
   "outputs": [],
   "source": [
    "from collections import deque"
   ]
  },
  {
   "cell_type": "code",
   "execution_count": 28,
   "metadata": {},
   "outputs": [
    {
     "output_type": "execute_result",
     "data": {
      "text/plain": "deque([0, 1, 2, 3, 4, 5, 6, 7, 8, 9])"
     },
     "metadata": {},
     "execution_count": 28
    }
   ],
   "source": [
    "a = deque(range(10))\n",
    "a"
   ]
  },
  {
   "cell_type": "code",
   "execution_count": 29,
   "metadata": {},
   "outputs": [
    {
     "output_type": "execute_result",
     "data": {
      "text/plain": "deque([9, 0, 1, 2, 3, 4, 5, 6, 7, 8])"
     },
     "metadata": {},
     "execution_count": 29
    }
   ],
   "source": [
    "a.rotate()\n",
    "a"
   ]
  },
  {
   "cell_type": "code",
   "execution_count": null,
   "metadata": {},
   "outputs": [],
   "source": [
    "https://docs.python.org/3.8/library/collections.html"
   ]
  },
  {
   "cell_type": "code",
   "execution_count": null,
   "metadata": {},
   "outputs": [],
   "source": []
  },
  {
   "cell_type": "code",
   "execution_count": null,
   "metadata": {},
   "outputs": [],
   "source": []
  },
  {
   "cell_type": "code",
   "execution_count": null,
   "metadata": {},
   "outputs": [],
   "source": [
    "https://github.com/python/cpython/blob/3.8/Lib/queue.py"
   ]
  },
  {
   "cell_type": "code",
   "execution_count": null,
   "metadata": {},
   "outputs": [],
   "source": [
    "## 클래스 연습"
   ]
  },
  {
   "cell_type": "markdown",
   "metadata": {},
   "source": [
    "https://docs.python.org/3/library/functions.html#open"
   ]
  },
  {
   "cell_type": "code",
   "execution_count": null,
   "metadata": {},
   "outputs": [],
   "source": [
    "## "
   ]
  },
  {
   "cell_type": "markdown",
   "metadata": {},
   "source": [
    "## 2차 방정식 문제(근의 공식) : 코드 구조 + 예외 처리문.\n"
   ]
  },
  {
   "cell_type": "code",
   "execution_count": 41,
   "metadata": {},
   "outputs": [],
   "source": [
    "import math\n",
    "\n",
    "def main():\n",
    "    print(\"This Program finds the real solutions to a quadaric\")\n",
    "    a = float(input(\"Enter coefficient a: \"))\n",
    "    b = float(input(\"Enter coefficient b: \"))\n",
    "    c = float(input(\"Enter coefficient c: \"))\n",
    "\n",
    "    discRoot = math.sqrt(b*b - 4*a*c)\n",
    "    root1 = (-b + discRoot) / (2*a)\n",
    "    root2 = (-b - discRoot) / (2*a)\n",
    "    print(\"The solutions are: \", root1, root2)"
   ]
  },
  {
   "cell_type": "code",
   "execution_count": 36,
   "metadata": {},
   "outputs": [
    {
     "output_type": "stream",
     "name": "stdout",
     "text": "This Program finds the real solutions to a quadaric\nThe solutions are:  -0.10102051443364424 -9.898979485566356\n"
    }
   ],
   "source": [
    "main()"
   ]
  },
  {
   "cell_type": "markdown",
   "metadata": {},
   "source": [
    "## 조건문 버전"
   ]
  },
  {
   "cell_type": "code",
   "execution_count": 46,
   "metadata": {},
   "outputs": [],
   "source": [
    "def main():\n",
    "    print(\"This Program finds the real solutions to a quadaric\")\n",
    "    a = float(input(\"Enter coefficient a: \"))\n",
    "    b = float(input(\"Enter coefficient b: \"))\n",
    "    c = float(input(\"Enter coefficient c: \"))\n",
    "\n",
    "    discrim = b*b - 4*a*c\n",
    "    if discrim < 0:\n",
    "        root1 = root2 = None\n",
    "    elif discrim == 0:\n",
    "        root1 = -b / (2*a)\n",
    "        root2 = None\n",
    "    else:\n",
    "        discRoot = math.sqrt(b*b - 4*a*c)\n",
    "        root1 = (-b + discRoot) / (2*a)\n",
    "        root2 = (-b - discRoot) / (2*a)\n",
    "    print(\"The solutions are: \", root1, root2)"
   ]
  },
  {
   "cell_type": "markdown",
   "metadata": {},
   "source": [
    "## 예외 처리"
   ]
  },
  {
   "cell_type": "code",
   "execution_count": 1,
   "metadata": {},
   "outputs": [
    {
     "output_type": "stream",
     "name": "stdout",
     "text": "예외가 발생했습니다.!\n"
    }
   ],
   "source": [
    "try:\n",
    "    print(param)\n",
    "except:\n",
    "    print(\"예외가 발생했습니다.!\")"
   ]
  },
  {
   "cell_type": "code",
   "execution_count": 2,
   "metadata": {},
   "outputs": [
    {
     "output_type": "stream",
     "name": "stdout",
     "text": "에러다\n"
    }
   ],
   "source": [
    "try:\n",
    "    print(param)\n",
    "except NameError:\n",
    "    print(\"에러다\")"
   ]
  },
  {
   "cell_type": "code",
   "execution_count": 3,
   "metadata": {},
   "outputs": [
    {
     "output_type": "error",
     "ename": "NameError",
     "evalue": "name 'param' is not defined",
     "traceback": [
      "\u001b[0;31m---------------------------------------------------------------------------\u001b[0m",
      "\u001b[0;31mNameError\u001b[0m                                 Traceback (most recent call last)",
      "\u001b[0;32m<ipython-input-3-276f9464ae6a>\u001b[0m in \u001b[0;36m<module>\u001b[0;34m\u001b[0m\n\u001b[1;32m      1\u001b[0m \u001b[0;32mtry\u001b[0m\u001b[0;34m:\u001b[0m\u001b[0;34m\u001b[0m\u001b[0;34m\u001b[0m\u001b[0m\n\u001b[0;32m----> 2\u001b[0;31m     \u001b[0mprint\u001b[0m\u001b[0;34m(\u001b[0m\u001b[0mparam\u001b[0m\u001b[0;34m)\u001b[0m\u001b[0;34m\u001b[0m\u001b[0;34m\u001b[0m\u001b[0m\n\u001b[0m\u001b[1;32m      3\u001b[0m \u001b[0;32mexcept\u001b[0m \u001b[0mValueError\u001b[0m\u001b[0;34m:\u001b[0m\u001b[0;34m\u001b[0m\u001b[0;34m\u001b[0m\u001b[0m\n\u001b[1;32m      4\u001b[0m     \u001b[0mprint\u001b[0m\u001b[0;34m(\u001b[0m\u001b[0;34m\"에러다\"\u001b[0m\u001b[0;34m)\u001b[0m\u001b[0;34m\u001b[0m\u001b[0;34m\u001b[0m\u001b[0m\n",
      "\u001b[0;31mNameError\u001b[0m: name 'param' is not defined"
     ]
    }
   ],
   "source": [
    "try:\n",
    "    print(param)\n",
    "except ValueError:\n",
    "    print(\"에러다\")"
   ]
  },
  {
   "cell_type": "code",
   "execution_count": 48,
   "metadata": {},
   "outputs": [],
   "source": [
    "def main():\n",
    "    print(\"This program finds the real solutions\")\n",
    "    try:\n",
    "        a = float(input(\"Enter coefficient a: \"))\n",
    "        b = float(input(\"Enter coefficient b: \"))\n",
    "        c = float(input(\"Enter coefficient c: \"))\n",
    "        discRoot = math.sqrt(b*b - 4*a*c)\n",
    "        root1 = (-b + discRoot) / (2*a)\n",
    "        root2 = (-b - discRoot) / (2*a)\n",
    "    except ValueError:\n",
    "        print(\"no real roots\")"
   ]
  },
  {
   "cell_type": "code",
   "execution_count": 49,
   "metadata": {},
   "outputs": [
    {
     "output_type": "stream",
     "name": "stdout",
     "text": "This program finds the real solutions\nno real roots\n"
    }
   ],
   "source": [
    "main()"
   ]
  },
  {
   "cell_type": "markdown",
   "metadata": {},
   "source": [
    "## 문제점은 없을까?"
   ]
  },
  {
   "cell_type": "code",
   "execution_count": null,
   "metadata": {},
   "outputs": [],
   "source": [
    "def main():\n",
    "    print(\"This program finds the real solution\")\n",
    "    try:\n",
    "        a = float(input(\"Enter coefficient a: \"))\n",
    "        b = float(input(\"Enter coefficient b: \"))\n",
    "        c = float(input(\"Enter coefficient c: \"))\n",
    "        discRoot = math.sqrt(b*b - 4*a*c)\n",
    "        root1 = (-b + discRoot) / (2*a)\n",
    "        root2 = (-b - discRoot) / (2*a)\n",
    "    except ValueError as valerror:\n",
    "        if str(valerror) == \"math domain error\":\n",
    "            print(\"No real roots\")\n",
    "        else:\n",
    "            print(\"invalid coefficient given\")\n",
    "    except:\n",
    "        print(\"\")"
   ]
  },
  {
   "cell_type": "code",
   "execution_count": 47,
   "metadata": {},
   "outputs": [
    {
     "output_type": "stream",
     "name": "stdout",
     "text": "This Program finds the real solutions to a quadaric\nThe solutions are:  None None\n"
    }
   ],
   "source": [
    "main()"
   ]
  },
  {
   "cell_type": "markdown",
   "metadata": {},
   "source": [
    "```\n",
    "try:\n",
    "    <code>\n",
    "except <ErrorType>:\n",
    "    <Handler>\n",
    "```"
   ]
  },
  {
   "cell_type": "code",
   "execution_count": null,
   "metadata": {},
   "outputs": [],
   "source": [
    "def find_roots(a, b, c):\n",
    "    return None\n",
    "\n",
    "print(find_roots(2, 10, 8))"
   ]
  },
  {
   "cell_type": "markdown",
   "metadata": {},
   "source": [
    "## 클래스를 이용한 데이터 처리 - 학생 성적 시스템. "
   ]
  },
  {
   "cell_type": "markdown",
   "metadata": {},
   "source": [
    "### student란 데이터가 존재한다. \n",
    "\n",
    "```\n",
    "JhonKim, 127, 288\n",
    "SmithFrank, 100, 400\n",
    "AdamHenry, 18, 41.5\n",
    "JamesLee, 37, 125.33\n",
    "```"
   ]
  },
  {
   "cell_type": "markdown",
   "metadata": {},
   "source": [
    "### 1단계: 생성자 안에서 초기화 하는 방법으로 인스턴스 변수에 저장할 수 있다. "
   ]
  },
  {
   "cell_type": "code",
   "execution_count": 197,
   "metadata": {},
   "outputs": [],
   "source": [
    "class Student:\n",
    "    def __init__(self, name, hours, points):\n",
    "        self.name = name\n",
    "        self.hours = float(hours)\n",
    "        self.points = float(points)"
   ]
  },
  {
   "cell_type": "code",
   "execution_count": 198,
   "metadata": {},
   "outputs": [],
   "source": [
    "aEmployee = Student('JhonKim',100, 6)"
   ]
  },
  {
   "cell_type": "code",
   "execution_count": 193,
   "metadata": {},
   "outputs": [
    {
     "output_type": "execute_result",
     "data": {
      "text/plain": "'JhonKim'"
     },
     "metadata": {},
     "execution_count": 193
    }
   ],
   "source": [
    "aEmployee.name"
   ]
  },
  {
   "cell_type": "markdown",
   "metadata": {},
   "source": [
    "### 2단계: 객체의 메소드. \n",
    "\n",
    "정보에 접근하기 위한 메소드\n",
    "- 접근자 메소드. \n",
    "- 속성값에 바로 접근이 가능 하지만 데이터에 접근하기 위한 메소드를 구현해 주는 것이 좋다. \n"
   ]
  },
  {
   "cell_type": "code",
   "execution_count": 194,
   "metadata": {},
   "outputs": [],
   "source": [
    "def getName(self):\n",
    "    return self.name\n",
    "\n",
    "def getHours(self):\n",
    "    return self.hours\n",
    "\n",
    "def getPoints(self):\n",
    "    return self.points"
   ]
  },
  {
   "cell_type": "markdown",
   "metadata": {},
   "source": [
    "### 3단계: 평점 계산 메서드 추가"
   ]
  },
  {
   "cell_type": "code",
   "execution_count": 196,
   "metadata": {},
   "outputs": [],
   "source": [
    "def gpa(self):\n",
    "    return self.points/ self.hours"
   ]
  },
  {
   "cell_type": "markdown",
   "metadata": {},
   "source": [
    "### 전체 클래스"
   ]
  },
  {
   "cell_type": "code",
   "execution_count": 199,
   "metadata": {},
   "outputs": [],
   "source": [
    "class Student:\n",
    "    def __init__(self, name, hours, points):\n",
    "        self.name = name\n",
    "        self.hours = float(hours)\n",
    "        self.points = float(points)\n",
    "\n",
    "    def getName(self):\n",
    "        return self.name\n",
    "\n",
    "    def getHours(self):\n",
    "        return self.hours\n",
    "\n",
    "    def getPoints(self):\n",
    "        return self.points\n",
    "    \n",
    "    def gpa(self):\n",
    "        return self.points/ self.hours"
   ]
  },
  {
   "cell_type": "markdown",
   "metadata": {},
   "source": [
    "### 데이터와 클래스처리로직"
   ]
  },
  {
   "cell_type": "code",
   "execution_count": 201,
   "metadata": {},
   "outputs": [],
   "source": [
    "def makeStudent(infoStr):\n",
    "    name, hours, point = infoStr.split(',')\n",
    "    return Student(name, hours, point)"
   ]
  },
  {
   "cell_type": "markdown",
   "metadata": {},
   "source": [
    "### 평점이 가장 높은 학생을 찾는 알고리즘 구현(프로그램, 로직)"
   ]
  },
  {
   "cell_type": "markdown",
   "metadata": {},
   "source": [
    "### 손코딩...\n",
    "\n",
    "- 파일 이름을 입력 받는다. \n",
    "- 파일을 읽기 모드로 연다. \n",
    "- 첫번째 학생을 최우수 학생으로 한다. \n",
    "    - if s.gap() > best.gpa():\n",
    "        - s의 값을 새로운 best의 값으로 한다. \n",
    "- best를 출력"
   ]
  },
  {
   "cell_type": "code",
   "execution_count": 204,
   "metadata": {},
   "outputs": [],
   "source": [
    "def main():\n",
    "    # 파일 이름 입력받기\n",
    "    # 입력 파일을 읽기 모드로 연다. \n",
    "    # best의 값을 파일 내 첫 번째 학생을 가리키도록 한다. - 클래스 이용 인스턴스 객체생성. \n",
    "    # 파일의 나머지 줄을 처리한다. \n",
    "    # 평점이 가장 높은 학생의 정보를 출력한다. \n",
    "    pass"
   ]
  },
  {
   "cell_type": "code",
   "execution_count": 227,
   "metadata": {},
   "outputs": [],
   "source": [
    "def main():\n",
    "    filename = input(\"학생 파일 이름을 입력하세요: \")\n",
    "    infile = open(filename, 'r')\n",
    "    best = makeStudent(infile.readline())\n",
    "\n",
    "    for line in infile:\n",
    "        s = makeStudent(line)\n",
    "        if s.gpa() > best.gpa():\n",
    "            best = s\n",
    "    infile.close()\n",
    "    \n",
    "    print(\"The best Student is: \", best.getName())\n",
    "    print(\"Hours: \", best.getHours())\n",
    "    print(\"GPA: \", best.gpa())"
   ]
  },
  {
   "cell_type": "code",
   "execution_count": 228,
   "metadata": {},
   "outputs": [
    {
     "output_type": "stream",
     "name": "stdout",
     "text": "The best Student is:  SmithFrank\nHours:  100.0\nGPA:  4.0\n"
    }
   ],
   "source": [
    "main()"
   ]
  },
  {
   "cell_type": "markdown",
   "metadata": {},
   "source": [
    "## 5day: 마지막\n",
    "\n",
    "### 1day: \n",
    "- 변수, 자료형\n",
    "\n",
    "### 2day\n",
    "- 코드구조 : 반복문(for문, while문), 조건문(if,else,elif), 예외처리() // def\n",
    "\n",
    "### 3day\n",
    "- 함수\n",
    "\n",
    "### 4day\n",
    "- 클래스(class)\n",
    "\n",
    "### 5day\n",
    "-  WrapUp"
   ]
  },
  {
   "cell_type": "markdown",
   "metadata": {},
   "source": [
    "# 배운 내용\n",
    "\n",
    "<img src='./figure/fig1.png'>"
   ]
  },
  {
   "cell_type": "markdown",
   "metadata": {},
   "source": [
    "# 배운 내용\n",
    "\n",
    "<img src='./figure/fig2.png'>"
   ]
  },
  {
   "cell_type": "markdown",
   "metadata": {},
   "source": [
    "## 파이썬과 OpenSource\n",
    "\n",
    "https://blog.naver.com/reisei11/221863581966\n",
    "\n",
    "## 파이썬 공부 방법\n",
    "\n",
    "https://www.py4e.com/\n",
    "\n",
    "https://www.youtube.com/watch?v=8DvywoWv6fI\n",
    "\n",
    "https://wikidocs.net/book/1\n",
    "\n",
    "https://www.pycon.kr/\n"
   ]
  },
  {
   "cell_type": "code",
   "execution_count": null,
   "metadata": {},
   "outputs": [],
   "source": []
  }
 ],
 "metadata": {
  "language_info": {
   "codemirror_mode": {
    "name": "ipython",
    "version": 3
   },
   "file_extension": ".py",
   "mimetype": "text/x-python",
   "name": "python",
   "nbconvert_exporter": "python",
   "pygments_lexer": "ipython3",
   "version": "3.8.2-final"
  },
  "orig_nbformat": 2,
  "kernelspec": {
   "name": "python37464bit2ca5af9ea4dd4c818af2de9ba3f7b37b",
   "display_name": "Python 3.7.4 64-bit"
  }
 },
 "nbformat": 4,
 "nbformat_minor": 2
}