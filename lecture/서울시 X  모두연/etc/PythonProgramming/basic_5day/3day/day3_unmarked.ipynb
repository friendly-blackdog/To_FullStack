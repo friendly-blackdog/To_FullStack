{
 "cells": [
  {
   "cell_type": "markdown",
   "metadata": {},
   "source": [
    "# Day3 파이썬 함수"
   ]
  },
  {
   "cell_type": "markdown",
   "metadata": {},
   "source": [
    "### 1. 함수사용법\n",
    "\n",
    "- 함수 선언\n",
    "- 함수 호출\n",
    "\n",
    "### 2. 함수의 의미\n",
    "\n",
    "- 일반적인 함수: input과 output의 개념\n",
    "- 코드의 재사용\n",
    "\n",
    "### 3. input: argument, parameter\n",
    "\n",
    "### 4. output: return이 있는 함수, return이 없는 함수\n",
    "\n",
    "### 5. 파이썬 lambda\n",
    "\n",
    "### 6. 하향식 설계\n",
    "\n",
    "### 7. 함수: 파이썬 1등 시민(객체), first class citizen \n",
    "    - 함수형 프로그래밍"
   ]
  },
  {
   "cell_type": "code",
   "execution_count": null,
   "metadata": {},
   "outputs": [],
   "source": []
  },
  {
   "cell_type": "code",
   "execution_count": null,
   "metadata": {},
   "outputs": [],
   "source": []
  }
 ],
 "metadata": {
  "language_info": {
   "codemirror_mode": {
    "name": "ipython",
    "version": 3
   },
   "file_extension": ".py",
   "mimetype": "text/x-python",
   "name": "python",
   "nbconvert_exporter": "python",
   "pygments_lexer": "ipython3",
   "version": "3.8.2-final"
  },
  "orig_nbformat": 2,
  "kernelspec": {
   "name": "python37464bit2ca5af9ea4dd4c818af2de9ba3f7b37b",
   "display_name": "Python 3.7.4 64-bit"
  }
 },
 "nbformat": 4,
 "nbformat_minor": 2
}