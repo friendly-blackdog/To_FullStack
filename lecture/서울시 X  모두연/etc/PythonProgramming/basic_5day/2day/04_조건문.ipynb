{
 "cells": [
  {
   "cell_type": "markdown",
   "metadata": {},
   "source": [
    "### 조건문\n",
    "- if\n",
    "- else\n",
    "- elif\n",
    "- 삼항연산자"
   ]
  },
  {
   "cell_type": "markdown",
   "metadata": {},
   "source": [
    "### 1. if\n",
    "- 조건에 따라서 코드를 실행시키고 싶을 때 사용\n",
    "- if <condition>:\n",
    "    <code_1>"
   ]
  },
  {
   "cell_type": "code",
   "execution_count": 5,
   "metadata": {},
   "outputs": [
    {
     "name": "stdout",
     "output_type": "stream",
     "text": [
      "if\n",
      "done\n"
     ]
    }
   ],
   "source": [
    "state = True\n",
    "if state:\n",
    "    print(\"if\")\n",
    "print('done')"
   ]
  },
  {
   "cell_type": "code",
   "execution_count": 7,
   "metadata": {},
   "outputs": [
    {
     "name": "stdout",
     "output_type": "stream",
     "text": [
      "수박을 산다\n"
     ]
    }
   ],
   "source": [
    "money = 20000\n",
    "if money >= 20000:\n",
    "    print(\"수박을 산다\")\n",
    "if money < 20000:\n",
    "    print(\"수박을 못산다\")"
   ]
  },
  {
   "cell_type": "markdown",
   "metadata": {},
   "source": [
    "### 2. else\n",
    "- if <condition>:\n",
    "    code1\n",
    "  else:\n",
    "    code"
   ]
  },
  {
   "cell_type": "code",
   "execution_count": 9,
   "metadata": {},
   "outputs": [
    {
     "name": "stdout",
     "output_type": "stream",
     "text": [
      "else\n"
     ]
    }
   ],
   "source": [
    "state = False\n",
    "if state:\n",
    "    print(\"if\")\n",
    "else:\n",
    "    print(\"else\")"
   ]
  },
  {
   "cell_type": "code",
   "execution_count": 10,
   "metadata": {},
   "outputs": [
    {
     "name": "stdout",
     "output_type": "stream",
     "text": [
      "수박을 산다\n"
     ]
    }
   ],
   "source": [
    "money = 20000\n",
    "if money >= 20000:\n",
    "    print(\"수박을 산다\")\n",
    "else:\n",
    "    print(\"수박을 못산다\")"
   ]
  },
  {
   "cell_type": "markdown",
   "metadata": {},
   "source": [
    "### 3. elif\n",
    "- 조건이 여러개로 구분해서 코드를 실행할 때 사용"
   ]
  },
  {
   "cell_type": "code",
   "execution_count": 13,
   "metadata": {},
   "outputs": [
    {
     "name": "stdout",
     "output_type": "stream",
     "text": [
      "60000\n",
      "rich\n"
     ]
    }
   ],
   "source": [
    "money = int(input())\n",
    "if money > 50000:\n",
    "    print('rich')\n",
    "elif 30000 < money <=50000:\n",
    "    print('normal')\n",
    "else:\n",
    "    print('poor')"
   ]
  },
  {
   "cell_type": "code",
   "execution_count": 14,
   "metadata": {},
   "outputs": [
    {
     "name": "stdout",
     "output_type": "stream",
     "text": [
      "a = b\n"
     ]
    }
   ],
   "source": [
    "a, b = 30,30\n",
    "\n",
    "if a < b:\n",
    "    print(\"a < b\")\n",
    "if a == b:\n",
    "    print(\"a = b\")\n",
    "if a > b:\n",
    "    print(\"a > b\")"
   ]
  },
  {
   "cell_type": "code",
   "execution_count": 16,
   "metadata": {},
   "outputs": [
    {
     "name": "stdout",
     "output_type": "stream",
     "text": [
      "a = b\n"
     ]
    }
   ],
   "source": [
    "a, b = 30,30\n",
    "\n",
    "if a < b:\n",
    "    print(\"a < b\")\n",
    "elif a == b:\n",
    "    print(\"a = b\")\n",
    "else:\n",
    "    print(\"a > b\")"
   ]
  },
  {
   "cell_type": "markdown",
   "metadata": {},
   "source": [
    "### Quiz 1\n",
    "- 짝수이면 even, 홀수이면 odd"
   ]
  },
  {
   "cell_type": "code",
   "execution_count": 19,
   "metadata": {},
   "outputs": [
    {
     "name": "stdout",
     "output_type": "stream",
     "text": [
      "number: 8\n",
      "even\n"
     ]
    }
   ],
   "source": [
    "number = int(input(\"number: \"))\n",
    "if not number % 2:\n",
    "    print('even')\n",
    "else:\n",
    "    print('odd')"
   ]
  },
  {
   "cell_type": "code",
   "execution_count": 20,
   "metadata": {},
   "outputs": [
    {
     "data": {
      "text/plain": [
       "False"
      ]
     },
     "execution_count": 20,
     "metadata": {},
     "output_type": "execute_result"
    }
   ],
   "source": [
    "a = 0\n",
    "bool(a)"
   ]
  },
  {
   "cell_type": "markdown",
   "metadata": {},
   "source": [
    "### Quiz 2\n",
    "- 점수를 입력받아서 학점을 출력하는 코드를 작성하세요\n",
    "- 90 ~ 100: A, 80 ~ 89: B, C,D,E,F"
   ]
  },
  {
   "cell_type": "code",
   "execution_count": 28,
   "metadata": {},
   "outputs": [
    {
     "name": "stdout",
     "output_type": "stream",
     "text": [
      "number: 87\n",
      "B\n"
     ]
    }
   ],
   "source": [
    "point = int(input('number: '))\n",
    "if 90<= point:\n",
    "    print('A')\n",
    "elif 80<= point:\n",
    "    print('B')\n",
    "elif 70<= point:\n",
    "    print('C')\n",
    "elif 60<= point:\n",
    "    print('D')\n",
    "else:\n",
    "    print('F')"
   ]
  },
  {
   "cell_type": "markdown",
   "metadata": {},
   "source": [
    "### Quiz 3\n",
    "- 숫자를 입력받아서 3의 배수이면 fizz를 출력, 5의 배수이면 buzz를 출력한다.\n",
    "- 3과 5의 배수이면 fizzbuzz를 출력하는 코드를 작성하세요. "
   ]
  },
  {
   "cell_type": "code",
   "execution_count": 41,
   "metadata": {},
   "outputs": [
    {
     "name": "stdout",
     "output_type": "stream",
     "text": [
      "number_A: 49\n",
      "49\n"
     ]
    }
   ],
   "source": [
    "Number_A=int(input(\"number_A: \"))\n",
    "\n",
    "if Number_A%3 == 0 and Number_A%5 ==0:\n",
    "    print('pizzbuzz')\n",
    "elif Number_A%3 ==0 and Number_A%5 !=0:\n",
    "    print('fizz')\n",
    "elif Number_A%5 ==0 and Number_A%3 !=0:\n",
    "    print('buzz')\n",
    "else:\n",
    "    print(Number_A)"
   ]
  },
  {
   "cell_type": "code",
   "execution_count": 44,
   "metadata": {},
   "outputs": [
    {
     "name": "stdout",
     "output_type": "stream",
     "text": [
      "insert number: 15\n",
      "fizzbuzz\n"
     ]
    }
   ],
   "source": [
    "number = int(input(\"insert number: \"))\n",
    "\n",
    "if number % 15 ==0:\n",
    "    print('fizzbuzz')\n",
    "elif number %3 ==0:\n",
    "    print('fizz')\n",
    "elif number % 5 ==0:\n",
    "    print('buzz')\n",
    "else:\n",
    "    print(number)"
   ]
  },
  {
   "cell_type": "markdown",
   "metadata": {},
   "source": [
    "#### quiz4\n",
    "- 최초 계좌에 10000이 들어 있습니다.\n",
    "- 인출금액을 입력 \n",
    "- 인출이 가능하면 True와 인출 후 잔액을 출력\n",
    "- 인출이 불가능 하면 False와 현재 잔액을 출력"
   ]
  },
  {
   "cell_type": "code",
   "execution_count": 51,
   "metadata": {},
   "outputs": [
    {
     "name": "stdout",
     "output_type": "stream",
     "text": [
      "price: 4000\n",
      "True\n",
      "잔액이  6000 원 남았습니다.\n",
      "price: 3000\n",
      "True\n",
      "잔액이  3000 원 남았습니다.\n"
     ]
    }
   ],
   "source": [
    "account = 10000\n",
    "draw=int(input('price: '))\n",
    "if draw <= account:\n",
    "    print(True)\n",
    "    print('잔액이 ', account - draw,'원 남았습니다.')\n",
    "    account = account - draw\n",
    "    draw=int(input('price: '))\n",
    "    if  draw < account:\n",
    "        print(True)\n",
    "        print('잔액이 ', account - draw,'원 남았습니다.')\n",
    "        account = account - draw\n",
    "else:\n",
    "    print(False)\n",
    "    print('잔액이', draw-account,'원 부족합니다.')"
   ]
  },
  {
   "cell_type": "code",
   "execution_count": 55,
   "metadata": {},
   "outputs": [],
   "source": [
    "account = 10000"
   ]
  },
  {
   "cell_type": "code",
   "execution_count": 60,
   "metadata": {},
   "outputs": [
    {
     "name": "stdout",
     "output_type": "stream",
     "text": [
      "인출금을 입력하세요: 10000\n",
      "False 잔액이 10000원 부족합니다.\n"
     ]
    }
   ],
   "source": [
    "withdraw=int(input('인출금을 입력하세요: '))\n",
    "if account >= withdraw:\n",
    "    account -= withdraw\n",
    "    print(True, \"잔액이 {}원 남았습니다.\".format(account))\n",
    "else:\n",
    "    print(False, \"잔액이 {}원 부족합니다.\".format(withdraw-account))"
   ]
  },
  {
   "cell_type": "markdown",
   "metadata": {},
   "source": [
    "### 3항 연산\n",
    "- 조건이 True 이면 A가 출력, False이면 B가 출력\n",
    "- A if (조건) else B\n"
   ]
  },
  {
   "cell_type": "code",
   "execution_count": 62,
   "metadata": {},
   "outputs": [
    {
     "name": "stdout",
     "output_type": "stream",
     "text": [
      "2\n"
     ]
    }
   ],
   "source": [
    "data = 0\n",
    "if data:\n",
    "    print(1)\n",
    "else:\n",
    "    print(2)"
   ]
  },
  {
   "cell_type": "code",
   "execution_count": 64,
   "metadata": {},
   "outputs": [
    {
     "data": {
      "text/plain": [
       "1"
      ]
     },
     "execution_count": 64,
     "metadata": {},
     "output_type": "execute_result"
    }
   ],
   "source": [
    "data = 10\n",
    "1 if data else 2"
   ]
  },
  {
   "cell_type": "code",
   "execution_count": 65,
   "metadata": {},
   "outputs": [],
   "source": [
    "# 1: male, 2:female"
   ]
  },
  {
   "cell_type": "code",
   "execution_count": 69,
   "metadata": {},
   "outputs": [
    {
     "name": "stdout",
     "output_type": "stream",
     "text": [
      "female\n"
     ]
    }
   ],
   "source": [
    "data = 2\n",
    "result = \"male\" if data == 1 else \"female\" #result에 else에 대한 값을 할당 안함?\n",
    "print(result)"
   ]
  },
  {
   "cell_type": "markdown",
   "metadata": {},
   "source": [
    "### quiz 5\n",
    "- 삼항연산을 이용하여 값을 입력받아서 짝수이면 even, 홀수이면 odd를 출력하시오"
   ]
  },
  {
   "cell_type": "code",
   "execution_count": 75,
   "metadata": {},
   "outputs": [
    {
     "name": "stdout",
     "output_type": "stream",
     "text": [
      "number: 12\n"
     ]
    },
    {
     "data": {
      "text/plain": [
       "'even'"
      ]
     },
     "execution_count": 75,
     "metadata": {},
     "output_type": "execute_result"
    }
   ],
   "source": [
    "number = int(input(\"number: \"))\n",
    "\"even\" if number % 2 == 0 else \"odd\" #그냥 프린트가 됨. "
   ]
  },
  {
   "cell_type": "code",
   "execution_count": 74,
   "metadata": {},
   "outputs": [
    {
     "name": "stdout",
     "output_type": "stream",
     "text": [
      "number: 8\n"
     ]
    },
    {
     "data": {
      "text/plain": [
       "'even'"
      ]
     },
     "execution_count": 74,
     "metadata": {},
     "output_type": "execute_result"
    }
   ],
   "source": [
    "number = int(input(\"number: \"))\n",
    "result = \"odd\" if number % 2 else \"even\"\n",
    "result"
   ]
  },
  {
   "cell_type": "code",
   "execution_count": 81,
   "metadata": {},
   "outputs": [
    {
     "data": {
      "text/plain": [
       "[1, 4, 2, 1, 1]"
      ]
     },
     "execution_count": 81,
     "metadata": {},
     "output_type": "execute_result"
    }
   ],
   "source": [
    "ls = [1,4,2,1,1]\n",
    "ls"
   ]
  },
  {
   "cell_type": "code",
   "execution_count": 80,
   "metadata": {},
   "outputs": [
    {
     "data": {
      "text/plain": [
       "['__add__',\n",
       " '__class__',\n",
       " '__contains__',\n",
       " '__delattr__',\n",
       " '__delitem__',\n",
       " '__dir__',\n",
       " '__doc__',\n",
       " '__eq__',\n",
       " '__format__',\n",
       " '__ge__',\n",
       " '__getattribute__',\n",
       " '__getitem__',\n",
       " '__gt__',\n",
       " '__hash__',\n",
       " '__iadd__',\n",
       " '__imul__',\n",
       " '__init__',\n",
       " '__init_subclass__',\n",
       " '__iter__',\n",
       " '__le__',\n",
       " '__len__',\n",
       " '__lt__',\n",
       " '__mul__',\n",
       " '__ne__',\n",
       " '__new__',\n",
       " '__reduce__',\n",
       " '__reduce_ex__',\n",
       " '__repr__',\n",
       " '__reversed__',\n",
       " '__rmul__',\n",
       " '__setattr__',\n",
       " '__setitem__',\n",
       " '__sizeof__',\n",
       " '__str__',\n",
       " '__subclasshook__',\n",
       " 'append',\n",
       " 'clear',\n",
       " 'copy',\n",
       " 'count',\n",
       " 'extend',\n",
       " 'index',\n",
       " 'insert',\n",
       " 'pop',\n",
       " 'remove',\n",
       " 'reverse',\n",
       " 'sort']"
      ]
     },
     "execution_count": 80,
     "metadata": {},
     "output_type": "execute_result"
    }
   ],
   "source": [
    "[func for func in dir(ls) if func[:2] !=\"--\"]"
   ]
  },
  {
   "cell_type": "code",
   "execution_count": null,
   "metadata": {},
   "outputs": [],
   "source": []
  },
  {
   "cell_type": "code",
   "execution_count": null,
   "metadata": {},
   "outputs": [],
   "source": []
  },
  {
   "cell_type": "code",
   "execution_count": null,
   "metadata": {},
   "outputs": [],
   "source": []
  },
  {
   "cell_type": "code",
   "execution_count": null,
   "metadata": {},
   "outputs": [],
   "source": []
  }
 ],
 "metadata": {
  "kernelspec": {
   "display_name": "Python 3",
   "language": "python",
   "name": "python3"
  },
  "language_info": {
   "codemirror_mode": {
    "name": "ipython",
    "version": 3
   },
   "file_extension": ".py",
   "mimetype": "text/x-python",
   "name": "python",
   "nbconvert_exporter": "python",
   "pygments_lexer": "ipython3",
   "version": "3.7.3"
  }
 },
 "nbformat": 4,
 "nbformat_minor": 2
}
