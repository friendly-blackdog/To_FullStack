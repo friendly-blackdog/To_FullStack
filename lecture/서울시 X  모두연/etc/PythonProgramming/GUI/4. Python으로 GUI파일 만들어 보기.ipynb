{
 "nbformat": 4,
 "nbformat_minor": 2,
 "metadata": {
  "language_info": {
   "name": "python",
   "codemirror_mode": {
    "name": "ipython",
    "version": 3
   },
   "version": "3.7.4-final"
  },
  "orig_nbformat": 2,
  "file_extension": ".py",
  "mimetype": "text/x-python",
  "name": "python",
  "npconvert_exporter": "python",
  "pygments_lexer": "ipython3",
  "version": 3,
  "kernelspec": {
   "name": "python37464bit2ca5af9ea4dd4c818af2de9ba3f7b37b",
   "display_name": "Python 3.7.4 64-bit"
  }
 },
 "cells": [
  {
   "cell_type": "markdown",
   "execution_count": 27,
   "metadata": {},
   "outputs": [],
   "source": [
    "# Tkinter Library를 활용하여 Calculator만들어 보기"
   ]
  },
  {
   "cell_type": "markdown",
   "execution_count": 1,
   "metadata": {},
   "outputs": [
    {
     "ename": "NameError",
     "evalue": "name 'hellomynameispython' is not defined",
     "output_type": "error",
     "traceback": [
      "\u001b[0;31m---------------------------------------------------------------------------\u001b[0m",
      "\u001b[0;31mNameError\u001b[0m                                 Traceback (most recent call last)",
      "\u001b[0;32m<ipython-input-1-8a192f6ee57e>\u001b[0m in \u001b[0;36m<module>\u001b[0;34m\u001b[0m\n\u001b[1;32m      2\u001b[0m \u001b[0;34m\u001b[0m\u001b[0m\n\u001b[1;32m      3\u001b[0m \u001b[0mquestion\u001b[0m \u001b[0;34m=\u001b[0m \u001b[0;34m\"hello my name is python\"\u001b[0m\u001b[0;34m\u001b[0m\u001b[0;34m\u001b[0m\u001b[0m\n\u001b[0;32m----> 4\u001b[0;31m \u001b[0mresult\u001b[0m \u001b[0;34m=\u001b[0m \u001b[0mhellomynameispython\u001b[0m\u001b[0;34m\u001b[0m\u001b[0;34m\u001b[0m\u001b[0m\n\u001b[0m",
      "\u001b[0;31mNameError\u001b[0m: name 'hellomynameispython' is not defined"
     ]
    }
   ],
   "source": [
    "#### 1. Tkinter Module Import\n",
    "#### 2. Window Widget생성하기\n",
    "```\n",
    "from tkinter import *\n",
    "app = Tk()\n",
    "app.mainloop()\n",
    "```\n",
    "\n",
    "1) Create window Widget: 최 상위 window Widget은 tkinter.Tk() 클래스의 instance로 생성됩니다.</br>\n",
    "2) 화면 보여주기: tkinter.Tk().mainloop() Method에 tkinter의 이벤트 루프를 시작합니다. 즉, 화면이 보여집니다. ```"
   ]
  },
  {
   "cell_type": "code",
   "execution_count": 1,
   "metadata": {},
   "outputs": [],
   "source": [
    "from tkinter import *"
   ]
  },
  {
   "cell_type": "code",
   "execution_count": 3,
   "metadata": {},
   "outputs": [],
   "source": [
    "from tkinter import *\n",
    "# Create window Widget:  \n",
    "Basic_calculator = Tk()\n",
    "\n",
    "#Tk()의 title과 geometry method를 이용하여 생성된 인스턴스의 \n",
    "Basic_calculator.title('Basic Calculator')\n",
    "Basic_calculator.geometry('500x400')\n",
    "\n",
    "#calculator_label\n",
    "Basic_calculator.mainloop()"
   ]
  },
  {
   "cell_type": "markdown",
   "execution_count": 1,
   "metadata": {},
   "outputs": [
    {
     "ename": "SyntaxError",
     "evalue": "invalid syntax (<ipython-input-1-095dc176810d>, line 3)",
     "output_type": "error",
     "traceback": [
      "\u001b[0;36m  File \u001b[0;32m\"<ipython-input-1-095dc176810d>\"\u001b[0;36m, line \u001b[0;32m3\u001b[0m\n\u001b[0;31m    1) Input은 Entry()를 이용하여 추가합니다. Entry()안에 Argument로 Input이 추가될 window를 입력합니다.\u001b[0m\n\u001b[0m     ^\u001b[0m\n\u001b[0;31mSyntaxError\u001b[0m\u001b[0;31m:\u001b[0m invalid syntax\n"
     ]
    }
   ],
   "source": [
    "### 3. Input Field 추가하기\n",
    "\n",
    "1) Input은 Entry()를 이용하여 추가합니다. Entry()안에 Argument로 Input이 추가될 window를 입력합니다. </br>\n",
    "2) Entry의 grid메소드를 이용하여 input이 표시될 위치를 표기합니다. \n",
    "\n",
    "```\n",
    "from tkinter import *\n",
    "App = Tk()\n",
    "I = Entry(App)\n",
    "I.grid(row=0, column=0)\n",
    "App.mainloop()\n",
    "```"
   ]
  },
  {
   "cell_type": "code",
   "execution_count": 3,
   "metadata": {},
   "outputs": [],
   "source": [
    "from tkinter import *\n",
    "# Create window Widget:  \n",
    "Basic_calculator = Tk()\n",
    "\n",
    "#Tk()의 title과 geometry method를 이용하여 생성된 인스턴스의 \n",
    "Basic_calculator.title('Basic Calculator')\n",
    "Basic_calculator.geometry('500x400')\n",
    "\n",
    "I = Entry(Basic_calculator)\n",
    "I.grid(row=0, column=0, columnspan=2, padx=10, pady=10)\n",
    "\n",
    "#calculator_label\n",
    "Basic_calculator.mainloop()"
   ]
  },
  {
   "cell_type": "markdown",
   "execution_count": 1,
   "metadata": {},
   "outputs": [
    {
     "ename": "SyntaxError",
     "evalue": "invalid syntax (<ipython-input-1-0c9292381c19>, line 2)",
     "output_type": "error",
     "traceback": [
      "\u001b[0;36m  File \u001b[0;32m\"<ipython-input-1-0c9292381c19>\"\u001b[0;36m, line \u001b[0;32m2\u001b[0m\n\u001b[0;31m    - 버튼은 Button()을 사용하여 추가한다. Button()의 Argument로 버튼이 추가될 window를 넣어준다.\u001b[0m\n\u001b[0m               ^\u001b[0m\n\u001b[0;31mSyntaxError\u001b[0m\u001b[0;31m:\u001b[0m invalid syntax\n"
     ]
    }
   ],
   "source": [
    "### 3. 숫자 버튼 추가하기\n",
    "- 버튼은 Button()을 사용하여 추가한다. Button()의 Argument로 버튼이 추가될 window를 넣어준다. \n",
    "\n",
    "```\n",
    "from tkinter import *\n",
    "app = Tk()\n",
    "Button1 = Button(app, command=None)\n",
    "app.mainloop()\n",
    "```\n",
    "\n",
    "- 버튼의 동작은 Button()의 Keyword Argument중 command에 동작을 추가한다. \n",
    "- 보통 동작은 User가 함수를 정의하고 command keyword argument에 호출하는 방식으로 한다 .\n",
    "\n",
    "```\n",
    "def click_button():\n",
    "    Pass\n",
    "\n",
    "Button1 = Button(app, command=click_button)\n",
    "\n",
    "```\n"
   ]
  },
  {
   "cell_type": "code",
   "execution_count": 1,
   "metadata": {},
   "outputs": [],
   "source": [
    "from tkinter import *\n",
    "# Create window Widget:  \n",
    "Basic_calculator = Tk()\n",
    "\n",
    "#Tk()의 title과 geometry method를 이용하여 생성된 인스턴스의 \n",
    "Basic_calculator.title('Basic Calculator')\n",
    "Basic_calculator.geometry('500x400')\n",
    "\n",
    "I = Entry(Basic_calculator)\n",
    "I.grid(row=0, column=0, columnspan=2, padx=10, pady=10)\n",
    "\n",
    "def Button_Number(number):\n",
    "    current = I.get()\n",
    "    I.delete(0, END)\n",
    "    I.insert(0, str(current)+str(number))\n",
    "\n",
    "#Button추가\n",
    "N0 = Button(Basic_calculator, text='0', padx=40, pady=20, command=lambda: Button_Number(0))\n",
    "N1 = Button(Basic_calculator, text='1', padx=40, pady=20, command=lambda: Button_Number(1))\n",
    "N2 = Button(Basic_calculator, text='2', padx=40, pady=20, command=lambda: Button_Number(2))\n",
    "N3 = Button(Basic_calculator, text='3', padx=40, pady=20, command=lambda: Button_Number(3))\n",
    "N4 = Button(Basic_calculator, text='4', padx=40, pady=20, command=lambda: Button_Number(4))\n",
    "N5 = Button(Basic_calculator, text='5', padx=40, pady=20, command=lambda: Button_Number(5))\n",
    "N6 = Button(Basic_calculator, text='6', padx=40, pady=20, command=lambda: Button_Number(6))\n",
    "N7 = Button(Basic_calculator, text='7', padx=40, pady=20, command=lambda: Button_Number(7))\n",
    "N8 = Button(Basic_calculator, text='8', padx=40, pady=20, command=lambda: Button_Number(8))\n",
    "N9 = Button(Basic_calculator, text='9', padx=40, pady=20, command=lambda: Button_Number(9))\n",
    "\n",
    "\n",
    "N0.grid(row=4 , column=0 )\n",
    "N1.grid(row=3 , column=0 )\n",
    "N2.grid(row=3 , column=1 )\n",
    "N3.grid(row=3 , column=2 )\n",
    "N4.grid(row=2 , column=0 )\n",
    "N5.grid(row=2 , column=1 )\n",
    "N6.grid(row=2 , column=2 )\n",
    "N7.grid(row=1 , column=0 )\n",
    "N8.grid(row=1 , column=1 )\n",
    "N9.grid(row=1 , column=2 )\n",
    "\n",
    "\n",
    "\n",
    "#calculator_label\n",
    "Basic_calculator.mainloop()\n"
   ]
  },
  {
   "cell_type": "markdown",
   "execution_count": 2,
   "metadata": {},
   "outputs": [
    {
     "ename": "SyntaxError",
     "evalue": "invalid syntax (<ipython-input-2-2e85c86e31a7>, line 2)",
     "output_type": "error",
     "traceback": [
      "\u001b[0;36m  File \u001b[0;32m\"<ipython-input-2-2e85c86e31a7>\"\u001b[0;36m, line \u001b[0;32m2\u001b[0m\n\u001b[0;31m    - 위에 이어서 +,-, *, /, =, clear 버튼을 추가해봅니다.\u001b[0m\n\u001b[0m           ^\u001b[0m\n\u001b[0;31mSyntaxError\u001b[0m\u001b[0;31m:\u001b[0m invalid syntax\n"
     ]
    }
   ],
   "source": [
    "### 4. 동작 버튼 추가하기\n",
    "- 위에 이어서 +, =, clear 버튼을 추가해봅니다.\n",
    "- 입력창에서 받은 string을 처리하는 Entry()의 메소드 .delete(), .get(), .insert()를 사용합니다.\n",
    "\n",
    "```\n",
    "Entry().delete()\n",
    "Entry().get()\n",
    "Entry().insert()\n",
    "```\n",
    "\n",
    "```\n",
    "def click_button():\n",
    "    Pass\n",
    "```\n",
    "\n"
   ]
  },
  {
   "cell_type": "code",
   "execution_count": 3,
   "metadata": {},
   "outputs": [],
   "source": [
    "from tkinter import *\n",
    "# Create window Widget:  \n",
    "Basic_calculator = Tk()\n",
    "\n",
    "Basic_calculator.title('Basic Calculator')\n",
    "Basic_calculator.geometry('500x400')\n",
    "\n",
    "#입력창 만들기\n",
    "I = Entry(Basic_calculator)\n",
    "I.grid(row=0, column=0, columnspan=2, padx=10, pady=10)\n",
    "\n",
    "\n",
    "#버튼 만들기\n",
    "def Button_Number(number):\n",
    "    current = I.get()\n",
    "    I.delete(0, END)\n",
    "    I.insert(0, str(current)+str(number))\n",
    "\n",
    "def clear():\n",
    "    I.delete(0, END)\n",
    "\n",
    "def add():\n",
    "    first_number = I.get()\n",
    "    global first_num\n",
    "    first_num = int(first_number)\n",
    "    I.delete(0, END)\n",
    "\n",
    "def equal():\n",
    "    second_number = I.get()\n",
    "    I.delete(0, END)\n",
    "    I.insert(0, first_num + int(second_number))\n",
    "\n",
    "\n",
    "N0 = Button(Basic_calculator, text='0', padx=40, pady=20, command=lambda: Button_Number(0))\n",
    "N1 = Button(Basic_calculator, text='1', padx=40, pady=20, command=lambda: Button_Number(1))\n",
    "N2 = Button(Basic_calculator, text='2', padx=40, pady=20, command=lambda: Button_Number(2))\n",
    "N3 = Button(Basic_calculator, text='3', padx=40, pady=20, command=lambda: Button_Number(3))\n",
    "N4 = Button(Basic_calculator, text='4', padx=40, pady=20, command=lambda: Button_Number(4))\n",
    "N5 = Button(Basic_calculator, text='5', padx=40, pady=20, command=lambda: Button_Number(5))\n",
    "N6 = Button(Basic_calculator, text='6', padx=40, pady=20, command=lambda: Button_Number(6))\n",
    "N7 = Button(Basic_calculator, text='7', padx=40, pady=20, command=lambda: Button_Number(7))\n",
    "N8 = Button(Basic_calculator, text='8', padx=40, pady=20, command=lambda: Button_Number(8))\n",
    "N9 = Button(Basic_calculator, text='9', padx=40, pady=20, command=lambda: Button_Number(9))\n",
    "Clear = Button(Basic_calculator, text='clear', padx=25, pady=5, command=clear)\n",
    "Add = Button(Basic_calculator, text = '+', padx=40, pady=20, command=add)\n",
    "Equal = Button(Basic_calculator, text = '=', padx=40, pady=20, command=equal)\n",
    "\n",
    "\n",
    "N0.grid(row=4 , column=0 )\n",
    "N1.grid(row=3 , column=0 )\n",
    "N2.grid(row=3 , column=1 )\n",
    "N3.grid(row=3 , column=2 )\n",
    "N4.grid(row=2 , column=0 )\n",
    "N5.grid(row=2 , column=1 )\n",
    "N6.grid(row=2 , column=2 )\n",
    "N7.grid(row=1 , column=0 )\n",
    "N8.grid(row=1 , column=1 )\n",
    "N9.grid(row=1 , column=2 )\n",
    "Clear.grid(row=0, column=2)\n",
    "Add.grid(row=4, column=1)\n",
    "Equal.grid(row=4, column=2)\n",
    "\n",
    "Basic_calculator.mainloop()\n"
   ]
  },
  {
   "cell_type": "code",
   "execution_count": null,
   "metadata": {},
   "outputs": [],
   "source": []
  }
 ]
}