{
 "nbformat": 4,
 "nbformat_minor": 2,
 "metadata": {
  "language_info": {
   "name": "python",
   "codemirror_mode": {
    "name": "ipython",
    "version": 3
   },
   "version": "3.7.4-final"
  },
  "orig_nbformat": 2,
  "file_extension": ".py",
  "mimetype": "text/x-python",
  "name": "python",
  "npconvert_exporter": "python",
  "pygments_lexer": "ipython3",
  "version": 3,
  "kernelspec": {
   "name": "python37464bit2ca5af9ea4dd4c818af2de9ba3f7b37b",
   "display_name": "Python 3.7.4 64-bit"
  }
 },
 "cells": [
  {
   "cell_type": "markdown",
   "execution_count": null,
   "metadata": {},
   "outputs": [],
   "source": [
    "#### python-06\n",
    "# LECTURE: 파이썬 Class를 이용한 객체 지향 프로그래밍"
   ]
  },
  {
   "cell_type": "markdown",
   "execution_count": null,
   "metadata": {},
   "outputs": [],
   "source": [
    "# 목차\n",
    "1. Introduction (OOP와 객체, GUI에 대해서...) \n",
    "2. 파이썬 Class 문법 "
   ]
  },
  {
   "cell_type": "markdown",
   "execution_count": null,
   "metadata": {},
   "outputs": [],
   "source": [
    "## 1. Introduction (OOP, GUI에 대해서...)\n",
    "객체 지향 프로그래밍(OOP: Objective Oriented Programming)은 거의 모든 언어에서 사용되고 있으며 파이썬 역시 객체 지향적 프로그래밍이 가능한 언어 입니다. 객체 지향은 소프트웨어를 설계하고 구현하기 위한 수많은 원칙과 오랜 역사를 갖고 있는 개념으로 대표적인 객체지향적 언어는 1980년대 C언어를 기반으로 만든 Objective-C와 1991년 만들어진 JAVA를 꼽을 수 있습니다. Objective-C는 ios어플 개발에 핵심 언어로 활용 되고 있고 JAVA는 웹개발,android개발 등 외에도 소프트웨어 개발 전반에 걸쳐 사용되고있는 프로그래밍 언어입니다. 이렇게 OOP는 소프트웨어 다방면에 오랜기간 사용된 개념으로 객체 지향에 대해 한 챕터에 짧게 정의하기는 어렵습니다. 이번 장에서는 컴퓨터 그래픽을 예시로 기본적인 객체 지향 프로그래밍의 개념과 그 활용법에 대해 소개합니다. \n",
    "\n",
    "그래픽을 이용하면 객체지향적 설계에 대해 보다 쉽게 접근이 가능하며 그래픽 중에서도 사용자와 가장 친숙한 GUI 프로그램을 만들어 볼 겁니다. GUI란 Graphic User Interface의 약자로 그래픽 화면을 이용해 사용자가 프로그램을 제어하는 것을 말합니다. \n",
    "사용자는 window(창)을 통해서 아이콘, 버튼, 메뉴와 같은 요소를 조작하고 Data를 입력하고 화면에 표시등의 작업을 수행 할 수 있습니다. \n",
    "파이썬에서는 GUI를 제작하는데 유용한 라이브러리로 Tkinter를 제공하고 있습니다.\n",
    "\n",
    "그럼 객체라고 하는 것은 무엇인가요? 위키백과에 '객체'를 검색해 보면 아래와 같이 설명합니다. \n",
    "\n",
    "```\n",
    "일반적으로 컴퓨터 공학에서 객체는 저장공간에서 할당되어 값을 가지거나 식별자에 의해 참조되는 공간을 의미하며 변수, 자료구조, 함수 등이 있습니다. \n",
    "\n",
    "절차적 프로그래밍에서 하나의 객체는 자료나 명령을 포함할 수 있지만 두 가지를 동시에 포함하지는 않는다. (명령은 프로시저나 함수의 형태를 가진다).\n",
    "\n",
    "객체지향 프로그래밍에서 객체는 클래스의 인스턴스이다. 클래스 객체는 자료와 그 자료를 다루는 명령의 조합을 포함하여 객체가 메시지를 받고 자료를 처리하며 메시지를 다른 객체로 보낼 수 있도록 한다. 실세계의 비유로 설명하자면, 가령 어떤 사람이 집에서 살기를 원할 때, 그 집의 청사진(집의 설계도)이나 축소 모형 따위는 전혀 필요가 없다. 필요한 것은 설계에 맞는 실제 집이다. 이 비유에서 청사진은 클래스를, 실제 집은 객체를 나타낸다.\n",
    "```\n",
    "\n",
    "즉, 컴퓨터 공학에서의 객체, 절차 지향 프로그래밍에서의 객체, 객체지향 프로그래밍에서 객체의 의미 입니다. \n",
    "\n",
    "python역시 class가 있습니다. 물론 자바에서는 클래스를 단일 컴포넌트로써 활용하고 python에서는 모듈단위로 컴포넌트를 활용하기 때문에 같은 객체지향 프로그래밍의 class라도 그 사용법은 조금씩 다릅니다.\n",
    "따라서 다음장에서는 python class문법에 대해 설명할 예정입니다. \n",
    "\n",
    "(너무 다 이해하려고 하지 마세요! 앞에서 설명했듯이 객체지향, 객체는 40년전부터 나온 개념이고 지금도 활발하게 사용하고 있는 개념입니다. 오랜 역사와 수많은 천재 공학자들이 쌓아올린 이 개념을 한번에 이해 한다는 것은 불가능 합니다.^^)\n",
    "\n",
    "파이썬은 객체지향, 함수형, 절차형 프로그래밍을 모두 지원합니다. 따라서 여러분이 만들고자 하는 프로그램이 함수형으로 설계해도 동작에 전혀 불편함이 없다면 객체 지향 프로그램밍을 할 필요는 없습니다. 그러나 GUI, 시각화(Plotting), 딥러닝의 Networkt설계등에 사용되는 많은 Python기반 Framework에서는 대부분의 코드에 class를 사용해서 프로그래밍 하고 있습니다. "
   ]
  },
  {
   "cell_type": "markdown",
   "execution_count": null,
   "metadata": {},
   "outputs": [],
   "source": [
    "## 2. Class\n",
    "- 클래스는 동작과 상태를 갖는다. \n",
    "    - 동작(Behavior): Methode로 표현, 일명 함수\n",
    "    - 상태(State): 속성(Attribute)로 표현, 일명 변수\n",
    "- 클래스로 객체 만들기: 클래스를 이용하려면 클래스로 객체를 만들어야 한다. \"인스턴스\"\n",
    "- 객체는 동작은 공유하지만 상태는 공유하지 않는다. \n",
    "- 클래스 변수와 인스턴스 변수\n",
    "    - 클래스에 선언된 속성은 클래스 변수라고 하며 이 클래스에 의해 생성된 모든 객체에 대해 같은 속성(값)을 갖는다. \n",
    "    - 객체가 인스턴스화 될 때마다 새로운 값이 할당되며 서로 다른 객체 간에는 속성(값)을 공유 할 수 없다."
   ]
  },
  {
   "cell_type": "markdown",
   "execution_count": null,
   "metadata": {},
   "outputs": [],
   "source": [
    "### Step1: class 키워드와 class 선언\n",
    "클래스 만드는 방법은 class 키워드를 이용합니다. </br>\n",
    "아래 코드는 간단한 클래스를 만드는 예제로 Car라는 이름의 클래스를 만들었습니다.  "
   ]
  },
  {
   "cell_type": "code",
   "execution_count": 74,
   "metadata": {},
   "outputs": [],
   "source": [
    "class Car:\n",
    "    pass"
   ]
  },
  {
   "cell_type": "markdown",
   "execution_count": null,
   "metadata": {},
   "outputs": [],
   "source": [
    "### Step2: class 사용 - instance\n",
    "클래스를 사용하려면 클래스로 객체를 만들어 주어야 합니다. 클래스에 의해 만들어진 객체를 인스턴스 객체라고 합니다. 다른말로 인스턴스화 라고 하기도 합니다. </br> \n",
    "객체는 어떻게 만들죠? 변수에 할당하죠 아래 예제 코드는 mycar라는 변수에 Car클래스를 할당하는 예제 입니다. "
   ]
  },
  {
   "cell_type": "code",
   "execution_count": null,
   "metadata": {},
   "outputs": [],
   "source": [
    "mycar = Car()"
   ]
  },
  {
   "cell_type": "markdown",
   "metadata": {},
   "source": [
    "클래스를 이용해 객체를 만들 때에는 클래스명에 소괄호를 붙입니다. Car() </br>\n",
    "이는 함수를 호출하는것과 매우 비슷한데요. 나중에 언급하겠지만 클래스에서도 상속을 사용할 때는 클래스를 선언할 때 소괄호를 붙이기도 하고, 초기값을 설정할 때 인스턴스화시 인자를 전달하기도 합니다. \n",
    "즉, 클래스를 만들기에 따라 이런 Car(30, 'a')이렇게 인스턴스를 만들 때도 있단 뜻입니다. \n",
    "함수와 매우 비슷하죠? \n",
    "따라서 Python에서 클래스는 카멜케이스에 따라 클래스 명을 쓸 것을 권장합니다. (함수는 스네이크 케이스) 입니다. \n",
    "카멜케이스는 앞글자를 대문자로 쓰는 것이고 스네이크 케이스는 소문자로 쓰고 단어의 연결할때 언더바(_)를 붙이는 것입니다. \n",
    "- newcar를 카멜케이스 쓰면: NewCar이고요\n",
    "- newcar를 스네이크케이스로 쓰면: new_car 입니다. \n",
    "\n",
    "- 더 자세한 규약을 알고 싶다면, PEP08의 Naming Convention을 참고해 보세요. \n",
    "https://www.python.org/dev/peps/pep-0008/"
   ]
  },
  {
   "cell_type": "markdown",
   "metadata": {},
   "source": [
    "### Step3: class의 속성과 메소드\n",
    "처음에 클래스는 동작과 상태를 갖는다고 했는데요 \n",
    "- 클래스의 동작은 Method(메소드)로 나타내고 이는 클래스 내에 def키워드를 써서 함수를 정의함으로써 나타냅니다.  \n",
    "- 클래스의 상태는 Attribute(속성)으로 나타내고 이는 변수로 표현하고 클래스의 변수로 나타냅니다. "
   ]
  },
  {
   "cell_type": "markdown",
   "metadata": {},
   "source": [
    "다시 Car 클래스로 돌아가서 색상을 red, 종류는 sports car라는 속성을 갖고 동작으로는 주행과 가속이라는 동작을 갖는 클래스를 정의해 보겠습니다. \n",
    "- 속성\n",
    "    - 속성은 변수로 나타낼 수 있기 때문에 변수명 color에는 'red'를 변수명 category에는 'sports car'를 할당합니다. \n",
    "- 메서드\n",
    "    - 동작은 메서드로 나타내고 메서드 선언은 함수와 똑같이 def 키워드를 이용합니다. \n",
    "    - 클래스의 메서드에서 첫번째 인자로 꼭 self를 써야 하는데요 self에 대한 설명은 나중에 하겠습니다. \n",
    "    - 주행은 drive라는 메서드명으로 정의하고 현재 스피드(current_speed)를 인자로 받습니다. \n",
    "    - 가속은 accelerate라는 메서드명으로 정의하고 얼만큼 가속할지를 인자로 받습니다. 인자명: speed_up\n",
    "\n",
    "    \n",
    "아래는 위에 설명한 부분을 코드로 작성한 것입니다. "
   ]
  },
  {
   "cell_type": "code",
   "execution_count": 54,
   "metadata": {},
   "outputs": [],
   "source": [
    "class Car:\n",
    "    color = 'red'\n",
    "    category = 'sports car'\n",
    "    def drive(self):\n",
    "        print(\"I'm driving\")\n",
    "    def accelerate(self, speed_up, current_speed=10):\n",
    "        self.speed_up = speed_up\n",
    "        self.current_speed = current_speed + speed_up\n",
    "        print(\"speed up\", self.speed_up, \",\", \"driving at\", self.current_speed)"
   ]
  },
  {
   "cell_type": "code",
   "execution_count": 55,
   "metadata": {},
   "outputs": [],
   "source": [
    "mycar = Car()명"
   ]
  },
  {
   "cell_type": "markdown",
   "metadata": {},
   "source": [
    "### Step3 - 1 : 클래스의 속성과 메서드에 접근하는 벙법 \n",
    "클래스의 속성과 메서드에 접근하는 방법을 알아보겠습니다.</br>\n",
    "결론부터 말씀드리면 \".메서드 명(), .속성명\" 이렇게 입력하면 됩니다.  "
   ]
  },
  {
   "cell_type": "code",
   "execution_count": 56,
   "metadata": {},
   "outputs": [
    {
     "data": {
      "text/plain": "'red'"
     },
     "execution_count": 56,
     "metadata": {},
     "output_type": "execute_result"
    }
   ],
   "source": [
    "mycar.color"
   ]
  },
  {
   "cell_type": "code",
   "execution_count": 57,
   "metadata": {},
   "outputs": [
    {
     "data": {
      "text/plain": "'sports car'"
     },
     "execution_count": 57,
     "metadata": {},
     "output_type": "execute_result"
    }
   ],
   "source": [
    "mycar.category"
   ]
  },
  {
   "cell_type": "code",
   "execution_count": 58,
   "metadata": {},
   "outputs": [
    {
     "name": "stdout",
     "output_type": "stream",
     "text": "I'm driving\n"
    }
   ],
   "source": [
    "mycar.drive()"
   ]
  },
  {
   "cell_type": "code",
   "execution_count": 59,
   "metadata": {},
   "outputs": [
    {
     "name": "stdout",
     "output_type": "stream",
     "text": "speed up 5 , driving at 15\n"
    }
   ],
   "source": [
    "mycar.accelerate(5)"
   ]
  },
  {
   "cell_type": "markdown",
   "metadata": {},
   "source": [
    "위의 코드에서 인스턴스 객체에 .을 쓰고 그 뒤에 각각 속성명과 메서드 명을 입력합니다. \n",
    "- 메서드는 함수입니다. (클래스 내에 정의된 함수) 따라서 소괄호()를 적어 주어야 합니다. \n",
    "- 메서드에는 무조건 self라는 인자를 적어주어야 하지만 메서드를 호출할 때 self인자는 입력하지 않아도 됩니다.  \n",
    "- accelerate메서드는 speed_up과 current_speed인자를 받게끔 되어 있습니다. current_speed는 기본값이 설정되어 있기 때문에 위의 예제에서는 speed_up인자만 할당하였습니다. "
   ]
  },
  {
   "cell_type": "markdown",
   "metadata": {},
   "source": [
    "### Step3-2 : self\n",
    "- self? 이제 self에 대해서 알아 봅시다. \n",
    "    - self란 자기 자신입니다. \n",
    "    - 즉, 클래스에 의해 생성된 객체 (인스턴스)를 가리킵니다.  \n",
    "    - 클래스의 메서드는 인자로 무조건 인스턴스를 받아야 합니다. \n",
    "    - 메서드를 호출할 때는 굳이 self인자를 써주지 않아도 됩니다. self의 값은 인터프리터가 제공합니다.\n",
    "    - *(메서드를 호출할 때 인터프리터가 현재 객체를 self에 할당합니다.)\n",
    "    - *(맨 처음에 설명한 내용으로 잠시 돌아가면, 파이썬은 인터프리터 언어이고 인터프리터에 의해 코드를 실행시키죠. 즉, 코드를 실행 시킬 때 메서드의 첫번째 인자인 self값을 할당해 줍니다.) \n",
    "- 그러면 메서드안의 변수에는 왜 self.이라는 접두사를 붙일까요?\n",
    "    - 클래스는 메서드는 다른 객체와 공유하지만 속성은 다른 객체와 공유하지 않는다고 했습니다. \n",
    "    - 객체안의 변수는 속성이므로 객체 각각의 속성값으로 구분을 지어주어야 합니다. 이는 클래스로 만든 객체 각각의 고유한 값이기 때문에 메서드안의 변수가 속성을 정의할 때는 self.이라는 접두사를 붙여 주어야 합니다. \n",
    "    - 조금 헷갈린다면, 여기서 self.은 \"객체의\" 위 코드에서는 mycar의 라고 생각해 보세요 (*mycar의 speed_up은 함수의 인자로 받은 speed_up)   "
   ]
  },
  {
   "cell_type": "markdown",
   "metadata": {},
   "source": [
    "### 인터프리터가 \"self\"에 대해 하는일 \n",
    "- 다시, 인터프리터가 메서드를 호출할 때 self객체를 할당해 준다고 했는데요, 인터프리터가 self에 대해 하는 일은 다음과 같습니다. \n",
    "- mycar.drive()를 예시로 들겠습니다.    \n",
    "    - mycar객체의 Car클래스 찾는다. \n",
    "    - mycar객체를 Car클래스의 drive()메서드의 self매개변수에 전달한다. \n",
    "    - mycar객체가 self매개변수에 할당되어 인자로써 동작한다. "
   ]
  },
  {
   "cell_type": "markdown",
   "metadata": {},
   "source": [
    "### 에러를 확인해 보세요\n",
    "메서드 안의 변수에 self.이라는 접두사를 붙이지 않으면 에러가 납니다. \n",
    "직접 확인해 보세요!"
   ]
  },
  {
   "cell_type": "code",
   "execution_count": 67,
   "metadata": {},
   "outputs": [],
   "source": [
    "class Car:\n",
    "    color = 'red'\n",
    "    category = 'sports car'\n",
    "    def drive(self):\n",
    "        print(\"I'm driving\")\n",
    "    def accelerate(self, speed_up, current_speed=10):\n",
    "        speed_up = speed_up\n",
    "        self.current_speed = current_speed + speed_up\n",
    "        print(\"speed up\", self.speed_up, \",\", \"driving at\", self.current_speed)"
   ]
  },
  {
   "cell_type": "code",
   "execution_count": 69,
   "metadata": {},
   "outputs": [
    {
     "ename": "AttributeError",
     "evalue": "'Car' object has no attribute 'speed_up'",
     "output_type": "error",
     "traceback": [
      "\u001b[0;31m---------------------------------------------------------------------------\u001b[0m",
      "\u001b[0;31mAttributeError\u001b[0m                            Traceback (most recent call last)",
      "\u001b[0;32m<ipython-input-69-97244859c6a8>\u001b[0m in \u001b[0;36m<module>\u001b[0;34m\u001b[0m\n\u001b[1;32m      1\u001b[0m \u001b[0mmycar\u001b[0m \u001b[0;34m=\u001b[0m \u001b[0mCar\u001b[0m\u001b[0;34m(\u001b[0m\u001b[0;34m)\u001b[0m\u001b[0;34m\u001b[0m\u001b[0;34m\u001b[0m\u001b[0m\n\u001b[0;32m----> 2\u001b[0;31m \u001b[0mmycar\u001b[0m\u001b[0;34m.\u001b[0m\u001b[0maccelerate\u001b[0m\u001b[0;34m(\u001b[0m\u001b[0;36m20\u001b[0m\u001b[0;34m)\u001b[0m\u001b[0;34m\u001b[0m\u001b[0;34m\u001b[0m\u001b[0m\n\u001b[0m",
      "\u001b[0;32m<ipython-input-67-307c5016d088>\u001b[0m in \u001b[0;36maccelerate\u001b[0;34m(self, speed_up, current_speed)\u001b[0m\n\u001b[1;32m      7\u001b[0m         \u001b[0mspeed_up\u001b[0m \u001b[0;34m=\u001b[0m \u001b[0mspeed_up\u001b[0m\u001b[0;34m\u001b[0m\u001b[0;34m\u001b[0m\u001b[0m\n\u001b[1;32m      8\u001b[0m         \u001b[0mself\u001b[0m\u001b[0;34m.\u001b[0m\u001b[0mcurrent_speed\u001b[0m \u001b[0;34m=\u001b[0m \u001b[0mcurrent_speed\u001b[0m \u001b[0;34m+\u001b[0m \u001b[0mspeed_up\u001b[0m\u001b[0;34m\u001b[0m\u001b[0;34m\u001b[0m\u001b[0m\n\u001b[0;32m----> 9\u001b[0;31m         \u001b[0mprint\u001b[0m\u001b[0;34m(\u001b[0m\u001b[0;34m\"speed up\"\u001b[0m\u001b[0;34m,\u001b[0m \u001b[0mself\u001b[0m\u001b[0;34m.\u001b[0m\u001b[0mspeed_up\u001b[0m\u001b[0;34m,\u001b[0m \u001b[0;34m\",\"\u001b[0m\u001b[0;34m,\u001b[0m \u001b[0;34m\"driving at\"\u001b[0m\u001b[0;34m,\u001b[0m \u001b[0mself\u001b[0m\u001b[0;34m.\u001b[0m\u001b[0mcurrent_speed\u001b[0m\u001b[0;34m)\u001b[0m\u001b[0;34m\u001b[0m\u001b[0;34m\u001b[0m\u001b[0m\n\u001b[0m",
      "\u001b[0;31mAttributeError\u001b[0m: 'Car' object has no attribute 'speed_up'"
     ]
    }
   ],
   "source": [
    "mycar = Car()\n",
    "mycar.accelerate(20)"
   ]
  },
  {
   "cell_type": "markdown",
   "metadata": {},
   "source": [
    "- AttributeError가 발생했습니다: 인자를 할당해 주었음에도 불구하고 인터프리터는 속성에 접근할 수 없다 (속성이 없다고) 말하고 있네요. \n",
    "- 여기서 클래스의 특성 메서드는 공유하지만 속성은 공유하지 않기때문에. 따라서 메서드안의 속성을 정의할 때에는 꼭 self.을 적어 주어야 합니다. \n",
    "- AttributeError는 유효하지 않은 값을 할당하거나 attrigute에 할당을 실패한 경우 발생합니다. 자세한 내용은 아래 블로그 글을 참고해 보세요\n",
    "https://airbrake.io/blog/python-exception-handling/attributeerror"
   ]
  },
  {
   "cell_type": "markdown",
   "metadata": {},
   "source": [
    "### Step3-3 : 생성자 (```__init__```)\n",
    "- 클래스에 의해 만든 인스턴스 객체의 속성값을 사용자가 초기화 할 수는 없을까?\n",
    "    - 다시 Car클래스로 돌아가서 이야기 해보면   \n",
    "    ```\n",
    "    class Car:\n",
    "        color = 'red'\n",
    "        category = 'sports car'\n",
    "        def drive(self):\n",
    "            print(\"I'm driving\")\n",
    "        def accelerate(self, speed_up, current_speed=10):\n",
    "            self.speed_up = speed_up\n",
    "            self.current_speed = current_speed + speed_up\n",
    "            print(\"speed up\", self.speed_up, \",\", \"driving at\", self.current_speed)\n",
    "    ```\n",
    "    - Car클래스에 의해 만들어진 객체는 속성이 color과 category입니다. 이값을 객체마다 다르게 나타내고 싶을 때는 어떻게 할까요?\n",
    "    - 다른 OOP언어를 알고있는 독자라면 '생성자'라는 말을 생각할 것입니다. 다른 언어에서는 객체가 처음 만들어졌을 때 생성자를 이용해 객체 인스턴스화와 속성 초기화의 작업을 합니다. \n",
    "    - 파이썬도 생성자가 있습니다. 그러나 파이썬에서는 객체 인스턴스화는 변수 할당을 통해 이루어지므로 파이썬의 생성자는 속성 초기화만을 수행 합니다. \n",
    "- 매직 메서드 ```__init__``` (던더 이닛 이라고 발음해요)\n",
    "    - 파이썬에서 속성 초기화는 ```__init__```이라는 매직 메서드로 처리할 수 있습니다.\n",
    "    - 매직 메서드란 변수명의 앞 뒤에 언더바가 두개씩 있는 메서드를 가리킵니다. 매직 메서드의 종류는 ```__init__``` 말고도 여러가지가 있습니다. \n",
    "    - 모든 클래스는 표준 던더 메서드(매직 메서드)를 이용할 수 있으며, 여기서는 속성 초기화를 위한 매직 메서드 ```__init__```만을 설명하겠습니다.\n",
    "    - 매직 메서드에 대해 더 알아보고 싶은 분은 여기 링크를 참고해 보세요 https://rszalski.github.io/magicmethods/ "
   ]
  },
  {
   "cell_type": "markdown",
   "metadata": {},
   "source": [
    "```__init__```은 아래와 같이 사용합니다."
   ]
  },
  {
   "cell_type": "code",
   "execution_count": 82,
   "metadata": {},
   "outputs": [],
   "source": [
    "class Car:\n",
    "    def __init__(self):\n",
    "        pass"
   ]
  },
  {
   "cell_type": "markdown",
   "metadata": {},
   "source": [
    "\"매직 메서드\" 메서드 이므로 class안에 선언되어 저야 하고 인자로는 self를 받습니다.  "
   ]
  },
  {
   "cell_type": "code",
   "execution_count": 86,
   "metadata": {},
   "outputs": [],
   "source": [
    "class Car:\n",
    "    def __init__(self, color:str, category:str):\n",
    "        self.color = color\n",
    "        self.category = category"
   ]
  },
  {
   "cell_type": "markdown",
   "metadata": {},
   "source": [
    "초기화할 인자를 self.color, self.category로 정의 합니다.  \n",
    "그리고 이 초기화 값은 ```__init__```메서드의 인자에서 전달 받습니다. \n",
    "(그리고 위 코드에서는 함수의 어노테이션을 사용해 보았어요, 어노테이션은 선택 사항입니다.)"
   ]
  },
  {
   "cell_type": "markdown",
   "metadata": {},
   "source": [
    " 그럼 클래스로 객체를 만들 때 어떤 일이 벌어 질까요? \n",
    " \n",
    " Car()이렇게 동일하게 쓰고 초기값의 인자를 넣어 주어야 합니다. "
   ]
  },
  {
   "cell_type": "code",
   "execution_count": 91,
   "metadata": {},
   "outputs": [],
   "source": [
    "mycar = Car('white', 'sedan')"
   ]
  },
  {
   "cell_type": "code",
   "execution_count": 92,
   "metadata": {},
   "outputs": [
    {
     "data": {
      "text/plain": "'white'"
     },
     "execution_count": 92,
     "metadata": {},
     "output_type": "execute_result"
    }
   ],
   "source": [
    "mycar.color"
   ]
  },
  {
   "cell_type": "code",
   "execution_count": 93,
   "metadata": {},
   "outputs": [
    {
     "data": {
      "text/plain": "'sedan'"
     },
     "execution_count": 93,
     "metadata": {},
     "output_type": "execute_result"
    }
   ],
   "source": [
    "mycar.category"
   ]
  },
  {
   "cell_type": "markdown",
   "metadata": {},
   "source": [
    "초기값을 이용해 Car클래스를 다시 정의해 보았습니다. "
   ]
  },
  {
   "cell_type": "code",
   "execution_count": 124,
   "metadata": {},
   "outputs": [],
   "source": [
    "class Car:\n",
    "    def __init__(self, color, category, speed_limit=200):\n",
    "        self.color = color\n",
    "        self.category = category\n",
    "        self.speed_limit = speed_limit\n",
    "    def drive(self):\n",
    "        print(\"I'm driving\")\n",
    "    def accelerate(self, speed_up):\n",
    "        self.current_speed = speed_up\n",
    "        self.speed_up = speed_up\n",
    "        while self.current_speed <= self.speed_limit:\n",
    "            print(\"speed up\", self.speed_up, \",\", \"driving at\", self.current_speed)\n",
    "            self.current_speed += speed_up"
   ]
  },
  {
   "cell_type": "code",
   "execution_count": 125,
   "metadata": {},
   "outputs": [],
   "source": [
    "a = Car('red', 'sedan', 100)"
   ]
  },
  {
   "cell_type": "code",
   "execution_count": 126,
   "metadata": {},
   "outputs": [
    {
     "name": "stdout",
     "output_type": "stream",
     "text": "speed up 20 , driving at 20\nspeed up 20 , driving at 40\nspeed up 20 , driving at 60\nspeed up 20 , driving at 80\nspeed up 20 , driving at 100\n"
    }
   ],
   "source": [
    "a.accelerate(20)"
   ]
  },
  {
   "cell_type": "markdown",
   "metadata": {},
   "source": [
    "### Step4: 클래스의 변수\n",
    "- 클래스의 변수에는 클래스 변수와 인스턴스 변수가 있습니다. "
   ]
  },
  {
   "cell_type": "code",
   "execution_count": 136,
   "metadata": {},
   "outputs": [],
   "source": [
    "class Book:\n",
    "    book_materials = 'papers'\n",
    "    def __init__(self, name):\n",
    "        self.name = name\n",
    "    def read_book(self):\n",
    "        print(self.name + 'is reading book!!')"
   ]
  },
  {
   "cell_type": "code",
   "execution_count": 137,
   "metadata": {},
   "outputs": [],
   "source": [
    "peter = Book('peter')"
   ]
  },
  {
   "cell_type": "code",
   "execution_count": 138,
   "metadata": {},
   "outputs": [
    {
     "data": {
      "text/plain": "'peter'"
     },
     "execution_count": 138,
     "metadata": {},
     "output_type": "execute_result"
    }
   ],
   "source": [
    "peter.name"
   ]
  },
  {
   "cell_type": "code",
   "execution_count": 132,
   "metadata": {},
   "outputs": [
    {
     "name": "stdout",
     "output_type": "stream",
     "text": "peteris reading book!!\n"
    }
   ],
   "source": [
    "peter.read_book()"
   ]
  },
  {
   "cell_type": "markdown",
   "metadata": {},
   "source": [
    "위 예제에서 book_material을 클래스 변수, name은 인스턴스 변수입니다. </br>\n",
    "생성자 함수 안에 선언된 변수를 instance변수라고 하고, 인스턴스 변수는 객체마다 다르게 할당 할 수 있습니다. \n",
    "- 즉, book_material은 Book이라는 클래스에 의해 생성된 모든 객체가 갖는 변수입니다. \n",
    "- name은 Book이라는 클래스에 객체의 초기값으로 들어가기 때문에 객체마다 다르게 설정 할 수 있습니다. "
   ]
  },
  {
   "cell_type": "code",
   "execution_count": 140,
   "metadata": {},
   "outputs": [],
   "source": [
    "Jhon = Book('Jhon')"
   ]
  },
  {
   "cell_type": "code",
   "execution_count": 141,
   "metadata": {},
   "outputs": [
    {
     "data": {
      "text/plain": "'papers'"
     },
     "execution_count": 141,
     "metadata": {},
     "output_type": "execute_result"
    }
   ],
   "source": [
    "Jhon.book_materials"
   ]
  },
  {
   "cell_type": "code",
   "execution_count": 144,
   "metadata": {},
   "outputs": [
    {
     "data": {
      "text/plain": "'papers'"
     },
     "execution_count": 144,
     "metadata": {},
     "output_type": "execute_result"
    }
   ],
   "source": [
    "peter.book_materials"
   ]
  },
  {
   "cell_type": "markdown",
   "metadata": {},
   "source": [
    "peter와 Jhon의 book_materials변수에 접근했더니 값이 같네요. 이름이란 변수도 같을까요?"
   ]
  },
  {
   "cell_type": "code",
   "execution_count": 143,
   "metadata": {},
   "outputs": [
    {
     "data": {
      "text/plain": "'Jhon'"
     },
     "execution_count": 143,
     "metadata": {},
     "output_type": "execute_result"
    }
   ],
   "source": [
    "Jhon.name"
   ]
  },
  {
   "cell_type": "code",
   "execution_count": 146,
   "metadata": {},
   "outputs": [
    {
     "data": {
      "text/plain": "'peter'"
     },
     "execution_count": 146,
     "metadata": {},
     "output_type": "execute_result"
    }
   ],
   "source": [
    "peter.name"
   ]
  },
  {
   "cell_type": "markdown",
   "metadata": {},
   "source": [
    "### step5: 상속\n",
    "- 기존 클래스에 필요한 기능을 추가할 때 어떻게 해야 할까?\n",
    "- 예로, 어떤 클래스에 메서드가 총 5가지가 있다고 해보자. 이 클래스에 새로운 기능을 추가하거나 혹은 1가지 기능만을 빼고 싶을 때, 어떻게 해야 할까?\n",
    "- 우리는 상속이란 클래스의 기능을 통해 클래스의 일부를 추가하거나 변경할 수 있습니다.\n",
    "- 상속을 함으로써 클래스 코드를 재사용(reuse)할 수 있습니다. \n",
    "    - Clean Code: 우리는 코드 동일한 코드가 반복되면, 다시 그 코드를 치는 것이아니라 함수를 이용해 코드를 묶어주고 함수를 호출해서 사용 즉, reuse해서 사용하죠? 상속역시 clean code관점에서 유용한 기법 입니다."
   ]
  },
  {
   "cell_type": "markdown",
   "metadata": {},
   "source": [
    "위에 정의한 Car클래스를 상속해서 새로운 클래스인 NewCar라는 클래스를 정의해 보겠습니다. "
   ]
  },
  {
   "cell_type": "code",
   "execution_count": 148,
   "metadata": {},
   "outputs": [],
   "source": [
    "class NewCar(Car):\n",
    "    pass"
   ]
  },
  {
   "cell_type": "markdown",
   "metadata": {},
   "source": [
    "클래스를 선언하는 방법은 똑같고 클래스명 옆에 소괄호를 추가하여 상속 받고자 하는 클래스 명을 기입해주면 됩니다. "
   ]
  },
  {
   "cell_type": "code",
   "execution_count": 156,
   "metadata": {},
   "outputs": [],
   "source": [
    "yourcar = NewCar('blue','truck', 100)"
   ]
  },
  {
   "cell_type": "code",
   "execution_count": 157,
   "metadata": {},
   "outputs": [
    {
     "data": {
      "text/plain": "'blue'"
     },
     "execution_count": 157,
     "metadata": {},
     "output_type": "execute_result"
    }
   ],
   "source": [
    "yourcar.color"
   ]
  },
  {
   "cell_type": "code",
   "execution_count": 158,
   "metadata": {},
   "outputs": [
    {
     "name": "stdout",
     "output_type": "stream",
     "text": "speed up 30 , driving at 30\nspeed up 30 , driving at 60\nspeed up 30 , driving at 90\n"
    }
   ],
   "source": [
    "yourcar.accelerate(30)"
   ]
  },
  {
   "cell_type": "markdown",
   "metadata": {},
   "source": [
    "NewCar클래스에는 아무것도 기입하지 않았는데, NewCar클래스로 만들어진 객체 yourcar는 Car클래스와 동일한 메서드와 속성을 이용할 수 있음을 알 수 있습니다. \n",
    "이렇듯 상속으로 클래스의 기능을 재사용 할 수 있습니다.\n",
    "\n",
    "\n",
    "- Car클래스는 기존 클래스로 NewCar에 상속을 해 주었습니다. \n",
    "    - 상속해준 기존의 클래스는 부모 클래스(parent class), 슈퍼 클래스(super class), 베이스 클래스(base class)라고 합니다. \n",
    "- NewCar클래스는 재정의한 클래스입니다. \n",
    "    - 상속 받은 새 클래스는 자식 클래스(child class), 서브 클래스(sub class), 파생된 클래스(derived class)라고 합니다. "
   ]
  },
  {
   "cell_type": "markdown",
   "metadata": {},
   "source": [
    "Step5-1: 메서드 재정의(오버라이드), 메서드 추가하기\n",
    "- Truck이란 클래스를 Car클래스를 상속받고 여기에 spec이란 메서드만 추가해 보겠습니다. "
   ]
  },
  {
   "cell_type": "code",
   "execution_count": 181,
   "metadata": {},
   "outputs": [],
   "source": [
    "class Truck(Car):\n",
    "    def spec(self):\n",
    "        self.price = 3000\n",
    "        self.weight = 1\n",
    "        print(self.price,'만원',\",\",self.weight,'톤')"
   ]
  },
  {
   "cell_type": "code",
   "execution_count": 182,
   "metadata": {},
   "outputs": [],
   "source": [
    "yourcar = Truck('blue','truck', 100)"
   ]
  },
  {
   "cell_type": "code",
   "execution_count": 183,
   "metadata": {},
   "outputs": [
    {
     "name": "stdout",
     "output_type": "stream",
     "text": "3000 만원 , 1 톤\n"
    }
   ],
   "source": [
    "yourcar.spec()"
   ]
  },
  {
   "cell_type": "code",
   "execution_count": 184,
   "metadata": {},
   "outputs": [
    {
     "name": "stdout",
     "output_type": "stream",
     "text": "speed up 30 , driving at 30\nspeed up 30 , driving at 60\nspeed up 30 , driving at 90\n"
    }
   ],
   "source": [
    "yourcar.accelerate(30)"
   ]
  },
  {
   "cell_type": "code",
   "execution_count": 186,
   "metadata": {},
   "outputs": [
    {
     "name": "stdout",
     "output_type": "stream",
     "text": "I'm driving\n"
    }
   ],
   "source": [
    "yourcar.drive()"
   ]
  },
  {
   "cell_type": "markdown",
   "metadata": {},
   "source": [
    "위에 drive,accelerate 메서드를 정의해 주지 않았지만 이용이 가능합니다. Car클래스를 상속받았고, 그 기능을 그대로 수행하고 있습니다. "
   ]
  },
  {
   "cell_type": "markdown",
   "metadata": {},
   "source": [
    "- 상속 받은 후 메서드를 재정의 할 수도 있습니다. "
   ]
  },
  {
   "cell_type": "code",
   "execution_count": 192,
   "metadata": {},
   "outputs": [],
   "source": [
    "class Truck(Car):\n",
    "    def spec(self):\n",
    "        self.price = 3000\n",
    "        self.weight = 1\n",
    "        print(self.price,'만원',\",\",self.weight,'톤')\n",
    "    def drive(self):\n",
    "        self.basic_speed = int(self.speed_limit / 3)\n",
    "        print(\"driving at\", self.basic_speed, 'km/h')"
   ]
  },
  {
   "cell_type": "code",
   "execution_count": 193,
   "metadata": {},
   "outputs": [],
   "source": [
    "yourcar = Truck('blue','truck', 100)"
   ]
  },
  {
   "cell_type": "code",
   "execution_count": 194,
   "metadata": {},
   "outputs": [
    {
     "name": "stdout",
     "output_type": "stream",
     "text": "driving at 33 km/h\n"
    }
   ],
   "source": [
    "yourcar.drive()"
   ]
  },
  {
   "cell_type": "code",
   "execution_count": null,
   "metadata": {},
   "outputs": [],
   "source": []
  },
  {
   "cell_type": "code",
   "execution_count": null,
   "metadata": {},
   "outputs": [],
   "source": []
  },
  {
   "cell_type": "code",
   "execution_count": null,
   "metadata": {},
   "outputs": [],
   "source": []
  },
  {
   "cell_type": "code",
   "execution_count": null,
   "metadata": {},
   "outputs": [],
   "source": []
  },
  {
   "cell_type": "code",
   "execution_count": null,
   "metadata": {},
   "outputs": [],
   "source": []
  },
  {
   "cell_type": "code",
   "execution_count": null,
   "metadata": {},
   "outputs": [],
   "source": []
  },
  {
   "cell_type": "code",
   "execution_count": null,
   "metadata": {},
   "outputs": [],
   "source": []
  },
  {
   "cell_type": "code",
   "execution_count": null,
   "metadata": {},
   "outputs": [],
   "source": []
  }
 ]
}