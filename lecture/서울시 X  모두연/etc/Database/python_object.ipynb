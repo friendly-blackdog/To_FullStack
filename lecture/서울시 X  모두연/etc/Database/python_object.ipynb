{
 "nbformat": 4,
 "nbformat_minor": 2,
 "metadata": {
  "language_info": {
   "name": "python",
   "codemirror_mode": {
    "name": "ipython",
    "version": 3
   },
   "version": "3.7.4-final"
  },
  "orig_nbformat": 2,
  "file_extension": ".py",
  "mimetype": "text/x-python",
  "name": "python",
  "npconvert_exporter": "python",
  "pygments_lexer": "ipython3",
  "version": 3,
  "kernelspec": {
   "name": "python37464bit0d9ff674201c47f98c8e18ab917eae56",
   "display_name": "Python 3.7.4 64-bit"
  }
 },
 "cells": [
  {
   "cell_type": "markdown",
   "metadata": {},
   "source": [
    "## Python3 and Unicode\n",
    "\n",
    "- In Python3, all strings internally are UNICODE. \n",
    "\n",
    "- Working with string variables in Python programs and reading data from files usually 'just works'\n",
    "\n",
    "- When we talk to a network resource using sockets or talk to a database we have to encode and decode data (usually to UTF-8)"
   ]
  },
  {
   "cell_type": "markdown",
   "metadata": {},
   "source": [
    "## Python Strings to Bytes\n",
    "\n",
    "- When we talk to an external resource like a network socket we sends bytes. so we need to encode Python3 string into a given character encoding \n",
    "\n",
    "- When we read data from an external resource, we must decode it based on the character set so it is properly represented in Python 3 as string "
   ]
  },
  {
   "cell_type": "code",
   "execution_count": 4,
   "metadata": {},
   "outputs": [
    {
     "output_type": "execute_result",
     "data": {
      "text/plain": "45"
     },
     "metadata": {},
     "execution_count": 4
    }
   ],
   "source": [
    "import socket\n",
    "\n",
    "mysock = socket.socket(socket.AF_INET, socket.SOCK_STREAM)\n",
    "mysock.connect(('data.pr4e.org',80))\n",
    "cmd = 'GET http://data.pr4e.org/romeo/txt HTTP/1.0\\n\\n'.encode()\n",
    "mysock.send(cmd)"
   ]
  },
  {
   "cell_type": "code",
   "execution_count": 5,
   "metadata": {},
   "outputs": [
    {
     "output_type": "stream",
     "name": "stdout",
     "text": "HTTP/1.1 404 Not Found\nDate: Wed, 08 Apr 2020 22:43:26 GMT\nServer: Apache/2.4.18 (Ubuntu)\nContent-Type: text/html; charset=iso-8859-1\nContent-Length: 286\nConnection: close\n\n<!DOCTYPE HTML PUBLIC \"-//IETF//DTD HTML 2.0//EN\">\n<html><head>\n<title>404 Not Found</title>\n</head><body>\n<h1>Not Found</h1>\n<p>The requested URL /romeo/txt was not found on this server.</p>\n<hr>\n<address>Apache/2.4.18 (Ubuntu) Server at data.pr4e.org Port 80</address>\n</body></html>\n\n"
    }
   ],
   "source": [
    "while True:\n",
    "    data = mysock.recv(512)\n",
    "    if (len(data) < 1):\n",
    "        break\n",
    "    print(data.decode())\n",
    "mysock.close()"
   ]
  },
  {
   "cell_type": "code",
   "execution_count": 8,
   "metadata": {},
   "outputs": [
    {
     "output_type": "stream",
     "name": "stdout",
     "text": "[11]\n"
    }
   ],
   "source": [
    "test =[[4,5,6],[7,8,9],[10,11,12]]\n",
    "test = test[-1][1:2]\n",
    "print(test)"
   ]
  },
  {
   "cell_type": "markdown",
   "metadata": {},
   "source": [
    "## Object Oriented Programming\n",
    "\n",
    "- Beutiful Soup returns soup object\n",
    "- Definitions & Mechanics for object\n",
    "- much more \"How it works\" less than \"How to use\"\n"
   ]
  },
  {
   "cell_type": "markdown",
   "metadata": {},
   "source": [
    "hiding abstraction, there's a lot of words that we use to"
   ]
  },
  {
   "cell_type": "markdown",
   "metadata": {},
   "source": [
    "## Object Oriented\n",
    "\n",
    "- Program is made up of many cooperating objects\n",
    "- Instead of being the \"whole program\" - each object is a little 'island' within the program and cooperatively working with other objects.\n",
    "- A program is made up of one or more objects working together - objects make use of each other's capabilities"
   ]
  },
  {
   "cell_type": "markdown",
   "metadata": {},
   "source": [
    "## Object\n",
    "\n",
    "- An Object is a bit of self-contained Code and data\n",
    "- A key aspect of the Object approach is to break the problem into smaller understandable parts (divide and conquer)\n",
    "- Objects have boundaries that allow us to ignore un-needed detail\n",
    "- We have been using objects all along: String Objects, Integer Objects, Dictionary Objects, List Objects..."
   ]
  },
  {
   "cell_type": "markdown",
   "metadata": {},
   "source": [
    "Some terms that we're going to be using are class, \n",
    "\n",
    "\n",
    "## Definitions\n",
    "\n",
    "Class : a template\n",
    "\n",
    "Method or Message : A defined capability of a class\n",
    "\n",
    "Field or attribute : A bit of data in a class\n",
    "\n",
    "Object or Instance : A particular instance of a class"
   ]
  },
  {
   "cell_type": "markdown",
   "metadata": {},
   "source": [
    "## Terminology: Class\n",
    "\n",
    "Defines the abstract characteristics of a thing(object), including the thing's characteristics (its attributes, fields or properties) and the thing's behaviors (the things it can do, or methods, operations or features).\n",
    "\n",
    "One might say that a class is a blueprint or factory that describes the nature of something. For example, the class Dog would consist of traits shared by all dogs, such as bread and fur color(characteristics), and the ability to dark and sit(behaviors)."
   ]
  },
  {
   "cell_type": "markdown",
   "metadata": {},
   "source": [
    "## Terminology: Instance\n",
    "\n",
    "One can have an instance of a class or a particular object. the instance is the actual object created at runtime. In programmer jargon, the Lassie object is an instance of the Dog class. The set of values of the attributes of a particular object is called its state. The object consists of state and the behavior that's defined in the object's class."
   ]
  },
  {
   "cell_type": "markdown",
   "metadata": {},
   "source": [
    "object and instance are often used interchangeably."
   ]
  },
  {
   "cell_type": "markdown",
   "metadata": {},
   "source": [
    "## Terminology: Method\n",
    "\n",
    "An object's abilities. In language, methods are verbs. Lassie, being a Dog, has the ability to bark. So bark() is one of Lassie's methods. She may have other methods as well, for example sit() or eat() or walk() or save_timmy(). Within the program, using a method usally affects only one particular object.\n",
    "all Dogs can bark, but you need only one particular dog to do the barking"
   ]
  },
  {
   "cell_type": "markdown",
   "metadata": {},
   "source": [
    "Method and Message are often used interchangeably."
   ]
  },
  {
   "cell_type": "code",
   "execution_count": null,
   "metadata": {},
   "outputs": [],
   "source": []
  }
 ]
}