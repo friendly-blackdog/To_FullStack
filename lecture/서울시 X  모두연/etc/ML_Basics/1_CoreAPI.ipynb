{
 "nbformat": 4,
 "nbformat_minor": 2,
 "metadata": {
  "language_info": {
   "name": "python",
   "codemirror_mode": {
    "name": "ipython",
    "version": 3
   },
   "version": "3.7.4-final"
  },
  "orig_nbformat": 2,
  "file_extension": ".py",
  "mimetype": "text/x-python",
  "name": "python",
  "npconvert_exporter": "python",
  "pygments_lexer": "ipython3",
  "version": 3,
  "kernelspec": {
   "name": "python37464bit2ca5af9ea4dd4c818af2de9ba3f7b37b",
   "display_name": "Python 3.7.4 64-bit"
  }
 },
 "cells": [
  {
   "cell_type": "markdown",
   "execution_count": null,
   "metadata": {},
   "outputs": [],
   "source": [
    "# Core API\n",
    "\n",
    "### Scitkit-learn의 기본 API는 공통적으로 무료의 3가지 interface 구성되어 있다.  \n",
    "\n",
    "​\n",
    "\n",
    "\n",
    "• estimator interface: 모델을 설계하고 추정한다. (building & fitting model) \n",
    "\n",
    "• predictor interface: 예측작업을 수행한다 (making predictions)\n",
    "\n",
    "• transformer interface: 데이터를 변환한다 (transformer interface for converting data)"
   ]
  },
  {
   "cell_type": "code",
   "execution_count": 60,
   "metadata": {},
   "outputs": [
    {
     "data": {
      "text/plain": "'0.21.3'"
     },
     "execution_count": 60,
     "metadata": {},
     "output_type": "execute_result"
    }
   ],
   "source": [
    "##Sckit-Learn설치\n",
    "#!pip install sklearn\n",
    "import sklearn\n",
    "sklearn.__version__"
   ]
  },
  {
   "cell_type": "markdown",
   "execution_count": 1,
   "metadata": {},
   "outputs": [
    {
     "ename": "SyntaxError",
     "evalue": "invalid character in identifier (<ipython-input-1-2faaa3474072>, line 3)",
     "output_type": "error",
     "traceback": [
      "\u001b[0;36m  File \u001b[0;32m\"<ipython-input-1-2faaa3474072>\"\u001b[0;36m, line \u001b[0;32m3\u001b[0m\n\u001b[0;31m    ​\u001b[0m\n\u001b[0m    ^\u001b[0m\n\u001b[0;31mSyntaxError\u001b[0m\u001b[0;31m:\u001b[0m invalid character in identifier\n"
     ]
    }
   ],
   "source": [
    "## 1. Data Representation\n",
    "\n",
    "​\n",
    "대부분 머신러닝에서, data는 변수들의 집합으로 구성된다. 예를들어 지도학습의 경우, 목표는 입력 변수(feature,특성이라 부르기도 함) X1, ...Xp를 출력변수 Y로 매핑(mapping)하는 것이다. \n",
    "\n",
    "Input, X = [X1, X2, X3.....Xp] \n",
    "\n",
    "Output, Y = [y]\n",
    "\n",
    "​\n",
    "\n",
    "널리 쓰이는 dataset의 표현방법은 어떤 샘플들의 집합 즉 \"행렬\"로 표현한다. 각각의 행은 하나의 sample 데이터셋에 대응되고 각각의 열은 문제 하나의 변수에 대응할 수 있다.  scikit-learn에서 우리는 dataset의 행렬 표현 방법을 선택 할 수 있다. \n",
    "\n",
    "​\n",
    "\n",
    " - NumPy의 다차원 배열 (multidimensional arrays) (NumPy - Dense array)\n",
    "\n",
    " - SciPy의 희소 행렬(sparse matrices) for sparse data (SciPy - sparse matrices)\n",
    "\n",
    "​\n",
    "\n",
    "물론 이러한 방법은 객체 지향적 방법과는 다소 거리가 있음에도 불구하고, NumPy와 SciPy를 이용한 벡터연산은 코드를 간단하고 쓰기 편하게 한다. 이러한 설계방법은 다른 많은 과학/수학 관련 Python 패키지를 쉽고 친숙하게 사용할 수 있다는 점에서 역시 장점이 된다. \n",
    "\n",
    "​"
   ]
  },
  {
   "cell_type": "code",
   "execution_count": 56,
   "metadata": {},
   "outputs": [],
   "source": [
    "#Data Representation Example"
   ]
  },
  {
   "cell_type": "code",
   "execution_count": 40,
   "metadata": {},
   "outputs": [],
   "source": [
    "import numpy as np\n",
    "r = np.random.RandomState()\n",
    "x_train = 3 * r.rand(20)\n",
    "y_train = 2 * x_train - 1 + r.randn(20)"
   ]
  },
  {
   "cell_type": "code",
   "execution_count": 41,
   "metadata": {},
   "outputs": [
    {
     "data": {
      "text/plain": "(20, 1)"
     },
     "execution_count": 41,
     "metadata": {},
     "output_type": "execute_result"
    }
   ],
   "source": [
    "X_train = x_train[:, np.newaxis]\n",
    "X_train.shape"
   ]
  },
  {
   "cell_type": "code",
   "execution_count": 78,
   "metadata": {},
   "outputs": [
    {
     "data": {
      "text/plain": "(20,)"
     },
     "execution_count": 78,
     "metadata": {},
     "output_type": "execute_result"
    }
   ],
   "source": [
    "y_train.shape"
   ]
  },
  {
   "cell_type": "markdown",
   "execution_count": 2,
   "metadata": {},
   "outputs": [],
   "source": [
    "## 2. Estimator"
   ]
  },
  {
   "cell_type": "markdown",
   "execution_count": 65,
   "metadata": {},
   "outputs": [
    {
     "ename": "SyntaxError",
     "evalue": "invalid syntax (<ipython-input-65-cc7f39f85652>, line 3)",
     "output_type": "error",
     "traceback": [
      "\u001b[0;36m  File \u001b[0;32m\"<ipython-input-65-cc7f39f85652>\"\u001b[0;36m, line \u001b[0;32m3\u001b[0m\n\u001b[0;31m    ```\u001b[0m\n\u001b[0m    ^\u001b[0m\n\u001b[0;31mSyntaxError\u001b[0m\u001b[0;31m:\u001b[0m invalid syntax\n"
     ]
    }
   ],
   "source": [
    "### 1) Build a model\n",
    "\n",
    "```\n",
    "from sklearn.linear_model import LinearRegression\n",
    "clf = LinearRegression(fit_intercept=True)\n",
    "```\n",
    "\n",
    "### 2) fitting a model\n",
    "\n",
    "```\n",
    "clf.fit(X_train, y_train)\n",
    "```"
   ]
  },
  {
   "cell_type": "markdown",
   "execution_count": null,
   "metadata": {},
   "outputs": [],
   "source": [
    "데이터셋을 기반으로 일련의 모델 파라미터들을 추정하는 객체. </br>\n",
    "추정 자체는 fit()메서드에 의해 수행되고 하나의 매개변수로 하나의 데이터셋만 전달합니다. (지도 학습 알고리즘에서는 매개변수가 두 개로, 두 번째 데이터셋은 레이블을 담고 있다.) 추정 과정에서 필요한 다른 매개변수들은 모두 하이퍼파라미터로 간주되고 (예른 들면 imputer객체의 strategy매개변수), 인스턴스 변수로 저장됩니다. (보통 생성자의 매개변수로 전달한다)"
   ]
  },
  {
   "cell_type": "code",
   "execution_count": 63,
   "metadata": {},
   "outputs": [
    {
     "data": {
      "text/plain": "LinearRegression(copy_X=True, fit_intercept=True, n_jobs=None, normalize=False)"
     },
     "execution_count": 63,
     "metadata": {},
     "output_type": "execute_result"
    }
   ],
   "source": [
    "from sklearn.linear_model import LogisticRegression\n",
    "from sklearn.linear_model import LinearRegression\n",
    "#Build a model\n",
    "#모델 객체를 instance화 시킨다.\n",
    "#예제 코드에서는 LinearModel의 LinearRegression모델을 예로 들었다.\n",
    "clf = LinearRegression(fit_intercept=True)\n",
    "clf "
   ]
  },
  {
   "cell_type": "code",
   "execution_count": 67,
   "metadata": {},
   "outputs": [
    {
     "data": {
      "text/plain": "LinearRegression(copy_X=True, fit_intercept=True, n_jobs=None, normalize=False)"
     },
     "execution_count": 67,
     "metadata": {},
     "output_type": "execute_result"
    }
   ],
   "source": [
    "#fit a model\n",
    "clf.fit(X_train,y_train)"
   ]
  },
  {
   "cell_type": "markdown",
   "execution_count": 48,
   "metadata": {},
   "outputs": [],
   "source": [
    "## 3. Predictor"
   ]
  },
  {
   "cell_type": "markdown",
   "execution_count": null,
   "metadata": {},
   "outputs": [],
   "source": [
    "일부 추정기는 주어진 데이터셋에 대해 예측을 만들 수 있다. 예측기의 predict()메서드는 새로운 데이터셋을 받아 이에 상응하는 예측값을 반환 한다."
   ]
  },
  {
   "cell_type": "code",
   "execution_count": 87,
   "metadata": {},
   "outputs": [
    {
     "data": {
      "text/plain": "array([10.96531423,  9.63915163,  3.51498974,  0.12750045,  4.83572863,\n       11.1223257 , -2.58785094,  4.52432473,  9.82459699, 10.11686226,\n        0.63593789,  4.52155435,  4.8405336 ,  9.98102723, -0.21749139,\n        3.39486323, -5.35633892,  5.36102983,  6.33236992,  3.00765065])"
     },
     "execution_count": 87,
     "metadata": {},
     "output_type": "execute_result"
    }
   ],
   "source": [
    "x_test = 3 * x_train - 1 + r.randn(20)\n",
    "x_test = x_test[:, np.newaxis]\n",
    "\n",
    "clf.predict(x_test)"
   ]
  },
  {
   "cell_type": "markdown",
   "execution_count": null,
   "metadata": {},
   "outputs": [],
   "source": [
    "\n",
    "### 4. 기본 철학\n",
    "\n",
    "\n",
    "\n",
    "​\n",
    "∙일관성(Consistency) : 모든 객체가 일관되고 단순한 인터페이스를 공유한다.\n",
    "\n",
    "​\n",
    "\n",
    "∙검사기능(Inspection) : 모든 추정기(estimator)의 하이퍼파라미터는 공개 인스턴스 변수로 직접 접근할 수 있고, 모든 추정기의 학습된 모델 파라미터도 접미사로 밑줄을 붙여서 공개 인스턴스 변수로 제공된다.\n",
    "\n",
    "​\n",
    "\n",
    "∙클래스 남용 방지(Non-proliferation of classes) : 데이터셋을 별도의 클래스가 아니라 넘파이 배열이나 사이파이 희소(sparse)행렬로 표현한다. 하이퍼파라미터는 보통의 파이썬 문자열이나 숫자이다. \n",
    "\n",
    "​\n",
    "\n",
    "∙검사기능(Inspection) : 모든 추정기(estimator)의 하이퍼파라미터는 공개 인스턴스 변수로 직접 접근할 수 있고, 모든 추정기의 학습된 모델 파라미터도 접미사로 밑줄을 붙여서 공개 인스턴스 변수로 제공된다.\n",
    "\n",
    "​\n",
    "\n",
    "∙조합성(Composition) : 기존의 구성요소를 최대한 재사용한다. 여러 개의 변환기(transformer)를 연결한 다음 마지막에 추정기 하나를 배치한 Pipeline추정기를 쉽게 만들 수 있다.\n",
    "\n",
    "​\n",
    "\n",
    "∙합리적인 기본값(Sensible defaults) : 합리적인 기본값"
   ]
  },
  {
   "cell_type": "code",
   "execution_count": null,
   "metadata": {},
   "outputs": [],
   "source": []
  }
 ]
}