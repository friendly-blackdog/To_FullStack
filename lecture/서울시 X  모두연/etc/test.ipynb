{
 "nbformat": 4,
 "nbformat_minor": 2,
 "metadata": {
  "language_info": {
   "name": "python",
   "codemirror_mode": {
    "name": "ipython",
    "version": 3
   },
   "version": "3.8.2-final"
  },
  "orig_nbformat": 2,
  "file_extension": ".py",
  "mimetype": "text/x-python",
  "name": "python",
  "npconvert_exporter": "python",
  "pygments_lexer": "ipython3",
  "version": 3,
  "kernelspec": {
   "name": "python37464bit2ca5af9ea4dd4c818af2de9ba3f7b37b",
   "display_name": "Python 3.7.4 64-bit"
  }
 },
 "cells": [
  {
   "cell_type": "code",
   "execution_count": 17,
   "metadata": {},
   "outputs": [
    {
     "output_type": "stream",
     "name": "stdout",
     "text": "<bound method Employee.salary of <__main__.Employee object at 0x10b9a5130>>\n<bound method Employee.salary of <__main__.Employee object at 0x10b8f5820>>\n<bound method Employee.salary of <__main__.Employee object at 0x10b8f58e0>>\n<bound method Employee.salary of <__main__.Employee object at 0x10b8f5e50>>\n"
    }
   ],
   "source": [
    "class Employee:\n",
    "    def __init__(self, name, division, jopgrade, years, basic):\n",
    "        self.name = name\n",
    "        self.division = division\n",
    "        self.jopgrade = float(jopgrade)\n",
    "        self.years = float(years)\n",
    "        self.basic = float(basic)\n",
    "        self.salary = 0\n",
    "\n",
    "    def getName(self):\n",
    "        return self.name\n",
    "    def getdivision(self):\n",
    "        return self.division\n",
    "    def getJopGrade(self):\n",
    "        return self.jopgrade\n",
    "    def getyear(self):\n",
    "        return self.years\n",
    "    def getbasic(self):\n",
    "        return self.basic\n",
    "    def salary(self):\n",
    "        self.salary = self.basic + (self.basic * self.years * 0.1)\n",
    "        return self.salary\n",
    "\n",
    "def makeEmployee(inputdata):\n",
    "    name, division, jopgrade, year, basic = inputdata.split(',')\n",
    "    return Employee(name, division, jopgrade, year, basic)\n",
    "\n",
    "def main():\n",
    "    inputfile = open('employeefile.txt', 'r')\n",
    "    highest = makeEmployee(inputfile.readline())\n",
    "    for l in inputfile:\n",
    "        e = makeEmployee(l)\n",
    "        print(e.salary)\n",
    "    # for line in inputfile:\n",
    "    #     e = makeEmployee(line)\n",
    "    #     if e.years() > highest.years():\n",
    "    #         highest = e\n",
    "    # inputfile.close()\n",
    "    \n",
    "    # print(\"The Name of highest salary employee is\", highest.getName())\n",
    "    # print(\"years of services\", highest.getyear())\n",
    "    # print(\"division\", highest.getdivision())\n",
    "    # print(\"salay\", highest.salary())\n",
    "\n",
    "if __name__ == '__main__':\n",
    "    main()"
   ]
  },
  {
   "cell_type": "code",
   "execution_count": null,
   "metadata": {},
   "outputs": [],
   "source": []
  }
 ]
}