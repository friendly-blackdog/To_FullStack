{
 "cells": [
  {
   "cell_type": "markdown",
   "metadata": {},
   "source": [
    "# 파이썬 강의\n",
    "--------------------\n",
    "--------------------\n",
    "\n",
    " - 일정: 6월8일 ~ 9일\n",
    " - 시간: 10시 - 18시 \n"
   ]
  },
  {
   "cell_type": "markdown",
   "metadata": {},
   "source": [
    "# 강의 실습 환경\n",
    "-------------------------------\n",
    "-------------------------------\n",
    "- Anaconda Python 3.7 Jupyter Notebook\n",
    "\n",
    "- https://www.anaconda.com/products/individual#download-section\n"
   ]
  },
  {
   "cell_type": "markdown",
   "metadata": {},
   "source": [
    "# 목차\n",
    "\n",
    "-------------------------------\n",
    "-------------------------------\n",
    "## Day1 (6/8)\n",
    "\n",
    "1. Python Introduction \n",
    "\n",
    "2. Jupyter Notebook 명령어, 설치\n",
    "\n",
    "3. 변수와 자료형 (feat 메모리)\n",
    "\n",
    "4. 파일과 파일처리 (feat 하드디스크)\n",
    "\n",
    "5. 코드구조\n",
    "\n",
    "6. 함수\n",
    "\n",
    "7. 변수와 객체 그리고 클래스 Intro \n",
    "\n",
    "\n",
    "-------------------------------\n",
    "## Day2 (6/9)\n",
    "\n",
    "8. 클래스와 객체 지향 프로그래밍\n",
    "\n",
    "    (collections)\n",
    "\n",
    "9. 중간점검\n",
    "\n",
    "10. 파일과 폴더\n",
    "\n",
    "11. NumPy\n",
    "\n",
    "12. Pandas\n",
    "\n",
    "13. 마무리"
   ]
  },
  {
   "cell_type": "markdown",
   "metadata": {},
   "source": [
    "# 상세 목차\n",
    "\n",
    "--------------------------\n",
    "--------------------------"
   ]
  },
  {
   "cell_type": "markdown",
   "metadata": {},
   "source": [
    "## <font color = 'blue'> 1. Python Introduction </font> \n",
    "---------------------"
   ]
  },
  {
   "cell_type": "markdown",
   "metadata": {},
   "source": [
    "## <font color = 'blue'> 2. Jupyter Notebook 명령어 </font>\n",
    "--------------------------\n",
    "\n",
    "- 쉘\n",
    "    - 편집모드    \n",
    "    - 실행모드\n",
    "\n",
    "- 명령모드(esc, 파란색)\n",
    "    - a (쉘위에 신규 쉘 생성)\n",
    "    - b (쉘 아래에 신규 쉘 생성)\n",
    "    - dd (쉘 삭제)\n",
    "\n",
    "- 편집모드(enter, 녹색)\n",
    "    - 코드: esc + y\n",
    "    - 코드(라인): esc + l \n",
    "    - 마크다운(md): esc + m\n",
    " \n",
    "- 실행: Shift + enter"
   ]
  },
  {
   "cell_type": "markdown",
   "metadata": {},
   "source": [
    "## <font color = 'blue'> 3. 변수와 자료형 (feat 메모리) </font>\n",
    "----------------------\n",
    "\n",
    "1) 파이썬 변수 할당\n",
    "\n",
    "- =(할당 연산자)\n",
    "- 변수명, 값\n",
    "- 메모리 이용, 동적 타이핑, 리터럴이라는 용어\n",
    "\n",
    "2) 자료형\n",
    "- Number: int, float\n",
    "- Boolean\n",
    "- String\n",
    "- list, dict, tuple, set\n",
    "    - collection, container, 자료구조 라는 용어로 엄밀히 한다. \n",
    "- list, tuple, string은 sequential한 자료라고 하기도 한다. \n",
    "\n",
    "3) (산술) 연산자\n",
    "\n",
    "4) 슬라이싱, 인덱싱, (대괄호 연산자)\n",
    "\n",
    "5) 자료형 관련 메소드\n",
    "\n",
    "6) 파이썬 내장 함수\n",
    "\n",
    "https://docs.python.org/3/library/functions.html\n",
    "\n",
    "    - type()\n",
    "    - len()\n",
    "    - 형변환 함수: int(), float(), str(), list(), dict(), set(), tuple()\n",
    "    - min(), max(), sum(), pow()"
   ]
  },
  {
   "cell_type": "markdown",
   "metadata": {},
   "source": [
    "### 변수 할당"
   ]
  },
  {
   "cell_type": "code",
   "execution_count": null,
   "metadata": {},
   "outputs": [],
   "source": []
  },
  {
   "cell_type": "code",
   "execution_count": null,
   "metadata": {},
   "outputs": [],
   "source": []
  },
  {
   "cell_type": "code",
   "execution_count": null,
   "metadata": {},
   "outputs": [],
   "source": []
  },
  {
   "cell_type": "code",
   "execution_count": null,
   "metadata": {},
   "outputs": [],
   "source": []
  },
  {
   "cell_type": "code",
   "execution_count": null,
   "metadata": {},
   "outputs": [],
   "source": []
  },
  {
   "cell_type": "markdown",
   "metadata": {},
   "source": [
    "### Number\n",
    "\n",
    "- 리터럴(literal)"
   ]
  },
  {
   "cell_type": "code",
   "execution_count": null,
   "metadata": {},
   "outputs": [],
   "source": []
  },
  {
   "cell_type": "code",
   "execution_count": null,
   "metadata": {},
   "outputs": [],
   "source": []
  },
  {
   "cell_type": "code",
   "execution_count": null,
   "metadata": {},
   "outputs": [],
   "source": []
  },
  {
   "cell_type": "markdown",
   "metadata": {},
   "source": [
    "### String\n",
    "\n",
    "- .join()\n",
    "- .split()\n",
    "- .upper(): 대문자로 변환하는 함수.\n",
    "- .lower(): 소문자로 변환하는 함수.\n",
    "- .replace('바꿀 문자열', '바뀔문자열'): 문자열 치환.\n",
    "- .strip(): 공백제거하는 함수.\n",
    "- .find('문자열'): 특정 문자열의 위치를 찾는 함수. "
   ]
  },
  {
   "cell_type": "code",
   "execution_count": null,
   "metadata": {},
   "outputs": [],
   "source": []
  },
  {
   "cell_type": "code",
   "execution_count": null,
   "metadata": {},
   "outputs": [],
   "source": []
  },
  {
   "cell_type": "code",
   "execution_count": null,
   "metadata": {},
   "outputs": [],
   "source": []
  },
  {
   "cell_type": "code",
   "execution_count": null,
   "metadata": {},
   "outputs": [],
   "source": []
  },
  {
   "cell_type": "code",
   "execution_count": null,
   "metadata": {},
   "outputs": [],
   "source": []
  },
  {
   "cell_type": "markdown",
   "metadata": {},
   "source": [
    "### 산술 연산자"
   ]
  },
  {
   "cell_type": "code",
   "execution_count": null,
   "metadata": {},
   "outputs": [],
   "source": [
    "# +, -, *, /, //, %, **"
   ]
  },
  {
   "cell_type": "code",
   "execution_count": null,
   "metadata": {},
   "outputs": [],
   "source": []
  },
  {
   "cell_type": "code",
   "execution_count": null,
   "metadata": {},
   "outputs": [],
   "source": []
  },
  {
   "cell_type": "code",
   "execution_count": null,
   "metadata": {},
   "outputs": [],
   "source": []
  },
  {
   "cell_type": "markdown",
   "metadata": {},
   "source": [
    "### [ ] 슬라이스, 인덱싱\n",
    "\n",
    "- 문자열, 리스트, 튜플\n",
    "- []\n",
    "- 특정 위치의 데이터를 선택하는 방법\n",
    "- [index]: 특정 위치 하나의 데이터를 선택\n",
    "- [start:end]: 시작과 끝 구간의 데이터를 선택\n",
    "- [start:end:stride]: 시작과 끝을 범위로 구간별로 선택"
   ]
  },
  {
   "cell_type": "code",
   "execution_count": null,
   "metadata": {},
   "outputs": [],
   "source": []
  },
  {
   "cell_type": "code",
   "execution_count": null,
   "metadata": {},
   "outputs": [],
   "source": []
  },
  {
   "cell_type": "markdown",
   "metadata": {},
   "source": [
    "### <font color=orange> Q1. 0~9까지의 문자열 데이터를 짝수만 거꾸로 출력하는 코드 작성하기. </font>\n",
    "\n",
    "\n",
    "입출력 예시\n",
    "\n",
    "`\n",
    "input_data = '123456789'\n",
    "print(output_data)\n",
    "8642\n",
    "`"
   ]
  },
  {
   "cell_type": "code",
   "execution_count": 7,
   "metadata": {},
   "outputs": [],
   "source": [
    "# A1. code your answer"
   ]
  },
  {
   "cell_type": "markdown",
   "metadata": {},
   "source": [
    "### <font color=orange> Q2. 다음 문장의 단어 앞글자만 대문자로 바꾸세요. \n",
    "\n",
    "입출력 예시\n",
    "\n",
    "`\n",
    "input_data = 'hello world'\n",
    "print(output_data)\n",
    "Hello World\n",
    "`"
   ]
  },
  {
   "cell_type": "code",
   "execution_count": 9,
   "metadata": {},
   "outputs": [],
   "source": [
    "# A2. code our answer"
   ]
  },
  {
   "cell_type": "code",
   "execution_count": null,
   "metadata": {},
   "outputs": [],
   "source": []
  },
  {
   "cell_type": "markdown",
   "metadata": {},
   "source": [
    "### tuple \n",
    "\n",
    "- 불변\n",
    "- Sequential"
   ]
  },
  {
   "cell_type": "code",
   "execution_count": null,
   "metadata": {},
   "outputs": [],
   "source": []
  },
  {
   "cell_type": "code",
   "execution_count": null,
   "metadata": {},
   "outputs": [],
   "source": []
  },
  {
   "cell_type": "code",
   "execution_count": null,
   "metadata": {},
   "outputs": [],
   "source": []
  },
  {
   "cell_type": "code",
   "execution_count": null,
   "metadata": {},
   "outputs": [],
   "source": []
  },
  {
   "cell_type": "markdown",
   "metadata": {},
   "source": [
    "### unpacking / packing\n",
    "\n",
    "Packing: 파이썬에서는 기본적으로 tuple형태로 패킹 된다. \n",
    "\n",
    "• 패킹(packing): 한 변수에 여러 개의 데이터를 할당하는 것.\n",
    "\n",
    "• 언패킹(unpacking): 한 변수의 데이터를 각각의 변수로 반환하는 것.\n"
   ]
  },
  {
   "cell_type": "code",
   "execution_count": null,
   "metadata": {},
   "outputs": [],
   "source": []
  },
  {
   "cell_type": "markdown",
   "metadata": {},
   "source": [
    "### list\n",
    "\n",
    "- 리스트: 시퀀셜한 배열 (순서가있고, 집합)\n",
    "- 리스트는 인덱싱이 가능하다. \n",
    "\n",
    "- .append()\n",
    "- .extend()\n",
    "- .insert()\n",
    "- .pop()\n",
    "- .remove()\n",
    "- .sort()\n",
    "- .reverse()"
   ]
  },
  {
   "cell_type": "code",
   "execution_count": null,
   "metadata": {},
   "outputs": [],
   "source": []
  },
  {
   "cell_type": "code",
   "execution_count": null,
   "metadata": {},
   "outputs": [],
   "source": []
  },
  {
   "cell_type": "code",
   "execution_count": null,
   "metadata": {},
   "outputs": [],
   "source": []
  },
  {
   "cell_type": "code",
   "execution_count": null,
   "metadata": {},
   "outputs": [],
   "source": []
  },
  {
   "cell_type": "code",
   "execution_count": null,
   "metadata": {},
   "outputs": [],
   "source": []
  },
  {
   "cell_type": "markdown",
   "metadata": {},
   "source": [
    "### String메소드 다시..\n",
    "\n",
    "- split() : string.split(구분자(seperator)), 리스트 형태. \n",
    "- join()"
   ]
  },
  {
   "cell_type": "code",
   "execution_count": null,
   "metadata": {},
   "outputs": [],
   "source": []
  },
  {
   "cell_type": "code",
   "execution_count": 20,
   "metadata": {},
   "outputs": [],
   "source": []
  },
  {
   "cell_type": "markdown",
   "metadata": {},
   "source": [
    "### <font color='orange'> Q3. 다음 data 문자열을 result의 문자열로 변환 하세요. </font>\n",
    "\n",
    "입출력 예시\n",
    "\n",
    "`\n",
    "input_data = 'Beatiful-is-better-than-agly.' \n",
    "output = 'Beatiful Is Better Than Agly.'\n",
    "`"
   ]
  },
  {
   "cell_type": "markdown",
   "metadata": {},
   "source": [
    "### Dictionary\n",
    "\n",
    "- 키와 밸류\n",
    "- keys(), values(), items()"
   ]
  },
  {
   "cell_type": "code",
   "execution_count": null,
   "metadata": {},
   "outputs": [],
   "source": []
  },
  {
   "cell_type": "code",
   "execution_count": null,
   "metadata": {},
   "outputs": [],
   "source": []
  },
  {
   "cell_type": "code",
   "execution_count": null,
   "metadata": {},
   "outputs": [],
   "source": []
  },
  {
   "cell_type": "code",
   "execution_count": null,
   "metadata": {},
   "outputs": [],
   "source": []
  },
  {
   "cell_type": "markdown",
   "metadata": {},
   "source": [
    "### set\n",
    "\n",
    "- dictionary의 키값만 있는 형태\n",
    "- 중복을 허용하지 않는다. \n",
    "- 집합과 유사\n",
    "\n",
    "\n",
    "- s.add(), s.update() 차이\n",
    "\n",
    "- s.intersection()\n",
    "- s.union()\n",
    "- s.difference()"
   ]
  },
  {
   "cell_type": "code",
   "execution_count": null,
   "metadata": {},
   "outputs": [],
   "source": []
  },
  {
   "cell_type": "code",
   "execution_count": null,
   "metadata": {},
   "outputs": [],
   "source": []
  },
  {
   "cell_type": "code",
   "execution_count": null,
   "metadata": {},
   "outputs": [],
   "source": []
  },
  {
   "cell_type": "code",
   "execution_count": null,
   "metadata": {},
   "outputs": [],
   "source": []
  },
  {
   "cell_type": "code",
   "execution_count": null,
   "metadata": {},
   "outputs": [],
   "source": []
  },
  {
   "cell_type": "markdown",
   "metadata": {},
   "source": [
    "## <font color = 'blue'> 4. 파일과 파일처리 (feat 하드 디스크) </font>\n",
    "-----------------\n",
    "1) 파이썬에서 파일을 접근하는 법\n",
    "\n",
    "- \"파일 객체를 만들어 준다\"\n",
    "- \"만드는 방법 open함수 이용\":  `open()`\n",
    "- https://docs.python.org/3/library/functions.html#open\n",
    "\n",
    "(Q1. 파일 객체와 파일은 다른가? 네)\n",
    "\n",
    "2) 파일 관련 메소드\n",
    "\n",
    "- f.read() \n",
    "- f.write()\n",
    "- f.close()\n",
    "\n",
    "3) with 구문 (context 매니저) "
   ]
  },
  {
   "cell_type": "code",
   "execution_count": null,
   "metadata": {},
   "outputs": [],
   "source": []
  },
  {
   "cell_type": "markdown",
   "metadata": {},
   "source": [
    "\n",
    "f = open(\"hello.txt\", \"w\")\n",
    "\n",
    "type(f)"
   ]
  },
  {
   "cell_type": "code",
   "execution_count": null,
   "metadata": {},
   "outputs": [],
   "source": []
  },
  {
   "cell_type": "code",
   "execution_count": null,
   "metadata": {},
   "outputs": [],
   "source": []
  },
  {
   "cell_type": "code",
   "execution_count": null,
   "metadata": {},
   "outputs": [],
   "source": []
  },
  {
   "cell_type": "markdown",
   "metadata": {},
   "source": [
    "## <font color = 'skyblue'> 5. 코드 구조 </font>\n",
    "----------------\n",
    "\n",
    "코드 구조: \"코드를 어떻게 구조화 하는지\" - 코드를 여러줄 작성하는것\n",
    "\n",
    "1) 들여쓰기 (indentation)\n",
    "\n",
    "2) 변수 할당문 이라고 하기도 한다. \n",
    "\n",
    "3) 반복문 (for문, while문)\n",
    "\n",
    "- iterable, 순회가능하다는 것의 의미\n",
    "- 논리 연산자\n",
    "\n",
    "4) 조건문 (if, elif, else)\n",
    "\n",
    "- 논리 연산자\n",
    "\n",
    "5) 예외 처리문 (try, except, else, finally)\n",
    "\n",
    "- 가타... raise"
   ]
  },
  {
   "cell_type": "markdown",
   "metadata": {},
   "source": [
    "### 들여쓰기, indentation\n",
    "\n",
    "\n",
    "\n",
    "- 스페이스 4번, 탭 1번 (*간혹 스페이스 2번)\n",
    "\n",
    "- 다른 언어들은 코드를 구조화 할 때 중활호({}), 세미콜론과 같은 문장으로 구분한다.\n",
    "\n",
    "<code>\n",
    "var a; \n",
    "a = 7; \n",
    "console.log(a);\n",
    "\n",
    "while (count < 3) {\n",
    "   console.log(count);\n",
    "   count++;} </code>\n",
    "\n",
    "\n",
    "- 주석: #\n",
    "\n",
    "- 여러줄 주석: command + /\n",
    "\n",
    "- 독스트링: ''' ''', \"\"\" \"\"\""
   ]
  },
  {
   "cell_type": "markdown",
   "metadata": {},
   "source": [
    "### 산술연산자\n",
    "- +, -, *, , * *, /, //, %,\n",
    "\n",
    "### 비교 연산자\n",
    "\n",
    "- ==, !=, <, <=, >, >=, in\n",
    "\n",
    "### 논리 연산자\n",
    "- and, &\n",
    "- or, |\n",
    "\n",
    "\n",
    "### False값\n",
    "null, 0, 0.0, '', [], (), {}, set{}"
   ]
  },
  {
   "cell_type": "code",
   "execution_count": null,
   "metadata": {},
   "outputs": [],
   "source": []
  },
  {
   "cell_type": "code",
   "execution_count": null,
   "metadata": {},
   "outputs": [],
   "source": []
  },
  {
   "cell_type": "code",
   "execution_count": null,
   "metadata": {},
   "outputs": [],
   "source": []
  },
  {
   "cell_type": "markdown",
   "metadata": {},
   "source": [
    "### for문\n",
    "\n",
    "for문: 순회하다.\n",
    "\n",
    "iterable의 데이터를 하나씩 꺼내서 value에 대입시킨후 code를 수행합니다. code는 iteralbe의 갯수 만큼 실행됩니다.\n",
    "\n",
    "문법\n",
    "\n",
    "`\n",
    "for <value> in <iterable> :\n",
    "    <code>\n",
    "`\n",
    "\n",
    "\n",
    "순회하다(iterable):\n",
    "iterable 의 의미는 member를 하나씩 차례로 반환 가능한 object를 말한다.\n",
    "iterable 의 예로는 sequence type인 list, str, tuple과 sequence type은 아니지만 set, dictionary가 대표적이다.\n",
    "\n",
    "숫자(int, float)는 순회할까?\n",
    "\n",
    "boolean은 순회 할까?"
   ]
  },
  {
   "cell_type": "code",
   "execution_count": null,
   "metadata": {},
   "outputs": [],
   "source": []
  },
  {
   "cell_type": "code",
   "execution_count": null,
   "metadata": {},
   "outputs": [],
   "source": []
  },
  {
   "cell_type": "code",
   "execution_count": null,
   "metadata": {},
   "outputs": [],
   "source": []
  },
  {
   "cell_type": "code",
   "execution_count": null,
   "metadata": {},
   "outputs": [],
   "source": []
  },
  {
   "cell_type": "markdown",
   "metadata": {},
   "source": [
    "### <font color='orange'> Q4. grades데이터의 평균을 계산해 보세요. </font>\n",
    "\n",
    "grades = {'science':90, 'korea':70, 'english':55}"
   ]
  },
  {
   "cell_type": "code",
   "execution_count": 10,
   "metadata": {},
   "outputs": [],
   "source": [
    "# A4 Enter your code"
   ]
  },
  {
   "cell_type": "code",
   "execution_count": null,
   "metadata": {},
   "outputs": [],
   "source": []
  },
  {
   "cell_type": "code",
   "execution_count": null,
   "metadata": {},
   "outputs": [],
   "source": []
  },
  {
   "cell_type": "code",
   "execution_count": null,
   "metadata": {},
   "outputs": [],
   "source": []
  },
  {
   "cell_type": "markdown",
   "metadata": {},
   "source": [
    "### while 문\n",
    "\n",
    "\n",
    "- condition이 True이면 while 안쪽의 code가 실행 후 다시 condition을 확인하여 True이면 code를 실행을 반복합니다. \n",
    "- condition이 False가 될때까지 code가 반복적으로 실행됩니다.\n",
    "\n",
    "`\n",
    "while <condition>:\n",
    "  <code>\n",
    "`\n",
    "\n",
    "while 은 잘못사용하면 무한루프에 빠지기 때문에 주의해서 사용해야 합니다.\n"
   ]
  },
  {
   "cell_type": "markdown",
   "metadata": {},
   "source": [
    "### 잠깐! 논리연산자 연습\n",
    "\n",
    "True가 되는 조건은 뭘까?\n",
    "\n",
    "True 값....?"
   ]
  },
  {
   "cell_type": "code",
   "execution_count": null,
   "metadata": {},
   "outputs": [],
   "source": []
  },
  {
   "cell_type": "code",
   "execution_count": null,
   "metadata": {},
   "outputs": [],
   "source": []
  },
  {
   "cell_type": "code",
   "execution_count": null,
   "metadata": {},
   "outputs": [],
   "source": []
  },
  {
   "cell_type": "code",
   "execution_count": null,
   "metadata": {},
   "outputs": [],
   "source": []
  },
  {
   "cell_type": "markdown",
   "metadata": {},
   "source": [
    "### 조건문\n",
    "\n",
    "- if\n",
    "- else\n",
    "- elif\n",
    "\n",
    "1. if\n",
    "조건에 따라서 코드를 실행시키고 싶을때 사용합니다.\n",
    "condition이 True이면 code_1이 실행 됩니다.\n",
    "\n",
    "`\n",
    "if <condition>:\n",
    "  <code>\n",
    "`"
   ]
  },
  {
   "cell_type": "code",
   "execution_count": null,
   "metadata": {},
   "outputs": [],
   "source": []
  },
  {
   "cell_type": "code",
   "execution_count": null,
   "metadata": {},
   "outputs": [],
   "source": []
  },
  {
   "cell_type": "code",
   "execution_count": null,
   "metadata": {},
   "outputs": [],
   "source": []
  },
  {
   "cell_type": "code",
   "execution_count": null,
   "metadata": {},
   "outputs": [],
   "source": []
  },
  {
   "cell_type": "markdown",
   "metadata": {},
   "source": [
    "#### 조건문 else\n",
    "\n",
    "condition이 False이면 code_2 가 실행됩니다.\n",
    "\n",
    "`\n",
    "if <condition>:\n",
    "    <code_1>\n",
    "else:\n",
    "    <code_2>\n",
    "`"
   ]
  },
  {
   "cell_type": "code",
   "execution_count": null,
   "metadata": {},
   "outputs": [],
   "source": []
  },
  {
   "cell_type": "code",
   "execution_count": null,
   "metadata": {},
   "outputs": [],
   "source": []
  },
  {
   "cell_type": "code",
   "execution_count": null,
   "metadata": {},
   "outputs": [],
   "source": []
  },
  {
   "cell_type": "markdown",
   "metadata": {},
   "source": [
    "#### elif\n",
    "\n",
    "\n",
    "condition_1이 False이면 condition_2를 확인하여 condition_2가 True이면 code_2 가 실행됩니다.\n",
    "\n",
    "`\n",
    "if <condition_1>:\n",
    "    <code_1>\n",
    "elif <condition_2>:\n",
    "    <code_2>\n",
    "else:\n",
    "    <code_3>\n",
    "`"
   ]
  },
  {
   "cell_type": "code",
   "execution_count": null,
   "metadata": {},
   "outputs": [],
   "source": []
  },
  {
   "cell_type": "code",
   "execution_count": null,
   "metadata": {},
   "outputs": [],
   "source": []
  },
  {
   "cell_type": "code",
   "execution_count": null,
   "metadata": {},
   "outputs": [],
   "source": []
  },
  {
   "cell_type": "markdown",
   "metadata": {},
   "source": [
    "### <font color = 'orange'> Q5 숫자를 입력받아 짝수이면 even, 홀수이면 odd를 출력하는 코드를 작성하세요. </font>\n",
    "\n",
    "- input() 함수 사용"
   ]
  },
  {
   "cell_type": "code",
   "execution_count": null,
   "metadata": {},
   "outputs": [],
   "source": []
  },
  {
   "cell_type": "code",
   "execution_count": null,
   "metadata": {},
   "outputs": [],
   "source": []
  },
  {
   "cell_type": "code",
   "execution_count": null,
   "metadata": {},
   "outputs": [],
   "source": []
  },
  {
   "cell_type": "code",
   "execution_count": null,
   "metadata": {},
   "outputs": [],
   "source": []
  },
  {
   "cell_type": "code",
   "execution_count": null,
   "metadata": {},
   "outputs": [],
   "source": []
  },
  {
   "cell_type": "markdown",
   "metadata": {},
   "source": [
    "### break, continue\n",
    "\n",
    "- break: 어떤 일이 일어날 때까지 반복하고 싶지만 언제 일어날지 확실하지 않다면, 무한루프속에 break를 쓴다. (혹은, for문안에 쓰기도 한다. )\n",
    "- continue: 반복문을 중단하고 싶지 않지만 어떤 경우를 건너 띄고 싶을때"
   ]
  },
  {
   "cell_type": "code",
   "execution_count": null,
   "metadata": {},
   "outputs": [],
   "source": []
  },
  {
   "cell_type": "code",
   "execution_count": null,
   "metadata": {},
   "outputs": [],
   "source": []
  },
  {
   "cell_type": "code",
   "execution_count": null,
   "metadata": {},
   "outputs": [],
   "source": []
  },
  {
   "cell_type": "code",
   "execution_count": null,
   "metadata": {},
   "outputs": [],
   "source": []
  },
  {
   "cell_type": "code",
   "execution_count": null,
   "metadata": {},
   "outputs": [],
   "source": []
  },
  {
   "cell_type": "markdown",
   "metadata": {},
   "source": [
    "### <font color = orange> Q6 한도가 50000인 카드를 금액을 초과할 때 까지 사용할 수 있는 코드를 작성. 만약 금액을 초과하면 사용이 불가해야 한다. </font>\n",
    "\n",
    "힌트\n",
    "\n",
    "- card = 50000 \n",
    "- cost = 0 \n",
    "- balance = card - cost\n",
    "\n",
    "\n",
    "- while문 동작\n",
    "- 조건: 카드의 잔액이 0보다 클때.\n",
    "- 카드 한도 초과시 c"
   ]
  },
  {
   "cell_type": "code",
   "execution_count": null,
   "metadata": {},
   "outputs": [],
   "source": []
  },
  {
   "cell_type": "code",
   "execution_count": null,
   "metadata": {},
   "outputs": [],
   "source": []
  },
  {
   "cell_type": "code",
   "execution_count": null,
   "metadata": {},
   "outputs": [],
   "source": []
  },
  {
   "cell_type": "code",
   "execution_count": null,
   "metadata": {},
   "outputs": [],
   "source": []
  },
  {
   "cell_type": "code",
   "execution_count": null,
   "metadata": {},
   "outputs": [],
   "source": []
  },
  {
   "cell_type": "markdown",
   "metadata": {},
   "source": [
    "### <font color='orange'> Q7 로또 번호 랜덤 추출 1~45까지의 숫자중 6자리를 랜덤으로 출력합니다. </font>\n",
    "\n",
    "- 중복이 있으면 안됩니다.\n",
    "- 결과 예시\n",
    "\n",
    "result = [1,3,44,2,25,10]"
   ]
  },
  {
   "cell_type": "code",
   "execution_count": 12,
   "metadata": {},
   "outputs": [],
   "source": [
    "import random\n",
    "\n",
    "r = random.randint(1, 10)"
   ]
  },
  {
   "cell_type": "code",
   "execution_count": null,
   "metadata": {},
   "outputs": [],
   "source": []
  },
  {
   "cell_type": "code",
   "execution_count": null,
   "metadata": {},
   "outputs": [],
   "source": []
  },
  {
   "cell_type": "code",
   "execution_count": null,
   "metadata": {},
   "outputs": [],
   "source": []
  },
  {
   "cell_type": "code",
   "execution_count": null,
   "metadata": {},
   "outputs": [],
   "source": []
  },
  {
   "cell_type": "code",
   "execution_count": null,
   "metadata": {},
   "outputs": [],
   "source": []
  },
  {
   "cell_type": "markdown",
   "metadata": {},
   "source": [
    "### <font color='orange'> Q8. weekend와 weekday 변수를 아래와 같이 선언한 뒤, input함수로 받은 요일에 대해 주말과 주중을 판단하는 코드를 작성하세요</font>\n",
    "\n",
    "- weekend = [\"토\", \"일\"]\n",
    "- weekday = [\"월\", \"화\", \"수\", \"목\", \"금\"]\n",
    "\n",
    "- question = input(\"요일 입력: \")\n",
    "\n",
    "결과예시) 입력:월 출력:주중  // 입력:일, 출력: 주말"
   ]
  },
  {
   "cell_type": "code",
   "execution_count": null,
   "metadata": {},
   "outputs": [],
   "source": []
  },
  {
   "cell_type": "code",
   "execution_count": null,
   "metadata": {},
   "outputs": [],
   "source": []
  },
  {
   "cell_type": "code",
   "execution_count": null,
   "metadata": {},
   "outputs": [],
   "source": []
  },
  {
   "cell_type": "code",
   "execution_count": null,
   "metadata": {},
   "outputs": [],
   "source": []
  },
  {
   "cell_type": "markdown",
   "metadata": {},
   "source": [
    "### 4. 파일 처리 Remind\n",
    "\n",
    "- 다음과 같이 점수의 배열이 grade 변수명에 저장되어 있다.\n",
    "    - grade = ['8.65', '9.12', '8.45', '7.81', '8.05', '7.21', '8.31']\n",
    "\n",
    "\n",
    "\n",
    "- 코드1. result.txt 파일로 저장한다.\n",
    "- 코드2. 파일을 읽어 가장 높은 점수를 출력하는 코드를 만든다."
   ]
  },
  {
   "cell_type": "code",
   "execution_count": 13,
   "metadata": {},
   "outputs": [],
   "source": [
    "## 코드1\n",
    "\n",
    "grade = ['8.65', '9.12', '8.45', '7.81', '8.05', '7.21', '8.31']\n"
   ]
  },
  {
   "cell_type": "code",
   "execution_count": null,
   "metadata": {},
   "outputs": [],
   "source": []
  },
  {
   "cell_type": "code",
   "execution_count": null,
   "metadata": {},
   "outputs": [],
   "source": []
  },
  {
   "cell_type": "code",
   "execution_count": null,
   "metadata": {},
   "outputs": [],
   "source": []
  },
  {
   "cell_type": "markdown",
   "metadata": {},
   "source": [
    "## <font color = 'skyblue'> 6. 함수 </font>\n",
    "------------\n",
    "1) def 키워드\n",
    "\n",
    "2) 함수의 정의와 호출\n",
    "\n",
    "3) 함수의 입력과 출력 \n",
    "\n",
    "- 입력: 인자(Argument), 파라미터(parameter)\n",
    "- 출력: return의 유무\n",
    "\n",
    "4) 인자\n",
    "- keyword Argument\n",
    "- positional Argument"
   ]
  },
  {
   "cell_type": "markdown",
   "metadata": {},
   "source": [
    "### 함수, def, 정의와 호출\n",
    "\n",
    "- 함수: 코드의 재사용(reuse)\n",
    "\n",
    "`\n",
    "def 함수이름():\n",
    "  <코드>\n",
    "`\n",
    "\n",
    "- 선언(정의)하기 (define)\n",
    "- 호출하기 (call) : 실제로 사용할때"
   ]
  },
  {
   "cell_type": "code",
   "execution_count": null,
   "metadata": {},
   "outputs": [],
   "source": [
    "def greeting():\n",
    "    print(\"\")"
   ]
  },
  {
   "cell_type": "markdown",
   "metadata": {},
   "source": [
    "### <font color='orange'> Q9. 간이 프로그램 만들어 보기 프로그램명: 적금 계산 </font>\n",
    "\n",
    "- 입력\n",
    "    - 원금\n",
    "    - 연간 이자율: 소수점으로 나타낸 1년동안의 비율\n",
    "\n",
    "- 출력\n",
    "10년 후 금액 "
   ]
  },
  {
   "cell_type": "code",
   "execution_count": null,
   "metadata": {},
   "outputs": [],
   "source": [
    "def main():\n",
    "    # 안내 메시지를 출력한다. \n",
    "    # 원금 액수를 입력 받는다.\n",
    "    # 연간 이자율을 입력 받는다\n",
    "    # 10년이므로, 10회 반복한다. \n",
    "    # 반복한 값을 출력한다. \n",
    "    pass"
   ]
  },
  {
   "cell_type": "code",
   "execution_count": null,
   "metadata": {},
   "outputs": [],
   "source": []
  },
  {
   "cell_type": "code",
   "execution_count": null,
   "metadata": {},
   "outputs": [],
   "source": []
  },
  {
   "cell_type": "code",
   "execution_count": null,
   "metadata": {},
   "outputs": [],
   "source": []
  },
  {
   "cell_type": "markdown",
   "metadata": {},
   "source": [
    "### 입력과 출력의 형태"
   ]
  },
  {
   "cell_type": "code",
   "execution_count": null,
   "metadata": {},
   "outputs": [],
   "source": []
  },
  {
   "cell_type": "code",
   "execution_count": null,
   "metadata": {},
   "outputs": [],
   "source": []
  },
  {
   "cell_type": "code",
   "execution_count": null,
   "metadata": {},
   "outputs": [],
   "source": []
  },
  {
   "cell_type": "markdown",
   "metadata": {},
   "source": [
    "## <font color = 'skyblue'> 7. 변수와 객체 그리고 클래스 Intro </font>\n",
    "-------------------------\n",
    "1) 파이썬에서 모든 것은 객체로 이루어져 있다. \n",
    "\n",
    "2) 변수의 의미\n",
    "\n",
    "3) 얕은 복사, 깊은복사\n",
    "- id()\n",
    "\n",
    "4) 클래스문법\n",
    "- 클래스 선언\n",
    "- 클래스 사용\n",
    "- 클래스의 상태와 동작은 속성과 메소드\n",
    "    - self\n",
    "- 생성자 `__init__`\n",
    "- 멤버변수와 인스턴스 변수\n",
    "- 상속\n",
    "    - 메소드 재정의\n",
    "    - 메소드 오버라이드\n",
    "    - 부모클래스 호출: super()\n"
   ]
  },
  {
   "cell_type": "markdown",
   "metadata": {},
   "source": [
    "### 파이썬에서는 모든것이 객체다. \n",
    "\n"
   ]
  },
  {
   "cell_type": "code",
   "execution_count": null,
   "metadata": {},
   "outputs": [],
   "source": []
  },
  {
   "cell_type": "code",
   "execution_count": null,
   "metadata": {},
   "outputs": [],
   "source": []
  },
  {
   "cell_type": "code",
   "execution_count": null,
   "metadata": {},
   "outputs": [],
   "source": []
  },
  {
   "cell_type": "code",
   "execution_count": null,
   "metadata": {},
   "outputs": [],
   "source": []
  },
  {
   "cell_type": "code",
   "execution_count": null,
   "metadata": {},
   "outputs": [],
   "source": []
  },
  {
   "cell_type": "code",
   "execution_count": null,
   "metadata": {},
   "outputs": [],
   "source": []
  },
  {
   "cell_type": "code",
   "execution_count": null,
   "metadata": {},
   "outputs": [],
   "source": []
  },
  {
   "cell_type": "code",
   "execution_count": null,
   "metadata": {},
   "outputs": [],
   "source": []
  },
  {
   "cell_type": "markdown",
   "metadata": {},
   "source": [
    "## <font color = 'skyblue'> 8. 클래스와 객체지향 프로그래밍 </font>\n",
    "--------------------------\n",
    "#### <클래스 문법>\n",
    "\n",
    "1) 클래스 선언\n",
    "\n",
    "2) 클래스 사용\n",
    "\n",
    "3) 클래스의 상태와 동작은 속성과 메소드\n",
    "- self\n",
    "\n",
    "4) 생성자 `__init__`\n",
    "\n",
    "5) 멤버변수와 인스턴스 변수\n",
    "\n",
    "6) 상속\n",
    "\n",
    "- 메소드 재정의\n",
    "- 메소드 오버라이드\n",
    "- 부모클래스 호출: super()\n",
    "\n",
    "\n",
    "#### <객체를 사용하는 이유>\n"
   ]
  },
  {
   "cell_type": "code",
   "execution_count": null,
   "metadata": {},
   "outputs": [],
   "source": []
  },
  {
   "cell_type": "code",
   "execution_count": null,
   "metadata": {},
   "outputs": [],
   "source": []
  },
  {
   "cell_type": "code",
   "execution_count": null,
   "metadata": {},
   "outputs": [],
   "source": []
  },
  {
   "cell_type": "code",
   "execution_count": null,
   "metadata": {},
   "outputs": [],
   "source": []
  },
  {
   "cell_type": "code",
   "execution_count": null,
   "metadata": {},
   "outputs": [],
   "source": []
  },
  {
   "cell_type": "code",
   "execution_count": null,
   "metadata": {},
   "outputs": [],
   "source": []
  },
  {
   "cell_type": "code",
   "execution_count": null,
   "metadata": {},
   "outputs": [],
   "source": []
  },
  {
   "cell_type": "code",
   "execution_count": null,
   "metadata": {},
   "outputs": [],
   "source": []
  },
  {
   "cell_type": "code",
   "execution_count": null,
   "metadata": {},
   "outputs": [],
   "source": []
  },
  {
   "cell_type": "code",
   "execution_count": null,
   "metadata": {},
   "outputs": [],
   "source": []
  },
  {
   "cell_type": "markdown",
   "metadata": {},
   "source": [
    "## <font color = 'skyblue'> (collections) </font>\n",
    "\n",
    "https://docs.python.org/3.7/library/collections.html"
   ]
  },
  {
   "cell_type": "markdown",
   "metadata": {},
   "source": [
    "\n",
    "## <font color = 'skyblue'> 9. 중간 점검 </font>\n",
    "\n",
    "------------------\n",
    "1) 예외처리와 조건문, 딕셔너리 응용문제 \n",
    "\n",
    "2) 클래스를 이용한 데이터 처리  응용문제"
   ]
  },
  {
   "cell_type": "markdown",
   "metadata": {},
   "source": [
    "## <font color = 'skyblue'> 10. 파일과 경로 </font>\n",
    "\n",
    "-------------------------------\n",
    "1) 파일 다루기 - csv파일\n",
    "\n",
    "2) path 관련 함수\n",
    "\n",
    "3) os, sys 관련 함수"
   ]
  },
  {
   "cell_type": "code",
   "execution_count": null,
   "metadata": {},
   "outputs": [],
   "source": []
  },
  {
   "cell_type": "code",
   "execution_count": null,
   "metadata": {},
   "outputs": [],
   "source": []
  },
  {
   "cell_type": "code",
   "execution_count": null,
   "metadata": {},
   "outputs": [],
   "source": []
  },
  {
   "cell_type": "code",
   "execution_count": null,
   "metadata": {},
   "outputs": [],
   "source": []
  },
  {
   "cell_type": "code",
   "execution_count": null,
   "metadata": {},
   "outputs": [],
   "source": []
  },
  {
   "cell_type": "code",
   "execution_count": null,
   "metadata": {},
   "outputs": [],
   "source": []
  },
  {
   "cell_type": "code",
   "execution_count": null,
   "metadata": {},
   "outputs": [],
   "source": []
  },
  {
   "cell_type": "code",
   "execution_count": null,
   "metadata": {},
   "outputs": [],
   "source": []
  },
  {
   "cell_type": "markdown",
   "metadata": {},
   "source": [
    "## <font color = 'skyblue'> 11. NumPy </font>\n",
    "------------------------\n",
    "1) array 만들기\n",
    "\n",
    "- arrange()\n",
    "- array([])\n",
    "\n",
    "2) 크기 (size, shape, dim)\n",
    "\n",
    "- np.size\n",
    "- np.shape\n",
    "- np.dim\n",
    "\n",
    "3) type\n",
    "\n",
    "- a.dtype\n",
    "- type(a)\n",
    "\n",
    "4) 빈번한 에러\n",
    "\n",
    "5)  특수 행렬 : 0행렬, 1행렬, 단위 행렬\n",
    "\n",
    "- np.zeros([])\n",
    "- np.ones([])\n",
    "- np.eye()\n",
    "\n",
    "6) random\n",
    "\n",
    "- np.random.randint\n",
    "- np.random.choice\n",
    "- np.random.permutation\n",
    "\n",
    "7) reshape, flatten\n",
    "\n",
    "- np.reshape()\n",
    "- np.flatten()\n",
    "\n",
    "8) slicing\n",
    "\n",
    "9) 주요 연산\n",
    "\n",
    "- 행렬연산과 브로드 캐스팅\n",
    "- np.dot()\n",
    "- np.transpose()\n",
    "- np.sum()\n",
    "- np.sqrt()"
   ]
  },
  {
   "cell_type": "markdown",
   "metadata": {},
   "source": [
    "## <font color = 'skyblue'> 12. Pandas </font>\n",
    "-------------------------\n",
    "1) series와 dataframe\n",
    "\n",
    "2) 파일 읽기와 저장\n",
    "\n",
    "3) EDA 연습!"
   ]
  },
  {
   "cell_type": "code",
   "execution_count": null,
   "metadata": {},
   "outputs": [],
   "source": []
  },
  {
   "cell_type": "code",
   "execution_count": null,
   "metadata": {},
   "outputs": [],
   "source": []
  },
  {
   "cell_type": "code",
   "execution_count": null,
   "metadata": {},
   "outputs": [],
   "source": []
  },
  {
   "cell_type": "code",
   "execution_count": null,
   "metadata": {},
   "outputs": [],
   "source": []
  },
  {
   "cell_type": "code",
   "execution_count": null,
   "metadata": {},
   "outputs": [],
   "source": []
  },
  {
   "cell_type": "code",
   "execution_count": null,
   "metadata": {},
   "outputs": [],
   "source": []
  },
  {
   "cell_type": "code",
   "execution_count": null,
   "metadata": {},
   "outputs": [],
   "source": []
  },
  {
   "cell_type": "markdown",
   "metadata": {},
   "source": [
    "## <font color = 'skyblue'> 13. 마무리 </font>\n",
    "------------------------"
   ]
  },
  {
   "cell_type": "code",
   "execution_count": null,
   "metadata": {},
   "outputs": [],
   "source": []
  }
 ],
 "metadata": {
  "kernelspec": {
   "display_name": "Python 3",
   "language": "python",
   "name": "python3"
  },
  "language_info": {
   "codemirror_mode": {
    "name": "ipython",
    "version": 3
   },
   "file_extension": ".py",
   "mimetype": "text/x-python",
   "name": "python",
   "nbconvert_exporter": "python",
   "pygments_lexer": "ipython3",
   "version": "3.7.6"
  }
 },
 "nbformat": 4,
 "nbformat_minor": 2
}
