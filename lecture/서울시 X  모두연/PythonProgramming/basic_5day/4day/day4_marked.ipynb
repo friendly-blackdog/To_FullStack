{
 "cells": [
  {
   "cell_type": "markdown",
   "metadata": {},
   "source": [
    "## 4Day: 클래스와 OOP(Object Oriented Programming)\n",
    "\n",
    "- Intro\n",
    "- Class기본문법 Part1\n",
    "- Class기본문법 Part2"
   ]
  },
  {
   "cell_type": "markdown",
   "metadata": {},
   "source": [
    "## Intro\n",
    "\n",
    "1. 파이썬에서는 모든것이 객체(Object)다. \n",
    "\n",
    "2. 원문: Everything in Python is an object -Mark Pilgrim, -\n",
    "\n",
    " - \"Everything in Python is an object, and almost everything has attributes(속성) and methods(메소드)....\"\n",
    " - 출처: https://linux.die.net/diveintopython/html/getting_to_know_python/everything_is_an_object.html\n",
    " \n",
    " 3. 즉, 이말은...\n",
    "\n",
    "- 파이썬에서는 모든 것(부울, 정수, 실수, 데이터구조(list,tuple,dict,set...), 함수, 프로그램, 모듈)이 객체다\n",
    "- 객체는 상태(State)를 나타내는 \n",
    "속성(A요약 (ttribute)) \n",
    "동작(Behavior)을 나타내는 메서드(Method)가 있다.\n",
    "- 객체의 속성은 변수로 구현된다. 객체의 메서드는 함수로 구현된다."
   ]
  },
  {
   "cell_type": "markdown",
   "metadata": {},
   "source": [
    "4. 다시 변수...\n",
    "\n",
    "- (메모리 자원 활용..)\n",
    "- 변수를 이용해서 파이썬의 모든것(부울, 정수, 실수, list,tuple...,함수, 모듈, 라이브러리)을 넣었다. \n",
    "- 변수를 사용한다는 것은..?\n",
    "    - 변수는 단지 이름일 뿐이다. = 연산자를 이용해 할당한다는 의미는 값을 복사하는 것이 아니라 데이터가 담긴 객체에 그냥 이름을 붙이는 것이다. "
   ]
  },
  {
   "cell_type": "code",
   "execution_count": 15,
   "metadata": {},
   "outputs": [
    {
     "output_type": "execute_result",
     "data": {
      "text/plain": "'PYTHON'"
     },
     "metadata": {},
     "execution_count": 15
    }
   ],
   "source": [
    "'python'.upper()"
   ]
  },
  {
   "cell_type": "code",
   "execution_count": 17,
   "metadata": {},
   "outputs": [
    {
     "output_type": "execute_result",
     "data": {
      "text/plain": "'python'"
     },
     "metadata": {},
     "execution_count": 17
    }
   ],
   "source": [
    "a = 'python'\n",
    "a.upper().lower()"
   ]
  },
  {
   "cell_type": "markdown",
   "metadata": {},
   "source": [
    "4. 다시 변수...\n",
    "- 변수는 단지 이름(name)일 뿐이다. \n",
    "- 할당(=)한다는 의미는 값을 복사한다는 것이 아니라 객체에 이름을 붙이는 것, 객체를 참조하는 것. "
   ]
  },
  {
   "cell_type": "code",
   "execution_count": 171,
   "metadata": {},
   "outputs": [],
   "source": [
    "a = 3 \n",
    "b = 4"
   ]
  },
  {
   "cell_type": "markdown",
   "metadata": {},
   "source": [
    "### id()\n",
    "- 프로그램이 돌아가고 있는 동안 객체의 identify를 반환하는 파이썬 내장함수. \n",
    "- *쉽게 메모리 주소라고 생각하면 된다."
   ]
  },
  {
   "cell_type": "code",
   "execution_count": 27,
   "metadata": {},
   "outputs": [
    {
     "output_type": "execute_result",
     "data": {
      "text/plain": "4434021120"
     },
     "metadata": {},
     "execution_count": 27
    }
   ],
   "source": [
    "id(b)"
   ]
  },
  {
   "cell_type": "code",
   "execution_count": 28,
   "metadata": {},
   "outputs": [
    {
     "output_type": "execute_result",
     "data": {
      "text/plain": "4434021120"
     },
     "metadata": {},
     "execution_count": 28
    }
   ],
   "source": [
    "id(4)"
   ]
  },
  {
   "cell_type": "markdown",
   "metadata": {},
   "source": [
    "<img src='./figure/fig1.jpg'>"
   ]
  },
  {
   "cell_type": "code",
   "execution_count": 31,
   "metadata": {},
   "outputs": [],
   "source": [
    "c = a"
   ]
  },
  {
   "cell_type": "code",
   "execution_count": 32,
   "metadata": {},
   "outputs": [
    {
     "output_type": "execute_result",
     "data": {
      "text/plain": "4434021088"
     },
     "metadata": {},
     "execution_count": 32
    }
   ],
   "source": [
    "id(c)"
   ]
  },
  {
   "cell_type": "markdown",
   "metadata": {},
   "source": [
    "### 얕은 복사(shallow copy), 깊은 복사(deep copy)\n",
    "```\n",
    "copy.copy(x)\n",
    "Return a shallow copy of x.\n",
    "\n",
    "copy.deepcopy(x[, memo])\n",
    "Return a deep copy of x.\n",
    "```"
   ]
  },
  {
   "cell_type": "code",
   "execution_count": 180,
   "metadata": {},
   "outputs": [],
   "source": [
    "mylist = ['a','b','c','d','e']\n",
    "a = mylist"
   ]
  },
  {
   "cell_type": "code",
   "execution_count": 181,
   "metadata": {},
   "outputs": [],
   "source": [
    "mylist.append('f')"
   ]
  },
  {
   "cell_type": "code",
   "execution_count": 182,
   "metadata": {},
   "outputs": [
    {
     "output_type": "execute_result",
     "data": {
      "text/plain": "['a', 'b', 'c', 'd', 'e', 'f']"
     },
     "metadata": {},
     "execution_count": 182
    }
   ],
   "source": [
    "mylist"
   ]
  },
  {
   "cell_type": "code",
   "execution_count": 185,
   "metadata": {},
   "outputs": [
    {
     "output_type": "execute_result",
     "data": {
      "text/plain": "['a', 'b', 'c', 'd', 'e', 'f']"
     },
     "metadata": {},
     "execution_count": 185
    }
   ],
   "source": [
    "a"
   ]
  },
  {
   "cell_type": "code",
   "execution_count": 190,
   "metadata": {},
   "outputs": [
    {
     "output_type": "execute_result",
     "data": {
      "text/plain": "['a', 'b', 'c', 'd', 'e']"
     },
     "metadata": {},
     "execution_count": 190
    }
   ],
   "source": [
    "b = copy.deepcopy(mylist)\n",
    "b"
   ]
  },
  {
   "cell_type": "code",
   "execution_count": 191,
   "metadata": {},
   "outputs": [
    {
     "output_type": "execute_result",
     "data": {
      "text/plain": "'e'"
     },
     "metadata": {},
     "execution_count": 191
    }
   ],
   "source": [
    "mylist.pop()"
   ]
  },
  {
   "cell_type": "code",
   "execution_count": 193,
   "metadata": {},
   "outputs": [
    {
     "output_type": "execute_result",
     "data": {
      "text/plain": "['a', 'b', 'c', 'd']"
     },
     "metadata": {},
     "execution_count": 193
    }
   ],
   "source": [
    "mylist"
   ]
  },
  {
   "cell_type": "code",
   "execution_count": 192,
   "metadata": {},
   "outputs": [
    {
     "output_type": "execute_result",
     "data": {
      "text/plain": "['a', 'b', 'c', 'd', 'e']"
     },
     "metadata": {},
     "execution_count": 192
    }
   ],
   "source": [
    "b"
   ]
  },
  {
   "cell_type": "code",
   "execution_count": 194,
   "metadata": {},
   "outputs": [
    {
     "output_type": "execute_result",
     "data": {
      "text/plain": "['a', 'b', 'c', 'd']"
     },
     "metadata": {},
     "execution_count": 194
    }
   ],
   "source": [
    "a"
   ]
  },
  {
   "cell_type": "code",
   "execution_count": 195,
   "metadata": {},
   "outputs": [
    {
     "output_type": "execute_result",
     "data": {
      "text/plain": "4531549824"
     },
     "metadata": {},
     "execution_count": 195
    }
   ],
   "source": [
    "id(a)"
   ]
  },
  {
   "cell_type": "code",
   "execution_count": 196,
   "metadata": {},
   "outputs": [
    {
     "output_type": "execute_result",
     "data": {
      "text/plain": "4536624896"
     },
     "metadata": {},
     "execution_count": 196
    }
   ],
   "source": [
    "id(b)"
   ]
  },
  {
   "cell_type": "code",
   "execution_count": 197,
   "metadata": {},
   "outputs": [
    {
     "output_type": "execute_result",
     "data": {
      "text/plain": "4531549824"
     },
     "metadata": {},
     "execution_count": 197
    }
   ],
   "source": [
    "id(mylist)"
   ]
  },
  {
   "cell_type": "markdown",
   "metadata": {},
   "source": [
    "<img src='./figure/fig4.jpg'>"
   ]
  },
  {
   "cell_type": "markdown",
   "metadata": {},
   "source": [
    "## Class 기본 문법\n",
    "\n",
    "- 프로그래머가 직접 객체를 정의하고 싶으면? 클래스를 이용한다. \n",
    "    - 틀, 청사진(blueprint), 공장 등에 비유하기도 한다. \n",
    "\n",
    "**1. 클래스 선언**\n",
    "\n",
    "**2. 클래스 사용 - 클래스로 객체 만들기**\n",
    "\n",
    "- 클래스를 이용하려면 클래스로 객체를 만들어야 한다. \"인스턴스\"\n",
    "\n",
    "**3. 클래스는 동작과 상태를 갖는다.** \n",
    "\n",
    "- 동작(Behavior): Methode로 표현, 일명 함수\n",
    "- 상태(State): 속성(Attribute)로 표현, 일명 변수\n",
    "- **객체는 동작은 공유하지만 상태는 공유하지 않는다.**\n",
    "\n",
    "**4. 생성자** `__init__`\n",
    "\n",
    "**5. 클래스 변수와 인스턴스 변수**\n",
    "\n",
    "- 클래스에 선언된 속성은 클래스 변수라고 하며 이 클래스에 의해 생성된 모든 객체에 대해 같은 속성(값)을 갖는다.\n",
    "- 객체가 인스턴스화 될 때마다 새로운 값이 할당되며 서로 다른 객체 간에는 속성(값)을 공유 할 수 없다."
   ]
  },
  {
   "cell_type": "markdown",
   "metadata": {},
   "source": [
    "## 1. 클래스 선언."
   ]
  },
  {
   "cell_type": "code",
   "execution_count": 42,
   "metadata": {},
   "outputs": [],
   "source": [
    "class Car:\n",
    "    pass"
   ]
  },
  {
   "cell_type": "code",
   "execution_count": 59,
   "metadata": {},
   "outputs": [],
   "source": [
    "class Car():\n",
    "    pass"
   ]
  },
  {
   "cell_type": "markdown",
   "metadata": {},
   "source": [
    "## 2. 클래스 사용\n",
    "\n",
    "- 클래스를 이용하려면 클래스로 객체를 만들어 주어야 한다.  \n",
    "- 이를 인스턴스화 라고 합니다. **\"인스턴스\"** \n",
    "- 인스턴스화 하는 방법: 클래스이름 괄호."
   ]
  },
  {
   "cell_type": "code",
   "execution_count": 60,
   "metadata": {},
   "outputs": [],
   "source": [
    "mycar = Car()"
   ]
  },
  {
   "cell_type": "code",
   "execution_count": 61,
   "metadata": {},
   "outputs": [
    {
     "output_type": "execute_result",
     "data": {
      "text/plain": "<__main__.Car at 0x10e64ed30>"
     },
     "metadata": {},
     "execution_count": 61
    }
   ],
   "source": [
    "mycar"
   ]
  },
  {
   "cell_type": "markdown",
   "metadata": {},
   "source": [
    "### 잠깐!?\n",
    "\n",
    "함수 호출이랑 비슷?"
   ]
  },
  {
   "cell_type": "code",
   "execution_count": 55,
   "metadata": {},
   "outputs": [],
   "source": [
    "def greeting():\n",
    "    print(\"hello\")\n",
    "    print(\"hi\")\n",
    "    print(\"good morning\")\n",
    "\n",
    "def circle_area(r):\n",
    "    import math\n",
    "    return r*r*math.pi"
   ]
  },
  {
   "cell_type": "code",
   "execution_count": 57,
   "metadata": {},
   "outputs": [
    {
     "output_type": "stream",
     "name": "stdout",
     "text": "hello\nhi\ngood morning\n"
    }
   ],
   "source": [
    "greeting()"
   ]
  },
  {
   "cell_type": "code",
   "execution_count": 56,
   "metadata": {},
   "outputs": [
    {
     "output_type": "execute_result",
     "data": {
      "text/plain": "3.141592653589793"
     },
     "metadata": {},
     "execution_count": 56
    }
   ],
   "source": [
    "circle_area(1)"
   ]
  },
  {
   "cell_type": "markdown",
   "metadata": {},
   "source": [
    "## 잠깐? 코딩스타일 (카멜케이스, 스네이크케이스)\n",
    "\n",
    "- 클래스에서도 상속을 사용할 때는 클래스를 선언시 소괄호를 붙이기도 하고, 초기값을 설정할 때 인스턴스화시 인자를 전달.\n",
    "- 그러니깐 클래스를 만들기에 따라 이런 `MyClass(30, 'a')`이렇게 인스턴스를 만들 때도 있다. \n",
    "- 함수와 매우 비슷하며 따라서 파이썬에서는 표기법으로 구분해서 쓸 것을 권장한다. \n",
    "    - 클래스\n",
    "        - 카멜케이스: 첫글자를 대문자로. \n",
    "            - ```class Car():```\n",
    "            - ```class NewCar():```\n",
    "        - 클래스명: 명사 \n",
    "    - 함수\n",
    "        - 스네이크 케이스: 첫글자를 대문자로 하고, 단어가 이어질때 언더바(_)로 한다. \n",
    "            - ``` def car():```\n",
    "            - ``` def new_car():```\n",
    "            - ``` def drive():```\n",
    "        - 함수명: 동사\n",
    "\n",
    "https://www.python.org/dev/peps/pep-0008/\n",
    "\n"
   ]
  },
  {
   "cell_type": "markdown",
   "metadata": {},
   "source": [
    "- mycar의\n",
    "- Car 클래스에 의해 인스턴스화 된 mycar의\n",
    "- Car의 \n",
    "- 자기 자신의\n",
    "- self"
   ]
  },
  {
   "cell_type": "markdown",
   "metadata": {},
   "source": [
    "### 3-1 Car 클래스 예제 구현\n",
    "\n",
    "Car 클래스로 돌아가서 색상을 red, 종류는 sports car라는 속성을 갖고 동작으로는 주행과 가속이라는 동작을 갖는 클래스를 정의해보기.\n",
    "\n",
    "- 속성\n",
    "    - 속성명: color, category\n",
    "    - 속성은 변수로 나타낼 수 있기 때문에 변수명 color에는 'red'를 변수명 category에는 'sports car'를 할당한다..\n",
    "    - color = 'red'\n",
    "    - category = 'sports car'\n",
    "\n",
    "- 메서드\n",
    "    - 메서드명: drive, accelerate\n",
    "    - 동작은 메서드로 나타내고 메서드 선언은 함수와 똑같이 def 키워드를 이용한다..\n",
    "    - 클래스의 메서드에서 **첫번째 인자로 꼭 self를** 써야 한다. self에 대한 설명은 조금 있다가...\n",
    "    - 주행은 drive라는 메서드명으로 정의하고 현재 스피드(current_speed)를 인자로 받습니다.\n",
    "    - 가속은 accelerate라는 메서드명으로 정의하고 현재 스피드와 얼만큼 가속할지를 인자로 받는다.  \n",
    "        - 인자명: speed_up\n"
   ]
  },
  {
   "cell_type": "code",
   "execution_count": 62,
   "metadata": {},
   "outputs": [],
   "source": [
    "class Car():\n",
    "    color = 'red'\n",
    "    category = 'sports car'\n",
    "\n",
    "    def drive(self):\n",
    "        print(\"driving\")\n",
    "    \n",
    "    def accelerate(self, speed_up, current_speed=10):\n",
    "        self.speed_up = speed_up\n",
    "        self.current_speed = current_speed + speed_up\n",
    "        print(\"speed up\", self.speed_up, \"driving at\", self.current_speed)"
   ]
  },
  {
   "cell_type": "markdown",
   "metadata": {},
   "source": [
    "### 3-2 속성과 메소드의 사용\n",
    "\n",
    "속성과 메소드에 접근하기 위해서는 인스턴스 객체에 .을 쓰고 그 뒤에 각각 속성명과 메소드 명을 입력한다. \n",
    "\n",
    "- 앞에서 메소드는 함수로 구현된다고 했습니다. 네 클래스의 메소드는 클래스 내에 정의된 함수입니다. 따라서 소괄호()를 적어 주어야 합니다.\n",
    "- 메소드에는 무조건 self라는 인자를 적어주어야 하지만 메소드를 호출할 때 self인자는 입력하지 않아도 된다.\n",
    "- accelerate메서드는 speed_up과 current_speed인자를 받게끔 되어 있습니다. \n",
    "- current_speed는 기본값이 설정되어 있기 때문에 위의 예제에서는 speed_up인자만 할당."
   ]
  },
  {
   "cell_type": "code",
   "execution_count": 63,
   "metadata": {},
   "outputs": [],
   "source": [
    "#인스턴스화\n",
    "mycar = Car()"
   ]
  },
  {
   "cell_type": "code",
   "execution_count": 74,
   "metadata": {},
   "outputs": [],
   "source": [
    "# 속성"
   ]
  },
  {
   "cell_type": "code",
   "execution_count": 64,
   "metadata": {},
   "outputs": [
    {
     "output_type": "execute_result",
     "data": {
      "text/plain": "'red'"
     },
     "metadata": {},
     "execution_count": 64
    }
   ],
   "source": [
    "mycar.color"
   ]
  },
  {
   "cell_type": "code",
   "execution_count": 66,
   "metadata": {},
   "outputs": [
    {
     "output_type": "execute_result",
     "data": {
      "text/plain": "'sports car'"
     },
     "metadata": {},
     "execution_count": 66
    }
   ],
   "source": [
    "mycar.category"
   ]
  },
  {
   "cell_type": "code",
   "execution_count": 75,
   "metadata": {},
   "outputs": [],
   "source": [
    "# 메소드"
   ]
  },
  {
   "cell_type": "code",
   "execution_count": 71,
   "metadata": {},
   "outputs": [
    {
     "output_type": "stream",
     "name": "stdout",
     "text": "driving\n"
    }
   ],
   "source": [
    "mycar.drive()"
   ]
  },
  {
   "cell_type": "code",
   "execution_count": 78,
   "metadata": {},
   "outputs": [
    {
     "output_type": "execute_result",
     "data": {
      "text/plain": "<bound method Car.drive of <__main__.Car object at 0x10e9ce730>>"
     },
     "metadata": {},
     "execution_count": 78
    }
   ],
   "source": [
    "mycar.drive \n",
    "#(*에러는 나지 않는다, 통상 함수를 이름만 쓰는 경우는 콜백함수를 바인딩 할때 함수 이름만 사용한다. 이것은 함수가 객체중의 1급 시민 객체이기 때문)\n",
    "#그러나 클래스는 위와 같은 경우는 겅의 없으므로 메소드를 꼭 괄호()를 적어주자. "
   ]
  },
  {
   "cell_type": "code",
   "execution_count": 81,
   "metadata": {},
   "outputs": [
    {
     "output_type": "stream",
     "name": "stdout",
     "text": "speed up 100 driving at 110\n"
    }
   ],
   "source": [
    "mycar.accelerate(100)"
   ]
  },
  {
   "cell_type": "markdown",
   "metadata": {},
   "source": [
    "\n",
    "## 3. 클래스의 Attribute, Method\n",
    "\n",
    "처음에 클래스는 동작과 상태를 갖는다고 했다. \n",
    "\n",
    "- 클래스의 동작은 Method(메소드)로 나타내고 이는 클래스 내에 def키워드를 써서 함수를 정의.\n",
    "- 클래스의 상태는 Attribute(속성)으로 나타내고 이는 변수로 표현."
   ]
  },
  {
   "cell_type": "markdown",
   "metadata": {},
   "source": [
    "<img src='./figure/fig2.jpg'>"
   ]
  },
  {
   "cell_type": "code",
   "execution_count": null,
   "metadata": {},
   "outputs": [],
   "source": [
    "## 객체?\n",
    "\n",
    "일반적으로 컴퓨터 공학에서 객체는 저장공간에서 할당되어 값을 가지거나 식별자에 의해 참조되는 공간을 의미하며 변수, 자료구조, 함수 등이 있습니다. \n",
    "\n",
    "절차적 프로그래밍에서 하나의 객체는 자료나 명령을 포함할 수 있지만 두 가지를 동시에 포함하지는 않는다. (명령은 프로시저나 함수의 형태를 가진다).\n",
    "\n",
    "객체지향 프로그래밍에서 객체는 클래스의 인스턴스이다. 클래스 객체는 자료와 그 자료를 다루는 명령의 조합을 포함하여 객체가 메시지를 받고 자료를 처리하며 메시지를 다른 객체로 보낼 수 있도록 한다. 실세계의 비유로 설명하자면, 가령 어떤 사람이 집에서 살기를 원할 때, 그 집의 청사진(집의 설계도)이나 축소 모형 따위는 전혀 필요가 없다. 필요한 것은 설계에 맞는 실제 집이다. 이 비유에서 청사진은 클래스를, 실제 집은 객체를 나타낸다.\n",
    "\n",
    "https://ko.wikipedia.org/wiki/%EA%B0%9D%EC%B2%B4_(%EC%BB%B4%ED%93%A8%ED%84%B0_%EA%B3%BC%ED%95%99)"
   ]
  },
  {
   "cell_type": "code",
   "execution_count": 83,
   "metadata": {},
   "outputs": [
    {
     "output_type": "stream",
     "name": "stdout",
     "text": "driving\n"
    }
   ],
   "source": [
    "mycar.drive()"
   ]
  },
  {
   "cell_type": "code",
   "execution_count": 84,
   "metadata": {},
   "outputs": [
    {
     "output_type": "error",
     "ename": "TypeError",
     "evalue": "drive() missing 1 required positional argument: 'self'",
     "traceback": [
      "\u001b[0;31m---------------------------------------------------------------------------\u001b[0m",
      "\u001b[0;31mTypeError\u001b[0m                                 Traceback (most recent call last)",
      "\u001b[0;32m<ipython-input-84-33de82e35e4a>\u001b[0m in \u001b[0;36m<module>\u001b[0;34m\u001b[0m\n\u001b[0;32m----> 1\u001b[0;31m \u001b[0mCar\u001b[0m\u001b[0;34m.\u001b[0m\u001b[0mdrive\u001b[0m\u001b[0;34m(\u001b[0m\u001b[0;34m)\u001b[0m\u001b[0;34m\u001b[0m\u001b[0;34m\u001b[0m\u001b[0m\n\u001b[0m",
      "\u001b[0;31mTypeError\u001b[0m: drive() missing 1 required positional argument: 'self'"
     ]
    }
   ],
   "source": [
    "Car.drive()"
   ]
  },
  {
   "cell_type": "code",
   "execution_count": 85,
   "metadata": {},
   "outputs": [
    {
     "output_type": "stream",
     "name": "stdout",
     "text": "driving\n"
    }
   ],
   "source": [
    "Car.drive(mycar)"
   ]
  },
  {
   "cell_type": "markdown",
   "metadata": {},
   "source": [
    "- 그러나 아무도 이렇게 구현하지 않습니다. 그리고 이렇게 절대 구현하지 마세요! \n",
    "- 코드야 어떻게든 동작하겠지만 파이썬 인터프리터가 처리해 주는 일을 너무 어렵게 구현하는 것! "
   ]
  },
  {
   "cell_type": "markdown",
   "metadata": {},
   "source": [
    "<img src='./figure/fig3.jpg'>"
   ]
  },
  {
   "cell_type": "markdown",
   "metadata": {},
   "source": [
    "- 이어서 인터프리터에서 메소드를 호출하는 동작을 보면, \n",
    "- mycar.drive()는 인터프리터에서는 Car.drive(mycar)동작한다. \n",
    "- 여기서 주목해야할 점은 클래스 메소드 인자는 최소 한개 이상을 갖는다는 것! \n",
    "    - 즉, 메소드를 호출할 때, 우리는 인자를 넣지는 않지만 파이썬 내부적으로는 (파이썬 인터프리터에서는) 인자 한개를 사용하고 있었고, 그 인자는 파이썬 클래스에의해 선언된 객체 자신(self).!!!"
   ]
  },
  {
   "cell_type": "markdown",
   "metadata": {},
   "source": [
    "### self\n",
    "\n",
    "- self?\n",
    "    - self란 자기 자신입니다.\n",
    "    - 즉, 클래스에 의해 생성된 객체 (인스턴스)를 가리킨다.\n",
    "    - 클래스의 메서드는 인자로 무조건 인스턴스를 받아야 한다.\n",
    "    - 메소드를 호출할 때는 self인자를 써주지 않아도 된다. self의 값은 인터프리터가 제공합니다.\n",
    "    - (메소드를 호출할 때 인터프리터가 현재 객체를 self에 할당합니다.)\n",
    "    - (맨 처음에 설명한 내용으로 잠시 돌아가면, 파이썬은 인터프리터 언어이고 인터프리터에 의해 코드를 실행시키죠. 즉, 코드를 실행 시킬 때 메서드의 첫번째 인자인 self값을 할당해 줍니다.)\n",
    "- 그러면 메소드안의 변수에는 왜 `self.`이라는 접두사를 붙일까요?\n",
    "    - 클래스는 메서드는 다른 객체와 공유하지만 속성은 다른 객체와 공유하지 않는다고 했다.\n",
    "    - 객체안의 변수는 속성이므로 객체 각각의 속성값으로 구분을 지어주어야 한다. 이는 클래스로 만든 객체 각각의 고유한 값이기 때문에 메서드안의 변수가 속성을 정의할 때는 `self.`이라는 접두사를 붙여 주어야 한다.\n",
    "    - 풀어쓰면 \"객체의\" 위 코드에서는 mycar의 라고 생각해 보세요 (*mycar의 speed_up은 함수의 인자로 받은 speed_up)"
   ]
  },
  {
   "cell_type": "code",
   "execution_count": 131,
   "metadata": {},
   "outputs": [],
   "source": [
    "class Car():\n",
    "    def accelerate(self, speed_up, current_speed=10):\n",
    "        self.current_speed = current_speed + speed_up\n",
    "        print(\"speed up\", self.speed_up, \"driving at\", self.current_speed)"
   ]
  },
  {
   "cell_type": "code",
   "execution_count": 132,
   "metadata": {},
   "outputs": [],
   "source": [
    "mycar = Car()"
   ]
  },
  {
   "cell_type": "code",
   "execution_count": 133,
   "metadata": {},
   "outputs": [
    {
     "output_type": "error",
     "ename": "AttributeError",
     "evalue": "'Car' object has no attribute 'speed_up'",
     "traceback": [
      "\u001b[0;31m---------------------------------------------------------------------------\u001b[0m",
      "\u001b[0;31mAttributeError\u001b[0m                            Traceback (most recent call last)",
      "\u001b[0;32m<ipython-input-133-85cc9a4f0670>\u001b[0m in \u001b[0;36m<module>\u001b[0;34m\u001b[0m\n\u001b[0;32m----> 1\u001b[0;31m \u001b[0mmycar\u001b[0m\u001b[0;34m.\u001b[0m\u001b[0maccelerate\u001b[0m\u001b[0;34m(\u001b[0m\u001b[0;36m10\u001b[0m\u001b[0;34m)\u001b[0m\u001b[0;34m\u001b[0m\u001b[0;34m\u001b[0m\u001b[0m\n\u001b[0m",
      "\u001b[0;32m<ipython-input-131-ef065125c217>\u001b[0m in \u001b[0;36maccelerate\u001b[0;34m(self, speed_up, current_speed)\u001b[0m\n\u001b[1;32m      2\u001b[0m     \u001b[0;32mdef\u001b[0m \u001b[0maccelerate\u001b[0m\u001b[0;34m(\u001b[0m\u001b[0mself\u001b[0m\u001b[0;34m,\u001b[0m \u001b[0mspeed_up\u001b[0m\u001b[0;34m,\u001b[0m \u001b[0mcurrent_speed\u001b[0m\u001b[0;34m=\u001b[0m\u001b[0;36m10\u001b[0m\u001b[0;34m)\u001b[0m\u001b[0;34m:\u001b[0m\u001b[0;34m\u001b[0m\u001b[0;34m\u001b[0m\u001b[0m\n\u001b[1;32m      3\u001b[0m         \u001b[0mself\u001b[0m\u001b[0;34m.\u001b[0m\u001b[0mcurrent_speed\u001b[0m \u001b[0;34m=\u001b[0m \u001b[0mcurrent_speed\u001b[0m \u001b[0;34m+\u001b[0m \u001b[0mspeed_up\u001b[0m\u001b[0;34m\u001b[0m\u001b[0;34m\u001b[0m\u001b[0m\n\u001b[0;32m----> 4\u001b[0;31m         \u001b[0mprint\u001b[0m\u001b[0;34m(\u001b[0m\u001b[0;34m\"speed up\"\u001b[0m\u001b[0;34m,\u001b[0m \u001b[0mself\u001b[0m\u001b[0;34m.\u001b[0m\u001b[0mspeed_up\u001b[0m\u001b[0;34m,\u001b[0m \u001b[0;34m\"driving at\"\u001b[0m\u001b[0;34m,\u001b[0m \u001b[0mself\u001b[0m\u001b[0;34m.\u001b[0m\u001b[0mcurrent_speed\u001b[0m\u001b[0;34m)\u001b[0m\u001b[0;34m\u001b[0m\u001b[0;34m\u001b[0m\u001b[0m\n\u001b[0m",
      "\u001b[0;31mAttributeError\u001b[0m: 'Car' object has no attribute 'speed_up'"
     ]
    }
   ],
   "source": [
    "mycar.accelerate(10)"
   ]
  },
  {
   "cell_type": "markdown",
   "metadata": {},
   "source": [
    "### 4. 생성자 (`__init__`)\n",
    "\n",
    "- 클래스에 의해 만든 인스턴스 객체의 속성값을 사용자가 초기화 할 수는 없을까?  \n",
    "- 파이썬 매직 메소드 `__init__`"
   ]
  },
  {
   "cell_type": "code",
   "execution_count": 134,
   "metadata": {},
   "outputs": [],
   "source": [
    "class Car():\n",
    "  color = 'red'\n",
    "  category = 'sports car'\n",
    "  def drive(self):\n",
    "      print(\"I'm driving\")\n",
    "  def accelerate(self, speed_up, current_speed=10):\n",
    "      self.speed_up = speed_up\n",
    "      self.current_speed = current_speed + speed_up\n",
    "      print(\"speed up\", self.speed_up, \"driving at\", self.current_speed)"
   ]
  },
  {
   "cell_type": "markdown",
   "metadata": {},
   "source": [
    "- 위 코드에서 Car클래스에 의해 만들어진 객체는 속성은 color과 category입니다. \n",
    "- 이값을 객체마다 다르게 나타내고 싶을 때는? \n",
    "- 파이썬 매직 메서드 중 하나인 `__init__` 을 사용해서 만들 수 있습니다."
   ]
  },
  {
   "cell_type": "code",
   "execution_count": 138,
   "metadata": {},
   "outputs": [],
   "source": [
    "class Car():\n",
    "    def __init__(self, color='red', category='sports car'):\n",
    "        self.color = color\n",
    "        self.category = category\n",
    "    def drive(self):\n",
    "        print(\"I'm driving\")\n",
    "    def accelerate(self, speed_up, current_speed=10):\n",
    "        self.speed_up = speed_up\n",
    "        self.current_speed = current_speed + speed_up\n",
    "        print(\"speed up\", self.speed_up, \"driving at\", self.current_speed)"
   ]
  },
  {
   "cell_type": "markdown",
   "metadata": {},
   "source": [
    "- __init__ 메소드안에 정의한 변수는 인스턴스 객체의 속성을 초기화 할 수 있다. \n",
    "- 즉, __init__ 메소드안에 정의된 속성(변수) color와 category는 객체를 인스턴스화 할때 값을 설정 할 수 있다. \n",
    "- 이를 객체의 초기화 라고 한다.  "
   ]
  },
  {
   "cell_type": "code",
   "execution_count": 140,
   "metadata": {},
   "outputs": [],
   "source": [
    "mycar = Car(color='yellow')"
   ]
  },
  {
   "cell_type": "code",
   "execution_count": 141,
   "metadata": {},
   "outputs": [
    {
     "output_type": "execute_result",
     "data": {
      "text/plain": "'yellow'"
     },
     "metadata": {},
     "execution_count": 141
    }
   ],
   "source": [
    "mycar.color"
   ]
  },
  {
   "cell_type": "code",
   "execution_count": 142,
   "metadata": {},
   "outputs": [],
   "source": [
    "class Car():\n",
    "    def __init__(self, color, category):\n",
    "        self.color = color\n",
    "        self.category = category\n",
    "    def drive(self):\n",
    "        print(\"I'm driving\")\n",
    "    def accelerate(self, speed_up, current_speed=10):\n",
    "        self.speed_up = speed_up\n",
    "        self.current_speed = current_speed + speed_up\n",
    "        print(\"speed up\", self.speed_up, \"driving at\", self.current_speed)"
   ]
  },
  {
   "cell_type": "markdown",
   "metadata": {},
   "source": [
    "- 다른 OOP언어를 알고있는 독자라면 '생성자'라는 말을 생각할 것입니다. \n",
    "- 다른 언어에서는 객체가 처음 만들어졌을 때 생성자를 이용해 객체 인스턴스화와 속성 초기화의 작업을 합니다.\n",
    "- 파이썬도 생성자가 있습니다. 그러나 파이썬에서는 객체 인스턴스화는 변수 할당을 통해 이루어지므로 파이썬의 생성자는 속성 초기화만을 수행 합니다.\n",
    "- 파이썬에서 속성 초기화는 `__init__`이라는 매직 메서드로 처리할 수 있습니다.\n",
    "- 매직 메서드란 변수명의 앞 뒤에 언더바가 두개씩 있는 메서드를 가리킵니다. 매직 메서드의 종류는 `__init__` 말고도 여러가지가 있습니다.\n",
    "- 모든 클래스는 표준 던더 메서드(매직 메서드)를 이용할 수 있으며, 여기서는 속성 초기화를 위한 매직 메서드 `__init__`만을 설명하겠습니다.\n",
    "- 매직 메서드에 대해 더 알아보고 싶은 분은 아래 링크 참조.   \n",
    "https://rszalski.github.io/magicmethods/"
   ]
  },
  {
   "cell_type": "markdown",
   "metadata": {},
   "source": [
    "### 5. 클래스 변수와 인스턴스 변수\n",
    "\n",
    "클래스에 변수를 선언하는 방법은 2가지가 있었다. \n",
    "\n",
    "- 하나는 보통 변수와 동일하게 변수명을 쓰고 값을 할당하는 방법 \n",
    "- 두번째는 __init__ 메소드 안에 self.와 함께 설정하는 변수. "
   ]
  },
  {
   "cell_type": "code",
   "execution_count": 150,
   "metadata": {},
   "outputs": [],
   "source": [
    "class Car():\n",
    "    Manufacture = \"India\"\n",
    "    def __init__(self, color, category='sedan'):\n",
    "        self.color = color\n",
    "        self.category = category"
   ]
  },
  {
   "cell_type": "markdown",
   "metadata": {},
   "source": [
    "2개의 변수는 무엇이 다를까요?"
   ]
  },
  {
   "cell_type": "code",
   "execution_count": 144,
   "metadata": {},
   "outputs": [],
   "source": [
    "mycar = Car('white', 'truck')\n",
    "yourcar = Car('red', 'sport-car')"
   ]
  },
  {
   "cell_type": "markdown",
   "metadata": {},
   "source": [
    "### 클래스 변수"
   ]
  },
  {
   "cell_type": "code",
   "execution_count": 145,
   "metadata": {},
   "outputs": [
    {
     "output_type": "execute_result",
     "data": {
      "text/plain": "'India'"
     },
     "metadata": {},
     "execution_count": 145
    }
   ],
   "source": [
    "mycar.Manufacture"
   ]
  },
  {
   "cell_type": "code",
   "execution_count": 146,
   "metadata": {},
   "outputs": [
    {
     "output_type": "execute_result",
     "data": {
      "text/plain": "'India'"
     },
     "metadata": {},
     "execution_count": 146
    }
   ],
   "source": [
    "yourcar.Manufacture"
   ]
  },
  {
   "cell_type": "markdown",
   "metadata": {},
   "source": [
    "### 인스턴스 변수"
   ]
  },
  {
   "cell_type": "code",
   "execution_count": 147,
   "metadata": {},
   "outputs": [
    {
     "output_type": "execute_result",
     "data": {
      "text/plain": "'white'"
     },
     "metadata": {},
     "execution_count": 147
    }
   ],
   "source": [
    "mycar.color"
   ]
  },
  {
   "cell_type": "code",
   "execution_count": 148,
   "metadata": {},
   "outputs": [
    {
     "output_type": "execute_result",
     "data": {
      "text/plain": "'red'"
     },
     "metadata": {},
     "execution_count": 148
    }
   ],
   "source": [
    "yourcar.color"
   ]
  },
  {
   "cell_type": "markdown",
   "metadata": {},
   "source": [
    "**클래스 변수**\n",
    "\n",
    "- 클래스에 선언된 속성을 클래스 변수라고 하며 클래스에 의해 생성된 **모든 객체에서 같은 값을 조회**할 때 가능합니다.\n",
    "- Manufacture는 클래스 변수에요\n",
    "- Manufacture속성은 car1과 car2의 속성은 공유 됩니다.\n",
    "- (Public)"
   ]
  },
  {
   "cell_type": "markdown",
   "metadata": {},
   "source": [
    "**인스턴스변수**\n",
    "\n",
    "- `__init__()` 안에 선언된 변수를 인스턴스 변수라고 합니다. 객체가 인스턴스화 될 때마다 새로운 값이 할당되며 서로 다른 객체 간에는 값을 공유할 수 없습니다.\n",
    "- color와 category는 인스턴스 변수에요\n",
    "- color와 category속성은 car1과 car2에서 공유되지 않습니다.\n",
    "- (Private)"
   ]
  },
  {
   "cell_type": "markdown",
   "metadata": {},
   "source": [
    "객체 단위로 변경되는 변수는 인스턴스 변수로 선언하세요!!!"
   ]
  },
  {
   "cell_type": "markdown",
   "metadata": {},
   "source": [
    "## 예제 한도 초과 문제, 변형!\n",
    "- 계좌\n",
    "    - 잔액을 입력하고\n",
    "    - 예금(deposit)\n",
    "    - 인출(withdraw)\n",
    "        - 단 마이너스 통장이므로, -인출도 가능하다. \n",
    "    - 잔액을 조회하는 기능 구현"
   ]
  },
  {
   "cell_type": "code",
   "execution_count": 158,
   "metadata": {},
   "outputs": [],
   "source": [
    "class Acount():\n",
    "    def __init__(self, balance):\n",
    "        self.balance = balance\n",
    "    def deposit(self, money):\n",
    "        self.balance += money\n",
    "    def withdraw(self, money):\n",
    "        self.balance -= money\n",
    "    def inquire(self):\n",
    "        print(\"잔액은 {}원 입니다.\".format(self.balance))"
   ]
  },
  {
   "cell_type": "code",
   "execution_count": 159,
   "metadata": {},
   "outputs": [],
   "source": [
    "kakao = Acount(1000)"
   ]
  },
  {
   "cell_type": "code",
   "execution_count": 160,
   "metadata": {},
   "outputs": [
    {
     "output_type": "stream",
     "name": "stdout",
     "text": "잔액은 1000원 입니다.\n"
    }
   ],
   "source": [
    "kakao.inquire()"
   ]
  },
  {
   "cell_type": "code",
   "execution_count": 161,
   "metadata": {},
   "outputs": [],
   "source": [
    "kakao.withdraw(10000)"
   ]
  },
  {
   "cell_type": "code",
   "execution_count": 162,
   "metadata": {},
   "outputs": [
    {
     "output_type": "stream",
     "name": "stdout",
     "text": "잔액은 -9000원 입니다.\n"
    }
   ],
   "source": [
    "kakao.inquire()"
   ]
  },
  {
   "cell_type": "code",
   "execution_count": 163,
   "metadata": {},
   "outputs": [],
   "source": [
    "kakao.deposit(20000)"
   ]
  },
  {
   "cell_type": "code",
   "execution_count": 164,
   "metadata": {},
   "outputs": [
    {
     "output_type": "stream",
     "name": "stdout",
     "text": "잔액은 11000원 입니다.\n"
    }
   ],
   "source": [
    "kakao.inquire()"
   ]
  },
  {
   "cell_type": "code",
   "execution_count": null,
   "metadata": {},
   "outputs": [],
   "source": []
  },
  {
   "cell_type": "code",
   "execution_count": null,
   "metadata": {},
   "outputs": [],
   "source": []
  },
  {
   "cell_type": "markdown",
   "metadata": {},
   "source": [
    "## Summaray\n",
    "\n",
    "1. 클래스 선언\n",
    "2. 클래스 사용 - 인스턴스화 객체라는 말...\n",
    "\n",
    "    2-1. 함수 호출과 똑같다. 따라서 네이밍관련 규약(PEP8 Code-Style Guide), 클린코드\n",
    "\n",
    "3. 클래스의 속성과 메소드 (속성- 상태(), 메소드-(동작))\n",
    "\n",
    "    3-1 속성: 변수\n",
    "\n",
    "    3-2 메소드: 함수(def) \n",
    "        \n",
    "        - 인자. self\n",
    "        - slef.\n",
    "        \n",
    "    3-3 self, 자기 자신, \n",
    "\n",
    "        - 첫번째 매개변수(parameter)는 self\n",
    "        - 변수 선언시 self. \n",
    "        (*매개변수(parameter)는 함수 입력으로 들어갈 변수를 지정해 주는 것이고, 실제로 입력에 값을 대입할때는 인자(argument)라고 한다.)\n",
    "        - 파이썬 인터프리터에 의해 호출, \n",
    "        \n",
    "    3-4 메소드와 속성 값에 접근하는법\n",
    "\n",
    "4. 생성자 (`__init__`)\n",
    "\n",
    "- 클래스에 의해 만든 인스턴스 객체의 속성값을 사용자가 초기화 할 수는 없을까?  \n",
    "- 파이썬 매직 메소드 `__init__`\n",
    "- 위 코드에서 Car클래스에 의해 만들어진 객체는 속성은 color과 category입니다. \n",
    "- 이값을 객체마다 다르게 나타내고 싶을 때는? \n",
    "- 파이썬 매직 메서드 중 하나인 `__init__` 을 사용해서 만든다. \n",
    "- 처음에 클래스를 instance화 시킬 때, 값을 대입\n",
    "\n",
    "\n",
    "5. 클래스 변수와 인스턴스 변수\n",
    "\n",
    "클래스에 변수를 선언하는 방법은 2가지가 있었다. \n",
    "\n",
    "- 하나는 보통 변수와 동일하게 변수명을 쓰고 값을 할당하는 방법 \n",
    "- 두번째는 __init__ 메소드 안에 self.와 함께 설정하는 변수. "
   ]
  },
  {
   "cell_type": "markdown",
   "metadata": {},
   "source": [
    "## 예제 문제 (클래스 사용 아님)\n",
    "\n",
    "다음 문장에 나오는 단어의 빈도수를 카운트해보세요. \n",
    "\n",
    "- test = '''The core of extensible programming is defining functions. Python allows mandatory and optional arguments, keyword arguments, and even arbitrary argument lists.'''\n",
    "- result1 \n",
    "\n",
    "- result2\n",
    "    - 문장 부호(쉼표, 마침표)도 같이 제거해 주세요."
   ]
  },
  {
   "cell_type": "code",
   "execution_count": 200,
   "metadata": {},
   "outputs": [],
   "source": [
    "test = '''The core of extensible programming is defining functions. Python allows mandatory and optional arguments, keyword arguments, and even arbitrary argument lists.'''"
   ]
  },
  {
   "cell_type": "code",
   "execution_count": 201,
   "metadata": {},
   "outputs": [],
   "source": [
    "word = test.split()\n",
    "wordcount = {}\n",
    "for i in word:\n",
    "    if i not in wordcount.keys():\n",
    "        wordcount[i] = 1\n",
    "    else:\n",
    "        wordcount[i] += 1"
   ]
  },
  {
   "cell_type": "code",
   "execution_count": 202,
   "metadata": {},
   "outputs": [
    {
     "output_type": "execute_result",
     "data": {
      "text/plain": "{'The': 1,\n 'core': 1,\n 'of': 1,\n 'extensible': 1,\n 'programming': 1,\n 'is': 1,\n 'defining': 1,\n 'functions.': 1,\n 'Python': 1,\n 'allows': 1,\n 'mandatory': 1,\n 'and': 2,\n 'optional': 1,\n 'arguments,': 2,\n 'keyword': 1,\n 'even': 1,\n 'arbitrary': 1,\n 'argument': 1,\n 'lists.': 1}"
     },
     "metadata": {},
     "execution_count": 202
    }
   ],
   "source": [
    "wordcount"
   ]
  },
  {
   "cell_type": "code",
   "execution_count": 203,
   "metadata": {},
   "outputs": [],
   "source": [
    "class CountFromBy:\n",
    "    def __init__(self, v, i):\n",
    "        self.val = v\n",
    "        self.incr = i\n",
    "    def increase(Self):\n",
    "        self.val += self.incr"
   ]
  },
  {
   "cell_type": "markdown",
   "metadata": {},
   "source": [
    "## 클래스 문법 - 이어서... \n",
    "\n",
    "6. 상속\n",
    "\n",
    "- 상속(Inheritance)?\n",
    "- 상속 하는 방법\n",
    "- 메소드 추가하기\n",
    "- 메소드 오버라이드\n",
    "- super()\n",
    "    \n",
    "7. 매직 메서드"
   ]
  },
  {
   "cell_type": "markdown",
   "metadata": {},
   "source": [
    "### 6. 상속(Inheritance)\n",
    "\n",
    "기존의 클래스에 메소드 기능 몇개만 추가하고 싶을때..? \n",
    "\n",
    "예를 들어 우리는 앞서 Car라는 클래스를 선언했습니다. "
   ]
  },
  {
   "cell_type": "code",
   "execution_count": 205,
   "metadata": {},
   "outputs": [],
   "source": [
    "class Car:\n",
    "    Manufacture = \"India\"\n",
    "    def __init__(self, color='red', category='sedan'):\n",
    "        self.color = color\n",
    "        self.category = category\n",
    "    def drive(self):\n",
    "        print(\"I'm driving\")\n",
    "    def accelerate(self, speed_up, current_speed=10):\n",
    "        self.speed_up = speed_up\n",
    "        self.current_speed = current_speed + self.speed_up\n",
    "        print(\"speed up\", self.speed_up, \"driving at\", self.current_speed)"
   ]
  },
  {
   "cell_type": "code",
   "execution_count": 206,
   "metadata": {},
   "outputs": [],
   "source": [
    "class NewCar(Car):\n",
    "    pass"
   ]
  },
  {
   "cell_type": "code",
   "execution_count": 207,
   "metadata": {},
   "outputs": [],
   "source": [
    "mycar = NewCar()"
   ]
  },
  {
   "cell_type": "code",
   "execution_count": 208,
   "metadata": {},
   "outputs": [
    {
     "output_type": "stream",
     "name": "stdout",
     "text": "I'm driving\n"
    }
   ],
   "source": [
    "mycar.drive()"
   ]
  },
  {
   "cell_type": "code",
   "execution_count": 210,
   "metadata": {},
   "outputs": [
    {
     "output_type": "execute_result",
     "data": {
      "text/plain": "'red'"
     },
     "metadata": {},
     "execution_count": 210
    }
   ],
   "source": [
    "mycar.color"
   ]
  },
  {
   "cell_type": "code",
   "execution_count": 211,
   "metadata": {},
   "outputs": [
    {
     "output_type": "execute_result",
     "data": {
      "text/plain": "'India'"
     },
     "metadata": {},
     "execution_count": 211
    }
   ],
   "source": [
    "mycar.Manufacture"
   ]
  },
  {
   "cell_type": "markdown",
   "metadata": {},
   "source": [
    "- 상속 받은 클래스를 자식 클래스, SubClass, derived Class (파생된 클래스) 라고 합니다.\n",
    "- 기존 클래스를 부모 클래스, SuperClass, Base Class(베이스 클래스) 라고 합니다."
   ]
  },
  {
   "cell_type": "markdown",
   "metadata": {},
   "source": [
    "### 6-1 메소드 추가"
   ]
  },
  {
   "cell_type": "code",
   "execution_count": 212,
   "metadata": {},
   "outputs": [],
   "source": [
    "class NewCar(Car):\n",
    "    def fly(self):\n",
    "        print(\"I'm flying!! this is new car!!\")"
   ]
  },
  {
   "cell_type": "markdown",
   "metadata": {},
   "source": [
    "### 6-2 메소드 재정의"
   ]
  },
  {
   "cell_type": "code",
   "execution_count": 220,
   "metadata": {},
   "outputs": [],
   "source": [
    "class NewCar(Car):\n",
    "    def fly(self):\n",
    "        print(\"I'm flying!! this is new car!!\")\n",
    "    def drive(self, g='D'):\n",
    "        if g == 'D':\n",
    "            print('driving')\n",
    "        elif g == 'R':\n",
    "            print('reverse driving')\n",
    "        elif g == 'P':\n",
    "            print('Parked')"
   ]
  },
  {
   "cell_type": "code",
   "execution_count": 221,
   "metadata": {},
   "outputs": [],
   "source": [
    "a = NewCar()"
   ]
  },
  {
   "cell_type": "code",
   "execution_count": 224,
   "metadata": {},
   "outputs": [
    {
     "output_type": "stream",
     "name": "stdout",
     "text": "Parked\n"
    }
   ],
   "source": [
    "a.drive('P')"
   ]
  },
  {
   "cell_type": "markdown",
   "metadata": {},
   "source": [
    "- fly() : 메소드 추가\n",
    "- drive() : 메소드 재정의"
   ]
  },
  {
   "cell_type": "markdown",
   "metadata": {},
   "source": [
    "### 6-3 super() : 부모에게 도움받기\n",
    "\n",
    "super()는 파이썬 내장함수 입니다. \n",
    "\n",
    "[Built-in Functions - Python 3.8.2 documentation]\n",
    "(https://docs.python.org/3/library/functions.html#super)\n",
    "\n",
    "자식 클래스에서 부모 클래스의 메소드를 호출하고 싶을때 사용합니다. 근데 조금 이상하네요. 자식 클래스는 부모 클래스의 메소드를 그대로 이어 받을 수 있는데 굳이 왜 또 메소드를 호출해야 할까요? 어떤경우에 발생할까요?"
   ]
  },
  {
   "cell_type": "code",
   "execution_count": 229,
   "metadata": {},
   "outputs": [],
   "source": [
    "# 파이썬 공식문서"
   ]
  },
  {
   "cell_type": "markdown",
   "metadata": {},
   "source": [
    "Car 클래스를 상속받은 NewCar 클래스의 초기화 함수(생성자) `__init__()` 메소드에 color, category기능은 동일하게 유지한채 maker를 추가한다고 할 때,\n",
    "\n",
    "super()를 사용한다. "
   ]
  },
  {
   "cell_type": "code",
   "execution_count": 226,
   "metadata": {},
   "outputs": [],
   "source": [
    "class NewCar(Car):\n",
    "    def __init__(self, color, category, maker):\n",
    "        super().__init__(color)\n",
    "        super().__init__(category)\n",
    "        self.maker = maker\n",
    "    def fly(self):\n",
    "        print(\"I'm flying!! this is new car!!\")\n",
    "    def accelerate(self, speed_up, level=1, current_speed=10):\n",
    "        self.boost[level] = {1 : 0, 2 : 30, 3 : 50}\n",
    "        self.speed_up = speed_up + self.boost[level]\n",
    "        self.current_speed = current_speed + self.speed_up\n",
    "        print(\"speed up\", self.speed_up, \"driving at\", self.current_speed)"
   ]
  },
  {
   "cell_type": "markdown",
   "metadata": {},
   "source": [
    "이렇게는 안될까?"
   ]
  },
  {
   "cell_type": "code",
   "execution_count": null,
   "metadata": {},
   "outputs": [],
   "source": [
    "class NewCar(Car):\n",
    "    def __init__(self, color, category, maker):\n",
    "\t\tself.color = color\n",
    "        self.category = category\n",
    "        self.maker = maker"
   ]
  },
  {
   "cell_type": "markdown",
   "metadata": {},
   "source": [
    "물론 이렇게도 정의할 수 있습니다. 그렇지만 이렇게 정의하는건 color, category구현 동작은 동일하지만 상속을 사용하지 않는 것입니다. super() 함수를 이용하면 상속을 받았다는 것을 알 수 있습니다. "
   ]
  },
  {
   "cell_type": "markdown",
   "metadata": {},
   "source": [
    "\n",
    "- super() 는 부모 클래스의 를 뜻합니다.\n",
    "- 위 코드에서  `super().__init__(color)`은 NewCar의 부모클래스 Car의 `__init__()`  메소드를 호출한다는 뜻이고, 괄호안의 color를 적었기 때문에 `__init__()`의 color인자를 호출한다는 뜻입니다.\n",
    "- 부모 클래스의 변경사항이 그대로 자식클래스에 반영됩니다."
   ]
  },
  {
   "cell_type": "code",
   "execution_count": 231,
   "metadata": {},
   "outputs": [
    {
     "output_type": "stream",
     "name": "stdout",
     "text": "2020Y sedan\n"
    }
   ],
   "source": [
    "class Car:\n",
    "    Manufacture = \"India\"\n",
    "    def __init__(self, color='red', category='sedan'):\n",
    "        self.color = color \n",
    "        self.category = '2020Y '+ category\n",
    "\n",
    "class NewCar(Car):\n",
    "    def __init__(self, color, category, maker):\n",
    "        super().__init__(color)\n",
    "        super().__init__(category)\n",
    "        self.maker = maker\n",
    "\n",
    "newcar = NewCar('red','sports car', 'Kia')\n",
    "\n",
    "print(newcar.category)"
   ]
  },
  {
   "cell_type": "code",
   "execution_count": null,
   "metadata": {},
   "outputs": [],
   "source": []
  }
 ],
 "metadata": {
  "language_info": {
   "codemirror_mode": {
    "name": "ipython",
    "version": 3
   },
   "file_extension": ".py",
   "mimetype": "text/x-python",
   "name": "python",
   "nbconvert_exporter": "python",
   "pygments_lexer": "ipython3",
   "version": "3.8.2-final"
  },
  "orig_nbformat": 2,
  "kernelspec": {
   "name": "python37464bit2ca5af9ea4dd4c818af2de9ba3f7b37b",
   "display_name": "Python 3.7.4 64-bit"
  }
 },
 "nbformat": 4,
 "nbformat_minor": 2
}