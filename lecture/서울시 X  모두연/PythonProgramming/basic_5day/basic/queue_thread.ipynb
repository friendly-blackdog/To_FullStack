{
 "cells": [
  {
   "cell_type": "markdown",
   "metadata": {},
   "source": [
    "# 멀티 프로세스와 멀티 스레드\n",
    "\n",
    "## 멀티 프로세스\n",
    "\n",
    "- 멀티 프로세스는 별도의 메모리 영역을 가진다. \n",
    "- 각 프로세스는 독립적인 stack, heap, code, data영역을 가진다. \n",
    "- 특별한 메커니즘으로만 통신 가능하다. (IPC: inter process communication), 시그널, 메시지 큐, 파이프, 파일 \n",
    "- 파이썬에서는 subprocess 모듈을 사용한다. \n",
    "\n",
    "## 멀티 스레드 \n",
    "\n",
    "- 단일 프로세스 내의 멀티 스레드는 동일한 메모리에 접근한다. \n",
    "- 스레드는 데이터 공유를 통해 간단하게 통신한다. \n",
    "- threading 모듈 처리를 통해 한번에 한 스레드만 메모리 영역에 접근할 수 있다. \n",
    "- 한 프로세스에 속한 스레드는 stack영역을 제외한 메모리 영역을 공유한다.\n",
    "- GIL?"
   ]
  },
  {
   "cell_type": "markdown",
   "metadata": {},
   "source": [
    "## 동시성(concurrency)\n",
    "\n",
    "- 논리적으로 여러 작업이 동시에 실행되는 것처럼 보이는 것이다. \n",
    "- 예를 들어 I/O(파일 및 네트워크 소켓 입력 및 출력)연산 등은 프로그램의 흐름에 큰 짐이 될 수 있다. \n",
    "- 이럴 때 한 작업의 I/O연산이 완료되기를 기다리는 동안 다른 작업을 수행하여 유휴 시간을 활용하는 것이 동시성이다. \n",
    "\n",
    "## 병렬성(parallelism)\n",
    "\n",
    "- 물리적으로 여러 작업이 동시에 처리되는 것이다. \n",
    "- 데이터 병렬성과 작업 병렬성으로 나눌 수 있다. \n",
    "- 데이터 병렬성은 같은 작업을 병렬처리하는 것이다. \n",
    "- 하나의 커다란 작업에서 전체 데이터를 쪼갠 후 병렬처리하면 작업을 빠르게 수행할 수 있다. \n",
    "- 작업 병렬성은 서로 다른 작업을 병렬처리하는 것이다. 웹 서버에서는 다수의 독립적인 요청을 병렬로 개별적으로 처리할 수 있다. "
   ]
  },
  {
   "cell_type": "markdown",
   "metadata": {},
   "source": [
    "## 6.1.1 subprocess 모듈\n",
    "\n",
    "subprocess모듈은 부모-자식 프로세스 쌍을 생성하는 데 사용된다. \n",
    "부모 프로세스는 사용자에 의해 실행된다. \n",
    "부모 프로세스는 차례로 다른 일을 처리하는 자식 프로세스의 인스턴스를 실행한다. \n",
    "자식 프로세스를 사용함으로써, 멀티코어의 이점을 최대한 취하고 동시성 문제를 운영체제가 알아서 처리하도록 한다. "
   ]
  },
  {
   "cell_type": "code",
   "execution_count": 1,
   "metadata": {},
   "outputs": [
    {
     "output_type": "execute_result",
     "data": {
      "text/plain": "CompletedProcess(args=['echo', '이것은 subprocess입니다.'], returncode=0)"
     },
     "metadata": {},
     "execution_count": 1
    }
   ],
   "source": [
    "import subprocess\n",
    "subprocess.run(['echo', '이것은 subprocess입니다.'])"
   ]
  },
  {
   "cell_type": "code",
   "execution_count": 3,
   "metadata": {},
   "outputs": [
    {
     "output_type": "execute_result",
     "data": {
      "text/plain": "CompletedProcess(args=['echo', '이것은 subprocess입니다.'], returncode=0)"
     },
     "metadata": {},
     "execution_count": 3
    }
   ],
   "source": [
    "subprocess.CompletedProcess(args=['echo', '이것은 subprocess입니다.'], returncode=0)"
   ]
  },
  {
   "cell_type": "code",
   "execution_count": 4,
   "metadata": {},
   "outputs": [
    {
     "output_type": "execute_result",
     "data": {
      "text/plain": "CompletedProcess(args=['sleep', '10'], returncode=0)"
     },
     "metadata": {},
     "execution_count": 4
    }
   ],
   "source": [
    "subprocess.run(['sleep','10'])"
   ]
  },
  {
   "cell_type": "markdown",
   "metadata": {},
   "source": [
    "## 6.1.2 threading 모듈\n",
    "\n",
    "스레드가 여러 개로 분리되면 스레드 간 데이터 공유의 복잡성이 증가한다. 또한 락과 데드락을 회피하는데 주의를 기울여야한다. \n",
    "파이썬 프로그램에는 단 하나의 메인 스레드만 존재한다. 멀티스레드를 사용하려면 threading모듈을 사용한다. \n",
    "\n",
    "내부적으로 락을 관리하려면 queue모듈을 사용한다. 큐에 의존하면 자원의 접근을 직렬화할 수 있고, 이는 곧 한 번에 하나의 스레드만 데이터에 접근할 수 있게 한다는 뜻이다. 실행 중인 스레드가 있는 동안에는 프로그램은 종료되지 않는다. \n",
    "\n",
    "워커 스레드가 작업을 완료했는데도 프로그램이 종료되지 않고 계속 실행되는 경우 문제가 될 수 있다. 스레드를 데몬으로 변환하면 데몬 스레드가 실해되지 않는 즉시 프로그램이 종료된다. \n",
    "\n",
    "queue.join()메서드는 큐가 빌 때 까지 (큐의 모든 항목이 처리될 때까지)기다린다."
   ]
  },
  {
   "cell_type": "code",
   "execution_count": 5,
   "metadata": {},
   "outputs": [
    {
     "output_type": "stream",
     "name": "stdout",
     "text": "스레드 3: 처리 완료 0스레드 1: 처리 완료 1스레드 5: 처리 완료 2스레드 2: 처리 완료 3스레드 4: 처리 완료 4\n스레드 1: 처리 완료 5\n스레드 1: 처리 완료 6\n스레드 1: 처리 완료 7\n스레드 1: 처리 완료 8\n스레드 1: 처리 완료 9\n스레드 1: 처리 완료 10\n스레드 1: 처리 완료 11\n스레드 1: 처리 완료 12\n스레드 1: 처리 완료 13\n스레드 1: 처리 완료 14\n스레드 1: 처리 완료 15\n스레드 1: 처리 완료 16\n스레드 1: 처리 완료 17\n스레드 1: 처리 완료 18\n스레드 1: 처리 완료 19\n\n\n\n\n"
    }
   ],
   "source": [
    "import queue\n",
    "import threading\n",
    "\n",
    "q = queue.Queue()\n",
    "\n",
    "def worker(num):\n",
    "    while True:\n",
    "        item = q.get()\n",
    "        if item is None:\n",
    "            break\n",
    "        print(\"스레드 {0}: 처리 완료 {1}\".format(num+1, item))\n",
    "        q.task_done()\n",
    "\n",
    "if __name__ == \"__main__\":\n",
    "    num_worker_threads = 5\n",
    "    threads = []\n",
    "    for i in range(num_worker_threads):\n",
    "        t = threading.Thread(target=worker, args=(i, ))\n",
    "        t.start()\n",
    "        threads.append(t)\n",
    "    \n",
    "    for item in range(20):\n",
    "        q.put(item)\n",
    "    \n",
    "    q.join()\n",
    "\n",
    "    for i in range(num_worker_threads):\n",
    "        q.put(None)\n",
    "    for t in threads:\n",
    "        t.join()"
   ]
  },
  {
   "cell_type": "code",
   "execution_count": null,
   "metadata": {},
   "outputs": [],
   "source": []
  },
  {
   "cell_type": "markdown",
   "metadata": {},
   "source": [
    "## Queue (FIFO)"
   ]
  },
  {
   "cell_type": "code",
   "execution_count": null,
   "metadata": {},
   "outputs": [],
   "source": [
    "import queue\n",
    "\n",
    "q = queue.Queue()\n",
    "ql = []\n",
    "\n",
    "for i in range(5):\n",
    "    q.put(i)\n",
    "    ql.append(i)\n",
    "\n",
    "while not q.empty():\n",
    "    print(q.get())\n",
    "\n",
    "print(ql)"
   ]
  },
  {
   "cell_type": "markdown",
   "metadata": {},
   "source": [
    "## Queue(LIFO) = Stack"
   ]
  },
  {
   "cell_type": "code",
   "execution_count": null,
   "metadata": {},
   "outputs": [],
   "source": [
    "import queue\n",
    "\n",
    "q = queue.LifoQueue()\n",
    "ql = []\n",
    "\n",
    "for i in range(5):\n",
    "    q.put(i)\n",
    "    ql.append(i)\n",
    "\n",
    "while not q.empty():\n",
    "    print(q.get())\n",
    "print(ql)"
   ]
  },
  {
   "cell_type": "markdown",
   "metadata": {},
   "source": [
    "## Priority Queue"
   ]
  },
  {
   "cell_type": "code",
   "execution_count": null,
   "metadata": {},
   "outputs": [],
   "source": [
    "import threading, queue\n",
    "\n",
    "q = queue.Queue()\n",
    "\n",
    "def worker():\n",
    "    while True:\n",
    "        item = q.get()\n",
    "        print(f'Working on {item}')\n",
    "        print(f'Finished {item}')\n",
    "        q.task_done()\n",
    "\n",
    "# turn-on the worker thread\n",
    "threading.Thread(target=worker, daemon=True).start()\n",
    "\n",
    "# send thirty task requests to the worker\n",
    "for item in range(30):\n",
    "    q.put(item)\n",
    "print('All task requests sent\\n', end='')\n",
    "\n",
    "# block until all tasks are done\n",
    "q.join()\n",
    "print('All work completed')"
   ]
  },
  {
   "cell_type": "markdown",
   "metadata": {},
   "source": [
    "## 제곱과 세제곱 구하는 함수."
   ]
  },
  {
   "cell_type": "code",
   "execution_count": null,
   "metadata": {},
   "outputs": [],
   "source": [
    "import time\n",
    "\n",
    "num = 11\n",
    "numbers = range(1, num)\n",
    "\n",
    "def square(numbers):\n",
    "    for n in numbers:\n",
    "        time.sleep(1)\n",
    "        if n == num-1:\n",
    "            print('square', n, n*n)\n",
    "\n",
    "def cube(numbers):\n",
    "    for n in numbers:\n",
    "        time.sleep(1)\n",
    "        if n == num-1:\n",
    "            print('cube',n, n*n*n)\n",
    "\n",
    "start = time.time()\n",
    "square(numbers)\n",
    "cube(numbers)\n",
    "end = time.time()\n",
    "time = end - start\n",
    "time"
   ]
  },
  {
   "cell_type": "code",
   "execution_count": null,
   "metadata": {},
   "outputs": [],
   "source": [
    "import time\n",
    "import threading\n",
    "\n",
    "num = 11\n",
    "numbers = range(1, num)\n",
    "\n",
    "def square(numbers):\n",
    "    for n in numbers:\n",
    "        time.sleep(1)\n",
    "        if n == num-1:\n",
    "            print('square', n, n*n)\n",
    "\n",
    "def cube(numbers):\n",
    "    for n in numbers:\n",
    "        time.sleep(1)\n",
    "        if n == num-1:\n",
    "            print('cube',n, n*n*n)\n",
    "\n",
    "\n",
    "start = time.time()\n",
    "t1 = threading.Thread(target=square, args=(numbers,))\n",
    "t2 = threading.Thread(target=cube, args=(numbers,))\n",
    "t1.start()\n",
    "t2.start()\n",
    "t1.join()\n",
    "t2.join()\n",
    "\n",
    "cube(numbers)\n",
    "end = time.time()\n",
    "time = end - start\n",
    "time"
   ]
  },
  {
   "cell_type": "markdown",
   "metadata": {},
   "source": [
    "## Thread"
   ]
  },
  {
   "cell_type": "code",
   "execution_count": null,
   "metadata": {},
   "outputs": [],
   "source": [
    "import time\n",
    "\n",
    "def countdown(n):\n",
    "    while n > 0:\n",
    "        print('Count Down', n)\n",
    "        n -= 1\n",
    "        time.sleep(3)\n",
    "\n",
    "from threading import Thread\n",
    "t = Thread(target=countdown, args=(10, ))\n",
    "t.start()"
   ]
  },
  {
   "cell_type": "markdown",
   "metadata": {},
   "source": [
    "## process"
   ]
  },
  {
   "cell_type": "code",
   "execution_count": 2,
   "metadata": {},
   "outputs": [
    {
     "output_type": "stream",
     "name": "stdout",
     "text": "28698\n501\n20\n/Users/jooyoungson/Sample/PythonProgramming/basic\n"
    }
   ],
   "source": [
    "import os\n",
    "\n",
    "print(os.getpid()) # process ID\n",
    "print(os.getuid()) # user ID\n",
    "print(os.getgid()) # group ID\n",
    "print(os.getcwd()) # current directory"
   ]
  },
  {
   "cell_type": "code",
   "execution_count": null,
   "metadata": {},
   "outputs": [],
   "source": []
  },
  {
   "cell_type": "code",
   "execution_count": null,
   "metadata": {},
   "outputs": [],
   "source": []
  }
 ],
 "metadata": {
  "language_info": {
   "codemirror_mode": {
    "name": "ipython",
    "version": 3
   },
   "file_extension": ".py",
   "mimetype": "text/x-python",
   "name": "python",
   "nbconvert_exporter": "python",
   "pygments_lexer": "ipython3",
   "version": "3.8.2-final"
  },
  "orig_nbformat": 2,
  "kernelspec": {
   "name": "python37464bit2ca5af9ea4dd4c818af2de9ba3f7b37b",
   "display_name": "Python 3.7.4 64-bit"
  }
 },
 "nbformat": 4,
 "nbformat_minor": 2
}