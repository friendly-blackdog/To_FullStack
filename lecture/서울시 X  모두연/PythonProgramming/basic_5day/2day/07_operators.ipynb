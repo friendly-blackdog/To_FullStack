{
 "cells": [
  {
   "cell_type": "markdown",
   "metadata": {
    "slideshow": {
     "slide_type": "slide"
    }
   },
   "source": [
    "## 연산자 : Operators\n",
    "\n",
    "1. 산술 연산자\n",
    "1. 비교 연산자\n",
    "1. 할당 연산자\n",
    "1. 논리 연산자\n",
    "1. 멤버 연산자"
   ]
  },
  {
   "cell_type": "markdown",
   "metadata": {
    "slideshow": {
     "slide_type": "slide"
    }
   },
   "source": [
    "### 1. 산술 연산자 (Arithmetic Operators) \n",
    "\n",
    "- `+` : 덧셈\n",
    "- `-` : 뺄셈\n",
    "- `*` : 곱셈\n",
    "- `/` : 나눗셈\n",
    "- `//` : 몫\n",
    "- `%` : 나머지\n",
    "- `**` : 제곱"
   ]
  },
  {
   "cell_type": "code",
   "execution_count": 1,
   "metadata": {
    "slideshow": {
     "slide_type": "slide"
    }
   },
   "outputs": [
    {
     "name": "stdout",
     "output_type": "stream",
     "text": [
      "6\n",
      "-2\n",
      "8\n",
      "3.3333333333333335\n",
      "3\n",
      "1\n",
      "81\n"
     ]
    }
   ],
   "source": [
    "print(2 + 4)\n",
    "print(2 - 4)\n",
    "print(2 * 4)\n",
    "print(10 / 3)\n",
    "print(10 // 3)  # 몫을 구함\n",
    "print(10 % 3)  # 나머지를 구함\n",
    "print(3 ** 4)  # 제곱"
   ]
  },
  {
   "cell_type": "markdown",
   "metadata": {
    "slideshow": {
     "slide_type": "slide"
    }
   },
   "source": [
    "부동 소수점 문제 : 10 진수를 2진수로 변환할때 발생하는 문제 (정확성은 16 ~ 17자리)\n",
    "\n",
    "- [부동소수점 표현 방법 영상](https://www.youtube.com/watch?v=8afbTaA-gOQ)"
   ]
  },
  {
   "cell_type": "code",
   "execution_count": 2,
   "metadata": {
    "slideshow": {
     "slide_type": "slide"
    }
   },
   "outputs": [
    {
     "data": {
      "text/plain": [
       "0.30000000000000004"
      ]
     },
     "execution_count": 2,
     "metadata": {},
     "output_type": "execute_result"
    }
   ],
   "source": [
    "0.1 + 0.2"
   ]
  },
  {
   "cell_type": "code",
   "execution_count": 3,
   "metadata": {},
   "outputs": [
    {
     "data": {
      "text/plain": [
       "False"
      ]
     },
     "execution_count": 3,
     "metadata": {},
     "output_type": "execute_result"
    }
   ],
   "source": [
    "(0.1 + 0.2) == 0.3"
   ]
  },
  {
   "cell_type": "markdown",
   "metadata": {
    "slideshow": {
     "slide_type": "slide"
    }
   },
   "source": [
    "해결 방법 1 : 반올림"
   ]
  },
  {
   "cell_type": "code",
   "execution_count": 4,
   "metadata": {},
   "outputs": [
    {
     "data": {
      "text/plain": [
       "0.3"
      ]
     },
     "execution_count": 4,
     "metadata": {},
     "output_type": "execute_result"
    }
   ],
   "source": [
    "round(0.1 + 0.2, 1)"
   ]
  },
  {
   "cell_type": "markdown",
   "metadata": {
    "slideshow": {
     "slide_type": "-"
    }
   },
   "source": [
    "해결 방법 2: 고정 소수점으로 표현"
   ]
  },
  {
   "cell_type": "code",
   "execution_count": 5,
   "metadata": {},
   "outputs": [
    {
     "data": {
      "text/plain": [
       "0.3"
      ]
     },
     "execution_count": 5,
     "metadata": {},
     "output_type": "execute_result"
    }
   ],
   "source": [
    "from decimal import Decimal\n",
    "float(Decimal('0.1') + Decimal('0.2'))"
   ]
  },
  {
   "cell_type": "markdown",
   "metadata": {
    "slideshow": {
     "slide_type": "slide"
    }
   },
   "source": [
    "### Quiz 1\n",
    "- 아래의 데이터의 총점과 평균을 구하세요.\n",
    "\n",
    "```\n",
    "data = { \"korean\": 96.3 , \"english\": 78.4, \"science\": 87.2, \"math\": 92.1 }\n",
    "```\n",
    "\n",
    "- sum 함수와 len 함수를 이용\n",
    "- 아래의 세가지 방법으로 해결\n",
    "    - 소수점을 없애서 해결\n",
    "    - 반올림으로 해결 (round 함수)\n",
    "    - 고정 소수점으로 해결 (Decimal 이용)\n",
    "\n",
    "\n",
    "- sum 함수\n",
    "\n",
    "```\n",
    "ls = [1, 2, 3, 4, 5]\n",
    "result = sum(ls)\n",
    "result => 15\n",
    "```\n",
    "\n",
    "- 결과\n",
    "\n",
    "```\n",
    "total => 354.3\n",
    "avg => 88.575\n",
    "\n",
    "# 출력\n",
    "total: 354.3 , avg: 88.575\n",
    "```"
   ]
  },
  {
   "cell_type": "code",
   "execution_count": 29,
   "metadata": {
    "slideshow": {
     "slide_type": "slide"
    }
   },
   "outputs": [
    {
     "data": {
      "text/plain": [
       "15"
      ]
     },
     "execution_count": 29,
     "metadata": {},
     "output_type": "execute_result"
    }
   ],
   "source": [
    "# sum 함수\n",
    "ls = [1, 2, 3, 4, 5]\n",
    "sum(ls)"
   ]
  },
  {
   "cell_type": "code",
   "execution_count": 30,
   "metadata": {},
   "outputs": [
    {
     "data": {
      "text/plain": [
       "5"
      ]
     },
     "execution_count": 30,
     "metadata": {},
     "output_type": "execute_result"
    }
   ],
   "source": [
    "# len 함수\n",
    "ls = [1, 2, 3, 4, 5]\n",
    "len(ls)"
   ]
  },
  {
   "cell_type": "markdown",
   "metadata": {
    "slideshow": {
     "slide_type": "slide"
    }
   },
   "source": [
    "### 2. 비교 연산자 (Comparison Operators)\n",
    "- 두 데이터를 비교하여 논리가 맞으면 True 틀리면 False를 출력\n",
    "- `==` : 같다\n",
    "- `!=` : 같지 않다 \n",
    "- `>` : 크다\n",
    "- `<` : 작다 \n",
    "- `>=` : 크거나 같다\n",
    "- `<=` : 작거나 같다"
   ]
  },
  {
   "cell_type": "code",
   "execution_count": 9,
   "metadata": {
    "slideshow": {
     "slide_type": "slide"
    }
   },
   "outputs": [
    {
     "name": "stdout",
     "output_type": "stream",
     "text": [
      "False\n",
      "True\n",
      "False\n",
      "True\n",
      "False\n",
      "True\n"
     ]
    }
   ],
   "source": [
    "a, b = 10, 20\n",
    "\n",
    "print(a == b)\n",
    "print(a != b)\n",
    "print(a > b)\n",
    "print(a < b)\n",
    "print(a >= b)\n",
    "print(a <= b)"
   ]
  },
  {
   "cell_type": "markdown",
   "metadata": {
    "slideshow": {
     "slide_type": "slide"
    }
   },
   "source": [
    "### Quiz 2\n",
    "- 산술연산과 비교연산을 사용하여 변수 data가 홀수 일때 True를 출력하는 코드를 작성하세요.\n",
    "```\n",
    "data = 3 # True\n",
    "data = 4 # False\n",
    "```"
   ]
  },
  {
   "cell_type": "markdown",
   "metadata": {
    "slideshow": {
     "slide_type": "slide"
    }
   },
   "source": [
    "### 3. 할당 연산자 (Assignment Operators)\n",
    "\n",
    "- `+=, -=, *=, /=, %=, //=, **=`\n",
    "- 대입 연산자(=)와 산술 연산자를 함께 사용하여 이전에 있던 변수의 값에서 추가로 계산한 결과를 저장할때 사용합니다."
   ]
  },
  {
   "cell_type": "code",
   "execution_count": 11,
   "metadata": {
    "slideshow": {
     "slide_type": "slide"
    }
   },
   "outputs": [
    {
     "name": "stdout",
     "output_type": "stream",
     "text": [
      "5\n"
     ]
    }
   ],
   "source": [
    "data = 5\n",
    "print(data)"
   ]
  },
  {
   "cell_type": "code",
   "execution_count": 12,
   "metadata": {},
   "outputs": [
    {
     "name": "stdout",
     "output_type": "stream",
     "text": [
      "15\n"
     ]
    }
   ],
   "source": [
    "data += 10\n",
    "print(data)"
   ]
  },
  {
   "cell_type": "code",
   "execution_count": 13,
   "metadata": {},
   "outputs": [
    {
     "name": "stdout",
     "output_type": "stream",
     "text": [
      "10\n"
     ]
    }
   ],
   "source": [
    "data -= 5\n",
    "print(data)"
   ]
  },
  {
   "cell_type": "code",
   "execution_count": 14,
   "metadata": {},
   "outputs": [
    {
     "name": "stdout",
     "output_type": "stream",
     "text": [
      "100\n"
     ]
    }
   ],
   "source": [
    "data *= 10\n",
    "print(data)"
   ]
  },
  {
   "cell_type": "code",
   "execution_count": 15,
   "metadata": {
    "slideshow": {
     "slide_type": "slide"
    }
   },
   "outputs": [
    {
     "name": "stdout",
     "output_type": "stream",
     "text": [
      "20.0\n"
     ]
    }
   ],
   "source": [
    "data /= 5\n",
    "print(data)"
   ]
  },
  {
   "cell_type": "code",
   "execution_count": 16,
   "metadata": {
    "slideshow": {
     "slide_type": "-"
    }
   },
   "outputs": [
    {
     "name": "stdout",
     "output_type": "stream",
     "text": [
      "4.0\n"
     ]
    }
   ],
   "source": [
    "data %= 8\n",
    "print(data)"
   ]
  },
  {
   "cell_type": "code",
   "execution_count": 17,
   "metadata": {},
   "outputs": [
    {
     "name": "stdout",
     "output_type": "stream",
     "text": [
      "2.0\n"
     ]
    }
   ],
   "source": [
    "data //= 2\n",
    "print(data)"
   ]
  },
  {
   "cell_type": "code",
   "execution_count": 18,
   "metadata": {},
   "outputs": [
    {
     "name": "stdout",
     "output_type": "stream",
     "text": [
      "8.0\n"
     ]
    }
   ],
   "source": [
    "data **= 3\n",
    "print(data)"
   ]
  },
  {
   "cell_type": "markdown",
   "metadata": {
    "slideshow": {
     "slide_type": "slide"
    }
   },
   "source": [
    "### Quiz 3\n",
    "- 할당 연산자를 이용하여 아래의 리스트에 들어있는 숫의 평균을 구하세요.\n",
    "```\n",
    "ls = [87, 76, 98, 69]\n",
    "```\n",
    "- 결과\n",
    "```\n",
    "result => 82.5\n",
    "```"
   ]
  },
  {
   "cell_type": "markdown",
   "metadata": {
    "slideshow": {
     "slide_type": "slide"
    }
   },
   "source": [
    "### 4. 논리 연산자 (Logical Operators)\n",
    "\n",
    "- 논리의 참과 거짓을 나타내는 연산자\n",
    "- and : 둘다 True 일때  True\n",
    "- or : 둘다 Fasle 일때 False\n",
    "- not : True는 False, False는 True"
   ]
  },
  {
   "cell_type": "code",
   "execution_count": 20,
   "metadata": {
    "slideshow": {
     "slide_type": "slide"
    }
   },
   "outputs": [
    {
     "name": "stdout",
     "output_type": "stream",
     "text": [
      "True\n",
      "False\n"
     ]
    }
   ],
   "source": [
    "# and (&) 둘다 True이면 True\n",
    "print(True and True)\n",
    "print(True and False)"
   ]
  },
  {
   "cell_type": "code",
   "execution_count": 21,
   "metadata": {},
   "outputs": [
    {
     "name": "stdout",
     "output_type": "stream",
     "text": [
      "True\n",
      "True\n"
     ]
    }
   ],
   "source": [
    "# or (|) 둘중 하나가 True이면 True\n",
    "print(True or True)\n",
    "print(True or False)"
   ]
  },
  {
   "cell_type": "code",
   "execution_count": 22,
   "metadata": {},
   "outputs": [
    {
     "name": "stdout",
     "output_type": "stream",
     "text": [
      "False\n",
      "True\n"
     ]
    }
   ],
   "source": [
    "# not True를 False로 False를 True로 변환\n",
    "print(not(True and True))\n",
    "print(not(True and False))"
   ]
  },
  {
   "cell_type": "markdown",
   "metadata": {
    "slideshow": {
     "slide_type": "slide"
    }
   },
   "source": [
    "### Quiz 4\n",
    "- 산술연산과 비교연산을 사용하여 변수 a가 3 또는 5의 배수일때 True를 출력하는 코드를 작성하세요.\n",
    "```\n",
    "a = 9 # True\n",
    "a = 7 # False\n",
    "a = 10 # True\n",
    "a = 15 # True\n",
    "```"
   ]
  },
  {
   "cell_type": "markdown",
   "metadata": {
    "slideshow": {
     "slide_type": "slide"
    }
   },
   "source": [
    "### Quiz 5\n",
    "- 변수 a, b가 있는데 둘다 10 이하(10포함)일경우 True를 출력하는 연산자를 만드시오.\n",
    "```\n",
    "a, b = 9, 8 # True\n",
    "a, b = 11, 12 # False\n",
    "a, b = 7, 15 # False\n",
    "```"
   ]
  },
  {
   "cell_type": "markdown",
   "metadata": {
    "slideshow": {
     "slide_type": "slide"
    }
   },
   "source": [
    "### 5. 멤버 연산자 (Membership Operators)\n",
    "\n",
    "- `<데이터> in <collecton 데이터>` : <collecton 데이터>에 <데이터>가 포함되어 있으면 True를 출력합니다.\n",
    "- `<데이터> not in <collecton 데이터>` : <collecton 데이터>에 <데이터>가 포함되어 있으면 False를 출력합니다.\n",
    "- collection 데이터(list, tuple, dictionary)에서 특정 데이터가 있는지 확인할때 사용합니다."
   ]
  },
  {
   "cell_type": "code",
   "execution_count": 26,
   "metadata": {
    "slideshow": {
     "slide_type": "slide"
    }
   },
   "outputs": [
    {
     "name": "stdout",
     "output_type": "stream",
     "text": [
      "True\n",
      "False\n",
      "False\n"
     ]
    }
   ],
   "source": [
    "data = [1, 2, 3, 4]\n",
    "print(1 in data)\n",
    "print(5 in data)\n",
    "print(1 not in data)"
   ]
  },
  {
   "cell_type": "markdown",
   "metadata": {
    "slideshow": {
     "slide_type": "slide"
    }
   },
   "source": [
    "- 딕셔너리 데이터는 기본적으로 key에서 검색합니다.\n",
    "- value를 확인하려면 values 함수를 사용합니다."
   ]
  },
  {
   "cell_type": "code",
   "execution_count": 27,
   "metadata": {
    "slideshow": {
     "slide_type": "slide"
    }
   },
   "outputs": [
    {
     "name": "stdout",
     "output_type": "stream",
     "text": [
      "True\n",
      "False\n",
      "False\n",
      "True\n"
     ]
    }
   ],
   "source": [
    "data = {1: \"one\", 2: \"two\", 3: \"three\"}\n",
    "print(3 in data)\n",
    "print(\"2\" in data)\n",
    "print(\"one\" in data)\n",
    "print(\"two\" in data.values())"
   ]
  }
 ],
 "metadata": {
  "celltoolbar": "Slideshow",
  "kernelspec": {
   "display_name": "Python 3",
   "language": "python",
   "name": "python3"
  },
  "language_info": {
   "codemirror_mode": {
    "name": "ipython",
    "version": 3
   },
   "file_extension": ".py",
   "mimetype": "text/x-python",
   "name": "python",
   "nbconvert_exporter": "python",
   "pygments_lexer": "ipython3",
   "version": "3.7.3"
  },
  "varInspector": {
   "cols": {
    "lenName": 16,
    "lenType": 16,
    "lenVar": 40
   },
   "kernels_config": {
    "python": {
     "delete_cmd_postfix": "",
     "delete_cmd_prefix": "del ",
     "library": "var_list.py",
     "varRefreshCmd": "print(var_dic_list())"
    },
    "r": {
     "delete_cmd_postfix": ") ",
     "delete_cmd_prefix": "rm(",
     "library": "var_list.r",
     "varRefreshCmd": "cat(var_dic_list()) "
    }
   },
   "types_to_exclude": [
    "module",
    "function",
    "builtin_function_or_method",
    "instance",
    "_Feature"
   ],
   "window_display": false
  }
 },
 "nbformat": 4,
 "nbformat_minor": 2
}
