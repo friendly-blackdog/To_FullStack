{
 "cells": [
  {
   "cell_type": "markdown",
   "metadata": {},
   "source": [
    "## DNN Classification Forward Pass 구현"
   ]
  },
  {
   "cell_type": "markdown",
   "metadata": {},
   "source": [
    "#### Package Import"
   ]
  },
  {
   "cell_type": "code",
   "execution_count": 1,
   "metadata": {},
   "outputs": [],
   "source": [
    "import numpy as np\n",
    "import matplotlib.pyplot as plt"
   ]
  },
  {
   "cell_type": "markdown",
   "metadata": {},
   "source": [
    "#### Q. Activation Function을 정의하시오"
   ]
  },
  {
   "cell_type": "code",
   "execution_count": 3,
   "metadata": {},
   "outputs": [],
   "source": [
    "def activation(n):\n",
    "    return ((n >= 0) + -1 * (n < 0 )).astype(np.int)"
   ]
  },
  {
   "cell_type": "markdown",
   "metadata": {},
   "source": [
    "#### Q. 가중치와 편향을 정의하시오"
   ]
  },
  {
   "cell_type": "code",
   "execution_count": 4,
   "metadata": {},
   "outputs": [],
   "source": [
    " # W1, W2, W3, b1, b2, b3를 정의하시오.\n",
    "W1 = np.array([[1, -1, 1, -1, 1, -1, 1, -1, -1, 1, 1],\n",
    "               [1, -1, -1, 1, -1, 1, -1, 1, -1, 1, 1]]\n",
    "              , float).transpose()\n",
    "b1 = np.array([-2, 3, 0.5, 0.5, -1.75, 2.25, -3.25, 3.75, 6.25, -5.75, -4.75]\n",
    "              , float).transpose()\n",
    "\n",
    "W2 = np.array([[1, 1, 1, 1, 0, 0, 0, 0, 0, 0, 0],\n",
    "               [0, 0, 0, 0, 1, 1, 0, 0, 1, 0, 1],\n",
    "               [0, 0, 0, 0, 1, 0, 0, 1, 1, 1, 0],\n",
    "               [0, 0, 0, 0, 0, 0, 1, 1, 1, 0, 1]]\n",
    "              , float)\n",
    "b2 = np.array([-3, -3, -3, -3]\n",
    "              , float).transpose()\n",
    "\n",
    "W3 = np.array([1, 1, 1, 1], float)\n",
    "b3 = np.array([3], float)"
   ]
  },
  {
   "cell_type": "markdown",
   "metadata": {},
   "source": [
    "#### Q. Forward Pass를 구현하시오."
   ]
  },
  {
   "cell_type": "code",
   "execution_count": 16,
   "metadata": {},
   "outputs": [
    {
     "data": {
      "image/png": "[encoded data removed]",
      "text/plain": [
       "<Figure size 432x288 with 1 Axes>"
      ]
     },
     "metadata": {
      "needs_background": "light"
     },
     "output_type": "display_data"
    }
   ],
   "source": [
    "x_precision = 50\n",
    "y_precision = 30\n",
    "for i in range(x_precision):\n",
    "    for j in range(y_precision):\n",
    "        x=i/x_precision*5\n",
    "        y=j/y_precision*3\n",
    "\n",
    "        input = np.array([x,y], float).transpose()\n",
    "\n",
    "        a1 = activation(np.dot(W1, input) + b1)\n",
    "        a2 = activation(np.dot(W2, a1) + b2)\n",
    "        a3 = activation(np.dot(W3, a2) + b3)\n",
    "        if a3==1:\n",
    "             plt.plot(x,y,'o',mec='k',mfc='k',ms=8)\n",
    "        else :\n",
    "             plt.plot(x,y,'o',mec='k',mfc='w',ms=8)"
   ]
  }
 ],
 "metadata": {
  "kernelspec": {
   "display_name": "Python 3",
   "language": "python",
   "name": "python3"
  },
  "language_info": {
   "codemirror_mode": {
    "name": "ipython",
    "version": 3
   },
   "file_extension": ".py",
   "mimetype": "text/x-python",
   "name": "python",
   "nbconvert_exporter": "python",
   "pygments_lexer": "ipython3",
   "version": "3.7.6"
  }
 },
 "nbformat": 4,
 "nbformat_minor": 2
}
