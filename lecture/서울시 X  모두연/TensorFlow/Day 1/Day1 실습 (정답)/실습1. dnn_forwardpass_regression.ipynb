{
 "cells": [
  {
   "cell_type": "markdown",
   "metadata": {},
   "source": [
    "## DNN Function Approximation Forward Pass 구현"
   ]
  },
  {
   "cell_type": "markdown",
   "metadata": {},
   "source": [
    "#### Package Import"
   ]
  },
  {
   "cell_type": "code",
   "execution_count": 1,
   "metadata": {},
   "outputs": [],
   "source": [
    "import numpy as np\n",
    "import matplotlib.pyplot as plt"
   ]
  },
  {
   "cell_type": "markdown",
   "metadata": {},
   "source": [
    "#### Q. Activation Function을 정의하시오"
   ]
  },
  {
   "cell_type": "code",
   "execution_count": 2,
   "metadata": {},
   "outputs": [],
   "source": [
    "# Sigmoid Activation Function\n",
    "def activation_1(n):\n",
    "    return 1 / (1 + np.exp(-n))\n",
    "\n",
    "# Identity Activation Function\n",
    "def activation_2(n):\n",
    "    return n"
   ]
  },
  {
   "cell_type": "markdown",
   "metadata": {},
   "source": [
    "#### Q. 가중치와 편향을 정의하시오"
   ]
  },
  {
   "cell_type": "code",
   "execution_count": 3,
   "metadata": {},
   "outputs": [],
   "source": [
    "p = np.arange(-2, 2, 0.01)\n",
    "p = p[np.newaxis, : ] # 입력 데이터는 (1, 400) 형태\n",
    "\n",
    "W1 = np.array([[10], [10]], float)\n",
    "b1 = np.array([[-10], [10]], float)\n",
    "\n",
    "W2 = np.array([[1, 1]], float)\n",
    "b2 = np.array([[0]], float) # 0으로 줘도 동일한 결과"
   ]
  },
  {
   "cell_type": "markdown",
   "metadata": {},
   "source": [
    "#### Q. Forward Pass를 구현하시오."
   ]
  },
  {
   "cell_type": "code",
   "execution_count": 4,
   "metadata": {},
   "outputs": [
    {
     "data": {
      "image/png": "[encoded data removed]",
      "text/plain": [
       "<Figure size 432x288 with 1 Axes>"
      ]
     },
     "metadata": {
      "needs_background": "light"
     },
     "output_type": "display_data"
    }
   ],
   "source": [
    "# forward pass를 구현하시오 (Hint : np.dot 사용)\n",
    "a1 = activation_1(np.dot(W1, p) + b1)\n",
    "a2 = activation_2(np.dot(W2, a1) + b2)\n",
    "plt.plot(p.flatten(), a2.flatten())\n",
    "plt.axis([-2, 2, -1, 3])\n",
    "plt.show()"
   ]
  }
 ],
 "metadata": {
  "kernelspec": {
   "display_name": "TensorFlow CPU",
   "language": "python",
   "name": "tesorflow2.0"
  },
  "language_info": {
   "codemirror_mode": {
    "name": "ipython",
    "version": 3
   },
   "file_extension": ".py",
   "mimetype": "text/x-python",
   "name": "python",
   "nbconvert_exporter": "python",
   "pygments_lexer": "ipython3",
   "version": "3.7.6"
  }
 },
 "nbformat": 4,
 "nbformat_minor": 2
}
