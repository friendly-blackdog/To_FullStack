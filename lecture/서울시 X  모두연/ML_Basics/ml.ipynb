{
 "cells": [
  {
   "cell_type": "code",
   "execution_count": 51,
   "metadata": {},
   "outputs": [
    {
     "output_type": "execute_result",
     "data": {
      "text/plain": "[50, 42, 54, 62, 53, 53, 55, 62, 57, 63]"
     },
     "metadata": {},
     "execution_count": 51
    }
   ],
   "source": [
    "import numpy as np\n",
    "import random \n",
    "\n",
    "kg = []\n",
    "for i in range(10):\n",
    "    count = 0\n",
    "    if count == (4 or 8):\n",
    "        i = random.randint(55,85)\n",
    "        kg.append(i)\n",
    "    else:\n",
    "        i = random.randint(40,65)\n",
    "        kg.append(i)\n",
    "    count += 1\n",
    "kg"
   ]
  },
  {
   "cell_type": "code",
   "execution_count": 52,
   "metadata": {},
   "outputs": [
    {
     "output_type": "execute_result",
     "data": {
      "text/plain": "[167, 156, 165, 174, 160, 162, 159, 174, 166, 173]"
     },
     "metadata": {},
     "execution_count": 52
    }
   ],
   "source": [
    "cm = []\n",
    "for i in range(10):\n",
    "    count = 0\n",
    "    if count == (4 or 8):\n",
    "        i = random.randint(145,160)\n",
    "        cm.append(i)\n",
    "    else:\n",
    "        i = random.randint(155,175)\n",
    "        cm.append(i)\n",
    "    count += 1\n",
    "cm"
   ]
  },
  {
   "cell_type": "code",
   "execution_count": 53,
   "metadata": {},
   "outputs": [
    {
     "output_type": "execute_result",
     "data": {
      "text/plain": "[177, 174, 184, 173, 183, 181, 183, 189, 176, 190]"
     },
     "metadata": {},
     "execution_count": 53
    }
   ],
   "source": [
    "cmm = []\n",
    "for i in range(10):\n",
    "    count = 0\n",
    "    if count == (4 or 8):\n",
    "        i = random.randint(160,172)\n",
    "        cmm.append(i)\n",
    "    else:\n",
    "        i = random.randint(173,190)\n",
    "        cmm.append(i)\n",
    "    count += 1\n",
    "cmm"
   ]
  },
  {
   "cell_type": "code",
   "execution_count": 60,
   "metadata": {},
   "outputs": [
    {
     "output_type": "execute_result",
     "data": {
      "text/plain": "[91, 88, 98, 73, 78, 73, 86, 86, 92, 75]"
     },
     "metadata": {},
     "execution_count": 60
    }
   ],
   "source": [
    "kgm = []\n",
    "for i in range(10):\n",
    "    count = 0\n",
    "    if count == (4 or 8):\n",
    "        i = random.randint(58,80)\n",
    "        kgm.append(i)\n",
    "    else:\n",
    "        i = random.randint(70,100)\n",
    "        kgm.append(i)\n",
    "    count += 1\n",
    "kgm"
   ]
  },
  {
   "cell_type": "code",
   "execution_count": 64,
   "metadata": {},
   "outputs": [
    {
     "output_type": "execute_result",
     "data": {
      "text/plain": "[1991,\n 1993,\n 1986,\n 1983,\n 1997,\n 1981,\n 1995,\n 1992,\n 1988,\n 1994,\n 1985,\n 1996,\n 1990,\n 1985,\n 1997,\n 1994,\n 1981,\n 1986,\n 1987,\n 1998]"
     },
     "metadata": {},
     "execution_count": 64
    }
   ],
   "source": [
    "birth = []\n",
    "for i in range(20):\n",
    "    count = 0\n",
    "    if (count == 4) or count == 8 or count == 12:\n",
    "        i = random.randint(1960, 1980)\n",
    "        birth.append(i)\n",
    "    else:\n",
    "        i = random.randint(1980, 1998)\n",
    "        birth.append(i)\n",
    "birth"
   ]
  },
  {
   "cell_type": "code",
   "execution_count": 67,
   "metadata": {},
   "outputs": [
    {
     "output_type": "execute_result",
     "data": {
      "text/plain": "[15, 6, 5, 6, 6, 6, 8, 0, 0, 8, 11, 13, 10, 10, 15, 11, 8, 3, 4, 13]"
     },
     "metadata": {},
     "execution_count": 67
    }
   ],
   "source": [
    "workout = []\n",
    "for i in range(20):\n",
    "    count = 0\n",
    "    if (count == 4) or count == 8 or count == 12:\n",
    "        i = random.randint(0,3)\n",
    "        workout.append(i)\n",
    "    else:\n",
    "        i = random.randint(0, 15)\n",
    "        workout.append(i)\n",
    "workout"
   ]
  },
  {
   "cell_type": "code",
   "execution_count": 69,
   "metadata": {},
   "outputs": [
    {
     "output_type": "execute_result",
     "data": {
      "text/plain": "20"
     },
     "metadata": {},
     "execution_count": 69
    }
   ],
   "source": [
    "birthplace = ['seoul','gwangju','gyeonggi','gyeonggi','pusan','pusan','seoul',\n",
    "              'jeju','gangwon','seoul','gangwon','daegu','gwangju','seoul','gangwon',\n",
    "               'gyeonggi','incheon','daejeon','incheon','gyeonggi']"
   ]
  },
  {
   "cell_type": "code",
   "execution_count": 77,
   "metadata": {},
   "outputs": [],
   "source": [
    "with open('lifespan.csv','w') as f:\n",
    "    for i in kg:\n",
    "        f.writelines(str(i)+',')\n",
    "    for i in kgm:\n",
    "        f.writelines(str(i)+',')\n",
    "    f.write('\\n') \n",
    "    for i in cm:\n",
    "        f.writelines(str(i)+',')\n",
    "    for i in cmm:\n",
    "        f.writelines(str(i)+',')\n",
    "    f.write('\\n')  \n",
    "    for i in range(10):\n",
    "        f.writelines('2'+',')\n",
    "    for i in range(10):\n",
    "        f.writelines('1'+',')\n",
    "    f.write('\\n') \n",
    "    for i in birth:\n",
    "        f.writelines(str(i)+',')\n",
    "    f.write('\\n')  \n",
    "    for i in birthplace:\n",
    "        f.writelines(str(i)+',')\n",
    "    f.write('\\n')  \n"
   ]
  },
  {
   "cell_type": "code",
   "execution_count": null,
   "metadata": {},
   "outputs": [],
   "source": []
  }
 ],
 "metadata": {
  "language_info": {
   "codemirror_mode": {
    "name": "ipython",
    "version": 3
   },
   "file_extension": ".py",
   "mimetype": "text/x-python",
   "name": "python",
   "nbconvert_exporter": "python",
   "pygments_lexer": "ipython3",
   "version": "3.7.4-final"
  },
  "orig_nbformat": 2,
  "kernelspec": {
   "name": "python37464bitpythondstutorialmasterconda2e680860d8e64dd5a02b60e1b1455fa7",
   "display_name": "Python 3.7.4 64-bit ('python-ds-tutorial-master': conda)"
  }
 },
 "nbformat": 4,
 "nbformat_minor": 2
}