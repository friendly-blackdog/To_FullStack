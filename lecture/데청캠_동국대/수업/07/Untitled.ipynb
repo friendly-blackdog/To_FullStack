{
 "cells": [
  {
   "cell_type": "code",
   "execution_count": 1,
   "metadata": {},
   "outputs": [],
   "source": [
    "import turtle"
   ]
  },
  {
   "cell_type": "code",
   "execution_count": 2,
   "metadata": {},
   "outputs": [],
   "source": [
    "t = turtle.Pen()"
   ]
  },
  {
   "cell_type": "code",
   "execution_count": 3,
   "metadata": {},
   "outputs": [],
   "source": [
    "t.forward(100)"
   ]
  },
  {
   "cell_type": "code",
   "execution_count": 4,
   "metadata": {},
   "outputs": [],
   "source": [
    "t.right(90)"
   ]
  },
  {
   "cell_type": "code",
   "execution_count": 5,
   "metadata": {},
   "outputs": [],
   "source": [
    "t.forward(100)\n",
    "t.right(90)\n",
    "t.fd(100)\n",
    "t.right(90)\n",
    "t.fd(100)"
   ]
  },
  {
   "cell_type": "code",
   "execution_count": 27,
   "metadata": {},
   "outputs": [],
   "source": [
    "t.reset()"
   ]
  },
  {
   "cell_type": "code",
   "execution_count": 17,
   "metadata": {},
   "outputs": [],
   "source": [
    "t.forward(100)\n",
    "t.left(120)\n",
    "t.forward(100)\n",
    "t.left(120)\n",
    "t.forward(100)"
   ]
  },
  {
   "cell_type": "code",
   "execution_count": 19,
   "metadata": {},
   "outputs": [],
   "source": [
    "t.forward(100)\n",
    "t.left(60)\n",
    "t.forward(100)\n",
    "t.left(60)\n",
    "t.forward(100)\n",
    "t.left(60)\n",
    "t.forward(100)\n",
    "t.left(60)\n",
    "t.forward(100)\n",
    "t.left(60)\n",
    "t.fd(100)"
   ]
  },
  {
   "cell_type": "code",
   "execution_count": 26,
   "metadata": {},
   "outputs": [],
   "source": [
    "t.shape(\"turtle\")\n",
    "t.fd(100)\n",
    "t.lt(90)\n",
    "t.fd(100)\n",
    "t.rt(90)\n",
    "t.fd(100)\n",
    "t.rt(90)\n",
    "t.fd(100)\n",
    "t.lt(90)\n",
    "t.fd(100)"
   ]
  },
  {
   "cell_type": "code",
   "execution_count": 29,
   "metadata": {},
   "outputs": [],
   "source": [
    "turtle.done()"
   ]
  },
  {
   "cell_type": "code",
   "execution_count": 31,
   "metadata": {},
   "outputs": [
    {
     "name": "stdout",
     "output_type": "stream",
     "text": [
      "13\n"
     ]
    }
   ],
   "source": [
    "x=7\n",
    "y=6\n",
    "print(x+y)"
   ]
  },
  {
   "cell_type": "code",
   "execution_count": 32,
   "metadata": {},
   "outputs": [
    {
     "ename": "SyntaxError",
     "evalue": "invalid character in identifier (<ipython-input-32-18b93a44f9eb>, line 1)",
     "output_type": "error",
     "traceback": [
      "\u001b[0;36m  File \u001b[0;32m\"<ipython-input-32-18b93a44f9eb>\"\u001b[0;36m, line \u001b[0;32m1\u001b[0m\n\u001b[0;31m    x=‘7’\u001b[0m\n\u001b[0m        ^\u001b[0m\n\u001b[0;31mSyntaxError\u001b[0m\u001b[0;31m:\u001b[0m invalid character in identifier\n"
     ]
    }
   ],
   "source": [
    "x=‘7’\n",
    "y=‘6’\n",
    "print(x+y)"
   ]
  },
  {
   "cell_type": "code",
   "execution_count": 33,
   "metadata": {},
   "outputs": [
    {
     "name": "stdout",
     "output_type": "stream",
     "text": [
      "100 과 200 의 합은 300 입니다.\n"
     ]
    }
   ],
   "source": [
    "x = 100\n",
    "y = 200\n",
    "sum = x + y\n",
    "print(x, \"과\", y, \"의 합은\", sum, \"입니다.\")"
   ]
  },
  {
   "cell_type": "code",
   "execution_count": 34,
   "metadata": {},
   "outputs": [
    {
     "name": "stdout",
     "output_type": "stream",
     "text": [
      "100/200=  0.5\n"
     ]
    }
   ],
   "source": [
    "print(\"%d/%d=%5.1f\" % (100, 200, 0.5))"
   ]
  },
  {
   "cell_type": "code",
   "execution_count": 35,
   "metadata": {},
   "outputs": [
    {
     "name": "stdout",
     "output_type": "stream",
     "text": [
      "123\n"
     ]
    }
   ],
   "source": [
    "print(\"%d\" % 123)"
   ]
  },
  {
   "cell_type": "code",
   "execution_count": 37,
   "metadata": {},
   "outputs": [
    {
     "name": "stdout",
     "output_type": "stream",
     "text": [
      "  123\n"
     ]
    }
   ],
   "source": [
    "print(\"%5d\" % 123)"
   ]
  },
  {
   "cell_type": "code",
   "execution_count": 38,
   "metadata": {},
   "outputs": [
    {
     "name": "stdout",
     "output_type": "stream",
     "text": [
      "00123\n"
     ]
    }
   ],
   "source": [
    "print(\"%05d\"%123)"
   ]
  },
  {
   "cell_type": "code",
   "execution_count": 39,
   "metadata": {},
   "outputs": [
    {
     "name": "stdout",
     "output_type": "stream",
     "text": [
      "123.450000\n"
     ]
    }
   ],
   "source": [
    "print(\"%f\"%123.45)"
   ]
  },
  {
   "cell_type": "code",
   "execution_count": 40,
   "metadata": {},
   "outputs": [
    {
     "name": "stdout",
     "output_type": "stream",
     "text": [
      "  123.5\n"
     ]
    }
   ],
   "source": [
    "print(\"%7.1f\"%123.45)"
   ]
  },
  {
   "cell_type": "code",
   "execution_count": 41,
   "metadata": {},
   "outputs": [
    {
     "name": "stdout",
     "output_type": "stream",
     "text": [
      "123.450\n"
     ]
    }
   ],
   "source": [
    "print(\"%7.3f\"%123.45)"
   ]
  },
  {
   "cell_type": "code",
   "execution_count": 43,
   "metadata": {},
   "outputs": [
    {
     "name": "stdout",
     "output_type": "stream",
     "text": [
      "Python\n"
     ]
    }
   ],
   "source": [
    "print(\"%s\"%\"Python\")"
   ]
  },
  {
   "cell_type": "code",
   "execution_count": 44,
   "metadata": {},
   "outputs": [
    {
     "name": "stdout",
     "output_type": "stream",
     "text": [
      "    Python\n"
     ]
    }
   ],
   "source": [
    "print(\"%10s\"%\"Python\")"
   ]
  },
  {
   "cell_type": "code",
   "execution_count": 49,
   "metadata": {},
   "outputs": [
    {
     "name": "stdout",
     "output_type": "stream",
     "text": [
      "\n",
      "줄바꿈\n",
      "연습\n"
     ]
    }
   ],
   "source": [
    "print(\"\\n줄바꿈\\n연습\")"
   ]
  },
  {
   "cell_type": "code",
   "execution_count": 50,
   "metadata": {},
   "outputs": [
    {
     "name": "stdout",
     "output_type": "stream",
     "text": [
      "\\\\\\ 연슬래쉬 세개 출력\n"
     ]
    }
   ],
   "source": [
    "print(\"\\\\\\\\\\ 연슬래쉬 세개 출력\")"
   ]
  },
  {
   "cell_type": "code",
   "execution_count": 51,
   "metadata": {},
   "outputs": [
    {
     "name": "stdout",
     "output_type": "stream",
     "text": [
      "\\n\\t\\\"\\\\를 그대로 출력\n"
     ]
    }
   ],
   "source": [
    "print(r\"\\n\\t\\\"\\\\를 그대로 출력\")"
   ]
  },
  {
   "cell_type": "code",
   "execution_count": 52,
   "metadata": {},
   "outputs": [
    {
     "name": "stdout",
     "output_type": "stream",
     "text": [
      "첫 번째 정수를 입력하시오: 3\n",
      "두 번째 정수를 입력하시오: 4\n",
      "3 과 4 의 합은 7 입니다.\n"
     ]
    }
   ],
   "source": [
    "x = int(input(\"첫 번째 정수를 입력하시오: \"))\n",
    "y = int(input(\"두 번째 정수를 입력하시오: \"))\n",
    "sum = x + y\n",
    "print(x, \"과\", y, \"의 합은\", sum, \"입니다.\")"
   ]
  },
  {
   "cell_type": "code",
   "execution_count": 55,
   "metadata": {},
   "outputs": [
    {
     "name": "stdout",
     "output_type": "stream",
     "text": [
      "첫 번째 숫자를 입력하시오: 4\n",
      "두 번째 숫자를 입력하시오: 4\n",
      "세 번째 숫자를 입력하시오: 4\n",
      "4 4 4 의 평균은 4.0 입니다.\n"
     ]
    }
   ],
   "source": [
    "a = int(input(\"첫 번째 숫자를 입력하시오: \"))\n",
    "b = int(input(\"두 번째 숫자를 입력하시오: \"))\n",
    "c = int(input(\"세 번째 숫자를 입력하시오: \"))\n",
    "mean = (a+b+c)/3\n",
    "print(a, b, c, \"의 평균은\", mean, \"입니다.\")"
   ]
  },
  {
   "cell_type": "code",
   "execution_count": 56,
   "metadata": {},
   "outputs": [
    {
     "name": "stdout",
     "output_type": "stream",
     "text": [
      "반지름을 입력하시오: 4\n",
      "반지름이 4 인 원의 넓이 = 50.265472\n"
     ]
    }
   ],
   "source": [
    "radius = int(input(\"반지름을 입력하시오: \"))\n",
    "area = 3.141592 * radius * radius\n",
    "print(\"반지름이\", radius, \"인 원의 넓이 =\", area)"
   ]
  },
  {
   "cell_type": "code",
   "execution_count": 57,
   "metadata": {},
   "outputs": [
    {
     "name": "stdout",
     "output_type": "stream",
     "text": [
      "정수를 입력하시오: 23\n",
      "1\n"
     ]
    }
   ],
   "source": [
    "number = int(input(\"정수를 입력하시오: \"))\n",
    "print(number%2)"
   ]
  },
  {
   "cell_type": "code",
   "execution_count": 58,
   "metadata": {},
   "outputs": [
    {
     "name": "stdout",
     "output_type": "stream",
     "text": [
      "16 40\n"
     ]
    }
   ],
   "source": [
    "sec = 1000\n",
    "min = 1000 // 60\n",
    "remainder = 1000 % 60\n",
    "print(min, remainder)"
   ]
  },
  {
   "cell_type": "code",
   "execution_count": 59,
   "metadata": {},
   "outputs": [
    {
     "name": "stdout",
     "output_type": "stream",
     "text": [
      "아메리카노 판매 개수: 10\n",
      "카페라떼 판매 개수: 20\n",
      "카푸치노 판매 개수: 30\n",
      "총 매출은 185000 원 입니다\n"
     ]
    }
   ],
   "source": [
    "p_americano = 2000\n",
    "p_latte = 3000\n",
    "p_cappucino = 3500\n",
    "\n",
    "americano = int(input(\"아메리카노 판매 개수: \"))\n",
    "latte = int(input(\"카페라떼 판매 개수: \"))\n",
    "cappucino = int(input(\"카푸치노 판매 개수: \"))\n",
    "\n",
    "sales = (p_americano*americano)+(p_latte*latte)+(p_cappucino*cappucino)\n",
    "print(\"총 매출은\", sales, \"원 입니다\")"
   ]
  },
  {
   "cell_type": "code",
   "execution_count": 61,
   "metadata": {},
   "outputs": [
    {
     "name": "stdout",
     "output_type": "stream",
     "text": [
      "아메리카노 판매 개수: 10\n",
      "카페라떼 판매 개수: 20\n",
      "카푸치노 판매 개수: 30\n",
      "총 매출은 185000 원 입니다\n"
     ]
    }
   ],
   "source": [
    "p_americano = 2000\n",
    "p_latte = 3000\n",
    "p_cappucino = 3500\n",
    "\n",
    "americano = (p_americano * int(input(\"아메리카노 판매 개수: \")))\n",
    "latte = (p_latte *int(input(\"카페라떼 판매 개수: \")))\n",
    "cappucino = (p_cappucino * int(input(\"카푸치노 판매 개수: \")))\n",
    "\n",
    "sales = americano+latte+cappucino\n",
    "print(\"총 매출은\", sales, \"원 입니다\")"
   ]
  },
  {
   "cell_type": "code",
   "execution_count": 63,
   "metadata": {},
   "outputs": [
    {
     "name": "stdout",
     "output_type": "stream",
     "text": [
      "화씨온도: 100\n",
      "섭씨온도: 37.77777777777778\n"
     ]
    }
   ],
   "source": [
    "fTemp = int(input(\"화씨온도: \"))\n",
    "cTemp = (fTemp-32.0)*5/9\n",
    "print(\"섭씨온도:\", cTemp)"
   ]
  },
  {
   "cell_type": "code",
   "execution_count": 65,
   "metadata": {},
   "outputs": [
    {
     "name": "stdout",
     "output_type": "stream",
     "text": [
      "몸무게를 kg 단위로 입력하시오: 85\n",
      "키를 미터 단위로 입력하시오: 1.86\n",
      "당신의 BMI= 24.56931437160365\n"
     ]
    }
   ],
   "source": [
    "weight = float(input(\"몸무게를 kg 단위로 입력하시오: \"))\n",
    "height = float(input(\"키를 미터 단위로 입력하시오: \"))\n",
    "bmi = (weight/(height**2))\n",
    "print(\"당신의 BMI=\", bmi)"
   ]
  },
  {
   "cell_type": "code",
   "execution_count": 72,
   "metadata": {},
   "outputs": [
    {
     "name": "stdout",
     "output_type": "stream",
     "text": [
      "투입할 돈: 5000\n",
      "물건 값: 2600\n",
      "거스름돈: 400\n",
      "500원 동전의 개수: 4\n",
      "100원 동전의 개수: 4\n"
     ]
    }
   ],
   "source": [
    "pay = int(input(\"투입할 돈: \"))\n",
    "price = int(input(\"물건 값: \"))\n",
    "change = pay - price\n",
    "five = change//500\n",
    "change = change%500\n",
    "hun = change//100\n",
    "\n",
    "print(\"거스름돈:\", change)\n",
    "print(\"500원 동전의 개수:\", five)\n",
    "print(\"100원 동전의 개수:\", five)"
   ]
  },
  {
   "cell_type": "markdown",
   "metadata": {},
   "source": [
    "## 연습문제"
   ]
  },
  {
   "cell_type": "code",
   "execution_count": 1,
   "metadata": {},
   "outputs": [
    {
     "name": "stdout",
     "output_type": "stream",
     "text": [
      "x: 10\n",
      "y: 20\n",
      "x:  10\n",
      "y:  20\n",
      "두수의 합:  30\n",
      "두수의 차:  -10\n",
      "두수의 곱:  200\n",
      "두수의 평균:  15.0\n",
      "큰수:  20\n",
      "작은수:  10\n"
     ]
    }
   ],
   "source": [
    "x = int(input(\"x: \"))\n",
    "y = int(input(\"y: \"))\n",
    "\n",
    "\n",
    "print(\"x: \",x)\n",
    "print(\"y: \",y)\n",
    "print(\"두수의 합: \",x+y)\n",
    "print(\"두수의 차: \",x-y)\n",
    "print(\"두수의 곱: \",x*y)\n",
    "print(\"두수의 평균: \",(x+y)/2)\n",
    "print(\"큰수: \", max(x,y))\n",
    "print(\"작은수: \", min(x,y))"
   ]
  },
  {
   "cell_type": "code",
   "execution_count": 80,
   "metadata": {},
   "outputs": [],
   "source": [
    "import math"
   ]
  },
  {
   "cell_type": "code",
   "execution_count": 81,
   "metadata": {},
   "outputs": [
    {
     "name": "stdout",
     "output_type": "stream",
     "text": [
      "r: 10\n",
      "h: 100\n",
      "r:  10.0\n",
      "h:  100.0\n",
      "원기둥의 부피:  31400.0\n"
     ]
    }
   ],
   "source": [
    "r = float(input(\"r: \"))\n",
    "h= float(input(\"h: \"))\n",
    "\n",
    "print(\"r: \", r)\n",
    "print(\"h: \",h)\n",
    "print(\"원기둥의 부피: \", pi*r**2*h)"
   ]
  },
  {
   "cell_type": "code",
   "execution_count": 5,
   "metadata": {},
   "outputs": [],
   "source": [
    "import math"
   ]
  },
  {
   "cell_type": "code",
   "execution_count": 8,
   "metadata": {},
   "outputs": [
    {
     "name": "stdout",
     "output_type": "stream",
     "text": [
      "x1: 0\n",
      "y1: 0\n",
      "x2: 100\n",
      "y2: 100\n",
      "두점 사이의 거리 =  141.4213562373095\n"
     ]
    }
   ],
   "source": [
    "x1 = int(input(\"x1: \"))\n",
    "y1 = int(input(\"y1: \"))\n",
    "x2 = int(input(\"x2: \"))\n",
    "y2 = int(input(\"y2: \"))\n",
    "dis = ((x2-x1)**2 + (y2-y1)**2)**0.5\n",
    "print(\"두점 사이의 거리 = \", dis)"
   ]
  },
  {
   "cell_type": "code",
   "execution_count": 11,
   "metadata": {},
   "outputs": [
    {
     "name": "stdout",
     "output_type": "stream",
     "text": [
      "x1: 0\n",
      "y1: 0\n",
      "x2: 100\n",
      "y2: 100\n",
      "두점 사이의 거리 =  141.4213562373095\n"
     ]
    }
   ],
   "source": [
    "x1 = int(input(\"x1: \"))\n",
    "y1 = int(input(\"y1: \"))\n",
    "x2 = int(input(\"x2: \"))\n",
    "y2 = int(input(\"y2: \"))\n",
    "dis = math.sqrt((x2-x1)**2 + (y2-y1)**2)\n",
    "print(\"두점 사이의 거리 = \", dis)"
   ]
  },
  {
   "cell_type": "code",
   "execution_count": 9,
   "metadata": {},
   "outputs": [
    {
     "name": "stdout",
     "output_type": "stream",
     "text": [
      "반지름을 입력하시오: 10\n",
      "4188.789333333333\n"
     ]
    }
   ],
   "source": [
    "r = int(input(\"반지름을 입력하시오: \"))\n",
    "pi = 3.141592\n",
    "print(4/3*pi*r**3)"
   ]
  },
  {
   "cell_type": "code",
   "execution_count": 12,
   "metadata": {},
   "outputs": [
    {
     "name": "stdout",
     "output_type": "stream",
     "text": [
      "거짓이므로 이 문장은 안 보이겠죠?\n",
      "프로그램 끝\n"
     ]
    }
   ],
   "source": [
    "a = 200\n",
    "\n",
    "if a<100:\n",
    "    print(\"100보다 작군요\")\n",
    "    print(\"거짓이므로 이 문장은 안 보이겠죠?\")\n",
    "\n",
    "print(\"프로그램 끝\")"
   ]
  },
  {
   "cell_type": "code",
   "execution_count": null,
   "metadata": {},
   "outputs": [],
   "source": [
    "a = 200\n",
    "if a<100:\n",
    "    print(\"100\")"
   ]
  },
  {
   "cell_type": "code",
   "execution_count": null,
   "metadata": {},
   "outputs": [],
   "source": [
    "a = 200\n",
    "\n",
    "if a<100:\n",
    "    print(\"100보다 작군요.\")\n",
    "    print(\"참이면 이 문장도 보이겠죠??\")\n",
    "else: \n",
    "    print(\"100보다 크군요.\")\n",
    "    print(\"100보다 크군요.\")"
   ]
  },
  {
   "cell_type": "code",
   "execution_count": 13,
   "metadata": {},
   "outputs": [
    {
     "name": "stdout",
     "output_type": "stream",
     "text": [
      "정수를 입력하세요: 125\n",
      "홀수를 입력했군요.\n"
     ]
    }
   ],
   "source": [
    "a=int(input(\"정수를 입력하세요: \"))\n",
    "\n",
    "if a%2==0:\n",
    "    print(\"짝수를 입력했군요.\")\n",
    "else:\n",
    "    print(\"홀수를 입력했군요.\")"
   ]
  },
  {
   "cell_type": "code",
   "execution_count": 15,
   "metadata": {},
   "outputs": [
    {
     "name": "stdout",
     "output_type": "stream",
     "text": [
      "50보다 크고 100보다 작군요.\n"
     ]
    }
   ],
   "source": [
    "a=75\n",
    "\n",
    "if a>50:\n",
    "    if a<100:\n",
    "        print(\"50보다 크고 100보다 작군요.\")\n",
    "    else:\n",
    "        print(\"와~~ 100보다 크군요.\")\n",
    "else:\n",
    "    print(\"에고~ 50보다 작군요.\")"
   ]
  },
  {
   "cell_type": "code",
   "execution_count": 20,
   "metadata": {},
   "outputs": [
    {
     "name": "stdout",
     "output_type": "stream",
     "text": [
      "불합격이지만 과락은 아닙니다.\n"
     ]
    }
   ],
   "source": [
    "score = 55\n",
    "\n",
    "if score>=60:\n",
    "    print(\"합격입니다.\")\n",
    "elif score>=40:\n",
    "    print(\"불합격이지만 과락은 아닙니다.\")\n",
    "else:\n",
    "    print(\"불합격이면서 과락입니다\")\n"
   ]
  },
  {
   "cell_type": "code",
   "execution_count": null,
   "metadata": {},
   "outputs": [],
   "source": []
  },
  {
   "cell_type": "code",
   "execution_count": 21,
   "metadata": {},
   "outputs": [],
   "source": [
    "## 변수 선언 부분\n",
    "a, b, ch=0, 0, \"\""
   ]
  },
  {
   "cell_type": "code",
   "execution_count": 23,
   "metadata": {},
   "outputs": [
    {
     "name": "stdout",
     "output_type": "stream",
     "text": [
      "첫 번째 수를 입력하세요: 6\n",
      "게산할 연산자를 입력하세요: /\n",
      "두 번째 수를 입력하세요: 3\n",
      " 6/3=2 입니다. \n"
     ]
    }
   ],
   "source": [
    "# 메인 코드 부분\n",
    "a=int(input(\"첫 번째 수를 입력하세요: \"))\n",
    "ch=input(\"게산할 연산자를 입력하세요: \")\n",
    "b=int(input(\"두 번째 수를 입력하세요: \"))\n",
    "\n",
    "if ch==\"+\" :\n",
    "    print(\" %d+%d=%d 입니다. \" % (a, b, a+b))\n",
    "elif ch==\"-\":\n",
    "    print(\" %d-%d=%d 입니다. \" % (a, b, a-b))\n",
    "elif ch==\"/\":\n",
    "    print(\" %d/%d=%d 입니다. \" % (a, b, a/b))\n",
    "elif ch==\"*\":\n",
    "    print(\" %d*%d=%d 입니다. \" % (a, b, a*b))\n",
    "elif ch==\"%\":\n",
    "    print(\"%d %% %d = %d\")\n",
    "elif ch==\"**\":\n",
    "    print(\"%d ** %d = %d 입니다\")\n",
    "\n",
    "else:\n",
    "    print(\"알 수 없는 연산자입니다.\")"
   ]
  },
  {
   "cell_type": "code",
   "execution_count": 25,
   "metadata": {},
   "outputs": [
    {
     "name": "stdout",
     "output_type": "stream",
     "text": [
      "나이를 입력하시오: 14\n",
      "이 영화를 보실 수 없습니다.\n"
     ]
    }
   ],
   "source": [
    "age = int(input(\"나이를 입력하시오: \"))\n",
    "\n",
    "if age >= 15:\n",
    "    print(\"이 영화를 보실 수 있습니다.\")\n",
    "else:\n",
    "    print(\"이 영화를 보실 수 없습니다.\")"
   ]
  },
  {
   "cell_type": "code",
   "execution_count": 29,
   "metadata": {},
   "outputs": [
    {
     "name": "stdout",
     "output_type": "stream",
     "text": [
      "나이를 입력하시오: 22\n",
      "키를 입력하시오: 165\n",
      "유감\n"
     ]
    }
   ],
   "source": [
    "age = int(input(\"나이를 입력하시오: \"))\n",
    "height = int(input(\"키를 입력하시오: \"))\n",
    "\n",
    "if age>=10 & height>=165:\n",
    "    print(\"놀이기구를 탈 수 있다.\")\n",
    "else:\n",
    "    print(\"유감\")"
   ]
  },
  {
   "cell_type": "code",
   "execution_count": 30,
   "metadata": {},
   "outputs": [
    {
     "name": "stdout",
     "output_type": "stream",
     "text": [
      "연도를 입력하시오: 2020\n",
      "2020 년은 윤년입니다.\n"
     ]
    }
   ],
   "source": [
    "year = int(input(\"연도를 입력하시오: \"))\n",
    "\n",
    "# 연도가 4로 나누어떨어진다\n",
    "# 100으로 나누어떨어지는 연도는 제외한다\n",
    "# 400으로 나누어떨어지는 연도는 윤년이다.\n",
    "\n",
    "if ((year % 4 == 0) and (year & 100 != 0)) or (year % 400 == 0):\n",
    "    print(year, \"년은 윤년입니다.\")\n",
    "else:\n",
    "    print(year,\"년은 윤년이 아닙니다.\")"
   ]
  },
  {
   "cell_type": "code",
   "execution_count": 35,
   "metadata": {},
   "outputs": [
    {
     "name": "stdout",
     "output_type": "stream",
     "text": [
      "아이디를 입력하시오: iloveruby\n",
      "아이디를 찾을 수 없습니다\n"
     ]
    }
   ],
   "source": [
    "sign = \"ilovepython\"\n",
    "id = input(\"아이디를 입력하시오: \")\n",
    "if id == sign:\n",
    "    print(\"환영합니다\")\n",
    "else:\n",
    "    print(\"아이디를 찾을 수 없습니다\")"
   ]
  },
  {
   "cell_type": "code",
   "execution_count": 40,
   "metadata": {},
   "outputs": [
    {
     "name": "stdout",
     "output_type": "stream",
     "text": [
      "현재 온도를 입력하시오: 30\n",
      "밖은 위험해!\n"
     ]
    }
   ],
   "source": [
    "temp = int(input(\"현재 온도를 입력하시오: \"))\n",
    "if temp<25:\n",
    "    print(\"긴바지를 추천합니다.\")\n",
    "elif temp<29:\n",
    "    print(\"온도가 높습니다. 반바지.\")\n",
    "else:\n",
    "    print(\"밖은 위험해!\")"
   ]
  },
  {
   "cell_type": "code",
   "execution_count": 41,
   "metadata": {},
   "outputs": [
    {
     "name": "stdout",
     "output_type": "stream",
     "text": [
      "시험 점수는......? : 79\n",
      "D\n"
     ]
    }
   ],
   "source": [
    "score = int(input(\"시험 점수는......? : \"))\n",
    "if score >= 90:\n",
    "    print(\"A. 너는 돈을 뜯어가지 않도록 하지.\")\n",
    "elif score >= 80:\n",
    "    print(\"B \")\n",
    "elif score >= 70:\n",
    "    print(\"D\")\n",
    "else:\n",
    "    print(\"F. 기부금은 감사히 쓰겠습니다.\")"
   ]
  },
  {
   "cell_type": "code",
   "execution_count": 43,
   "metadata": {},
   "outputs": [
    {
     "name": "stdout",
     "output_type": "stream",
     "text": [
      "정수를 입력하시오: 6\n",
      "2와 3으로 나누어 떨어집니다.\n"
     ]
    }
   ],
   "source": [
    "score = int(input(\"정수를 입력하시오: \"))\n",
    "if score%2==0 and score%3==0:\n",
    "    print(\"2와 3으로 나누어 떨어집니다.\")\n",
    "else:\n",
    "    print(\"2와 3으로 나누어 떨어지지 않습니다\")"
   ]
  },
  {
   "cell_type": "code",
   "execution_count": 45,
   "metadata": {},
   "outputs": [
    {
     "name": "stdout",
     "output_type": "stream",
     "text": [
      "age : 16\n",
      "청소년 요금 720원\n"
     ]
    }
   ],
   "source": [
    "age = int(input(\"age : \"))\n",
    "if age<8:\n",
    "    print(\"어린이 요금 450원\")\n",
    "elif age<= 19:\n",
    "    print(\"청소년 요금 720원\")\n",
    "else:\n",
    "    print(\"성인 요금 1250원\")"
   ]
  },
  {
   "cell_type": "code",
   "execution_count": 52,
   "metadata": {},
   "outputs": [
    {
     "name": "stdout",
     "output_type": "stream",
     "text": [
      "당신이 태어난 연도를 입력하세요.1968\n",
      "학생이 아닙니다.\n"
     ]
    }
   ],
   "source": [
    "year = int(input(\"당신이 태어난 연도를 입력하세요.\"))\n",
    "age = 2020 - year + 1\n",
    "if 20<=age<=26:\n",
    "    print(\"대학생\")\n",
    "elif 20>age>=17:\n",
    "    print(\"고등학생\")\n",
    "elif 17>age>=14:\n",
    "    print(\"중학생\")\n",
    "elif 14>age>=8:\n",
    "    print(\"초등학생\")\n",
    "else:\n",
    "    print(\"학생이 아닙니다.\")\n"
   ]
  },
  {
   "cell_type": "code",
   "execution_count": 53,
   "metadata": {},
   "outputs": [
    {
     "name": "stdout",
     "output_type": "stream",
     "text": [
      "알파벳을 입력하시오: A\n",
      "A 는 대문자 입니다.\n"
     ]
    }
   ],
   "source": [
    "al = input(\"알파벳을 입력하시오: \")\n",
    "if al.isupper():\n",
    "    print(al, \"는 대문자 입니다.\")\n",
    "else:\n",
    "    print(\"소문자 입니다\")"
   ]
  },
  {
   "cell_type": "code",
   "execution_count": 54,
   "metadata": {},
   "outputs": [
    {
     "name": "stdout",
     "output_type": "stream",
     "text": [
      "알파벳 입력f\n",
      "f 는 소문자 입니다.\n"
     ]
    }
   ],
   "source": [
    "a = input(\"알파벳 입력\")\n",
    "if 'a' <= a <= 'z':\n",
    "    print(\"%s 는 소문자 입니다.\" % a)\n",
    "elif 'A' <= a <= 'Z':\n",
    "    print(\"%s는 대문자 입니다.\" % s)"
   ]
  },
  {
   "cell_type": "code",
   "execution_count": 82,
   "metadata": {},
   "outputs": [
    {
     "name": "stdout",
     "output_type": "stream",
     "text": [
      "A의 주사위 숫자는  2 입니다.\n",
      "B의 주사위 숫자는 2 입니다.\n",
      "둘이 비겼습니다.\n"
     ]
    }
   ],
   "source": [
    "import random\n",
    "num_a=random.randrange(1,7)\n",
    "num_b=random.randrange(1,7)\n",
    "print(\"A의 주사위 숫자는 \", num_a,\"입니다.\")\n",
    "print(\"B의 주사위 숫자는\", num_b, \"입니다.\")\n",
    "if num_a>num_b:\n",
    "    print(\"A가 이겼습니다.\")\n",
    "elif num_b>num_a:\n",
    "    print(\"B가 이겼습니다.\")\n",
    "else:\n",
    "    print(\"둘이 비겼습니다.\")"
   ]
  },
  {
   "cell_type": "code",
   "execution_count": 84,
   "metadata": {},
   "outputs": [
    {
     "name": "stdout",
     "output_type": "stream",
     "text": [
      "45\n"
     ]
    }
   ],
   "source": [
    "sum = 0\n",
    "for x in range(0, 10):\n",
    "    sum = sum + x\n",
    "print(sum)"
   ]
  },
  {
   "cell_type": "code",
   "execution_count": 90,
   "metadata": {},
   "outputs": [
    {
     "name": "stdout",
     "output_type": "stream",
     "text": [
      "1\n",
      "2\n",
      "3\n",
      "4\n",
      "5\n"
     ]
    }
   ],
   "source": [
    "for i in range(1, 6):\n",
    "    print(i)"
   ]
  },
  {
   "cell_type": "code",
   "execution_count": 88,
   "metadata": {},
   "outputs": [
    {
     "name": "stdout",
     "output_type": "stream",
     "text": [
      "12345"
     ]
    }
   ],
   "source": [
    "for i in range(1, 6, 1):\n",
    "    print(i, end=\"\")"
   ]
  },
  {
   "cell_type": "code",
   "execution_count": 98,
   "metadata": {},
   "outputs": [
    {
     "name": "stdout",
     "output_type": "stream",
     "text": [
      "정수를 입력하시오: 4\n",
      "4 !은 24 이다.\n"
     ]
    }
   ],
   "source": [
    "num = int(input(\"정수를 입력하시오: \"))\n",
    "fact=1\n",
    "for i in range(1, num+1):\n",
    "    fact=fact*i\n",
    "print(num,\"!은\", fact,\"이다.\")"
   ]
  },
  {
   "cell_type": "code",
   "execution_count": 99,
   "metadata": {},
   "outputs": [
    {
     "name": "stdout",
     "output_type": "stream",
     "text": [
      "환영합니다.\n",
      "환영합니다.\n",
      "환영합니다.\n",
      "환영합니다.\n",
      "환영합니다.\n",
      "반복이 종료되었습니다.\n"
     ]
    }
   ],
   "source": [
    "i = 0\n",
    "while i<5:\n",
    "    print(\"환영합니다.\")\n",
    "    i=i+1\n",
    "print(\"반복이 종료되었습니다.\")"
   ]
  },
  {
   "cell_type": "code",
   "execution_count": 103,
   "metadata": {},
   "outputs": [
    {
     "name": "stdout",
     "output_type": "stream",
     "text": [
      "0123456789for문 종료\n"
     ]
    }
   ],
   "source": [
    "i = 0\n",
    "while i < 10:\n",
    "    print(i, end=\"\")\n",
    "    i=i+1\n",
    "print(\"for문 종료\")"
   ]
  },
  {
   "cell_type": "code",
   "execution_count": 109,
   "metadata": {},
   "outputs": [
    {
     "name": "stdout",
     "output_type": "stream",
     "text": [
      "합계= 55\n"
     ]
    }
   ],
   "source": [
    "i = 1\n",
    "sum = 0\n",
    "while i <= 10:\n",
    "    sum = sum+i\n",
    "    i=i+1\n",
    "\n",
    "print(\"합계=\", sum)"
   ]
  },
  {
   "cell_type": "code",
   "execution_count": 112,
   "metadata": {},
   "outputs": [
    {
     "name": "stdout",
     "output_type": "stream",
     "text": [
      "10\n",
      "10!은1입니다.\n"
     ]
    }
   ],
   "source": [
    "\n",
    "n = int(input())\n",
    "fact = 1\n",
    "while (i<=10):\n",
    "    fact=fact*i\n",
    "    i=i+1\n",
    "print(\"10!은%d입니다.\" % fact)"
   ]
  },
  {
   "cell_type": "code",
   "execution_count": 117,
   "metadata": {},
   "outputs": [
    {
     "name": "stdout",
     "output_type": "stream",
     "text": [
      "원하는 단은: 3\n",
      "3X1=3\n",
      "3X2=6\n",
      "3X3=9\n",
      "3X4=12\n",
      "3X5=15\n",
      "3X6=18\n",
      "3X7=21\n",
      "3X8=24\n",
      "3X9=27\n"
     ]
    }
   ],
   "source": [
    "dan = int(input(\"원하는 단은: \"))\n",
    "i=1\n",
    "\n",
    "while i<= 9:\n",
    "    print(\"%dX%d=%d\"%(dan, i, dan*i))\n",
    "    i=i+1"
   ]
  },
  {
   "cell_type": "code",
   "execution_count": 119,
   "metadata": {},
   "outputs": [
    {
     "name": "stdout",
     "output_type": "stream",
     "text": [
      "첫번째 수를 입력하시오:3\n",
      "두번째 수를 입력하시오:2\n",
      "3+2=5이다\n",
      "첫번째 수를 입력하시오:0\n",
      "0을 입력해서 반복문을 탈출하였습니다\n"
     ]
    }
   ],
   "source": [
    "while True:\n",
    "    a=int(input(\"첫번째 수를 입력하시오:\"))\n",
    "    if a==0:\n",
    "        break\n",
    "    b=int(input(\"두번째 수를 입력하시오:\"))\n",
    "    sum=a+b\n",
    "    print(\"%d+%d=%d이다\"%(a,b,sum))\n",
    "print(\"0을 입력해서 반복문을 탈출하였습니다\")"
   ]
  },
  {
   "cell_type": "code",
   "execution_count": 124,
   "metadata": {},
   "outputs": [
    {
     "name": "stdout",
     "output_type": "stream",
     "text": [
      "500에서 1000까지 홀수의 합: 187500\n"
     ]
    }
   ],
   "source": [
    "i, hap=0, 0\n",
    "\n",
    "for i in range(501, 1001, 2):\n",
    "    hap=hap+i\n",
    "    \n",
    "print(\"500에서 1000까지 홀수의 합: %d\"%hap)"
   ]
  },
  {
   "cell_type": "code",
   "execution_count": 127,
   "metadata": {},
   "outputs": [
    {
     "name": "stdout",
     "output_type": "stream",
     "text": [
      "값 입력:100\n",
      "1에서 100까지 합:  5050\n"
     ]
    }
   ],
   "source": [
    "i = int(input(\"값 입력:\" ))\n",
    "sum = 0\n",
    "for i in range(1, 101, 1):\n",
    "    sum=sum+i\n",
    "print(\"1에서 100까지 합: \", sum)"
   ]
  },
  {
   "cell_type": "code",
   "execution_count": null,
   "metadata": {},
   "outputs": [],
   "source": [
    "i, hap = 0,0"
   ]
  },
  {
   "cell_type": "code",
   "execution_count": 128,
   "metadata": {},
   "outputs": [
    {
     "name": "stdout",
     "output_type": "stream",
     "text": [
      "파이썬은 꿀잼입니다. ^^ (i값: 0, k값: 0)\n",
      "파이썬은 꿀잼입니다. ^^ (i값: 0, k값: 1)\n",
      "파이썬은 꿀잼입니다. ^^ (i값: 1, k값: 0)\n",
      "파이썬은 꿀잼입니다. ^^ (i값: 1, k값: 1)\n",
      "파이썬은 꿀잼입니다. ^^ (i값: 2, k값: 0)\n",
      "파이썬은 꿀잼입니다. ^^ (i값: 2, k값: 1)\n"
     ]
    }
   ],
   "source": [
    "for i in range(0, 3, 1):\n",
    "    for k in range(0, 2, 1):\n",
    "        print(\"파이썬은 꿀잼입니다. ^^ (i값: %d, k값: %d)\" % (i, k))"
   ]
  },
  {
   "cell_type": "code",
   "execution_count": 129,
   "metadata": {
    "collapsed": true
   },
   "outputs": [
    {
     "name": "stdout",
     "output_type": "stream",
     "text": [
      "2X1= 2\n",
      "2X2= 4\n",
      "2X3= 6\n",
      "2X4= 8\n",
      "2X5=10\n",
      "2X6=12\n",
      "2X7=14\n",
      "2X8=16\n",
      "2X9=18\n",
      "\n",
      "3X1= 3\n",
      "3X2= 6\n",
      "3X3= 9\n",
      "3X4=12\n",
      "3X5=15\n",
      "3X6=18\n",
      "3X7=21\n",
      "3X8=24\n",
      "3X9=27\n",
      "\n",
      "4X1= 4\n",
      "4X2= 8\n",
      "4X3=12\n",
      "4X4=16\n",
      "4X5=20\n",
      "4X6=24\n",
      "4X7=28\n",
      "4X8=32\n",
      "4X9=36\n",
      "\n",
      "5X1= 5\n",
      "5X2=10\n",
      "5X3=15\n",
      "5X4=20\n",
      "5X5=25\n",
      "5X6=30\n",
      "5X7=35\n",
      "5X8=40\n",
      "5X9=45\n",
      "\n",
      "6X1= 6\n",
      "6X2=12\n",
      "6X3=18\n",
      "6X4=24\n",
      "6X5=30\n",
      "6X6=36\n",
      "6X7=42\n",
      "6X8=48\n",
      "6X9=54\n",
      "\n",
      "7X1= 7\n",
      "7X2=14\n",
      "7X3=21\n",
      "7X4=28\n",
      "7X5=35\n",
      "7X6=42\n",
      "7X7=49\n",
      "7X8=56\n",
      "7X9=63\n",
      "\n",
      "8X1= 8\n",
      "8X2=16\n",
      "8X3=24\n",
      "8X4=32\n",
      "8X5=40\n",
      "8X6=48\n",
      "8X7=56\n",
      "8X8=64\n",
      "8X9=72\n",
      "\n",
      "9X1= 9\n",
      "9X2=18\n",
      "9X3=27\n",
      "9X4=36\n",
      "9X5=45\n",
      "9X6=54\n",
      "9X7=63\n",
      "9X8=72\n",
      "9X9=81\n",
      "\n"
     ]
    }
   ],
   "source": [
    "i, k = 0,0\n",
    "\n",
    "for i in range(2, 10, 1) :\n",
    "    for k in range(1, 10, 1):\n",
    "        print(\"%dX%d=%2d\" % (i, k, i*k))\n",
    "    print(\"\")"
   ]
  },
  {
   "cell_type": "code",
   "execution_count": 138,
   "metadata": {},
   "outputs": [
    {
     "name": "stdout",
     "output_type": "stream",
     "text": [
      "# 2단 $## 3단 $## 4단 $## 5단 $## 6단 $## 7단 $## 8단 $## 9단 $#\n",
      " 2X 1= 2 3X 1= 3 4X 1= 4 5X 1= 5 6X 1= 6 7X 1= 7 8X 1= 8 9X 1= 9\n",
      " 2X 2= 4 3X 2= 6 4X 2= 8 5X 2=10 6X 2=12 7X 2=14 8X 2=16 9X 2=18\n",
      " 2X 3= 6 3X 3= 9 4X 3=12 5X 3=15 6X 3=18 7X 3=21 8X 3=24 9X 3=27\n",
      " 2X 4= 8 3X 4=12 4X 4=16 5X 4=20 6X 4=24 7X 4=28 8X 4=32 9X 4=36\n",
      " 2X 5=10 3X 5=15 4X 5=20 5X 5=25 6X 5=30 7X 5=35 8X 5=40 9X 5=45\n",
      " 2X 6=12 3X 6=18 4X 6=24 5X 6=30 6X 6=36 7X 6=42 8X 6=48 9X 6=54\n",
      " 2X 7=14 3X 7=21 4X 7=28 5X 7=35 6X 7=42 7X 7=49 8X 7=56 9X 7=63\n",
      " 2X 8=16 3X 8=24 4X 8=32 5X 8=40 6X 8=48 7X 8=56 8X 8=64 9X 8=72\n",
      " 2X 9=18 3X 9=27 4X 9=36 5X 9=45 6X 9=54 7X 9=63 8X 9=72 9X 9=81\n"
     ]
    }
   ],
   "source": [
    "# 변수 선언 부분\n",
    "i, k, guguLine = 0, 0, \"\"\n",
    "\n",
    "# 메인 코드 부분\n",
    "for i in range(2, 10):\n",
    "    guguLine = guguLine + (\"# %d단 $#\" % i)\n",
    "    \n",
    "print(guguLine)\n",
    "\n",
    "for i in range(1, 10):\n",
    "    guguLine=\"\"\n",
    "    for k in range(2, 10):\n",
    "        guguLine = guguLine + str(\"%2dX%2d=%2d\" % (k, i, k*i))\n",
    "    print(guguLine)\n",
    "        "
   ]
  },
  {
   "cell_type": "code",
   "execution_count": null,
   "metadata": {},
   "outputs": [],
   "source": []
  },
  {
   "cell_type": "code",
   "execution_count": null,
   "metadata": {},
   "outputs": [],
   "source": []
  },
  {
   "cell_type": "code",
   "execution_count": null,
   "metadata": {},
   "outputs": [],
   "source": []
  },
  {
   "cell_type": "code",
   "execution_count": null,
   "metadata": {},
   "outputs": [],
   "source": []
  }
 ],
 "metadata": {
  "kernelspec": {
   "display_name": "Python 3",
   "language": "python",
   "name": "python3"
  },
  "language_info": {
   "codemirror_mode": {
    "name": "ipython",
    "version": 3
   },
   "file_extension": ".py",
   "mimetype": "text/x-python",
   "name": "python",
   "nbconvert_exporter": "python",
   "pygments_lexer": "ipython3",
   "version": "3.7.6"
  }
 },
 "nbformat": 4,
 "nbformat_minor": 4
}
