{
 "cells": [
  {
   "cell_type": "markdown",
   "metadata": {},
   "source": [
    "# 정부혁신1번가 - 정부혁신 홈페이지\n",
    "* 정부혁신 제안(목록) > 정부혁신국민포럼 \n",
    "\n",
    "출처 : https://www.innogov.go.kr/ucms/ogp/sug/list.do?menuNo=300011\n",
    "\n",
    "```\n",
    "ㆍ다함께 잘 사는 나라, 늘 혁신하는 정부를 위한 의견이 있다면 자유롭게 제안해 주세요.\n",
    "ㆍ내가 낸 정부혁신제안이 추천 30표를 받으면 토론이 진행됩니다.\n",
    "ㆍ추천 30표를 받지 못한 경우에도 정부혁신국민포럼 운영위원단의 논의를 통해 중요성과 시급성이 높다면 토론으로 바로 이관될 수 있습니다.\n",
    "ㆍ타인의 명예를 훼손하는 내용 혹은 허위사실, 특정집단에 대한 혐오 표현 등 부적절한 제안은 관리자에 의해 숨김 처리 혹은 삭제될 수 있습니다.\n",
    "```\n",
    "\n",
    "## 크롤링 전 확인 하기\n",
    "* https://www.innogov.go.kr/robots.txt\n",
    "* 저작권 확인하기"
   ]
  },
  {
   "cell_type": "code",
   "execution_count": 1,
   "metadata": {},
   "outputs": [],
   "source": [
    "# 필요한 도구를 불러온다.\n",
    "# 파이썬에서 사용할 수 있는 엑셀과 유사한 데이터분석 도구\n",
    "import pandas as pd\n",
    "# 매우 작은 브라우저로 웹사이트의 내용과 정보를 불러올 수 있습니다.\n",
    "import requests\n",
    "# request로 가져온 웹사이트의 html 태그를 파싱하는데 사용합니다.\n",
    "from bs4 import BeautifulSoup as bs\n",
    "# 랜덤숫자를 생성한다.\n",
    "import random\n",
    "import time\n",
    "# 대량 데이터 처리시 진행 상황을 표시합니다.\n",
    "from tqdm import tqdm, trange\n",
    "# 정규표현식\n",
    "import re"
   ]
  },
  {
   "cell_type": "markdown",
   "metadata": {},
   "source": [
    "## 정부혁신 국민포럼 페이지 가져오기\n",
    "* 전체 내용을 가져오기 위해 목록에 있는 href 태그 안에 있는 url을 가져옵니다."
   ]
  },
  {
   "cell_type": "code",
   "execution_count": 2,
   "metadata": {
    "scrolled": true
   },
   "outputs": [
    {
     "data": {
      "text/plain": [
       "'https://www.innogov.go.kr/ucms/ogp/sug/list.do?pnum=1&menuNo=300011&sugMonthTp=201906&orderKey=registDtDesc'"
      ]
     },
     "execution_count": 2,
     "metadata": {},
     "output_type": "execute_result"
    }
   ],
   "source": [
    "#제안시작월 선택\n",
    "#basei url: https://www.innogov.go.kr/ucms/ogp/sug/list.do?pnum=1&menuNo=300011&cateCd=&status1Cd=&Status2Cd=&searchText=&sugMonthTp=202006&orderKey=registDtDesc\n",
    "pnum = 1\n",
    "year_month = 201906\n",
    "\n",
    "base_url = f\"https://www.innogov.go.kr/ucms/ogp/sug/list.do?pnum={pnum}&menuNo=300011&sugMonthTp={year_month}&orderKey=registDtDesc\"\n",
    "base_url"
   ]
  },
  {
   "cell_type": "code",
   "execution_count": 3,
   "metadata": {},
   "outputs": [
    {
     "name": "stdout",
     "output_type": "stream",
     "text": [
      "[<a href=\"/ucms/ogp/sug/view.do?menuNo=300011&amp;sgId=217&amp;pnum=1\">근린공원</a>, <a href=\"/ucms/ogp/sug/view.do?menuNo=300011&amp;sgId=216&amp;pnum=1\">공시송달 의뢰공문의 전국배포를 중단하여 문서로 인한 스...</a>, <a href=\"/ucms/ogp/sug/view.do?menuNo=300011&amp;sgId=215&amp;pnum=1\">중앙부처 및 산하기관에서 추진하는 공모사업, 지원 사업...</a>, <a href=\"/ucms/ogp/sug/view.do?menuNo=300011&amp;sgId=214&amp;pnum=1\">연가 기부제 도입</a>, <a href=\"/ucms/ogp/sug/view.do?menuNo=300011&amp;sgId=210&amp;pnum=1\">어린이집교사 근무환경개선</a>]\n",
      "/ucms/ogp/sug/view.do?menuNo=300011&sgId=217&pnum=1\n",
      "/ucms/ogp/sug/view.do?menuNo=300011&sgId=216&pnum=1\n",
      "/ucms/ogp/sug/view.do?menuNo=300011&sgId=215&pnum=1\n",
      "/ucms/ogp/sug/view.do?menuNo=300011&sgId=214&pnum=1\n",
      "/ucms/ogp/sug/view.do?menuNo=300011&sgId=210&pnum=1\n"
     ]
    }
   ],
   "source": [
    "response = requests.get( base_url )\n",
    "response\n",
    "\n",
    "if response.status_code == 200:\n",
    "    html = bs(response.text, 'html.parser')\n",
    "    # 소스코드를 제대로 가져왔는지 확인해 봅니다.\n",
    "    tags = html.select('#content > div.suggestion_list > ul')[0].find_all('a')\n",
    "    print(tags)\n",
    "    for tag in tags:\n",
    "        print(tag['href']) #url만 가져옴(첫번째 페이지의 목록만 가져옴)"
   ]
  },
  {
   "cell_type": "markdown",
   "metadata": {},
   "source": [
    "### URL이 있는 태그의 위치\n",
    "* 브라우저의 Inspect 기능을 통해 링크에 해당되는 selector를 가져오기\n",
    "* Copy -> Copy selector를 통해 해당 태그의 위치를 가져옴"
   ]
  },
  {
   "cell_type": "code",
   "execution_count": 4,
   "metadata": {},
   "outputs": [],
   "source": [
    "#content > div.suggestion_list > ul > li > dl > dt > p > a : copy selcector\n"
   ]
  },
  {
   "cell_type": "markdown",
   "metadata": {},
   "source": [
    "### 함수로 구현하기 전에 미리 원하는 정보를 가져와서 출력해 봄"
   ]
  },
  {
   "cell_type": "code",
   "execution_count": 5,
   "metadata": {},
   "outputs": [
    {
     "name": "stdout",
     "output_type": "stream",
     "text": [
      "[<a href=\"/ucms/ogp/sug/view.do?menuNo=300011&amp;sgId=217&amp;pnum=1\">근린공원</a>, <a href=\"/ucms/ogp/sug/view.do?menuNo=300011&amp;sgId=216&amp;pnum=1\">공시송달 의뢰공문의 전국배포를 중단하여 문서로 인한 스...</a>, <a href=\"/ucms/ogp/sug/view.do?menuNo=300011&amp;sgId=215&amp;pnum=1\">중앙부처 및 산하기관에서 추진하는 공모사업, 지원 사업...</a>, <a href=\"/ucms/ogp/sug/view.do?menuNo=300011&amp;sgId=214&amp;pnum=1\">연가 기부제 도입</a>, <a href=\"/ucms/ogp/sug/view.do?menuNo=300011&amp;sgId=210&amp;pnum=1\">어린이집교사 근무환경개선</a>]\n"
     ]
    }
   ],
   "source": [
    "response = requests.get( base_url )\n",
    "response\n",
    "\n",
    "if response.status_code == 200:\n",
    "    html = bs(response.text, 'html.parser')\n",
    "    # 소스코드를 제대로 가져왔는지 확인해 봅니다.\n",
    "    tags = html.select('#content > div.suggestion_list > ul')[0].find_all('a') \n",
    "    print(tags) # 각 페이지의 제목을 가져올수 있다."
   ]
  },
  {
   "cell_type": "markdown",
   "metadata": {},
   "source": [
    "### 위에서 실습한 내용을 페이지 번호를 추가해 가면서 크롤링해 오는 함수를 작성"
   ]
  },
  {
   "cell_type": "code",
   "execution_count": 6,
   "metadata": {},
   "outputs": [],
   "source": [
    "# 연-월별 전체 제안 목록을 가져옵니다.\n",
    "def get_suggestion_list(pnum):\n",
    "    # print(f'year_month : {year_month}, pnum: {pnum}')\n",
    "    base_url = f\"https://www.innogov.go.kr/ucms/ogp/sug/list.do?pnum={pnum}&menuNo=300011&orderKey=registDtDesc\"\n",
    "    # base_url 페이지를 받아온다.\n",
    "    response = requests.get( base_url )\n",
    "    # status_code 가 200 OK 일 때 아래의 코드를 실행한다.\n",
    "    if response.status_code == 200:\n",
    "        # 웹페이지의 내용을 가져왔다면 뷰티풀숩을 통해 html 태그를 가져온다.\n",
    "        html = bs(response.text, 'html.parser')\n",
    "        # html 태그 내용 중 아래의 selector를 통해 목록에 있는 다른 게시글을 가져오도록 한다.\n",
    "        tags = html.select('#content > div.suggestion_list > ul')[0].find_all('a')\n",
    "        # tags 의 내용이 없다면 suggestion_list 를 반환한다.\n",
    "        if not tags :\n",
    "            return(suggestion_list)\n",
    "        else :\n",
    "            # tags 에서 다른 게시글을 가져와 suggestion_list 에 담아준다.\n",
    "            for tag in tags:\n",
    "                suggestion_list.append(tag['href']) #sugesstion list에 링크를 추가\n",
    "        pnum += 1\n",
    "        # 페이지번호를 하나씩 더해서 재귀호출을 합니다.\n",
    "        get_suggestion_list(pnum)\n",
    "        print(pnum)\n",
    "    else:\n",
    "        return(suggestion_list)"
   ]
  },
  {
   "cell_type": "code",
   "execution_count": 7,
   "metadata": {},
   "outputs": [
    {
     "name": "stdout",
     "output_type": "stream",
     "text": [
      "49\n",
      "48\n",
      "47\n",
      "46\n",
      "45\n",
      "44\n",
      "43\n",
      "42\n",
      "41\n",
      "40\n",
      "39\n",
      "38\n",
      "37\n",
      "36\n",
      "35\n",
      "34\n",
      "33\n",
      "32\n",
      "31\n",
      "30\n",
      "29\n",
      "28\n",
      "27\n",
      "26\n",
      "25\n",
      "24\n",
      "23\n",
      "22\n",
      "21\n",
      "20\n",
      "19\n",
      "18\n",
      "17\n",
      "16\n",
      "15\n",
      "14\n",
      "13\n",
      "12\n",
      "11\n",
      "10\n",
      "9\n",
      "8\n",
      "7\n",
      "6\n",
      "5\n",
      "4\n",
      "3\n",
      "2\n"
     ]
    },
    {
     "data": {
      "text/plain": [
       "['/ucms/ogp/sug/view.do?menuNo=300011&sgId=280&pnum=1',\n",
       " '/ucms/ogp/sug/view.do?menuNo=300011&sgId=279&pnum=1',\n",
       " '/ucms/ogp/sug/view.do?menuNo=300011&sgId=278&pnum=1',\n",
       " '/ucms/ogp/sug/view.do?menuNo=300011&sgId=277&pnum=1',\n",
       " '/ucms/ogp/sug/view.do?menuNo=300011&sgId=276&pnum=1',\n",
       " '/ucms/ogp/sug/view.do?menuNo=300011&sgId=275&pnum=2',\n",
       " '/ucms/ogp/sug/view.do?menuNo=300011&sgId=274&pnum=2',\n",
       " '/ucms/ogp/sug/view.do?menuNo=300011&sgId=272&pnum=2',\n",
       " '/ucms/ogp/sug/view.do?menuNo=300011&sgId=271&pnum=2',\n",
       " '/ucms/ogp/sug/view.do?menuNo=300011&sgId=270&pnum=2',\n",
       " '/ucms/ogp/sug/view.do?menuNo=300011&sgId=269&pnum=3',\n",
       " '/ucms/ogp/sug/view.do?menuNo=300011&sgId=268&pnum=3',\n",
       " '/ucms/ogp/sug/view.do?menuNo=300011&sgId=267&pnum=3',\n",
       " '/ucms/ogp/sug/view.do?menuNo=300011&sgId=266&pnum=3',\n",
       " '/ucms/ogp/sug/view.do?menuNo=300011&sgId=265&pnum=3',\n",
       " '/ucms/ogp/sug/view.do?menuNo=300011&sgId=264&pnum=4',\n",
       " '/ucms/ogp/sug/view.do?menuNo=300011&sgId=263&pnum=4',\n",
       " '/ucms/ogp/sug/view.do?menuNo=300011&sgId=262&pnum=4',\n",
       " '/ucms/ogp/sug/view.do?menuNo=300011&sgId=261&pnum=4',\n",
       " '/ucms/ogp/sug/view.do?menuNo=300011&sgId=260&pnum=4',\n",
       " '/ucms/ogp/sug/view.do?menuNo=300011&sgId=259&pnum=5',\n",
       " '/ucms/ogp/sug/view.do?menuNo=300011&sgId=258&pnum=5',\n",
       " '/ucms/ogp/sug/view.do?menuNo=300011&sgId=257&pnum=5',\n",
       " '/ucms/ogp/sug/view.do?menuNo=300011&sgId=256&pnum=5',\n",
       " '/ucms/ogp/sug/view.do?menuNo=300011&sgId=255&pnum=5',\n",
       " '/ucms/ogp/sug/view.do?menuNo=300011&sgId=254&pnum=6',\n",
       " '/ucms/ogp/sug/view.do?menuNo=300011&sgId=253&pnum=6',\n",
       " '/ucms/ogp/sug/view.do?menuNo=300011&sgId=252&pnum=6',\n",
       " '/ucms/ogp/sug/view.do?menuNo=300011&sgId=251&pnum=6',\n",
       " '/ucms/ogp/sug/view.do?menuNo=300011&sgId=250&pnum=6',\n",
       " '/ucms/ogp/sug/view.do?menuNo=300011&sgId=249&pnum=7',\n",
       " '/ucms/ogp/sug/view.do?menuNo=300011&sgId=248&pnum=7',\n",
       " '/ucms/ogp/sug/view.do?menuNo=300011&sgId=247&pnum=7',\n",
       " '/ucms/ogp/sug/view.do?menuNo=300011&sgId=246&pnum=7',\n",
       " '/ucms/ogp/sug/view.do?menuNo=300011&sgId=245&pnum=7',\n",
       " '/ucms/ogp/sug/view.do?menuNo=300011&sgId=244&pnum=8',\n",
       " '/ucms/ogp/sug/view.do?menuNo=300011&sgId=242&pnum=8',\n",
       " '/ucms/ogp/sug/view.do?menuNo=300011&sgId=241&pnum=8',\n",
       " '/ucms/ogp/sug/view.do?menuNo=300011&sgId=240&pnum=8',\n",
       " '/ucms/ogp/sug/view.do?menuNo=300011&sgId=239&pnum=8',\n",
       " '/ucms/ogp/sug/view.do?menuNo=300011&sgId=238&pnum=9',\n",
       " '/ucms/ogp/sug/view.do?menuNo=300011&sgId=237&pnum=9',\n",
       " '/ucms/ogp/sug/view.do?menuNo=300011&sgId=236&pnum=9',\n",
       " '/ucms/ogp/sug/view.do?menuNo=300011&sgId=235&pnum=9',\n",
       " '/ucms/ogp/sug/view.do?menuNo=300011&sgId=234&pnum=9',\n",
       " '/ucms/ogp/sug/view.do?menuNo=300011&sgId=233&pnum=10',\n",
       " '/ucms/ogp/sug/view.do?menuNo=300011&sgId=232&pnum=10',\n",
       " '/ucms/ogp/sug/view.do?menuNo=300011&sgId=231&pnum=10',\n",
       " '/ucms/ogp/sug/view.do?menuNo=300011&sgId=230&pnum=10',\n",
       " '/ucms/ogp/sug/view.do?menuNo=300011&sgId=229&pnum=10',\n",
       " '/ucms/ogp/sug/view.do?menuNo=300011&sgId=228&pnum=11',\n",
       " '/ucms/ogp/sug/view.do?menuNo=300011&sgId=227&pnum=11',\n",
       " '/ucms/ogp/sug/view.do?menuNo=300011&sgId=226&pnum=11',\n",
       " '/ucms/ogp/sug/view.do?menuNo=300011&sgId=222&pnum=11',\n",
       " '/ucms/ogp/sug/view.do?menuNo=300011&sgId=221&pnum=11',\n",
       " '/ucms/ogp/sug/view.do?menuNo=300011&sgId=220&pnum=12',\n",
       " '/ucms/ogp/sug/view.do?menuNo=300011&sgId=219&pnum=12',\n",
       " '/ucms/ogp/sug/view.do?menuNo=300011&sgId=218&pnum=12',\n",
       " '/ucms/ogp/sug/view.do?menuNo=300011&sgId=217&pnum=12',\n",
       " '/ucms/ogp/sug/view.do?menuNo=300011&sgId=216&pnum=12',\n",
       " '/ucms/ogp/sug/view.do?menuNo=300011&sgId=215&pnum=13',\n",
       " '/ucms/ogp/sug/view.do?menuNo=300011&sgId=214&pnum=13',\n",
       " '/ucms/ogp/sug/view.do?menuNo=300011&sgId=210&pnum=13',\n",
       " '/ucms/ogp/sug/view.do?menuNo=300011&sgId=209&pnum=13',\n",
       " '/ucms/ogp/sug/view.do?menuNo=300011&sgId=208&pnum=13',\n",
       " '/ucms/ogp/sug/view.do?menuNo=300011&sgId=207&pnum=14',\n",
       " '/ucms/ogp/sug/view.do?menuNo=300011&sgId=206&pnum=14',\n",
       " '/ucms/ogp/sug/view.do?menuNo=300011&sgId=205&pnum=14',\n",
       " '/ucms/ogp/sug/view.do?menuNo=300011&sgId=204&pnum=14',\n",
       " '/ucms/ogp/sug/view.do?menuNo=300011&sgId=203&pnum=14',\n",
       " '/ucms/ogp/sug/view.do?menuNo=300011&sgId=202&pnum=15',\n",
       " '/ucms/ogp/sug/view.do?menuNo=300011&sgId=201&pnum=15',\n",
       " '/ucms/ogp/sug/view.do?menuNo=300011&sgId=200&pnum=15',\n",
       " '/ucms/ogp/sug/view.do?menuNo=300011&sgId=199&pnum=15',\n",
       " '/ucms/ogp/sug/view.do?menuNo=300011&sgId=198&pnum=15',\n",
       " '/ucms/ogp/sug/view.do?menuNo=300011&sgId=197&pnum=16',\n",
       " '/ucms/ogp/sug/view.do?menuNo=300011&sgId=196&pnum=16',\n",
       " '/ucms/ogp/sug/view.do?menuNo=300011&sgId=195&pnum=16',\n",
       " '/ucms/ogp/sug/view.do?menuNo=300011&sgId=193&pnum=16',\n",
       " '/ucms/ogp/sug/view.do?menuNo=300011&sgId=192&pnum=16',\n",
       " '/ucms/ogp/sug/view.do?menuNo=300011&sgId=191&pnum=17',\n",
       " '/ucms/ogp/sug/view.do?menuNo=300011&sgId=190&pnum=17',\n",
       " '/ucms/ogp/sug/view.do?menuNo=300011&sgId=189&pnum=17',\n",
       " '/ucms/ogp/sug/view.do?menuNo=300011&sgId=188&pnum=17',\n",
       " '/ucms/ogp/sug/view.do?menuNo=300011&sgId=187&pnum=17',\n",
       " '/ucms/ogp/sug/view.do?menuNo=300011&sgId=186&pnum=18',\n",
       " '/ucms/ogp/sug/view.do?menuNo=300011&sgId=185&pnum=18',\n",
       " '/ucms/ogp/sug/view.do?menuNo=300011&sgId=184&pnum=18',\n",
       " '/ucms/ogp/sug/view.do?menuNo=300011&sgId=183&pnum=18',\n",
       " '/ucms/ogp/sug/view.do?menuNo=300011&sgId=182&pnum=18',\n",
       " '/ucms/ogp/sug/view.do?menuNo=300011&sgId=181&pnum=19',\n",
       " '/ucms/ogp/sug/view.do?menuNo=300011&sgId=180&pnum=19',\n",
       " '/ucms/ogp/sug/view.do?menuNo=300011&sgId=179&pnum=19',\n",
       " '/ucms/ogp/sug/view.do?menuNo=300011&sgId=178&pnum=19',\n",
       " '/ucms/ogp/sug/view.do?menuNo=300011&sgId=177&pnum=19',\n",
       " '/ucms/ogp/sug/view.do?menuNo=300011&sgId=176&pnum=20',\n",
       " '/ucms/ogp/sug/view.do?menuNo=300011&sgId=175&pnum=20',\n",
       " '/ucms/ogp/sug/view.do?menuNo=300011&sgId=174&pnum=20',\n",
       " '/ucms/ogp/sug/view.do?menuNo=300011&sgId=173&pnum=20',\n",
       " '/ucms/ogp/sug/view.do?menuNo=300011&sgId=172&pnum=20',\n",
       " '/ucms/ogp/sug/view.do?menuNo=300011&sgId=171&pnum=21',\n",
       " '/ucms/ogp/sug/view.do?menuNo=300011&sgId=170&pnum=21',\n",
       " '/ucms/ogp/sug/view.do?menuNo=300011&sgId=169&pnum=21',\n",
       " '/ucms/ogp/sug/view.do?menuNo=300011&sgId=168&pnum=21',\n",
       " '/ucms/ogp/sug/view.do?menuNo=300011&sgId=167&pnum=21',\n",
       " '/ucms/ogp/sug/view.do?menuNo=300011&sgId=166&pnum=22',\n",
       " '/ucms/ogp/sug/view.do?menuNo=300011&sgId=165&pnum=22',\n",
       " '/ucms/ogp/sug/view.do?menuNo=300011&sgId=164&pnum=22',\n",
       " '/ucms/ogp/sug/view.do?menuNo=300011&sgId=163&pnum=22',\n",
       " '/ucms/ogp/sug/view.do?menuNo=300011&sgId=162&pnum=22',\n",
       " '/ucms/ogp/sug/view.do?menuNo=300011&sgId=161&pnum=23',\n",
       " '/ucms/ogp/sug/view.do?menuNo=300011&sgId=160&pnum=23',\n",
       " '/ucms/ogp/sug/view.do?menuNo=300011&sgId=159&pnum=23',\n",
       " '/ucms/ogp/sug/view.do?menuNo=300011&sgId=158&pnum=23',\n",
       " '/ucms/ogp/sug/view.do?menuNo=300011&sgId=157&pnum=23',\n",
       " '/ucms/ogp/sug/view.do?menuNo=300011&sgId=156&pnum=24',\n",
       " '/ucms/ogp/sug/view.do?menuNo=300011&sgId=155&pnum=24',\n",
       " '/ucms/ogp/sug/view.do?menuNo=300011&sgId=154&pnum=24',\n",
       " '/ucms/ogp/sug/view.do?menuNo=300011&sgId=153&pnum=24',\n",
       " '/ucms/ogp/sug/view.do?menuNo=300011&sgId=152&pnum=24',\n",
       " '/ucms/ogp/sug/view.do?menuNo=300011&sgId=151&pnum=25',\n",
       " '/ucms/ogp/sug/view.do?menuNo=300011&sgId=150&pnum=25',\n",
       " '/ucms/ogp/sug/view.do?menuNo=300011&sgId=149&pnum=25',\n",
       " '/ucms/ogp/sug/view.do?menuNo=300011&sgId=148&pnum=25',\n",
       " '/ucms/ogp/sug/view.do?menuNo=300011&sgId=147&pnum=25',\n",
       " '/ucms/ogp/sug/view.do?menuNo=300011&sgId=146&pnum=26',\n",
       " '/ucms/ogp/sug/view.do?menuNo=300011&sgId=145&pnum=26',\n",
       " '/ucms/ogp/sug/view.do?menuNo=300011&sgId=144&pnum=26',\n",
       " '/ucms/ogp/sug/view.do?menuNo=300011&sgId=143&pnum=26',\n",
       " '/ucms/ogp/sug/view.do?menuNo=300011&sgId=142&pnum=26',\n",
       " '/ucms/ogp/sug/view.do?menuNo=300011&sgId=141&pnum=27',\n",
       " '/ucms/ogp/sug/view.do?menuNo=300011&sgId=140&pnum=27',\n",
       " '/ucms/ogp/sug/view.do?menuNo=300011&sgId=139&pnum=27',\n",
       " '/ucms/ogp/sug/view.do?menuNo=300011&sgId=138&pnum=27',\n",
       " '/ucms/ogp/sug/view.do?menuNo=300011&sgId=137&pnum=27',\n",
       " '/ucms/ogp/sug/view.do?menuNo=300011&sgId=136&pnum=28',\n",
       " '/ucms/ogp/sug/view.do?menuNo=300011&sgId=135&pnum=28',\n",
       " '/ucms/ogp/sug/view.do?menuNo=300011&sgId=134&pnum=28',\n",
       " '/ucms/ogp/sug/view.do?menuNo=300011&sgId=133&pnum=28',\n",
       " '/ucms/ogp/sug/view.do?menuNo=300011&sgId=132&pnum=28',\n",
       " '/ucms/ogp/sug/view.do?menuNo=300011&sgId=131&pnum=29',\n",
       " '/ucms/ogp/sug/view.do?menuNo=300011&sgId=130&pnum=29',\n",
       " '/ucms/ogp/sug/view.do?menuNo=300011&sgId=129&pnum=29',\n",
       " '/ucms/ogp/sug/view.do?menuNo=300011&sgId=127&pnum=29',\n",
       " '/ucms/ogp/sug/view.do?menuNo=300011&sgId=126&pnum=29',\n",
       " '/ucms/ogp/sug/view.do?menuNo=300011&sgId=125&pnum=30',\n",
       " '/ucms/ogp/sug/view.do?menuNo=300011&sgId=124&pnum=30',\n",
       " '/ucms/ogp/sug/view.do?menuNo=300011&sgId=123&pnum=30',\n",
       " '/ucms/ogp/sug/view.do?menuNo=300011&sgId=122&pnum=30',\n",
       " '/ucms/ogp/sug/view.do?menuNo=300011&sgId=121&pnum=30',\n",
       " '/ucms/ogp/sug/view.do?menuNo=300011&sgId=120&pnum=31',\n",
       " '/ucms/ogp/sug/view.do?menuNo=300011&sgId=119&pnum=31',\n",
       " '/ucms/ogp/sug/view.do?menuNo=300011&sgId=116&pnum=31',\n",
       " '/ucms/ogp/sug/view.do?menuNo=300011&sgId=115&pnum=31',\n",
       " '/ucms/ogp/sug/view.do?menuNo=300011&sgId=109&pnum=31',\n",
       " '/ucms/ogp/sug/view.do?menuNo=300011&sgId=108&pnum=32',\n",
       " '/ucms/ogp/sug/view.do?menuNo=300011&sgId=96&pnum=32',\n",
       " '/ucms/ogp/sug/view.do?menuNo=300011&sgId=91&pnum=32',\n",
       " '/ucms/ogp/sug/view.do?menuNo=300011&sgId=90&pnum=32',\n",
       " '/ucms/ogp/sug/view.do?menuNo=300011&sgId=86&pnum=32',\n",
       " '/ucms/ogp/sug/view.do?menuNo=300011&sgId=85&pnum=33',\n",
       " '/ucms/ogp/sug/view.do?menuNo=300011&sgId=83&pnum=33',\n",
       " '/ucms/ogp/sug/view.do?menuNo=300011&sgId=82&pnum=33',\n",
       " '/ucms/ogp/sug/view.do?menuNo=300011&sgId=81&pnum=33',\n",
       " '/ucms/ogp/sug/view.do?menuNo=300011&sgId=80&pnum=33',\n",
       " '/ucms/ogp/sug/view.do?menuNo=300011&sgId=79&pnum=34',\n",
       " '/ucms/ogp/sug/view.do?menuNo=300011&sgId=78&pnum=34',\n",
       " '/ucms/ogp/sug/view.do?menuNo=300011&sgId=77&pnum=34',\n",
       " '/ucms/ogp/sug/view.do?menuNo=300011&sgId=76&pnum=34',\n",
       " '/ucms/ogp/sug/view.do?menuNo=300011&sgId=75&pnum=34',\n",
       " '/ucms/ogp/sug/view.do?menuNo=300011&sgId=74&pnum=35',\n",
       " '/ucms/ogp/sug/view.do?menuNo=300011&sgId=72&pnum=35',\n",
       " '/ucms/ogp/sug/view.do?menuNo=300011&sgId=71&pnum=35',\n",
       " '/ucms/ogp/sug/view.do?menuNo=300011&sgId=70&pnum=35',\n",
       " '/ucms/ogp/sug/view.do?menuNo=300011&sgId=69&pnum=35',\n",
       " '/ucms/ogp/sug/view.do?menuNo=300011&sgId=68&pnum=36',\n",
       " '/ucms/ogp/sug/view.do?menuNo=300011&sgId=67&pnum=36',\n",
       " '/ucms/ogp/sug/view.do?menuNo=300011&sgId=66&pnum=36',\n",
       " '/ucms/ogp/sug/view.do?menuNo=300011&sgId=65&pnum=36',\n",
       " '/ucms/ogp/sug/view.do?menuNo=300011&sgId=64&pnum=36',\n",
       " '/ucms/ogp/sug/view.do?menuNo=300011&sgId=63&pnum=37',\n",
       " '/ucms/ogp/sug/view.do?menuNo=300011&sgId=62&pnum=37',\n",
       " '/ucms/ogp/sug/view.do?menuNo=300011&sgId=61&pnum=37',\n",
       " '/ucms/ogp/sug/view.do?menuNo=300011&sgId=60&pnum=37',\n",
       " '/ucms/ogp/sug/view.do?menuNo=300011&sgId=59&pnum=37',\n",
       " '/ucms/ogp/sug/view.do?menuNo=300011&sgId=58&pnum=38',\n",
       " '/ucms/ogp/sug/view.do?menuNo=300011&sgId=57&pnum=38',\n",
       " '/ucms/ogp/sug/view.do?menuNo=300011&sgId=49&pnum=38',\n",
       " '/ucms/ogp/sug/view.do?menuNo=300011&sgId=56&pnum=38',\n",
       " '/ucms/ogp/sug/view.do?menuNo=300011&sgId=55&pnum=38',\n",
       " '/ucms/ogp/sug/view.do?menuNo=300011&sgId=54&pnum=39',\n",
       " '/ucms/ogp/sug/view.do?menuNo=300011&sgId=53&pnum=39',\n",
       " '/ucms/ogp/sug/view.do?menuNo=300011&sgId=52&pnum=39',\n",
       " '/ucms/ogp/sug/view.do?menuNo=300011&sgId=51&pnum=39',\n",
       " '/ucms/ogp/sug/view.do?menuNo=300011&sgId=50&pnum=39',\n",
       " '/ucms/ogp/sug/view.do?menuNo=300011&sgId=48&pnum=40',\n",
       " '/ucms/ogp/sug/view.do?menuNo=300011&sgId=44&pnum=40',\n",
       " '/ucms/ogp/sug/view.do?menuNo=300011&sgId=43&pnum=40',\n",
       " '/ucms/ogp/sug/view.do?menuNo=300011&sgId=42&pnum=40',\n",
       " '/ucms/ogp/sug/view.do?menuNo=300011&sgId=41&pnum=40',\n",
       " '/ucms/ogp/sug/view.do?menuNo=300011&sgId=40&pnum=41',\n",
       " '/ucms/ogp/sug/view.do?menuNo=300011&sgId=39&pnum=41',\n",
       " '/ucms/ogp/sug/view.do?menuNo=300011&sgId=38&pnum=41',\n",
       " '/ucms/ogp/sug/view.do?menuNo=300011&sgId=37&pnum=41',\n",
       " '/ucms/ogp/sug/view.do?menuNo=300011&sgId=35&pnum=41',\n",
       " '/ucms/ogp/sug/view.do?menuNo=300011&sgId=34&pnum=42',\n",
       " '/ucms/ogp/sug/view.do?menuNo=300011&sgId=33&pnum=42',\n",
       " '/ucms/ogp/sug/view.do?menuNo=300011&sgId=32&pnum=42',\n",
       " '/ucms/ogp/sug/view.do?menuNo=300011&sgId=31&pnum=42',\n",
       " '/ucms/ogp/sug/view.do?menuNo=300011&sgId=30&pnum=42',\n",
       " '/ucms/ogp/sug/view.do?menuNo=300011&sgId=29&pnum=43',\n",
       " '/ucms/ogp/sug/view.do?menuNo=300011&sgId=28&pnum=43',\n",
       " '/ucms/ogp/sug/view.do?menuNo=300011&sgId=26&pnum=43',\n",
       " '/ucms/ogp/sug/view.do?menuNo=300011&sgId=25&pnum=43',\n",
       " '/ucms/ogp/sug/view.do?menuNo=300011&sgId=24&pnum=43',\n",
       " '/ucms/ogp/sug/view.do?menuNo=300011&sgId=23&pnum=44',\n",
       " '/ucms/ogp/sug/view.do?menuNo=300011&sgId=22&pnum=44',\n",
       " '/ucms/ogp/sug/view.do?menuNo=300011&sgId=21&pnum=44',\n",
       " '/ucms/ogp/sug/view.do?menuNo=300011&sgId=20&pnum=44',\n",
       " '/ucms/ogp/sug/view.do?menuNo=300011&sgId=19&pnum=44',\n",
       " '/ucms/ogp/sug/view.do?menuNo=300011&sgId=18&pnum=45',\n",
       " '/ucms/ogp/sug/view.do?menuNo=300011&sgId=17&pnum=45',\n",
       " '/ucms/ogp/sug/view.do?menuNo=300011&sgId=16&pnum=45',\n",
       " '/ucms/ogp/sug/view.do?menuNo=300011&sgId=15&pnum=45',\n",
       " '/ucms/ogp/sug/view.do?menuNo=300011&sgId=13&pnum=45',\n",
       " '/ucms/ogp/sug/view.do?menuNo=300011&sgId=12&pnum=46',\n",
       " '/ucms/ogp/sug/view.do?menuNo=300011&sgId=11&pnum=46',\n",
       " '/ucms/ogp/sug/view.do?menuNo=300011&sgId=10&pnum=46',\n",
       " '/ucms/ogp/sug/view.do?menuNo=300011&sgId=8&pnum=46',\n",
       " '/ucms/ogp/sug/view.do?menuNo=300011&sgId=7&pnum=46',\n",
       " '/ucms/ogp/sug/view.do?menuNo=300011&sgId=6&pnum=47',\n",
       " '/ucms/ogp/sug/view.do?menuNo=300011&sgId=5&pnum=47',\n",
       " '/ucms/ogp/sug/view.do?menuNo=300011&sgId=4&pnum=47',\n",
       " '/ucms/ogp/sug/view.do?menuNo=300011&sgId=3&pnum=47',\n",
       " '/ucms/ogp/sug/view.do?menuNo=300011&sgId=2&pnum=47',\n",
       " '/ucms/ogp/sug/view.do?menuNo=300011&sgId=1&pnum=48']"
      ]
     },
     "execution_count": 7,
     "metadata": {},
     "output_type": "execute_result"
    }
   ],
   "source": [
    "# 목록의 내용만 크롤링 해옵니다.\n",
    "# 목록의 링크 값을 가져와 suggestion_list 리스트에 담아줍니다.\n",
    "suggestion_list = []\n",
    "pnum = 1\n",
    "\n",
    "get_suggestion_list(pnum)\n",
    "suggestion_list    "
   ]
  },
  {
   "cell_type": "markdown",
   "metadata": {},
   "source": [
    "### 제대로 href 태그의 링크를 가져왔는지 확인하기 "
   ]
  },
  {
   "cell_type": "code",
   "execution_count": 8,
   "metadata": {
    "scrolled": false
   },
   "outputs": [
    {
     "name": "stdout",
     "output_type": "stream",
     "text": [
      "236\n"
     ]
    },
    {
     "data": {
      "text/plain": [
       "['/ucms/ogp/sug/view.do?menuNo=300011&sgId=280&pnum=1',\n",
       " '/ucms/ogp/sug/view.do?menuNo=300011&sgId=279&pnum=1',\n",
       " '/ucms/ogp/sug/view.do?menuNo=300011&sgId=278&pnum=1']"
      ]
     },
     "execution_count": 8,
     "metadata": {},
     "output_type": "execute_result"
    }
   ],
   "source": [
    "print(len(suggestion_list))\n",
    "\n",
    "suggestion_list[:3]"
   ]
  },
  {
   "cell_type": "markdown",
   "metadata": {},
   "source": [
    "## 게시물 내용 가져오기\n",
    "* href 목록을 통해 게시물의 내용을 가져오기"
   ]
  },
  {
   "cell_type": "code",
   "execution_count": 9,
   "metadata": {},
   "outputs": [
    {
     "name": "stdout",
     "output_type": "stream",
     "text": [
      "원스톱 의원요구자료 제출 시스템 구축\n"
     ]
    }
   ],
   "source": [
    "url = '/ucms/ogp/sug/view.do?menuNo=300011&sgId=278&pnum=1'\n",
    "base_url = f\"https://www.innogov.go.kr{url}\"\n",
    "response = requests.get( base_url )\n",
    "if response.status_code == 200: #response가 정상이면 동작\n",
    "    html = bs(response.text, 'html.parser')\n",
    "    #content > div.vveiw_box1 > dl > dt\n",
    "    title = html.select(\n",
    "            '#content > div.vveiw_box1 > dl > dt')[0].get_text(strip=True)\n",
    "    print(title)"
   ]
  },
  {
   "cell_type": "code",
   "execution_count": 71,
   "metadata": {},
   "outputs": [
    {
     "name": "stdout",
     "output_type": "stream",
     "text": [
      "[<dd>일반행정</dd>, <dd>2019.10.15</dd>, <dd>2020.01.12</dd>, <dd>연시랑</dd>]\n",
      "일반행정\n",
      "2019.10.15\n",
      "2020.01.12\n",
      "연시랑\n"
     ]
    }
   ],
   "source": [
    "desc = html.select(\n",
    "            '#content > div.vveiw_box1 > div.vveiw_name > ul > li > dl > dd') \n",
    "category = desc[0].get_text(strip=True)\n",
    "print(desc)\n",
    "print(desc[0].get_text(strip=True))\n",
    "print(desc[1].get_text(strip=True))\n",
    "print(desc[2].get_text(strip=True))\n",
    "print(desc[3].get_text(strip=True))"
   ]
  },
  {
   "cell_type": "code",
   "execution_count": 72,
   "metadata": {},
   "outputs": [
    {
     "data": {
      "text/plain": [
       "'150'"
      ]
     },
     "execution_count": 72,
     "metadata": {},
     "output_type": "execute_result"
    }
   ],
   "source": [
    "# id값을 저장해 주기 위해 미리 추출 해보기\n",
    "u = 'view.do?menuNo=300011&sgId=150&pnum=1'\n",
    "u.split('=')[2].split('&')[0]"
   ]
  },
  {
   "cell_type": "code",
   "execution_count": 73,
   "metadata": {},
   "outputs": [],
   "source": [
    "# 목록 리스트에 있는 url를 넘겨주면 내용을 크롤링 해옵니다.\n",
    "def get_suggestion_content(url):\n",
    "    article = []\n",
    "    base_url = f\"https://www.innogov.go.kr/{url}\"\n",
    "    response = requests.get( base_url )\n",
    "    if response.status_code == 200:\n",
    "        html = bs(response.text, 'html.parser')\n",
    "        # 제목을 가져옵니다.\n",
    "        title = html.select(\n",
    "            '#content > div.vveiw_box1 > dl > dt')[0].get_text(strip=True)\n",
    "        # dd 태그에 있는 내용을 가져와서 카테고리, 시작일, 마감일, 제안인 정보를 추출합니다.\n",
    "        desc = html.select(\n",
    "            '#content > div.vveiw_box1 > div.vveiw_name > ul > li > dl > dd')\n",
    "        category = desc[0].get_text(strip=True)\n",
    "        content = html.select(\n",
    "            '#content > div.vveiw_box1 > div.vveiw_cont > div > pre')[0].get_text(strip=True)\n",
    "        start = desc[1].get_text(strip=True)\n",
    "        end = desc[2].get_text(strip=True)\n",
    "        author = desc[3].get_text(strip=True)\n",
    "        # 추천인원을 가져옵니다.\n",
    "        vote = html.select('#counter')[0].get_text(strip=True)\n",
    "        # 해당 게시물의 Id 값을 가져옵니다.\n",
    "        sgId = url.split('=')[2].split('&')[0]\n",
    "        \n",
    "        article.append(sgId)\n",
    "        article.append(title)\n",
    "        article.append(category)\n",
    "        article.append(content)\n",
    "        article.append(start)\n",
    "        article.append(end)\n",
    "        article.append(vote)\n",
    "        article.append(author)\n",
    "       # print(article)\n",
    "        \n",
    "#       time.sleep(random.randint(1,2))\n",
    "        return article\n"
   ]
  },
  {
   "cell_type": "markdown",
   "metadata": {},
   "source": [
    "### 각 게시물의 세부내용 가져오기"
   ]
  },
  {
   "cell_type": "code",
   "execution_count": 74,
   "metadata": {},
   "outputs": [
    {
     "name": "stderr",
     "output_type": "stream",
     "text": [
      "236it [00:43,  5.42it/s]\n"
     ]
    }
   ],
   "source": [
    "data = []\n",
    "# tqdm 을 사용해서 어느정도 가져왔는지 확인하기\n",
    "for i, suggestion in tqdm(enumerate(suggestion_list)): # enumerate를 통해 i(index), suggestion을 가져옴\n",
    "    # suggestion_list 에 있는 각 게시물에 접근해서 카테고리, 시작일, 마감일, 제안인, 제목, 내용 등을 가져옵니다.\n",
    "    s = get_suggestion_content(suggestion)\n",
    "    data.append(s)"
   ]
  },
  {
   "cell_type": "code",
   "execution_count": 75,
   "metadata": {},
   "outputs": [
    {
     "data": {
      "text/plain": [
       "['sgId', 'title', 'category', 'content', 'start', 'end', 'vote', 'author']"
      ]
     },
     "execution_count": 75,
     "metadata": {},
     "output_type": "execute_result"
    }
   ],
   "source": [
    "column_names = [\"sgId\", \"title\", \"category\", \"content\", \"start\", \"end\", \"vote\", \"author\"]\n",
    "column_names"
   ]
  },
  {
   "cell_type": "code",
   "execution_count": 76,
   "metadata": {},
   "outputs": [],
   "source": [
    "#data"
   ]
  },
  {
   "cell_type": "code",
   "execution_count": 77,
   "metadata": {},
   "outputs": [
    {
     "data": {
      "text/html": [
       "<div>\n",
       "<style scoped>\n",
       "    .dataframe tbody tr th:only-of-type {\n",
       "        vertical-align: middle;\n",
       "    }\n",
       "\n",
       "    .dataframe tbody tr th {\n",
       "        vertical-align: top;\n",
       "    }\n",
       "\n",
       "    .dataframe thead th {\n",
       "        text-align: right;\n",
       "    }\n",
       "</style>\n",
       "<table border=\"1\" class=\"dataframe\">\n",
       "  <thead>\n",
       "    <tr style=\"text-align: right;\">\n",
       "      <th></th>\n",
       "      <th>sgId</th>\n",
       "      <th>title</th>\n",
       "      <th>category</th>\n",
       "      <th>content</th>\n",
       "      <th>start</th>\n",
       "      <th>end</th>\n",
       "      <th>vote</th>\n",
       "      <th>author</th>\n",
       "    </tr>\n",
       "  </thead>\n",
       "  <tbody>\n",
       "    <tr>\n",
       "      <th>0</th>\n",
       "      <td>280</td>\n",
       "      <td>행정기관 소속 위원회 위원 개인정보 및 안건 공개 기준에 관한 법적 근거 마련</td>\n",
       "      <td>일반행정</td>\n",
       "      <td>ㅁ 현황ㅇ 법령에 따라 설치되는 행정기관 소속 위원회들이 다수 운영되고  있으며, ...</td>\n",
       "      <td>2019.10.16</td>\n",
       "      <td>2020.01.13</td>\n",
       "      <td>0</td>\n",
       "      <td>법제혁신</td>\n",
       "    </tr>\n",
       "    <tr>\n",
       "      <th>1</th>\n",
       "      <td>279</td>\n",
       "      <td>초과근무 줄이기!</td>\n",
       "      <td>일반행정</td>\n",
       "      <td>1. 문제점* 초과근무를 많이 할수록 일을 열심히 하고 있다고 생각하는 조직 문화*...</td>\n",
       "      <td>2019.10.16</td>\n",
       "      <td>2020.01.13</td>\n",
       "      <td>2</td>\n",
       "      <td>ㅁㄴㅁ</td>\n",
       "    </tr>\n",
       "    <tr>\n",
       "      <th>2</th>\n",
       "      <td>278</td>\n",
       "      <td>원스톱 의원요구자료 제출 시스템 구축</td>\n",
       "      <td>일반행정</td>\n",
       "      <td>​​□ 제안제목○ 원스톱 의원요구자료 제출 시스템 구축□현황 및 문제점○ 각부처 별...</td>\n",
       "      <td>2019.10.15</td>\n",
       "      <td>2020.01.12</td>\n",
       "      <td>0</td>\n",
       "      <td>연시랑</td>\n",
       "    </tr>\n",
       "    <tr>\n",
       "      <th>3</th>\n",
       "      <td>277</td>\n",
       "      <td>예산을 공평하게 분배</td>\n",
       "      <td>사회통합</td>\n",
       "      <td>제목 :  예산을 부처별 공평하게 분배후 차후평가문제점 : 1. 예산편성 삭감원칙으...</td>\n",
       "      <td>2019.10.15</td>\n",
       "      <td>2020.01.12</td>\n",
       "      <td>3</td>\n",
       "      <td>슈퍼맨119</td>\n",
       "    </tr>\n",
       "    <tr>\n",
       "      <th>4</th>\n",
       "      <td>276</td>\n",
       "      <td>공무원 인트라넷 통합메신저</td>\n",
       "      <td>일반행정</td>\n",
       "      <td>부처별,기관별로 자체 인트라넷 메신저가 활성화되며,신속한 업무 추진과 협조에 큰 도...</td>\n",
       "      <td>2019.10.15</td>\n",
       "      <td>2020.01.12</td>\n",
       "      <td>0</td>\n",
       "      <td>페이소스</td>\n",
       "    </tr>\n",
       "  </tbody>\n",
       "</table>\n",
       "</div>"
      ],
      "text/plain": [
       "  sgId                                        title category  \\\n",
       "0  280  행정기관 소속 위원회 위원 개인정보 및 안건 공개 기준에 관한 법적 근거 마련     일반행정   \n",
       "1  279                                    초과근무 줄이기!     일반행정   \n",
       "2  278                         원스톱 의원요구자료 제출 시스템 구축     일반행정   \n",
       "3  277                                  예산을 공평하게 분배     사회통합   \n",
       "4  276                               공무원 인트라넷 통합메신저     일반행정   \n",
       "\n",
       "                                             content       start         end  \\\n",
       "0  ㅁ 현황ㅇ 법령에 따라 설치되는 행정기관 소속 위원회들이 다수 운영되고  있으며, ...  2019.10.16  2020.01.13   \n",
       "1  1. 문제점* 초과근무를 많이 할수록 일을 열심히 하고 있다고 생각하는 조직 문화*...  2019.10.16  2020.01.13   \n",
       "2  ​​□ 제안제목○ 원스톱 의원요구자료 제출 시스템 구축□현황 및 문제점○ 각부처 별...  2019.10.15  2020.01.12   \n",
       "3  제목 :  예산을 부처별 공평하게 분배후 차후평가문제점 : 1. 예산편성 삭감원칙으...  2019.10.15  2020.01.12   \n",
       "4  부처별,기관별로 자체 인트라넷 메신저가 활성화되며,신속한 업무 추진과 협조에 큰 도...  2019.10.15  2020.01.12   \n",
       "\n",
       "  vote  author  \n",
       "0    0    법제혁신  \n",
       "1    2     ㅁㄴㅁ  \n",
       "2    0     연시랑  \n",
       "3    3  슈퍼맨119  \n",
       "4    0    페이소스  "
      ]
     },
     "execution_count": 77,
     "metadata": {},
     "output_type": "execute_result"
    }
   ],
   "source": [
    "data = pd.DataFrame(data, columns=column_names)\n",
    "data.head()"
   ]
  },
  {
   "cell_type": "code",
   "execution_count": 63,
   "metadata": {},
   "outputs": [
    {
     "data": {
      "text/html": [
       "<div>\n",
       "<style scoped>\n",
       "    .dataframe tbody tr th:only-of-type {\n",
       "        vertical-align: middle;\n",
       "    }\n",
       "\n",
       "    .dataframe tbody tr th {\n",
       "        vertical-align: top;\n",
       "    }\n",
       "\n",
       "    .dataframe thead th {\n",
       "        text-align: right;\n",
       "    }\n",
       "</style>\n",
       "<table border=\"1\" class=\"dataframe\">\n",
       "  <thead>\n",
       "    <tr style=\"text-align: right;\">\n",
       "      <th></th>\n",
       "      <th>sgId</th>\n",
       "      <th>title</th>\n",
       "      <th>category</th>\n",
       "      <th>content</th>\n",
       "      <th>start</th>\n",
       "      <th>end</th>\n",
       "      <th>vote</th>\n",
       "      <th>author</th>\n",
       "    </tr>\n",
       "  </thead>\n",
       "  <tbody>\n",
       "    <tr>\n",
       "      <th>231</th>\n",
       "      <td>5</td>\n",
       "      <td>철도 및  고속도로변 유휴지에  태양전지판 설치</td>\n",
       "      <td>기타</td>\n",
       "      <td>에너지 부존자원 국가인 우리나라에서 국토를 좀 더 효율적으로 활용하여 미래의 무공해...</td>\n",
       "      <td>2018.08.03</td>\n",
       "      <td>2018.09.02</td>\n",
       "      <td>8</td>\n",
       "      <td>지고기</td>\n",
       "    </tr>\n",
       "    <tr>\n",
       "      <th>232</th>\n",
       "      <td>4</td>\n",
       "      <td>“일거리” 매칭 사이트를 개설하여 “일자리” 창출 연계</td>\n",
       "      <td>상생협력</td>\n",
       "      <td>○문제점-최근(2018.05)취업자 증가폭이10만명 밑으로 추락했다고 한다.글로벌 ...</td>\n",
       "      <td>2018.08.02</td>\n",
       "      <td>2018.09.01</td>\n",
       "      <td>4</td>\n",
       "      <td>옹성산</td>\n",
       "    </tr>\n",
       "    <tr>\n",
       "      <th>233</th>\n",
       "      <td>3</td>\n",
       "      <td>경력증명을 위한 경력등록(은행)제도 시행</td>\n",
       "      <td>일반행정</td>\n",
       "      <td>○문제점-모든 기관(국가,민간)에 사업,채용지원,이력증빙서류로“경력증명서”를 요구하...</td>\n",
       "      <td>2018.08.02</td>\n",
       "      <td>2018.09.01</td>\n",
       "      <td>4</td>\n",
       "      <td>옹성산</td>\n",
       "    </tr>\n",
       "    <tr>\n",
       "      <th>234</th>\n",
       "      <td>2</td>\n",
       "      <td>공무원 전입시험의 투명성 확보방안</td>\n",
       "      <td>반부패청렴</td>\n",
       "      <td>현직 공무원들의 타기관이나 상급기관에 전입시험시투명성을 높이는 방안을 마련했으면 합...</td>\n",
       "      <td>2018.08.01</td>\n",
       "      <td>2018.08.31</td>\n",
       "      <td>7</td>\n",
       "      <td>음지가양지된다</td>\n",
       "    </tr>\n",
       "    <tr>\n",
       "      <th>235</th>\n",
       "      <td>1</td>\n",
       "      <td>어린이집 차량내 어린이 질식사고 등에 대한 상세한 대책이 필요하다.</td>\n",
       "      <td>안전</td>\n",
       "      <td>최근 동두천 어린이집 차량내 어린이 질식사고가 발생하여, 이에 대한 여러가지 대책을...</td>\n",
       "      <td>2018.07.24</td>\n",
       "      <td>2018.08.23</td>\n",
       "      <td>14</td>\n",
       "      <td>헌비</td>\n",
       "    </tr>\n",
       "  </tbody>\n",
       "</table>\n",
       "</div>"
      ],
      "text/plain": [
       "    sgId                                  title category  \\\n",
       "231    5             철도 및  고속도로변 유휴지에  태양전지판 설치       기타   \n",
       "232    4         “일거리” 매칭 사이트를 개설하여 “일자리” 창출 연계     상생협력   \n",
       "233    3                 경력증명을 위한 경력등록(은행)제도 시행     일반행정   \n",
       "234    2                     공무원 전입시험의 투명성 확보방안    반부패청렴   \n",
       "235    1  어린이집 차량내 어린이 질식사고 등에 대한 상세한 대책이 필요하다.       안전   \n",
       "\n",
       "                                               content       start  \\\n",
       "231  에너지 부존자원 국가인 우리나라에서 국토를 좀 더 효율적으로 활용하여 미래의 무공해...  2018.08.03   \n",
       "232  ○문제점-최근(2018.05)취업자 증가폭이10만명 밑으로 추락했다고 한다.글로벌 ...  2018.08.02   \n",
       "233  ○문제점-모든 기관(국가,민간)에 사업,채용지원,이력증빙서류로“경력증명서”를 요구하...  2018.08.02   \n",
       "234  현직 공무원들의 타기관이나 상급기관에 전입시험시투명성을 높이는 방안을 마련했으면 합...  2018.08.01   \n",
       "235  최근 동두천 어린이집 차량내 어린이 질식사고가 발생하여, 이에 대한 여러가지 대책을...  2018.07.24   \n",
       "\n",
       "            end vote   author  \n",
       "231  2018.09.02    8      지고기  \n",
       "232  2018.09.01    4      옹성산  \n",
       "233  2018.09.01    4      옹성산  \n",
       "234  2018.08.31    7  음지가양지된다  \n",
       "235  2018.08.23   14       헌비  "
      ]
     },
     "execution_count": 63,
     "metadata": {},
     "output_type": "execute_result"
    }
   ],
   "source": [
    "data.tail()"
   ]
  },
  {
   "cell_type": "code",
   "execution_count": 80,
   "metadata": {},
   "outputs": [
    {
     "data": {
      "text/plain": [
       "일반행정     41\n",
       "안전       33\n",
       "보건복지     32\n",
       "기타       31\n",
       "인권/평등    21\n",
       "국민참여     17\n",
       "상생협력     15\n",
       "환경       14\n",
       "사회통합     13\n",
       "공동체      10\n",
       "반부패청렴     9\n",
       "Name: category, dtype: int64"
      ]
     },
     "execution_count": 80,
     "metadata": {},
     "output_type": "execute_result"
    }
   ],
   "source": [
    "data[\"category\"].value_counts()"
   ]
  },
  {
   "cell_type": "code",
   "execution_count": 65,
   "metadata": {},
   "outputs": [],
   "source": [
    "data.to_csv(\"suggestion.csv\", index=False)"
   ]
  },
  {
   "cell_type": "code",
   "execution_count": 66,
   "metadata": {},
   "outputs": [
    {
     "data": {
      "text/html": [
       "<div>\n",
       "<style scoped>\n",
       "    .dataframe tbody tr th:only-of-type {\n",
       "        vertical-align: middle;\n",
       "    }\n",
       "\n",
       "    .dataframe tbody tr th {\n",
       "        vertical-align: top;\n",
       "    }\n",
       "\n",
       "    .dataframe thead th {\n",
       "        text-align: right;\n",
       "    }\n",
       "</style>\n",
       "<table border=\"1\" class=\"dataframe\">\n",
       "  <thead>\n",
       "    <tr style=\"text-align: right;\">\n",
       "      <th></th>\n",
       "      <th>sgId</th>\n",
       "      <th>title</th>\n",
       "      <th>category</th>\n",
       "      <th>content</th>\n",
       "      <th>start</th>\n",
       "      <th>end</th>\n",
       "      <th>vote</th>\n",
       "      <th>author</th>\n",
       "    </tr>\n",
       "  </thead>\n",
       "  <tbody>\n",
       "    <tr>\n",
       "      <th>0</th>\n",
       "      <td>280</td>\n",
       "      <td>행정기관 소속 위원회 위원 개인정보 및 안건 공개 기준에 관한 법적 근거 마련</td>\n",
       "      <td>일반행정</td>\n",
       "      <td>ㅁ 현황ㅇ 법령에 따라 설치되는 행정기관 소속 위원회들이 다수 운영되고  있으며, ...</td>\n",
       "      <td>2019.10.16</td>\n",
       "      <td>2020.01.13</td>\n",
       "      <td>0</td>\n",
       "      <td>법제혁신</td>\n",
       "    </tr>\n",
       "    <tr>\n",
       "      <th>1</th>\n",
       "      <td>279</td>\n",
       "      <td>초과근무 줄이기!</td>\n",
       "      <td>일반행정</td>\n",
       "      <td>1. 문제점* 초과근무를 많이 할수록 일을 열심히 하고 있다고 생각하는 조직 문화*...</td>\n",
       "      <td>2019.10.16</td>\n",
       "      <td>2020.01.13</td>\n",
       "      <td>2</td>\n",
       "      <td>ㅁㄴㅁ</td>\n",
       "    </tr>\n",
       "    <tr>\n",
       "      <th>2</th>\n",
       "      <td>278</td>\n",
       "      <td>원스톱 의원요구자료 제출 시스템 구축</td>\n",
       "      <td>일반행정</td>\n",
       "      <td>​​□ 제안제목○ 원스톱 의원요구자료 제출 시스템 구축□현황 및 문제점○ 각부처 별...</td>\n",
       "      <td>2019.10.15</td>\n",
       "      <td>2020.01.12</td>\n",
       "      <td>0</td>\n",
       "      <td>연시랑</td>\n",
       "    </tr>\n",
       "    <tr>\n",
       "      <th>3</th>\n",
       "      <td>277</td>\n",
       "      <td>예산을 공평하게 분배</td>\n",
       "      <td>사회통합</td>\n",
       "      <td>제목 :  예산을 부처별 공평하게 분배후 차후평가문제점 : 1. 예산편성 삭감원칙으...</td>\n",
       "      <td>2019.10.15</td>\n",
       "      <td>2020.01.12</td>\n",
       "      <td>3</td>\n",
       "      <td>슈퍼맨119</td>\n",
       "    </tr>\n",
       "    <tr>\n",
       "      <th>4</th>\n",
       "      <td>276</td>\n",
       "      <td>공무원 인트라넷 통합메신저</td>\n",
       "      <td>일반행정</td>\n",
       "      <td>부처별,기관별로 자체 인트라넷 메신저가 활성화되며,신속한 업무 추진과 협조에 큰 도...</td>\n",
       "      <td>2019.10.15</td>\n",
       "      <td>2020.01.12</td>\n",
       "      <td>0</td>\n",
       "      <td>페이소스</td>\n",
       "    </tr>\n",
       "  </tbody>\n",
       "</table>\n",
       "</div>"
      ],
      "text/plain": [
       "   sgId                                        title category  \\\n",
       "0   280  행정기관 소속 위원회 위원 개인정보 및 안건 공개 기준에 관한 법적 근거 마련     일반행정   \n",
       "1   279                                    초과근무 줄이기!     일반행정   \n",
       "2   278                         원스톱 의원요구자료 제출 시스템 구축     일반행정   \n",
       "3   277                                  예산을 공평하게 분배     사회통합   \n",
       "4   276                               공무원 인트라넷 통합메신저     일반행정   \n",
       "\n",
       "                                             content       start         end  \\\n",
       "0  ㅁ 현황ㅇ 법령에 따라 설치되는 행정기관 소속 위원회들이 다수 운영되고  있으며, ...  2019.10.16  2020.01.13   \n",
       "1  1. 문제점* 초과근무를 많이 할수록 일을 열심히 하고 있다고 생각하는 조직 문화*...  2019.10.16  2020.01.13   \n",
       "2  ​​□ 제안제목○ 원스톱 의원요구자료 제출 시스템 구축□현황 및 문제점○ 각부처 별...  2019.10.15  2020.01.12   \n",
       "3  제목 :  예산을 부처별 공평하게 분배후 차후평가문제점 : 1. 예산편성 삭감원칙으...  2019.10.15  2020.01.12   \n",
       "4  부처별,기관별로 자체 인트라넷 메신저가 활성화되며,신속한 업무 추진과 협조에 큰 도...  2019.10.15  2020.01.12   \n",
       "\n",
       "   vote  author  \n",
       "0     0    법제혁신  \n",
       "1     2     ㅁㄴㅁ  \n",
       "2     0     연시랑  \n",
       "3     3  슈퍼맨119  \n",
       "4     0    페이소스  "
      ]
     },
     "execution_count": 66,
     "metadata": {},
     "output_type": "execute_result"
    }
   ],
   "source": [
    "pd.read_csv(\"suggestion.csv\").head()"
   ]
  },
  {
   "cell_type": "code",
   "execution_count": 67,
   "metadata": {},
   "outputs": [
    {
     "data": {
      "text/plain": [
       "(236, 8)"
      ]
     },
     "execution_count": 67,
     "metadata": {},
     "output_type": "execute_result"
    }
   ],
   "source": [
    "data.shape"
   ]
  },
  {
   "cell_type": "code",
   "execution_count": null,
   "metadata": {},
   "outputs": [],
   "source": []
  },
  {
   "cell_type": "code",
   "execution_count": null,
   "metadata": {},
   "outputs": [],
   "source": []
  },
  {
   "cell_type": "code",
   "execution_count": null,
   "metadata": {},
   "outputs": [],
   "source": []
  },
  {
   "cell_type": "code",
   "execution_count": null,
   "metadata": {},
   "outputs": [],
   "source": []
  }
 ],
 "metadata": {
  "kernelspec": {
   "display_name": "Python 3",
   "language": "python",
   "name": "python3"
  },
  "language_info": {
   "codemirror_mode": {
    "name": "ipython",
    "version": 3
   },
   "file_extension": ".py",
   "mimetype": "text/x-python",
   "name": "python",
   "nbconvert_exporter": "python",
   "pygments_lexer": "ipython3",
   "version": "3.7.6"
  },
  "toc": {
   "base_numbering": 1,
   "nav_menu": {},
   "number_sections": true,
   "sideBar": true,
   "skip_h1_title": false,
   "title_cell": "Table of Contents",
   "title_sidebar": "Contents",
   "toc_cell": false,
   "toc_position": {},
   "toc_section_display": true,
   "toc_window_display": false
  },
  "varInspector": {
   "cols": {
    "lenName": 16,
    "lenType": 16,
    "lenVar": 40
   },
   "kernels_config": {
    "python": {
     "delete_cmd_postfix": "",
     "delete_cmd_prefix": "del ",
     "library": "var_list.py",
     "varRefreshCmd": "print(var_dic_list())"
    },
    "r": {
     "delete_cmd_postfix": ") ",
     "delete_cmd_prefix": "rm(",
     "library": "var_list.r",
     "varRefreshCmd": "cat(var_dic_list()) "
    }
   },
   "types_to_exclude": [
    "module",
    "function",
    "builtin_function_or_method",
    "instance",
    "_Feature"
   ],
   "window_display": false
  }
 },
 "nbformat": 4,
 "nbformat_minor": 2
}
