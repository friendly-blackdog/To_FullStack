{
 "cells": [
  {
   "cell_type": "markdown",
   "metadata": {},
   "source": [
    "# 웹사이트 순위 "
   ]
  },
  {
   "cell_type": "code",
   "execution_count": 4,
   "metadata": {},
   "outputs": [
    {
     "name": "stdout",
     "output_type": "stream",
     "text": [
      "[<a href=\"https://support.alexa.com/hc/en-us/articles/200444340\" target=\"_blank\">this explanation</a>, <a href=\"/siteinfo/google.com\">Google.com</a>, <a href=\"/siteinfo/naver.com\">Naver.com</a>, <a href=\"/siteinfo/youtube.com\">Youtube.com</a>, <a href=\"/siteinfo/daum.net\">Daum.net</a>, <a href=\"/siteinfo/tistory.com\">Tistory.com</a>, <a href=\"/siteinfo/tmall.com\">Tmall.com</a>, <a href=\"/siteinfo/google.co.kr\">Google.co.kr</a>, <a href=\"/siteinfo/kakao.com\">Kakao.com</a>, <a href=\"/siteinfo/sohu.com\">Sohu.com</a>, <a href=\"/siteinfo/facebook.com\">Facebook.com</a>, <a href=\"/siteinfo/amazon.com\">Amazon.com</a>, <a href=\"/siteinfo/qq.com\">Qq.com</a>, <a href=\"/siteinfo/namu.wiki\">Namu.wiki</a>, <a href=\"/siteinfo/wikipedia.org\">Wikipedia.org</a>, <a href=\"/siteinfo/login.tmall.com\">Login.tmall.com</a>, <a href=\"/siteinfo/coupang.com\">Coupang.com</a>, <a href=\"/siteinfo/taobao.com\">Taobao.com</a>, <a href=\"/siteinfo/netflix.com\">Netflix.com</a>, <a href=\"/siteinfo/jd.com\">Jd.com</a>, <a href=\"/siteinfo/360.cn\">360.cn</a>, <a href=\"/siteinfo/baidu.com\">Baidu.com</a>, <a href=\"/siteinfo/yahoo.com\">Yahoo.com</a>, <a href=\"/siteinfo/dcinside.com\">Dcinside.com</a>, <a href=\"/siteinfo/microsoft.com\">Microsoft.com</a>, <a href=\"/siteinfo/pages.tmall.com\">Pages.tmall.com</a>, <a href=\"/siteinfo/bing.com\">Bing.com</a>, <a href=\"/siteinfo/gmarket.co.kr\">Gmarket.co.kr</a>, <a href=\"/siteinfo/apple.com\">Apple.com</a>, <a href=\"/siteinfo/twitch.tv\">Twitch.tv</a>, <a href=\"/siteinfo/sina.com.cn\">Sina.com.cn</a>, <a href=\"/siteinfo/weibo.com\">Weibo.com</a>, <a href=\"/siteinfo/donga.com\">Donga.com</a>, <a href=\"/siteinfo/office.com\">Office.com</a>, <a href=\"/siteinfo/instagram.com\">Instagram.com</a>, <a href=\"/siteinfo/adobe.com\">Adobe.com</a>, <a href=\"/siteinfo/11st.co.kr\">11st.co.kr</a>, <a href=\"/siteinfo/nexon.com\">Nexon.com</a>, <a href=\"/siteinfo/yna.co.kr\">Yna.co.kr</a>, <a href=\"/siteinfo/stackoverflow.com\">Stackoverflow.com</a>, <a href=\"/siteinfo/ebay.com\">Ebay.com</a>, <a href=\"/siteinfo/theepochtimes.com\">Theepochtimes.com</a>, <a href=\"/siteinfo/nate.com\">Nate.com</a>, <a href=\"/siteinfo/ruliweb.com\">Ruliweb.com</a>, <a href=\"/siteinfo/auction.co.kr\">Auction.co.kr</a>, <a href=\"/siteinfo/amazon.co.uk\">Amazon.co.uk</a>, <a href=\"/siteinfo/dropbox.com\">Dropbox.com</a>, <a href=\"/siteinfo/chosun.com\">Chosun.com</a>, <a href=\"/siteinfo/msn.com\">Msn.com</a>, <a href=\"/siteinfo/inven.co.kr\">Inven.co.kr</a>, <a href=\"/siteinfo/yahoo.co.jp\">Yahoo.co.jp</a>]\n"
     ]
    }
   ],
   "source": [
    "import requests\n",
    "from bs4 import BeautifulSoup\n",
    "\n",
    "url = \"https://www.alexa.com/topsites/countries/KR\"\n",
    "\n",
    "html_website_ranking = requests.get(url).text\n",
    "soup_website_ranking = BeautifulSoup(html_website_ranking, 'lxml')\n",
    "\n",
    "# p 태그의 요소 안에서 a 태그의 요소를 찾음\n",
    "website_ranking = soup_website_ranking.select('p a')\n",
    "print(website_ranking)"
   ]
  },
  {
   "cell_type": "code",
   "execution_count": 5,
   "metadata": {},
   "outputs": [
    {
     "data": {
      "text/plain": [
       "[<a href=\"https://support.alexa.com/hc/en-us/articles/200444340\" target=\"_blank\">this explanation</a>,\n",
       " <a href=\"/siteinfo/google.com\">Google.com</a>,\n",
       " <a href=\"/siteinfo/naver.com\">Naver.com</a>,\n",
       " <a href=\"/siteinfo/youtube.com\">Youtube.com</a>,\n",
       " <a href=\"/siteinfo/daum.net\">Daum.net</a>,\n",
       " <a href=\"/siteinfo/tistory.com\">Tistory.com</a>]"
      ]
     },
     "execution_count": 5,
     "metadata": {},
     "output_type": "execute_result"
    }
   ],
   "source": [
    "website_ranking[0:6] #너무 많으니 5개만 보기"
   ]
  },
  {
   "cell_type": "code",
   "execution_count": 6,
   "metadata": {},
   "outputs": [
    {
     "data": {
      "text/plain": [
       "'Google.com'"
      ]
     },
     "execution_count": 6,
     "metadata": {},
     "output_type": "execute_result"
    }
   ],
   "source": [
    "website_ranking[1].get_text() #get_text는 리스트에 바로 적용 불가"
   ]
  },
  {
   "cell_type": "code",
   "execution_count": 7,
   "metadata": {},
   "outputs": [],
   "source": [
    "#get_text는 리스트에 바로 적용 불가 하기 때문에 for문을 돌려준다\n",
    "website_ranking_address = [website_ranking_element.get_text() for website_ranking_element in website_ranking]"
   ]
  },
  {
   "cell_type": "code",
   "execution_count": 8,
   "metadata": {},
   "outputs": [
    {
     "data": {
      "text/plain": [
       "['this explanation',\n",
       " 'Google.com',\n",
       " 'Naver.com',\n",
       " 'Youtube.com',\n",
       " 'Daum.net',\n",
       " 'Tistory.com']"
      ]
     },
     "execution_count": 8,
     "metadata": {},
     "output_type": "execute_result"
    }
   ],
   "source": [
    "website_ranking_address[0:6]"
   ]
  },
  {
   "cell_type": "code",
   "execution_count": 21,
   "metadata": {},
   "outputs": [
    {
     "data": {
      "text/html": [
       "<div>\n",
       "<style scoped>\n",
       "    .dataframe tbody tr th:only-of-type {\n",
       "        vertical-align: middle;\n",
       "    }\n",
       "\n",
       "    .dataframe tbody tr th {\n",
       "        vertical-align: top;\n",
       "    }\n",
       "\n",
       "    .dataframe thead th {\n",
       "        text-align: right;\n",
       "    }\n",
       "</style>\n",
       "<table border=\"1\" class=\"dataframe\">\n",
       "  <thead>\n",
       "    <tr style=\"text-align: right;\">\n",
       "      <th></th>\n",
       "      <th>Website</th>\n",
       "    </tr>\n",
       "  </thead>\n",
       "  <tbody>\n",
       "    <tr>\n",
       "      <th>1</th>\n",
       "      <td>this explanation</td>\n",
       "    </tr>\n",
       "    <tr>\n",
       "      <th>2</th>\n",
       "      <td>Google.com</td>\n",
       "    </tr>\n",
       "    <tr>\n",
       "      <th>3</th>\n",
       "      <td>Naver.com</td>\n",
       "    </tr>\n",
       "    <tr>\n",
       "      <th>4</th>\n",
       "      <td>Youtube.com</td>\n",
       "    </tr>\n",
       "    <tr>\n",
       "      <th>5</th>\n",
       "      <td>Daum.net</td>\n",
       "    </tr>\n",
       "    <tr>\n",
       "      <th>6</th>\n",
       "      <td>Tistory.com</td>\n",
       "    </tr>\n",
       "  </tbody>\n",
       "</table>\n",
       "</div>"
      ],
      "text/plain": [
       "            Website\n",
       "1  this explanation\n",
       "2        Google.com\n",
       "3         Naver.com\n",
       "4       Youtube.com\n",
       "5          Daum.net\n",
       "6       Tistory.com"
      ]
     },
     "execution_count": 21,
     "metadata": {},
     "output_type": "execute_result"
    }
   ],
   "source": [
    "import pandas as pd\n",
    "from pandas import DataFrame\n",
    "import requests\n",
    "from bs4 import BeautifulSoup\n",
    "\n",
    "url = \"https://www.alexa.com/topsites/countries/KR\"\n",
    "\n",
    "html_website_ranking = requests.get(url).text\n",
    "soup_website_ranking = BeautifulSoup(html_website_ranking, 'lxml')\n",
    "\n",
    "# p 태그의 요소 안에서 a 태그의 요소를 찾음\n",
    "website_ranking = soup_website_ranking.select('p a')\n",
    "website_ranking_address = [website_ranking_element.get_text() for website_ranking_element in website_ranking]\n",
    "wr=website_ranking_address[0:6]\n",
    "df = DataFrame(wr, index=[1, 2, 3, 4, 5, 6], columns=['Website'])\n",
    "df.drop([1])\n",
    "df"
   ]
  },
  {
   "cell_type": "code",
   "execution_count": 22,
   "metadata": {
    "collapsed": true
   },
   "outputs": [
    {
     "ename": "KeyError",
     "evalue": "\"['1'] not found in axis\"",
     "output_type": "error",
     "traceback": [
      "\u001b[0;31m---------------------------------------------------------------------------\u001b[0m",
      "\u001b[0;31mKeyError\u001b[0m                                  Traceback (most recent call last)",
      "\u001b[0;32m<ipython-input-22-6e51fe55a142>\u001b[0m in \u001b[0;36m<module>\u001b[0;34m\u001b[0m\n\u001b[0;32m----> 1\u001b[0;31m \u001b[0mdf\u001b[0m\u001b[0;34m.\u001b[0m\u001b[0mdrop\u001b[0m\u001b[0;34m(\u001b[0m\u001b[0;34m[\u001b[0m\u001b[0;34m'1'\u001b[0m\u001b[0;34m]\u001b[0m\u001b[0;34m)\u001b[0m\u001b[0;34m\u001b[0m\u001b[0;34m\u001b[0m\u001b[0m\n\u001b[0m\u001b[1;32m      2\u001b[0m \u001b[0mdf\u001b[0m\u001b[0;34m\u001b[0m\u001b[0;34m\u001b[0m\u001b[0m\n",
      "\u001b[0;32m/opt/anaconda3/lib/python3.7/site-packages/pandas/core/frame.py\u001b[0m in \u001b[0;36mdrop\u001b[0;34m(self, labels, axis, index, columns, level, inplace, errors)\u001b[0m\n\u001b[1;32m   3995\u001b[0m             \u001b[0mlevel\u001b[0m\u001b[0;34m=\u001b[0m\u001b[0mlevel\u001b[0m\u001b[0;34m,\u001b[0m\u001b[0;34m\u001b[0m\u001b[0;34m\u001b[0m\u001b[0m\n\u001b[1;32m   3996\u001b[0m             \u001b[0minplace\u001b[0m\u001b[0;34m=\u001b[0m\u001b[0minplace\u001b[0m\u001b[0;34m,\u001b[0m\u001b[0;34m\u001b[0m\u001b[0;34m\u001b[0m\u001b[0m\n\u001b[0;32m-> 3997\u001b[0;31m             \u001b[0merrors\u001b[0m\u001b[0;34m=\u001b[0m\u001b[0merrors\u001b[0m\u001b[0;34m,\u001b[0m\u001b[0;34m\u001b[0m\u001b[0;34m\u001b[0m\u001b[0m\n\u001b[0m\u001b[1;32m   3998\u001b[0m         )\n\u001b[1;32m   3999\u001b[0m \u001b[0;34m\u001b[0m\u001b[0m\n",
      "\u001b[0;32m/opt/anaconda3/lib/python3.7/site-packages/pandas/core/generic.py\u001b[0m in \u001b[0;36mdrop\u001b[0;34m(self, labels, axis, index, columns, level, inplace, errors)\u001b[0m\n\u001b[1;32m   3934\u001b[0m         \u001b[0;32mfor\u001b[0m \u001b[0maxis\u001b[0m\u001b[0;34m,\u001b[0m \u001b[0mlabels\u001b[0m \u001b[0;32min\u001b[0m \u001b[0maxes\u001b[0m\u001b[0;34m.\u001b[0m\u001b[0mitems\u001b[0m\u001b[0;34m(\u001b[0m\u001b[0;34m)\u001b[0m\u001b[0;34m:\u001b[0m\u001b[0;34m\u001b[0m\u001b[0;34m\u001b[0m\u001b[0m\n\u001b[1;32m   3935\u001b[0m             \u001b[0;32mif\u001b[0m \u001b[0mlabels\u001b[0m \u001b[0;32mis\u001b[0m \u001b[0;32mnot\u001b[0m \u001b[0;32mNone\u001b[0m\u001b[0;34m:\u001b[0m\u001b[0;34m\u001b[0m\u001b[0;34m\u001b[0m\u001b[0m\n\u001b[0;32m-> 3936\u001b[0;31m                 \u001b[0mobj\u001b[0m \u001b[0;34m=\u001b[0m \u001b[0mobj\u001b[0m\u001b[0;34m.\u001b[0m\u001b[0m_drop_axis\u001b[0m\u001b[0;34m(\u001b[0m\u001b[0mlabels\u001b[0m\u001b[0;34m,\u001b[0m \u001b[0maxis\u001b[0m\u001b[0;34m,\u001b[0m \u001b[0mlevel\u001b[0m\u001b[0;34m=\u001b[0m\u001b[0mlevel\u001b[0m\u001b[0;34m,\u001b[0m \u001b[0merrors\u001b[0m\u001b[0;34m=\u001b[0m\u001b[0merrors\u001b[0m\u001b[0;34m)\u001b[0m\u001b[0;34m\u001b[0m\u001b[0;34m\u001b[0m\u001b[0m\n\u001b[0m\u001b[1;32m   3937\u001b[0m \u001b[0;34m\u001b[0m\u001b[0m\n\u001b[1;32m   3938\u001b[0m         \u001b[0;32mif\u001b[0m \u001b[0minplace\u001b[0m\u001b[0;34m:\u001b[0m\u001b[0;34m\u001b[0m\u001b[0;34m\u001b[0m\u001b[0m\n",
      "\u001b[0;32m/opt/anaconda3/lib/python3.7/site-packages/pandas/core/generic.py\u001b[0m in \u001b[0;36m_drop_axis\u001b[0;34m(self, labels, axis, level, errors)\u001b[0m\n\u001b[1;32m   3968\u001b[0m                 \u001b[0mnew_axis\u001b[0m \u001b[0;34m=\u001b[0m \u001b[0maxis\u001b[0m\u001b[0;34m.\u001b[0m\u001b[0mdrop\u001b[0m\u001b[0;34m(\u001b[0m\u001b[0mlabels\u001b[0m\u001b[0;34m,\u001b[0m \u001b[0mlevel\u001b[0m\u001b[0;34m=\u001b[0m\u001b[0mlevel\u001b[0m\u001b[0;34m,\u001b[0m \u001b[0merrors\u001b[0m\u001b[0;34m=\u001b[0m\u001b[0merrors\u001b[0m\u001b[0;34m)\u001b[0m\u001b[0;34m\u001b[0m\u001b[0;34m\u001b[0m\u001b[0m\n\u001b[1;32m   3969\u001b[0m             \u001b[0;32melse\u001b[0m\u001b[0;34m:\u001b[0m\u001b[0;34m\u001b[0m\u001b[0;34m\u001b[0m\u001b[0m\n\u001b[0;32m-> 3970\u001b[0;31m                 \u001b[0mnew_axis\u001b[0m \u001b[0;34m=\u001b[0m \u001b[0maxis\u001b[0m\u001b[0;34m.\u001b[0m\u001b[0mdrop\u001b[0m\u001b[0;34m(\u001b[0m\u001b[0mlabels\u001b[0m\u001b[0;34m,\u001b[0m \u001b[0merrors\u001b[0m\u001b[0;34m=\u001b[0m\u001b[0merrors\u001b[0m\u001b[0;34m)\u001b[0m\u001b[0;34m\u001b[0m\u001b[0;34m\u001b[0m\u001b[0m\n\u001b[0m\u001b[1;32m   3971\u001b[0m             \u001b[0mresult\u001b[0m \u001b[0;34m=\u001b[0m \u001b[0mself\u001b[0m\u001b[0;34m.\u001b[0m\u001b[0mreindex\u001b[0m\u001b[0;34m(\u001b[0m\u001b[0;34m**\u001b[0m\u001b[0;34m{\u001b[0m\u001b[0maxis_name\u001b[0m\u001b[0;34m:\u001b[0m \u001b[0mnew_axis\u001b[0m\u001b[0;34m}\u001b[0m\u001b[0;34m)\u001b[0m\u001b[0;34m\u001b[0m\u001b[0;34m\u001b[0m\u001b[0m\n\u001b[1;32m   3972\u001b[0m \u001b[0;34m\u001b[0m\u001b[0m\n",
      "\u001b[0;32m/opt/anaconda3/lib/python3.7/site-packages/pandas/core/indexes/base.py\u001b[0m in \u001b[0;36mdrop\u001b[0;34m(self, labels, errors)\u001b[0m\n\u001b[1;32m   5016\u001b[0m         \u001b[0;32mif\u001b[0m \u001b[0mmask\u001b[0m\u001b[0;34m.\u001b[0m\u001b[0many\u001b[0m\u001b[0;34m(\u001b[0m\u001b[0;34m)\u001b[0m\u001b[0;34m:\u001b[0m\u001b[0;34m\u001b[0m\u001b[0;34m\u001b[0m\u001b[0m\n\u001b[1;32m   5017\u001b[0m             \u001b[0;32mif\u001b[0m \u001b[0merrors\u001b[0m \u001b[0;34m!=\u001b[0m \u001b[0;34m\"ignore\"\u001b[0m\u001b[0;34m:\u001b[0m\u001b[0;34m\u001b[0m\u001b[0;34m\u001b[0m\u001b[0m\n\u001b[0;32m-> 5018\u001b[0;31m                 \u001b[0;32mraise\u001b[0m \u001b[0mKeyError\u001b[0m\u001b[0;34m(\u001b[0m\u001b[0;34mf\"{labels[mask]} not found in axis\"\u001b[0m\u001b[0;34m)\u001b[0m\u001b[0;34m\u001b[0m\u001b[0;34m\u001b[0m\u001b[0m\n\u001b[0m\u001b[1;32m   5019\u001b[0m             \u001b[0mindexer\u001b[0m \u001b[0;34m=\u001b[0m \u001b[0mindexer\u001b[0m\u001b[0;34m[\u001b[0m\u001b[0;34m~\u001b[0m\u001b[0mmask\u001b[0m\u001b[0;34m]\u001b[0m\u001b[0;34m\u001b[0m\u001b[0;34m\u001b[0m\u001b[0m\n\u001b[1;32m   5020\u001b[0m         \u001b[0;32mreturn\u001b[0m \u001b[0mself\u001b[0m\u001b[0;34m.\u001b[0m\u001b[0mdelete\u001b[0m\u001b[0;34m(\u001b[0m\u001b[0mindexer\u001b[0m\u001b[0;34m)\u001b[0m\u001b[0;34m\u001b[0m\u001b[0;34m\u001b[0m\u001b[0m\n",
      "\u001b[0;31mKeyError\u001b[0m: \"['1'] not found in axis\""
     ]
    }
   ],
   "source": [
    "import pandas as pd\n",
    "from pandas import DataFrame\n",
    "import requests\n",
    "from bs4 import BeautifulSoup\n",
    "\n",
    "url = \"https://www.alexa.com/topsites/countries/KR\"\n",
    "\n",
    "html_website_ranking = requests.get(url).text\n",
    "soup_website_ranking = BeautifulSoup(html_website_ranking, 'lxml')\n",
    "\n",
    "# p 태그의 요소 안에서 a 태그의 요소를 찾음\n",
    "website_ranking = soup_website_ranking.select('p a')\n",
    "website_ranking_address = [website_ranking_element.get_text() for website_ranking_element in website_ranking]\n",
    "\n",
    "print(\"[Top ]\")\n",
    "\n",
    "wr=website_ranking_address[0:6]"
   ]
  },
  {
   "cell_type": "code",
   "execution_count": null,
   "metadata": {},
   "outputs": [],
   "source": [
    "website_ranking_dict = {'Website': website_ranking_address}\n",
    "df = pd.DataFrame(website_ranking_dct)"
   ]
  },
  {
   "cell_type": "code",
   "execution_count": null,
   "metadata": {},
   "outputs": [],
   "source": []
  },
  {
   "cell_type": "markdown",
   "metadata": {},
   "source": [
    "## 주간 음악순위 "
   ]
  },
  {
   "cell_type": "code",
   "execution_count": 23,
   "metadata": {},
   "outputs": [
    {
     "data": {
      "text/plain": [
       "[<span class=\"ellipsis\">눈 (Feat. 이문세)</span>,\n",
       " <span class=\"ellipsis\">기억의 빈자리</span>,\n",
       " <span class=\"ellipsis\">선물</span>,\n",
       " <span class=\"ellipsis\">Beautiful</span>,\n",
       " <span class=\"ellipsis\">좋아</span>,\n",
       " <span class=\"ellipsis\">피카부 (Peek-A-Boo)</span>,\n",
       " <span class=\"ellipsis\">좋니</span>]"
      ]
     },
     "execution_count": 23,
     "metadata": {},
     "output_type": "execute_result"
    }
   ],
   "source": [
    "url = \"https://music.naver.com/listen/history/index.nhn?type=TOTAL&year=2017&month=12&week=1\"\n",
    "html_music = requests.get(url).text\n",
    "soup_music = BeautifulSoup(html_music, 'lxml')\n",
    "\n",
    "#a 태그의 요소 중에서 class 속성삾이 \"_title\"인 것을 찾고\n",
    "# 그 안에서 span 태그의 요소 중에서 class 속성값이 'ellipsis'인 요소를 추출\n",
    "titles = soup_music.select('a._title span.ellipsis')\n",
    "titles[0:7]"
   ]
  },
  {
   "cell_type": "code",
   "execution_count": 24,
   "metadata": {},
   "outputs": [],
   "source": [
    "music_titles = [title.get_text() for title in titles]"
   ]
  },
  {
   "cell_type": "code",
   "execution_count": 25,
   "metadata": {},
   "outputs": [
    {
     "data": {
      "text/plain": [
       "['눈 (Feat. 이문세)', '기억의 빈자리', '선물', 'Beautiful', '좋아', '피카부 (Peek-A-Boo)', '좋니']"
      ]
     },
     "execution_count": 25,
     "metadata": {},
     "output_type": "execute_result"
    }
   ],
   "source": [
    "music_titles[0:7]"
   ]
  },
  {
   "cell_type": "code",
   "execution_count": 26,
   "metadata": {},
   "outputs": [
    {
     "data": {
      "text/plain": [
       "'\\r\\n\\t\\t\\t\\r\\n\\t\\t\\t\\r\\n\\t\\t\\tZion.T\\r\\n\\t\\t'"
      ]
     },
     "execution_count": 26,
     "metadata": {},
     "output_type": "execute_result"
    }
   ],
   "source": [
    "#a 태그의 요소 중에서 class 속성값이 \"_artist\"인 것을 찾고\n",
    "# 그 안에서 span 태그의 요소 중에서 class 속성값이 \"ellipsis\"인 요소를 추출\n",
    "artists = soup_music.select('a._artist span.ellipsis')\n",
    "artists[0].get_text()"
   ]
  },
  {
   "cell_type": "code",
   "execution_count": 28,
   "metadata": {},
   "outputs": [
    {
     "data": {
      "text/plain": [
       "'Zion.T'"
      ]
     },
     "execution_count": 28,
     "metadata": {},
     "output_type": "execute_result"
    }
   ],
   "source": [
    "artists[0].get_text().strip()"
   ]
  },
  {
   "cell_type": "code",
   "execution_count": 29,
   "metadata": {},
   "outputs": [],
   "source": [
    "music_artists = [artist.get_text().strip() for artist in artists]"
   ]
  },
  {
   "cell_type": "code",
   "execution_count": 30,
   "metadata": {},
   "outputs": [
    {
     "data": {
      "text/plain": [
       "['Zion.T',\n",
       " '나얼',\n",
       " '멜로망스(Melomance)',\n",
       " 'Wanna One(워너원)',\n",
       " 'Red Velvet (레드벨벳)',\n",
       " '윤종신',\n",
       " '뉴이스트 W']"
      ]
     },
     "execution_count": 30,
     "metadata": {},
     "output_type": "execute_result"
    }
   ],
   "source": [
    "music_artists[0:7]"
   ]
  },
  {
   "cell_type": "code",
   "execution_count": 31,
   "metadata": {},
   "outputs": [],
   "source": [
    "#td 태그의 요소 중에서 class  속성값이 \"_artist\"인 것을 찾고\n",
    "# 그 안에서 a 태그의 요소를 추출\n",
    "artists = soup_music.select('td._artist a')"
   ]
  },
  {
   "cell_type": "code",
   "execution_count": 33,
   "metadata": {},
   "outputs": [
    {
     "data": {
      "text/plain": [
       "<a class=\"_artist NPI=a:artist,r:1,i:115967\" href=\"/artist/home.nhn?artistId=115967\" title=\"Zion.T\">\n",
       "<span class=\"ellipsis\">\n",
       "\t\t\t\n",
       "\t\t\t\n",
       "\t\t\tZion.T\n",
       "\t\t</span>\n",
       "</a>"
      ]
     },
     "execution_count": 33,
     "metadata": {},
     "output_type": "execute_result"
    }
   ],
   "source": [
    "artists[0]"
   ]
  },
  {
   "cell_type": "code",
   "execution_count": 34,
   "metadata": {},
   "outputs": [
    {
     "data": {
      "text/plain": [
       "<a alt=\"\" class=\"NPI=a:layerbtn,r:5\" href=\"javascript:void(0);\" title=\"\">민서</a>"
      ]
     },
     "execution_count": 34,
     "metadata": {},
     "output_type": "execute_result"
    }
   ],
   "source": [
    "artists[4]"
   ]
  },
  {
   "cell_type": "code",
   "execution_count": 35,
   "metadata": {},
   "outputs": [
    {
     "data": {
      "text/plain": [
       "'Zion.T'"
      ]
     },
     "execution_count": 35,
     "metadata": {},
     "output_type": "execute_result"
    }
   ],
   "source": [
    "artists[0].get_text().strip()"
   ]
  },
  {
   "cell_type": "code",
   "execution_count": 36,
   "metadata": {},
   "outputs": [
    {
     "data": {
      "text/plain": [
       "'민서'"
      ]
     },
     "execution_count": 36,
     "metadata": {},
     "output_type": "execute_result"
    }
   ],
   "source": [
    "artists[4].get_text().strip()"
   ]
  },
  {
   "cell_type": "code",
   "execution_count": 39,
   "metadata": {},
   "outputs": [],
   "source": [
    "music_artists = [artist.get_text().strip() for artist in artists]"
   ]
  },
  {
   "cell_type": "code",
   "execution_count": 40,
   "metadata": {},
   "outputs": [
    {
     "data": {
      "text/plain": [
       "['Zion.T',\n",
       " '나얼',\n",
       " '멜로망스(Melomance)',\n",
       " 'Wanna One(워너원)',\n",
       " '민서',\n",
       " 'Red Velvet (레드벨벳)',\n",
       " '윤종신']"
      ]
     },
     "execution_count": 40,
     "metadata": {},
     "output_type": "execute_result"
    }
   ],
   "source": [
    "music_artists[0:7]"
   ]
  },
  {
   "cell_type": "code",
   "execution_count": 42,
   "metadata": {},
   "outputs": [
    {
     "name": "stdout",
     "output_type": "stream",
     "text": [
      "1: 눈 (Feat. 이문세)/Zion.T\n",
      "2: 기억의 빈자리/나얼\n",
      "3: 선물/멜로망스(Melomance)\n",
      "4: Beautiful/Wanna One(워너원)\n",
      "5: 좋아/민서\n",
      "6: 피카부 (Peek-A-Boo)/Red Velvet (레드벨벳)\n",
      "7: 좋니/윤종신\n"
     ]
    }
   ],
   "source": [
    "for k in range(7):\n",
    "    print(\"{0}: {1}/{2}\".format(k+1, music_titles[k], music_artists[k]))"
   ]
  },
  {
   "cell_type": "markdown",
   "metadata": {},
   "source": [
    "# 데이터 수집 "
   ]
  },
  {
   "cell_type": "code",
   "execution_count": null,
   "metadata": {},
   "outputs": [],
   "source": [
    "# 사이트 주소 쥐에 robots.txt를 붙이면 사이트에 대해 알려준다."
   ]
  },
  {
   "cell_type": "code",
   "execution_count": 43,
   "metadata": {},
   "outputs": [],
   "source": [
    "# 파이썬에서 사용할 수 있는 엑셀과 유사한 데이터분석 도구\n",
    "import pandas as pd\n",
    "# 매우 작은 브라우저로 웹사이트의 내용과 정보를 불러올 수 있습니다.\n",
    "import requests\n",
    "# request로 가져온 웹사이트의 html 태그를 파싱하는데 사용합니다.\n",
    "from bs4 import BeautifulSoup as bs\n",
    "\n",
    "# 랜덤숫자를 생성한다\n",
    "import random\n",
    "import time\n",
    "# 대량 데이터 처리시 진행 상황을 표시합니다.\n",
    "from tqdm import tqdm, trange\n",
    "# 정규표현식\n",
    "import re"
   ]
  },
  {
   "cell_type": "code",
   "execution_count": 44,
   "metadata": {},
   "outputs": [
    {
     "data": {
      "text/plain": [
       "'https://www.innogov.go.kr/ucms/ogp/sug/list.do?pnum=1&menuNo=300011&sugMonthTp=201906&orderKey=registDtDesc'"
      ]
     },
     "execution_count": 44,
     "metadata": {},
     "output_type": "execute_result"
    }
   ],
   "source": [
    "pnum = 1\n",
    "year_month = 201906\n",
    "\n",
    "base_url = f\"https://www.innogov.go.kr/ucms/ogp/sug/list.do?pnum={pnum}&menuNo=300011&sugMonthTp={year_month}&orderKey=registDtDesc\"\n",
    "base_url"
   ]
  },
  {
   "cell_type": "code",
   "execution_count": 46,
   "metadata": {},
   "outputs": [
    {
     "name": "stdout",
     "output_type": "stream",
     "text": [
      "[<a href=\"/ucms/ogp/sug/view.do?menuNo=300011&amp;sgId=217&amp;pnum=1\">근린공원</a>, <a href=\"/ucms/ogp/sug/view.do?menuNo=300011&amp;sgId=216&amp;pnum=1\">공시송달 의뢰공문의 전국배포를 중단하여 문서로 인한 스...</a>, <a href=\"/ucms/ogp/sug/view.do?menuNo=300011&amp;sgId=215&amp;pnum=1\">중앙부처 및 산하기관에서 추진하는 공모사업, 지원 사업...</a>, <a href=\"/ucms/ogp/sug/view.do?menuNo=300011&amp;sgId=214&amp;pnum=1\">연가 기부제 도입</a>, <a href=\"/ucms/ogp/sug/view.do?menuNo=300011&amp;sgId=210&amp;pnum=1\">어린이집교사 근무환경개선</a>]\n",
      "/ucms/ogp/sug/view.do?menuNo=300011&sgId=217&pnum=1\n",
      "/ucms/ogp/sug/view.do?menuNo=300011&sgId=216&pnum=1\n",
      "/ucms/ogp/sug/view.do?menuNo=300011&sgId=215&pnum=1\n",
      "/ucms/ogp/sug/view.do?menuNo=300011&sgId=214&pnum=1\n",
      "/ucms/ogp/sug/view.do?menuNo=300011&sgId=210&pnum=1\n"
     ]
    }
   ],
   "source": [
    "response = requests.get(base_url)\n",
    "response\n",
    "\n",
    "if response.status_code == 200:\n",
    "    html = bs(response.text, 'html.parser')\n",
    "    # 소스코드를 제대로 가져왔는지 확인\n",
    "    tags = html.select('#content>div.suggestion_list>ul')[0].find_all('a')\n",
    "    print(tags)\n",
    "    for tag in tags:\n",
    "        print(tag['href']) #url만 가져옴(첫번째 페이지의 목록만 가져옴)"
   ]
  },
  {
   "cell_type": "markdown",
   "metadata": {},
   "source": [
    "## URL이 있는 태그의 위치 "
   ]
  },
  {
   "cell_type": "markdown",
   "metadata": {},
   "source": [
    "## 함수로 구현하기 전에 미리 원하는 정보를 "
   ]
  },
  {
   "cell_type": "code",
   "execution_count": 45,
   "metadata": {},
   "outputs": [
    {
     "name": "stdout",
     "output_type": "stream",
     "text": [
      "[<a href=\"/ucms/ogp/sug/view.do?menuNo=300011&amp;sgId=217&amp;pnum=1\">근린공원</a>, <a href=\"/ucms/ogp/sug/view.do?menuNo=300011&amp;sgId=216&amp;pnum=1\">공시송달 의뢰공문의 전국배포를 중단하여 문서로 인한 스...</a>, <a href=\"/ucms/ogp/sug/view.do?menuNo=300011&amp;sgId=215&amp;pnum=1\">중앙부처 및 산하기관에서 추진하는 공모사업, 지원 사업...</a>, <a href=\"/ucms/ogp/sug/view.do?menuNo=300011&amp;sgId=214&amp;pnum=1\">연가 기부제 도입</a>, <a href=\"/ucms/ogp/sug/view.do?menuNo=300011&amp;sgId=210&amp;pnum=1\">어린이집교사 근무환경개선</a>]\n"
     ]
    }
   ],
   "source": [
    "response = requests.get(base_url)\n",
    "response\n",
    "\n",
    "if response.status_code == 200:\n",
    "    html = bs(response.text, 'html.parser')\n",
    "    # 소스코드를 제대로 가져왔는지 확인\n",
    "    tags = html.select('#content>div.suggestion_list>ul')[0].find_all('a')\n",
    "    print(tags)  # 각 페이지의 제목을 가져올 수 있다."
   ]
  },
  {
   "cell_type": "code",
   "execution_count": 50,
   "metadata": {},
   "outputs": [],
   "source": [
    "def get_suggestion_list(pnum):\n",
    "    base_url = f\"https://www.innogov.go.kr/ucms/ogp/sug/list.do?pnum={pnum}&menuNo=300011&orderKey=registDtDesc\"\n",
    "\n",
    "    # base_url 페이지를 받아온다\n",
    "    response = requests.get(base_url)\n",
    "    # status_code 가 200 ok 일 때 아래의 코드를 실행\n",
    "    if response.status_code == 200:\n",
    "        # 웹페이지의 내용을 가져왔다면 bs를 통해 html 태그를 가져온다\n",
    "        html = bs(response.text, 'html.parser')\n",
    "        # html태그 내용 중 아래의 selector를 통해 목록에 있는 다른 게시글을 가져오도록 한다\n",
    "        tags = html.select('#content>div.suggestion_list>ul')[0].find_all('a')\n",
    "        # tags의 내용이 없다면 suggestion_list를 반환한다\n",
    "        if not tags:\n",
    "            return(suggestion_list)\n",
    "        else:\n",
    "            # tags에서 다른 게시글을 가져와 suggestion_list에 담아준다/\n",
    "            for tag in tags:\n",
    "                suggestion_list.append(tag['href'])\n",
    "        pnum += 1\n",
    "        # 페이지번호를 하나씩 더해서 재귀호출을 한다\n",
    "        get_suggestion_list(pnum)\n",
    "        print(pnum)\n",
    "    else:\n",
    "        return(suggestion_list)"
   ]
  },
  {
   "cell_type": "code",
   "execution_count": 51,
   "metadata": {},
   "outputs": [
    {
     "name": "stdout",
     "output_type": "stream",
     "text": [
      "49\n",
      "48\n",
      "47\n",
      "46\n",
      "45\n",
      "44\n",
      "43\n",
      "42\n",
      "41\n",
      "40\n",
      "39\n",
      "38\n",
      "37\n",
      "36\n",
      "35\n",
      "34\n",
      "33\n",
      "32\n",
      "31\n",
      "30\n",
      "29\n",
      "28\n",
      "27\n",
      "26\n",
      "25\n",
      "24\n",
      "23\n",
      "22\n",
      "21\n",
      "20\n",
      "19\n",
      "18\n",
      "17\n",
      "16\n",
      "15\n",
      "14\n",
      "13\n",
      "12\n",
      "11\n",
      "10\n",
      "9\n",
      "8\n",
      "7\n",
      "6\n",
      "5\n",
      "4\n",
      "3\n",
      "2\n"
     ]
    },
    {
     "data": {
      "text/plain": [
       "['/ucms/ogp/sug/view.do?menuNo=300011&sgId=280&pnum=1',\n",
       " '/ucms/ogp/sug/view.do?menuNo=300011&sgId=279&pnum=1',\n",
       " '/ucms/ogp/sug/view.do?menuNo=300011&sgId=278&pnum=1',\n",
       " '/ucms/ogp/sug/view.do?menuNo=300011&sgId=277&pnum=1',\n",
       " '/ucms/ogp/sug/view.do?menuNo=300011&sgId=276&pnum=1',\n",
       " '/ucms/ogp/sug/view.do?menuNo=300011&sgId=275&pnum=2',\n",
       " '/ucms/ogp/sug/view.do?menuNo=300011&sgId=274&pnum=2',\n",
       " '/ucms/ogp/sug/view.do?menuNo=300011&sgId=272&pnum=2',\n",
       " '/ucms/ogp/sug/view.do?menuNo=300011&sgId=271&pnum=2',\n",
       " '/ucms/ogp/sug/view.do?menuNo=300011&sgId=270&pnum=2',\n",
       " '/ucms/ogp/sug/view.do?menuNo=300011&sgId=269&pnum=3',\n",
       " '/ucms/ogp/sug/view.do?menuNo=300011&sgId=268&pnum=3',\n",
       " '/ucms/ogp/sug/view.do?menuNo=300011&sgId=267&pnum=3',\n",
       " '/ucms/ogp/sug/view.do?menuNo=300011&sgId=266&pnum=3',\n",
       " '/ucms/ogp/sug/view.do?menuNo=300011&sgId=265&pnum=3',\n",
       " '/ucms/ogp/sug/view.do?menuNo=300011&sgId=264&pnum=4',\n",
       " '/ucms/ogp/sug/view.do?menuNo=300011&sgId=263&pnum=4',\n",
       " '/ucms/ogp/sug/view.do?menuNo=300011&sgId=262&pnum=4',\n",
       " '/ucms/ogp/sug/view.do?menuNo=300011&sgId=261&pnum=4',\n",
       " '/ucms/ogp/sug/view.do?menuNo=300011&sgId=260&pnum=4',\n",
       " '/ucms/ogp/sug/view.do?menuNo=300011&sgId=259&pnum=5',\n",
       " '/ucms/ogp/sug/view.do?menuNo=300011&sgId=258&pnum=5',\n",
       " '/ucms/ogp/sug/view.do?menuNo=300011&sgId=257&pnum=5',\n",
       " '/ucms/ogp/sug/view.do?menuNo=300011&sgId=256&pnum=5',\n",
       " '/ucms/ogp/sug/view.do?menuNo=300011&sgId=255&pnum=5',\n",
       " '/ucms/ogp/sug/view.do?menuNo=300011&sgId=254&pnum=6',\n",
       " '/ucms/ogp/sug/view.do?menuNo=300011&sgId=253&pnum=6',\n",
       " '/ucms/ogp/sug/view.do?menuNo=300011&sgId=252&pnum=6',\n",
       " '/ucms/ogp/sug/view.do?menuNo=300011&sgId=251&pnum=6',\n",
       " '/ucms/ogp/sug/view.do?menuNo=300011&sgId=250&pnum=6',\n",
       " '/ucms/ogp/sug/view.do?menuNo=300011&sgId=249&pnum=7',\n",
       " '/ucms/ogp/sug/view.do?menuNo=300011&sgId=248&pnum=7',\n",
       " '/ucms/ogp/sug/view.do?menuNo=300011&sgId=247&pnum=7',\n",
       " '/ucms/ogp/sug/view.do?menuNo=300011&sgId=246&pnum=7',\n",
       " '/ucms/ogp/sug/view.do?menuNo=300011&sgId=245&pnum=7',\n",
       " '/ucms/ogp/sug/view.do?menuNo=300011&sgId=244&pnum=8',\n",
       " '/ucms/ogp/sug/view.do?menuNo=300011&sgId=242&pnum=8',\n",
       " '/ucms/ogp/sug/view.do?menuNo=300011&sgId=241&pnum=8',\n",
       " '/ucms/ogp/sug/view.do?menuNo=300011&sgId=240&pnum=8',\n",
       " '/ucms/ogp/sug/view.do?menuNo=300011&sgId=239&pnum=8',\n",
       " '/ucms/ogp/sug/view.do?menuNo=300011&sgId=238&pnum=9',\n",
       " '/ucms/ogp/sug/view.do?menuNo=300011&sgId=237&pnum=9',\n",
       " '/ucms/ogp/sug/view.do?menuNo=300011&sgId=236&pnum=9',\n",
       " '/ucms/ogp/sug/view.do?menuNo=300011&sgId=235&pnum=9',\n",
       " '/ucms/ogp/sug/view.do?menuNo=300011&sgId=234&pnum=9',\n",
       " '/ucms/ogp/sug/view.do?menuNo=300011&sgId=233&pnum=10',\n",
       " '/ucms/ogp/sug/view.do?menuNo=300011&sgId=232&pnum=10',\n",
       " '/ucms/ogp/sug/view.do?menuNo=300011&sgId=231&pnum=10',\n",
       " '/ucms/ogp/sug/view.do?menuNo=300011&sgId=230&pnum=10',\n",
       " '/ucms/ogp/sug/view.do?menuNo=300011&sgId=229&pnum=10',\n",
       " '/ucms/ogp/sug/view.do?menuNo=300011&sgId=228&pnum=11',\n",
       " '/ucms/ogp/sug/view.do?menuNo=300011&sgId=227&pnum=11',\n",
       " '/ucms/ogp/sug/view.do?menuNo=300011&sgId=226&pnum=11',\n",
       " '/ucms/ogp/sug/view.do?menuNo=300011&sgId=222&pnum=11',\n",
       " '/ucms/ogp/sug/view.do?menuNo=300011&sgId=221&pnum=11',\n",
       " '/ucms/ogp/sug/view.do?menuNo=300011&sgId=220&pnum=12',\n",
       " '/ucms/ogp/sug/view.do?menuNo=300011&sgId=219&pnum=12',\n",
       " '/ucms/ogp/sug/view.do?menuNo=300011&sgId=218&pnum=12',\n",
       " '/ucms/ogp/sug/view.do?menuNo=300011&sgId=217&pnum=12',\n",
       " '/ucms/ogp/sug/view.do?menuNo=300011&sgId=216&pnum=12',\n",
       " '/ucms/ogp/sug/view.do?menuNo=300011&sgId=215&pnum=13',\n",
       " '/ucms/ogp/sug/view.do?menuNo=300011&sgId=214&pnum=13',\n",
       " '/ucms/ogp/sug/view.do?menuNo=300011&sgId=210&pnum=13',\n",
       " '/ucms/ogp/sug/view.do?menuNo=300011&sgId=209&pnum=13',\n",
       " '/ucms/ogp/sug/view.do?menuNo=300011&sgId=208&pnum=13',\n",
       " '/ucms/ogp/sug/view.do?menuNo=300011&sgId=207&pnum=14',\n",
       " '/ucms/ogp/sug/view.do?menuNo=300011&sgId=206&pnum=14',\n",
       " '/ucms/ogp/sug/view.do?menuNo=300011&sgId=205&pnum=14',\n",
       " '/ucms/ogp/sug/view.do?menuNo=300011&sgId=204&pnum=14',\n",
       " '/ucms/ogp/sug/view.do?menuNo=300011&sgId=203&pnum=14',\n",
       " '/ucms/ogp/sug/view.do?menuNo=300011&sgId=202&pnum=15',\n",
       " '/ucms/ogp/sug/view.do?menuNo=300011&sgId=201&pnum=15',\n",
       " '/ucms/ogp/sug/view.do?menuNo=300011&sgId=200&pnum=15',\n",
       " '/ucms/ogp/sug/view.do?menuNo=300011&sgId=199&pnum=15',\n",
       " '/ucms/ogp/sug/view.do?menuNo=300011&sgId=198&pnum=15',\n",
       " '/ucms/ogp/sug/view.do?menuNo=300011&sgId=197&pnum=16',\n",
       " '/ucms/ogp/sug/view.do?menuNo=300011&sgId=196&pnum=16',\n",
       " '/ucms/ogp/sug/view.do?menuNo=300011&sgId=195&pnum=16',\n",
       " '/ucms/ogp/sug/view.do?menuNo=300011&sgId=193&pnum=16',\n",
       " '/ucms/ogp/sug/view.do?menuNo=300011&sgId=192&pnum=16',\n",
       " '/ucms/ogp/sug/view.do?menuNo=300011&sgId=191&pnum=17',\n",
       " '/ucms/ogp/sug/view.do?menuNo=300011&sgId=190&pnum=17',\n",
       " '/ucms/ogp/sug/view.do?menuNo=300011&sgId=189&pnum=17',\n",
       " '/ucms/ogp/sug/view.do?menuNo=300011&sgId=188&pnum=17',\n",
       " '/ucms/ogp/sug/view.do?menuNo=300011&sgId=187&pnum=17',\n",
       " '/ucms/ogp/sug/view.do?menuNo=300011&sgId=186&pnum=18',\n",
       " '/ucms/ogp/sug/view.do?menuNo=300011&sgId=185&pnum=18',\n",
       " '/ucms/ogp/sug/view.do?menuNo=300011&sgId=184&pnum=18',\n",
       " '/ucms/ogp/sug/view.do?menuNo=300011&sgId=183&pnum=18',\n",
       " '/ucms/ogp/sug/view.do?menuNo=300011&sgId=182&pnum=18',\n",
       " '/ucms/ogp/sug/view.do?menuNo=300011&sgId=181&pnum=19',\n",
       " '/ucms/ogp/sug/view.do?menuNo=300011&sgId=180&pnum=19',\n",
       " '/ucms/ogp/sug/view.do?menuNo=300011&sgId=179&pnum=19',\n",
       " '/ucms/ogp/sug/view.do?menuNo=300011&sgId=178&pnum=19',\n",
       " '/ucms/ogp/sug/view.do?menuNo=300011&sgId=177&pnum=19',\n",
       " '/ucms/ogp/sug/view.do?menuNo=300011&sgId=176&pnum=20',\n",
       " '/ucms/ogp/sug/view.do?menuNo=300011&sgId=175&pnum=20',\n",
       " '/ucms/ogp/sug/view.do?menuNo=300011&sgId=174&pnum=20',\n",
       " '/ucms/ogp/sug/view.do?menuNo=300011&sgId=173&pnum=20',\n",
       " '/ucms/ogp/sug/view.do?menuNo=300011&sgId=172&pnum=20',\n",
       " '/ucms/ogp/sug/view.do?menuNo=300011&sgId=171&pnum=21',\n",
       " '/ucms/ogp/sug/view.do?menuNo=300011&sgId=170&pnum=21',\n",
       " '/ucms/ogp/sug/view.do?menuNo=300011&sgId=169&pnum=21',\n",
       " '/ucms/ogp/sug/view.do?menuNo=300011&sgId=168&pnum=21',\n",
       " '/ucms/ogp/sug/view.do?menuNo=300011&sgId=167&pnum=21',\n",
       " '/ucms/ogp/sug/view.do?menuNo=300011&sgId=166&pnum=22',\n",
       " '/ucms/ogp/sug/view.do?menuNo=300011&sgId=165&pnum=22',\n",
       " '/ucms/ogp/sug/view.do?menuNo=300011&sgId=164&pnum=22',\n",
       " '/ucms/ogp/sug/view.do?menuNo=300011&sgId=163&pnum=22',\n",
       " '/ucms/ogp/sug/view.do?menuNo=300011&sgId=162&pnum=22',\n",
       " '/ucms/ogp/sug/view.do?menuNo=300011&sgId=161&pnum=23',\n",
       " '/ucms/ogp/sug/view.do?menuNo=300011&sgId=160&pnum=23',\n",
       " '/ucms/ogp/sug/view.do?menuNo=300011&sgId=159&pnum=23',\n",
       " '/ucms/ogp/sug/view.do?menuNo=300011&sgId=158&pnum=23',\n",
       " '/ucms/ogp/sug/view.do?menuNo=300011&sgId=157&pnum=23',\n",
       " '/ucms/ogp/sug/view.do?menuNo=300011&sgId=156&pnum=24',\n",
       " '/ucms/ogp/sug/view.do?menuNo=300011&sgId=155&pnum=24',\n",
       " '/ucms/ogp/sug/view.do?menuNo=300011&sgId=154&pnum=24',\n",
       " '/ucms/ogp/sug/view.do?menuNo=300011&sgId=153&pnum=24',\n",
       " '/ucms/ogp/sug/view.do?menuNo=300011&sgId=152&pnum=24',\n",
       " '/ucms/ogp/sug/view.do?menuNo=300011&sgId=151&pnum=25',\n",
       " '/ucms/ogp/sug/view.do?menuNo=300011&sgId=150&pnum=25',\n",
       " '/ucms/ogp/sug/view.do?menuNo=300011&sgId=149&pnum=25',\n",
       " '/ucms/ogp/sug/view.do?menuNo=300011&sgId=148&pnum=25',\n",
       " '/ucms/ogp/sug/view.do?menuNo=300011&sgId=147&pnum=25',\n",
       " '/ucms/ogp/sug/view.do?menuNo=300011&sgId=146&pnum=26',\n",
       " '/ucms/ogp/sug/view.do?menuNo=300011&sgId=145&pnum=26',\n",
       " '/ucms/ogp/sug/view.do?menuNo=300011&sgId=144&pnum=26',\n",
       " '/ucms/ogp/sug/view.do?menuNo=300011&sgId=143&pnum=26',\n",
       " '/ucms/ogp/sug/view.do?menuNo=300011&sgId=142&pnum=26',\n",
       " '/ucms/ogp/sug/view.do?menuNo=300011&sgId=141&pnum=27',\n",
       " '/ucms/ogp/sug/view.do?menuNo=300011&sgId=140&pnum=27',\n",
       " '/ucms/ogp/sug/view.do?menuNo=300011&sgId=139&pnum=27',\n",
       " '/ucms/ogp/sug/view.do?menuNo=300011&sgId=138&pnum=27',\n",
       " '/ucms/ogp/sug/view.do?menuNo=300011&sgId=137&pnum=27',\n",
       " '/ucms/ogp/sug/view.do?menuNo=300011&sgId=136&pnum=28',\n",
       " '/ucms/ogp/sug/view.do?menuNo=300011&sgId=135&pnum=28',\n",
       " '/ucms/ogp/sug/view.do?menuNo=300011&sgId=134&pnum=28',\n",
       " '/ucms/ogp/sug/view.do?menuNo=300011&sgId=133&pnum=28',\n",
       " '/ucms/ogp/sug/view.do?menuNo=300011&sgId=132&pnum=28',\n",
       " '/ucms/ogp/sug/view.do?menuNo=300011&sgId=131&pnum=29',\n",
       " '/ucms/ogp/sug/view.do?menuNo=300011&sgId=130&pnum=29',\n",
       " '/ucms/ogp/sug/view.do?menuNo=300011&sgId=129&pnum=29',\n",
       " '/ucms/ogp/sug/view.do?menuNo=300011&sgId=127&pnum=29',\n",
       " '/ucms/ogp/sug/view.do?menuNo=300011&sgId=126&pnum=29',\n",
       " '/ucms/ogp/sug/view.do?menuNo=300011&sgId=125&pnum=30',\n",
       " '/ucms/ogp/sug/view.do?menuNo=300011&sgId=124&pnum=30',\n",
       " '/ucms/ogp/sug/view.do?menuNo=300011&sgId=123&pnum=30',\n",
       " '/ucms/ogp/sug/view.do?menuNo=300011&sgId=122&pnum=30',\n",
       " '/ucms/ogp/sug/view.do?menuNo=300011&sgId=121&pnum=30',\n",
       " '/ucms/ogp/sug/view.do?menuNo=300011&sgId=120&pnum=31',\n",
       " '/ucms/ogp/sug/view.do?menuNo=300011&sgId=119&pnum=31',\n",
       " '/ucms/ogp/sug/view.do?menuNo=300011&sgId=116&pnum=31',\n",
       " '/ucms/ogp/sug/view.do?menuNo=300011&sgId=115&pnum=31',\n",
       " '/ucms/ogp/sug/view.do?menuNo=300011&sgId=109&pnum=31',\n",
       " '/ucms/ogp/sug/view.do?menuNo=300011&sgId=108&pnum=32',\n",
       " '/ucms/ogp/sug/view.do?menuNo=300011&sgId=96&pnum=32',\n",
       " '/ucms/ogp/sug/view.do?menuNo=300011&sgId=91&pnum=32',\n",
       " '/ucms/ogp/sug/view.do?menuNo=300011&sgId=90&pnum=32',\n",
       " '/ucms/ogp/sug/view.do?menuNo=300011&sgId=86&pnum=32',\n",
       " '/ucms/ogp/sug/view.do?menuNo=300011&sgId=85&pnum=33',\n",
       " '/ucms/ogp/sug/view.do?menuNo=300011&sgId=83&pnum=33',\n",
       " '/ucms/ogp/sug/view.do?menuNo=300011&sgId=82&pnum=33',\n",
       " '/ucms/ogp/sug/view.do?menuNo=300011&sgId=81&pnum=33',\n",
       " '/ucms/ogp/sug/view.do?menuNo=300011&sgId=80&pnum=33',\n",
       " '/ucms/ogp/sug/view.do?menuNo=300011&sgId=79&pnum=34',\n",
       " '/ucms/ogp/sug/view.do?menuNo=300011&sgId=78&pnum=34',\n",
       " '/ucms/ogp/sug/view.do?menuNo=300011&sgId=77&pnum=34',\n",
       " '/ucms/ogp/sug/view.do?menuNo=300011&sgId=76&pnum=34',\n",
       " '/ucms/ogp/sug/view.do?menuNo=300011&sgId=75&pnum=34',\n",
       " '/ucms/ogp/sug/view.do?menuNo=300011&sgId=74&pnum=35',\n",
       " '/ucms/ogp/sug/view.do?menuNo=300011&sgId=72&pnum=35',\n",
       " '/ucms/ogp/sug/view.do?menuNo=300011&sgId=71&pnum=35',\n",
       " '/ucms/ogp/sug/view.do?menuNo=300011&sgId=70&pnum=35',\n",
       " '/ucms/ogp/sug/view.do?menuNo=300011&sgId=69&pnum=35',\n",
       " '/ucms/ogp/sug/view.do?menuNo=300011&sgId=68&pnum=36',\n",
       " '/ucms/ogp/sug/view.do?menuNo=300011&sgId=67&pnum=36',\n",
       " '/ucms/ogp/sug/view.do?menuNo=300011&sgId=66&pnum=36',\n",
       " '/ucms/ogp/sug/view.do?menuNo=300011&sgId=65&pnum=36',\n",
       " '/ucms/ogp/sug/view.do?menuNo=300011&sgId=64&pnum=36',\n",
       " '/ucms/ogp/sug/view.do?menuNo=300011&sgId=63&pnum=37',\n",
       " '/ucms/ogp/sug/view.do?menuNo=300011&sgId=62&pnum=37',\n",
       " '/ucms/ogp/sug/view.do?menuNo=300011&sgId=61&pnum=37',\n",
       " '/ucms/ogp/sug/view.do?menuNo=300011&sgId=60&pnum=37',\n",
       " '/ucms/ogp/sug/view.do?menuNo=300011&sgId=59&pnum=37',\n",
       " '/ucms/ogp/sug/view.do?menuNo=300011&sgId=58&pnum=38',\n",
       " '/ucms/ogp/sug/view.do?menuNo=300011&sgId=57&pnum=38',\n",
       " '/ucms/ogp/sug/view.do?menuNo=300011&sgId=49&pnum=38',\n",
       " '/ucms/ogp/sug/view.do?menuNo=300011&sgId=56&pnum=38',\n",
       " '/ucms/ogp/sug/view.do?menuNo=300011&sgId=55&pnum=38',\n",
       " '/ucms/ogp/sug/view.do?menuNo=300011&sgId=54&pnum=39',\n",
       " '/ucms/ogp/sug/view.do?menuNo=300011&sgId=53&pnum=39',\n",
       " '/ucms/ogp/sug/view.do?menuNo=300011&sgId=52&pnum=39',\n",
       " '/ucms/ogp/sug/view.do?menuNo=300011&sgId=51&pnum=39',\n",
       " '/ucms/ogp/sug/view.do?menuNo=300011&sgId=50&pnum=39',\n",
       " '/ucms/ogp/sug/view.do?menuNo=300011&sgId=48&pnum=40',\n",
       " '/ucms/ogp/sug/view.do?menuNo=300011&sgId=44&pnum=40',\n",
       " '/ucms/ogp/sug/view.do?menuNo=300011&sgId=43&pnum=40',\n",
       " '/ucms/ogp/sug/view.do?menuNo=300011&sgId=42&pnum=40',\n",
       " '/ucms/ogp/sug/view.do?menuNo=300011&sgId=41&pnum=40',\n",
       " '/ucms/ogp/sug/view.do?menuNo=300011&sgId=40&pnum=41',\n",
       " '/ucms/ogp/sug/view.do?menuNo=300011&sgId=39&pnum=41',\n",
       " '/ucms/ogp/sug/view.do?menuNo=300011&sgId=38&pnum=41',\n",
       " '/ucms/ogp/sug/view.do?menuNo=300011&sgId=37&pnum=41',\n",
       " '/ucms/ogp/sug/view.do?menuNo=300011&sgId=35&pnum=41',\n",
       " '/ucms/ogp/sug/view.do?menuNo=300011&sgId=34&pnum=42',\n",
       " '/ucms/ogp/sug/view.do?menuNo=300011&sgId=33&pnum=42',\n",
       " '/ucms/ogp/sug/view.do?menuNo=300011&sgId=32&pnum=42',\n",
       " '/ucms/ogp/sug/view.do?menuNo=300011&sgId=31&pnum=42',\n",
       " '/ucms/ogp/sug/view.do?menuNo=300011&sgId=30&pnum=42',\n",
       " '/ucms/ogp/sug/view.do?menuNo=300011&sgId=29&pnum=43',\n",
       " '/ucms/ogp/sug/view.do?menuNo=300011&sgId=28&pnum=43',\n",
       " '/ucms/ogp/sug/view.do?menuNo=300011&sgId=26&pnum=43',\n",
       " '/ucms/ogp/sug/view.do?menuNo=300011&sgId=25&pnum=43',\n",
       " '/ucms/ogp/sug/view.do?menuNo=300011&sgId=24&pnum=43',\n",
       " '/ucms/ogp/sug/view.do?menuNo=300011&sgId=23&pnum=44',\n",
       " '/ucms/ogp/sug/view.do?menuNo=300011&sgId=22&pnum=44',\n",
       " '/ucms/ogp/sug/view.do?menuNo=300011&sgId=21&pnum=44',\n",
       " '/ucms/ogp/sug/view.do?menuNo=300011&sgId=20&pnum=44',\n",
       " '/ucms/ogp/sug/view.do?menuNo=300011&sgId=19&pnum=44',\n",
       " '/ucms/ogp/sug/view.do?menuNo=300011&sgId=18&pnum=45',\n",
       " '/ucms/ogp/sug/view.do?menuNo=300011&sgId=17&pnum=45',\n",
       " '/ucms/ogp/sug/view.do?menuNo=300011&sgId=16&pnum=45',\n",
       " '/ucms/ogp/sug/view.do?menuNo=300011&sgId=15&pnum=45',\n",
       " '/ucms/ogp/sug/view.do?menuNo=300011&sgId=13&pnum=45',\n",
       " '/ucms/ogp/sug/view.do?menuNo=300011&sgId=12&pnum=46',\n",
       " '/ucms/ogp/sug/view.do?menuNo=300011&sgId=11&pnum=46',\n",
       " '/ucms/ogp/sug/view.do?menuNo=300011&sgId=10&pnum=46',\n",
       " '/ucms/ogp/sug/view.do?menuNo=300011&sgId=8&pnum=46',\n",
       " '/ucms/ogp/sug/view.do?menuNo=300011&sgId=7&pnum=46',\n",
       " '/ucms/ogp/sug/view.do?menuNo=300011&sgId=6&pnum=47',\n",
       " '/ucms/ogp/sug/view.do?menuNo=300011&sgId=5&pnum=47',\n",
       " '/ucms/ogp/sug/view.do?menuNo=300011&sgId=4&pnum=47',\n",
       " '/ucms/ogp/sug/view.do?menuNo=300011&sgId=3&pnum=47',\n",
       " '/ucms/ogp/sug/view.do?menuNo=300011&sgId=2&pnum=47',\n",
       " '/ucms/ogp/sug/view.do?menuNo=300011&sgId=1&pnum=48']"
      ]
     },
     "execution_count": 51,
     "metadata": {},
     "output_type": "execute_result"
    }
   ],
   "source": [
    "# 목록의 내용만 크롤링 해온다\n",
    "# 목록의 링크 값을 가져와 suggestion_list 리스트에 담아준다\n",
    "suggestion_list=[]\n",
    "pnum =1\n",
    "\n",
    "get_suggestion_list(pnum)\n",
    "suggestion_list"
   ]
  },
  {
   "cell_type": "code",
   "execution_count": 52,
   "metadata": {},
   "outputs": [
    {
     "name": "stdout",
     "output_type": "stream",
     "text": [
      "236\n"
     ]
    },
    {
     "data": {
      "text/plain": [
       "['/ucms/ogp/sug/view.do?menuNo=300011&sgId=280&pnum=1',\n",
       " '/ucms/ogp/sug/view.do?menuNo=300011&sgId=279&pnum=1',\n",
       " '/ucms/ogp/sug/view.do?menuNo=300011&sgId=278&pnum=1']"
      ]
     },
     "execution_count": 52,
     "metadata": {},
     "output_type": "execute_result"
    }
   ],
   "source": [
    "print(len(suggestion_list))\n",
    "suggestion_list[:3]"
   ]
  },
  {
   "cell_type": "code",
   "execution_count": 59,
   "metadata": {},
   "outputs": [
    {
     "name": "stdout",
     "output_type": "stream",
     "text": [
      "원스톱 의원요구자료 제출 시스템 구축\n"
     ]
    }
   ],
   "source": [
    "url = '/ucms/ogp/sug/view.do?menuNo=300011&sgId=278&pnum=1'\n",
    "base_url = f\"https://www.innogov.go.kr{url}\"\n",
    "response = requests.get(base_url)\n",
    "if response.status_code == 200:\n",
    "    html = bs(response.text, 'html.parser')\n",
    "    #content >div.vview_box1>dl>dt\n",
    "    title = html.select('#content > div.vveiw_box1 > dl > dt')[0].get_text(strip=True)\n",
    "print(title)"
   ]
  },
  {
   "cell_type": "code",
   "execution_count": 60,
   "metadata": {},
   "outputs": [
    {
     "name": "stdout",
     "output_type": "stream",
     "text": [
      "[<dd>일반행정</dd>, <dd>2019.10.15</dd>, <dd>2020.01.12</dd>, <dd>연시랑</dd>]\n",
      "일반행정\n",
      "2019.10.15\n",
      "2020.01.12\n",
      "연시랑\n"
     ]
    }
   ],
   "source": [
    "desc = html.select(\n",
    "        '#content > div.vveiw_box1 > div.vveiw_name > ul > li > dl > dd')\n",
    "category = desc[0].get_text(strip=True)\n",
    "print(desc)\n",
    "print(desc[0].get_text(strip=True))\n",
    "print(desc[1].get_text(strip=True))\n",
    "print(desc[2].get_text(strip=True))\n",
    "print(desc[3].get_text(strip=True))"
   ]
  },
  {
   "cell_type": "code",
   "execution_count": 61,
   "metadata": {},
   "outputs": [
    {
     "data": {
      "text/plain": [
       "'150'"
      ]
     },
     "execution_count": 61,
     "metadata": {},
     "output_type": "execute_result"
    }
   ],
   "source": [
    "# id값을 저장해 주기 위해 미리 추출 해보기\n",
    "u = 'view.do?menuNo=300011&sgId=150&pnum=1'\n",
    "u.split('=')[2].split('&')[0]"
   ]
  },
  {
   "cell_type": "code",
   "execution_count": 62,
   "metadata": {},
   "outputs": [],
   "source": [
    "# 목록 리스트에 있는 url를 넘겨주면 내용을 크롤링 해옵니다.\n",
    "def get_suggestion_content(url):\n",
    "    article = []\n",
    "    base_url = f\"https://www.innogov.go.kr/{url}\"\n",
    "    response = requests.get( base_url )\n",
    "    if response.status_code == 200:\n",
    "        html = bs(response.text, 'html.parser')\n",
    "        # 제목을 가져옵니다.\n",
    "        title = html.select(\n",
    "            '#content > div.vveiw_box1 > dl > dt')[0].get_text(strip=True)\n",
    "        # dd 태그에 있는 내용을 가져와서 카테고리, 시작일, 마감일, 제안인 정보를 추출합니다.\n",
    "        desc = html.select(\n",
    "            '#content > div.vveiw_box1 > div.vveiw_name > ul > li > dl > dd')\n",
    "        category = desc[0].get_text(strip=True)\n",
    "        content = html.select(\n",
    "            '#content > div.vveiw_box1 > div.vveiw_cont > div > pre')[0].get_text(strip=True)\n",
    "        start = desc[1].get_text(strip=True)\n",
    "        end = desc[2].get_text(strip=True)\n",
    "        author = desc[3].get_text(strip=True)\n",
    "        # 추천인원을 가져옵니다.\n",
    "        vote = html.select('#counter')[0].get_text(strip=True)\n",
    "        # 해당 게시물의 Id 값을 가져옵니다.\n",
    "        sgId = url.split('=')[2].split('&')[0]\n",
    "        \n",
    "        article.append(sgId)\n",
    "        article.append(title)\n",
    "        article.append(category)\n",
    "        article.append(content)\n",
    "        article.append(start)\n",
    "        article.append(end)\n",
    "        article.append(vote)\n",
    "        article.append(author)\n",
    "       # print(article)\n",
    "        \n",
    "#       time.sleep(random.randint(1,2))\n",
    "        return article\n"
   ]
  },
  {
   "cell_type": "markdown",
   "metadata": {},
   "source": [
    "### 각 게시물의 세부내용 가져오기"
   ]
  },
  {
   "cell_type": "code",
   "execution_count": 63,
   "metadata": {},
   "outputs": [
    {
     "name": "stderr",
     "output_type": "stream",
     "text": [
      "236it [00:53,  4.42it/s]\n"
     ]
    }
   ],
   "source": [
    "data = []\n",
    "# tqdm 을 사용해서 어느정도 가져왔는지 확인하기\n",
    "for i, suggestion in tqdm(enumerate(suggestion_list)): # enumerate를 통해 i(index), suggestion을 가져옴\n",
    "    # suggestion_list 에 있는 각 게시물에 접근해서 카테고리, 시작일, 마감일, 제안인, 제목, 내용 등을 가져옵니다.\n",
    "    s = get_suggestion_content(suggestion)\n",
    "    data.append(s)"
   ]
  },
  {
   "cell_type": "code",
   "execution_count": null,
   "metadata": {},
   "outputs": [],
   "source": [
    "column_names = [\"sgId\", \"title\", \"category\", \"content\", \"start\", \"end\", \"vote\", \"author\"]\n",
    "column_names"
   ]
  },
  {
   "cell_type": "code",
   "execution_count": null,
   "metadata": {},
   "outputs": [],
   "source": [
    "data = pd.DataFrame(data, columns=column_names)\n",
    "data.head()"
   ]
  },
  {
   "cell_type": "code",
   "execution_count": null,
   "metadata": {},
   "outputs": [],
   "source": []
  },
  {
   "cell_type": "code",
   "execution_count": null,
   "metadata": {},
   "outputs": [],
   "source": []
  },
  {
   "cell_type": "code",
   "execution_count": null,
   "metadata": {},
   "outputs": [],
   "source": []
  },
  {
   "cell_type": "code",
   "execution_count": null,
   "metadata": {},
   "outputs": [],
   "source": []
  }
 ],
 "metadata": {
  "kernelspec": {
   "display_name": "Python 3",
   "language": "python",
   "name": "python3"
  },
  "language_info": {
   "codemirror_mode": {
    "name": "ipython",
    "version": 3
   },
   "file_extension": ".py",
   "mimetype": "text/x-python",
   "name": "python",
   "nbconvert_exporter": "python",
   "pygments_lexer": "ipython3",
   "version": "3.7.6"
  }
 },
 "nbformat": 4,
 "nbformat_minor": 4
}
