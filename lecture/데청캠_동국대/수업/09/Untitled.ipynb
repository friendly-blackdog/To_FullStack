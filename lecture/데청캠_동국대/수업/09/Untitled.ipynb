{
 "cells": [
  {
   "cell_type": "markdown",
   "metadata": {},
   "source": [
    "# 딕셔너리 "
   ]
  },
  {
   "cell_type": "code",
   "execution_count": 1,
   "metadata": {},
   "outputs": [
    {
     "name": "stdout",
     "output_type": "stream",
     "text": [
      "{'홍길동': '010-1234-5678'}\n"
     ]
    }
   ],
   "source": [
    "phone_book = {} #딕녀서리 {}, 공백리스트는 []\n",
    "phone_book[\"홍길동\"]=\"010-1234-5678\"\n",
    "print(phone_book)"
   ]
  },
  {
   "cell_type": "code",
   "execution_count": 6,
   "metadata": {},
   "outputs": [],
   "source": [
    "phone_book={\"홍길동\":\"010-1234-5678\"}\n",
    "phone_book[\"이수인\"] = \"010-1234-5678\"\n",
    "phone_book[\"장제이미\"] = \"010-1234-5678\""
   ]
  },
  {
   "cell_type": "code",
   "execution_count": 7,
   "metadata": {},
   "outputs": [
    {
     "name": "stdout",
     "output_type": "stream",
     "text": [
      "{'홍길동': '010-1234-5678', '이수인': '010-1234-5678', '장제이미': '010-1234-5678'}\n"
     ]
    }
   ],
   "source": [
    "print(phone_book)"
   ]
  },
  {
   "cell_type": "code",
   "execution_count": 8,
   "metadata": {},
   "outputs": [
    {
     "name": "stdout",
     "output_type": "stream",
     "text": [
      "010-1234-5678\n"
     ]
    }
   ],
   "source": [
    "print(phone_book[\"장제이미\"])"
   ]
  },
  {
   "cell_type": "code",
   "execution_count": 9,
   "metadata": {},
   "outputs": [
    {
     "data": {
      "text/plain": [
       "dict_keys(['홍길동', '이수인', '장제이미'])"
      ]
     },
     "execution_count": 9,
     "metadata": {},
     "output_type": "execute_result"
    }
   ],
   "source": [
    "phone_book.keys()"
   ]
  },
  {
   "cell_type": "code",
   "execution_count": 10,
   "metadata": {},
   "outputs": [
    {
     "data": {
      "text/plain": [
       "{'커피음료': 7, '펜': 3, '종이컵': 2, '우유': 1, '콜라': 4, '책': 5}"
      ]
     },
     "execution_count": 10,
     "metadata": {},
     "output_type": "execute_result"
    }
   ],
   "source": [
    "items={\"커피음료\":7, \"펜\":3, \"종이컵\":2, \"우유\":1, \"콜라\":4, \"책\":5}\n",
    "items"
   ]
  },
  {
   "cell_type": "code",
   "execution_count": 15,
   "metadata": {},
   "outputs": [
    {
     "data": {
      "text/plain": [
       "7"
      ]
     },
     "execution_count": 15,
     "metadata": {},
     "output_type": "execute_result"
    }
   ],
   "source": [
    "items[\"커피음료\"]"
   ]
  },
  {
   "cell_type": "code",
   "execution_count": 17,
   "metadata": {},
   "outputs": [
    {
     "name": "stdout",
     "output_type": "stream",
     "text": [
      "물건의 이름을 입력하시오:커피음료\n",
      "7\n"
     ]
    }
   ],
   "source": [
    "item = input(\"물건의 이름을 입력하시오: \")\n",
    "print(items[item])"
   ]
  },
  {
   "cell_type": "code",
   "execution_count": 19,
   "metadata": {},
   "outputs": [
    {
     "name": "stdout",
     "output_type": "stream",
     "text": [
      "단어를 입력하시오: two\n",
      "둘\n"
     ]
    }
   ],
   "source": [
    "eng = {\"one\":\"하나\", \"two\":\"둘\", \"three\":\"셋\"}\n",
    "to_kor = input(\"단어를 입력하시오: \")\n",
    "print(eng[to_kor])"
   ]
  },
  {
   "cell_type": "code",
   "execution_count": null,
   "metadata": {},
   "outputs": [],
   "source": []
  },
  {
   "cell_type": "code",
   "execution_count": 25,
   "metadata": {},
   "outputs": [
    {
     "name": "stdout",
     "output_type": "stream",
     "text": [
      "  1   2   3   4 \n",
      "  5   6   7   8 \n",
      "  9  10  11  12 \n"
     ]
    }
   ],
   "source": [
    "list1=[]\n",
    "list2=[]\n",
    "value=1\n",
    "for i in range(0, 3):\n",
    "    for k in range(0, 4):\n",
    "        list1.append(value)\n",
    "        value += 1\n",
    "    list2.append(list1)\n",
    "    list1=[] #똑같은 건 필요없기에 다시 비워준다.\n",
    "    \n",
    "for i in range(0 ,3):\n",
    "    for k in range(0, 4):\n",
    "        print(\"%3d\"%list2[i][k], end=\" \") #i는 행, k는 열\n",
    "    print(\"\")"
   ]
  },
  {
   "cell_type": "code",
   "execution_count": 26,
   "metadata": {},
   "outputs": [
    {
     "name": "stdout",
     "output_type": "stream",
     "text": [
      "['n', 'e', 'w', 'i', ' n', 'g']\n"
     ]
    }
   ],
   "source": [
    "list1 = ['n', 'e', 'w', 'l', 's', 't']\n",
    "list2 = ['n', 'e', 'w', 's', 't', 'r', 'i',' n', 'g']\n",
    "list_new = list1[:3] + list2[6:]\n",
    "print(list_new)"
   ]
  },
  {
   "cell_type": "code",
   "execution_count": 28,
   "metadata": {},
   "outputs": [
    {
     "data": {
      "text/plain": [
       "'I love You'"
      ]
     },
     "execution_count": 28,
     "metadata": {},
     "output_type": "execute_result"
    }
   ],
   "source": [
    "words = [\"happy\" , \"love\", \"I\", \"am\", \"You\"]\n",
    "new_words = words[2]+\" \"+words[1]+\" \"+words[-1]\n",
    "new_words"
   ]
  },
  {
   "cell_type": "code",
   "execution_count": 39,
   "metadata": {
    "scrolled": true
   },
   "outputs": [
    {
     "name": "stdout",
     "output_type": "stream",
     "text": [
      "['떡볶이', '짜장면', '라면', '피자', '맥주', '치킨', '삼겹살']중 좋아하는 것은?치맥\n",
      "그런 음식이 없네요. 확인해 보세요.\n",
      "['떡볶이', '짜장면', '라면', '피자', '맥주', '치킨', '삼겹살']중 좋아하는 것은?치킨\n",
      "치킨무와 잘 어울립니다!\n"
     ]
    },
    {
     "ename": "KeyboardInterrupt",
     "evalue": "",
     "output_type": "error",
     "traceback": [
      "\u001b[0;31m---------------------------------------------------------------------------\u001b[0m",
      "\u001b[0;31mKeyboardInterrupt\u001b[0m                         Traceback (most recent call last)",
      "\u001b[0;32m/opt/anaconda3/lib/python3.7/site-packages/ipykernel/kernelbase.py\u001b[0m in \u001b[0;36m_input_request\u001b[0;34m(self, prompt, ident, parent, password)\u001b[0m\n\u001b[1;32m    883\u001b[0m             \u001b[0;32mtry\u001b[0m\u001b[0;34m:\u001b[0m\u001b[0;34m\u001b[0m\u001b[0;34m\u001b[0m\u001b[0m\n\u001b[0;32m--> 884\u001b[0;31m                 \u001b[0mident\u001b[0m\u001b[0;34m,\u001b[0m \u001b[0mreply\u001b[0m \u001b[0;34m=\u001b[0m \u001b[0mself\u001b[0m\u001b[0;34m.\u001b[0m\u001b[0msession\u001b[0m\u001b[0;34m.\u001b[0m\u001b[0mrecv\u001b[0m\u001b[0;34m(\u001b[0m\u001b[0mself\u001b[0m\u001b[0;34m.\u001b[0m\u001b[0mstdin_socket\u001b[0m\u001b[0;34m,\u001b[0m \u001b[0;36m0\u001b[0m\u001b[0;34m)\u001b[0m\u001b[0;34m\u001b[0m\u001b[0;34m\u001b[0m\u001b[0m\n\u001b[0m\u001b[1;32m    885\u001b[0m             \u001b[0;32mexcept\u001b[0m \u001b[0mException\u001b[0m\u001b[0;34m:\u001b[0m\u001b[0;34m\u001b[0m\u001b[0;34m\u001b[0m\u001b[0m\n",
      "\u001b[0;32m/opt/anaconda3/lib/python3.7/site-packages/jupyter_client/session.py\u001b[0m in \u001b[0;36mrecv\u001b[0;34m(self, socket, mode, content, copy)\u001b[0m\n\u001b[1;32m    802\u001b[0m         \u001b[0;32mtry\u001b[0m\u001b[0;34m:\u001b[0m\u001b[0;34m\u001b[0m\u001b[0;34m\u001b[0m\u001b[0m\n\u001b[0;32m--> 803\u001b[0;31m             \u001b[0mmsg_list\u001b[0m \u001b[0;34m=\u001b[0m \u001b[0msocket\u001b[0m\u001b[0;34m.\u001b[0m\u001b[0mrecv_multipart\u001b[0m\u001b[0;34m(\u001b[0m\u001b[0mmode\u001b[0m\u001b[0;34m,\u001b[0m \u001b[0mcopy\u001b[0m\u001b[0;34m=\u001b[0m\u001b[0mcopy\u001b[0m\u001b[0;34m)\u001b[0m\u001b[0;34m\u001b[0m\u001b[0;34m\u001b[0m\u001b[0m\n\u001b[0m\u001b[1;32m    804\u001b[0m         \u001b[0;32mexcept\u001b[0m \u001b[0mzmq\u001b[0m\u001b[0;34m.\u001b[0m\u001b[0mZMQError\u001b[0m \u001b[0;32mas\u001b[0m \u001b[0me\u001b[0m\u001b[0;34m:\u001b[0m\u001b[0;34m\u001b[0m\u001b[0;34m\u001b[0m\u001b[0m\n",
      "\u001b[0;32m/opt/anaconda3/lib/python3.7/site-packages/zmq/sugar/socket.py\u001b[0m in \u001b[0;36mrecv_multipart\u001b[0;34m(self, flags, copy, track)\u001b[0m\n\u001b[1;32m    474\u001b[0m         \"\"\"\n\u001b[0;32m--> 475\u001b[0;31m         \u001b[0mparts\u001b[0m \u001b[0;34m=\u001b[0m \u001b[0;34m[\u001b[0m\u001b[0mself\u001b[0m\u001b[0;34m.\u001b[0m\u001b[0mrecv\u001b[0m\u001b[0;34m(\u001b[0m\u001b[0mflags\u001b[0m\u001b[0;34m,\u001b[0m \u001b[0mcopy\u001b[0m\u001b[0;34m=\u001b[0m\u001b[0mcopy\u001b[0m\u001b[0;34m,\u001b[0m \u001b[0mtrack\u001b[0m\u001b[0;34m=\u001b[0m\u001b[0mtrack\u001b[0m\u001b[0;34m)\u001b[0m\u001b[0;34m]\u001b[0m\u001b[0;34m\u001b[0m\u001b[0;34m\u001b[0m\u001b[0m\n\u001b[0m\u001b[1;32m    476\u001b[0m         \u001b[0;31m# have first part already, only loop while more to receive\u001b[0m\u001b[0;34m\u001b[0m\u001b[0;34m\u001b[0m\u001b[0;34m\u001b[0m\u001b[0m\n",
      "\u001b[0;32mzmq/backend/cython/socket.pyx\u001b[0m in \u001b[0;36mzmq.backend.cython.socket.Socket.recv\u001b[0;34m()\u001b[0m\n",
      "\u001b[0;32mzmq/backend/cython/socket.pyx\u001b[0m in \u001b[0;36mzmq.backend.cython.socket.Socket.recv\u001b[0;34m()\u001b[0m\n",
      "\u001b[0;32mzmq/backend/cython/socket.pyx\u001b[0m in \u001b[0;36mzmq.backend.cython.socket._recv_copy\u001b[0;34m()\u001b[0m\n",
      "\u001b[0;32m/opt/anaconda3/lib/python3.7/site-packages/zmq/backend/cython/checkrc.pxd\u001b[0m in \u001b[0;36mzmq.backend.cython.checkrc._check_rc\u001b[0;34m()\u001b[0m\n",
      "\u001b[0;31mKeyboardInterrupt\u001b[0m: ",
      "\nDuring handling of the above exception, another exception occurred:\n",
      "\u001b[0;31mKeyboardInterrupt\u001b[0m                         Traceback (most recent call last)",
      "\u001b[0;32m<ipython-input-39-04e0794cb2b4>\u001b[0m in \u001b[0;36m<module>\u001b[0;34m\u001b[0m\n\u001b[1;32m     10\u001b[0m \u001b[0;31m#main code\u001b[0m\u001b[0;34m\u001b[0m\u001b[0;34m\u001b[0m\u001b[0;34m\u001b[0m\u001b[0m\n\u001b[1;32m     11\u001b[0m \u001b[0;32mwhile\u001b[0m \u001b[0;34m(\u001b[0m\u001b[0;32mTrue\u001b[0m\u001b[0;34m)\u001b[0m\u001b[0;34m:\u001b[0m\u001b[0;34m\u001b[0m\u001b[0;34m\u001b[0m\u001b[0m\n\u001b[0;32m---> 12\u001b[0;31m     \u001b[0mmyfood\u001b[0m\u001b[0;34m=\u001b[0m\u001b[0minput\u001b[0m\u001b[0;34m(\u001b[0m\u001b[0mstr\u001b[0m\u001b[0;34m(\u001b[0m\u001b[0mlist\u001b[0m\u001b[0;34m(\u001b[0m\u001b[0mfoods\u001b[0m\u001b[0;34m.\u001b[0m\u001b[0mkeys\u001b[0m\u001b[0;34m(\u001b[0m\u001b[0;34m)\u001b[0m\u001b[0;34m)\u001b[0m\u001b[0;34m)\u001b[0m \u001b[0;34m+\u001b[0m \u001b[0;34m\"중 좋아하는 것은?\"\u001b[0m\u001b[0;34m)\u001b[0m\u001b[0;34m\u001b[0m\u001b[0;34m\u001b[0m\u001b[0m\n\u001b[0m\u001b[1;32m     13\u001b[0m     \u001b[0;32mif\u001b[0m \u001b[0mmyfood\u001b[0m \u001b[0;32min\u001b[0m \u001b[0mfoods\u001b[0m\u001b[0;34m:\u001b[0m\u001b[0;34m\u001b[0m\u001b[0;34m\u001b[0m\u001b[0m\n\u001b[1;32m     14\u001b[0m         \u001b[0mprint\u001b[0m\u001b[0;34m(\u001b[0m\u001b[0mfoods\u001b[0m\u001b[0;34m[\u001b[0m\u001b[0mmyfood\u001b[0m\u001b[0;34m]\u001b[0m\u001b[0;34m+\u001b[0m\u001b[0;34m\"와 잘 어울립니다!\"\u001b[0m\u001b[0;34m)\u001b[0m\u001b[0;34m\u001b[0m\u001b[0;34m\u001b[0m\u001b[0m\n",
      "\u001b[0;32m/opt/anaconda3/lib/python3.7/site-packages/ipykernel/kernelbase.py\u001b[0m in \u001b[0;36mraw_input\u001b[0;34m(self, prompt)\u001b[0m\n\u001b[1;32m    857\u001b[0m             \u001b[0mself\u001b[0m\u001b[0;34m.\u001b[0m\u001b[0m_parent_ident\u001b[0m\u001b[0;34m,\u001b[0m\u001b[0;34m\u001b[0m\u001b[0;34m\u001b[0m\u001b[0m\n\u001b[1;32m    858\u001b[0m             \u001b[0mself\u001b[0m\u001b[0;34m.\u001b[0m\u001b[0m_parent_header\u001b[0m\u001b[0;34m,\u001b[0m\u001b[0;34m\u001b[0m\u001b[0;34m\u001b[0m\u001b[0m\n\u001b[0;32m--> 859\u001b[0;31m             \u001b[0mpassword\u001b[0m\u001b[0;34m=\u001b[0m\u001b[0;32mFalse\u001b[0m\u001b[0;34m,\u001b[0m\u001b[0;34m\u001b[0m\u001b[0;34m\u001b[0m\u001b[0m\n\u001b[0m\u001b[1;32m    860\u001b[0m         )\n\u001b[1;32m    861\u001b[0m \u001b[0;34m\u001b[0m\u001b[0m\n",
      "\u001b[0;32m/opt/anaconda3/lib/python3.7/site-packages/ipykernel/kernelbase.py\u001b[0m in \u001b[0;36m_input_request\u001b[0;34m(self, prompt, ident, parent, password)\u001b[0m\n\u001b[1;32m    887\u001b[0m             \u001b[0;32mexcept\u001b[0m \u001b[0mKeyboardInterrupt\u001b[0m\u001b[0;34m:\u001b[0m\u001b[0;34m\u001b[0m\u001b[0;34m\u001b[0m\u001b[0m\n\u001b[1;32m    888\u001b[0m                 \u001b[0;31m# re-raise KeyboardInterrupt, to truncate traceback\u001b[0m\u001b[0;34m\u001b[0m\u001b[0;34m\u001b[0m\u001b[0;34m\u001b[0m\u001b[0m\n\u001b[0;32m--> 889\u001b[0;31m                 \u001b[0;32mraise\u001b[0m \u001b[0mKeyboardInterrupt\u001b[0m\u001b[0;34m\u001b[0m\u001b[0;34m\u001b[0m\u001b[0m\n\u001b[0m\u001b[1;32m    890\u001b[0m             \u001b[0;32melse\u001b[0m\u001b[0;34m:\u001b[0m\u001b[0;34m\u001b[0m\u001b[0;34m\u001b[0m\u001b[0m\n\u001b[1;32m    891\u001b[0m                 \u001b[0;32mbreak\u001b[0m\u001b[0;34m\u001b[0m\u001b[0;34m\u001b[0m\u001b[0m\n",
      "\u001b[0;31mKeyboardInterrupt\u001b[0m: "
     ]
    }
   ],
   "source": [
    "# 변수 선언 부분\n",
    "foods = {\"떡볶이\":\"오뎅\",\n",
    "        \"짜장면\":\"단무지\",\n",
    "        \"라면\":\"김치\",\n",
    "        \"피자\":\"피클\",\n",
    "        \"맥주\":\"땅콩\",\n",
    "        \"치킨\":\"치킨무\",\n",
    "        \"삼겹살\":\"상추\"}\n",
    "\n",
    "#main code\n",
    "while (True):\n",
    "    myfood=input(str(list(foods.keys())) + \"중 좋아하는 것은?\")\n",
    "    if myfood in foods:\n",
    "        print(foods[myfood]+\"와 잘 어울립니다!\")\n",
    "    else:\n",
    "        print(\"그런 음식이 없네요. 확인해 보세요.\")"
   ]
  },
  {
   "cell_type": "code",
   "execution_count": 40,
   "metadata": {},
   "outputs": [
    {
     "name": "stdout",
     "output_type": "stream",
     "text": [
      "['떡볶이', '짜장면', '라면', '피자', '맥주', '치킨', '삼겹살']중 좋아하는 것은?치킨\n",
      "<치킨> 궁합 음식은 <치킨무> 입니다.\n",
      "['떡볶이', '짜장면', '라면', '피자', '맥주', '치킨', '삼겹살']중 좋아하는 것은?끝\n"
     ]
    }
   ],
   "source": [
    "# 변수 선언 부분\n",
    "foods = {\"떡볶이\":\"오뎅\",\n",
    "        \"짜장면\":\"단무지\",\n",
    "        \"라면\":\"김치\",\n",
    "        \"피자\":\"피클\",\n",
    "        \"맥주\":\"땅콩\",\n",
    "        \"치킨\":\"치킨무\",\n",
    "        \"삼겹살\":\"상추\"}\n",
    "\n",
    "#main code\n",
    "while (True):\n",
    "    myfood=input(str(list(foods.keys())) + \"중 좋아하는 것은?\")\n",
    "    if myfood in foods:\n",
    "        print(\"<%s> 궁합 음식은 <%s> 입니다.\" % (myfood, foods.get(myfood)))\n",
    "    elif myfood == \"끝\":\n",
    "        break\n",
    "    else:\n",
    "        print(\"그런 음식이 없네요. 확인해 보세요.\")"
   ]
  },
  {
   "cell_type": "code",
   "execution_count": null,
   "metadata": {},
   "outputs": [],
   "source": []
  },
  {
   "cell_type": "code",
   "execution_count": null,
   "metadata": {},
   "outputs": [],
   "source": []
  },
  {
   "cell_type": "code",
   "execution_count": null,
   "metadata": {},
   "outputs": [],
   "source": []
  },
  {
   "cell_type": "markdown",
   "metadata": {},
   "source": [
    "# 파일 입출력 "
   ]
  },
  {
   "cell_type": "code",
   "execution_count": 41,
   "metadata": {},
   "outputs": [
    {
     "name": "stdout",
     "output_type": "stream",
     "text": [
      "이순신 85 80 90\n",
      "강감찬 75 80 95\n",
      "한석봉 99 99 99\n"
     ]
    }
   ],
   "source": [
    "inFp = None #입력 파일\n",
    "inStr=\"\" #읽어온 문자열\n",
    "\n",
    "inFp=open(\"ss.txt\", \"r\", encoding=\"utf-8\")\n",
    "\n",
    "inStr=inFp.readline()\n",
    "print(inStr, end=\"\")\n",
    "\n",
    "inStr=inFp.readline()\n",
    "print(inStr, end=\"\")\n",
    "\n",
    "inStr=inFp.readline()\n",
    "print(inStr, end=\"\")\n",
    "\n",
    "inFp.close()"
   ]
  },
  {
   "cell_type": "code",
   "execution_count": 46,
   "metadata": {},
   "outputs": [
    {
     "name": "stdout",
     "output_type": "stream",
     "text": [
      "이순신 85 80 90\n",
      "강감찬 75 80 95\n",
      "한석봉 99 99 99\n",
      "황진이 35 45 20\n",
      "안중근 90 85 90\n",
      "박문수 95 95 95\n",
      "임꺽정 15 35 45\n",
      "김정호 90 95 80\n",
      "정몽주 90 90 95\n",
      "양주종 50 45 60"
     ]
    }
   ],
   "source": [
    "inFp = None #입력 파일\n",
    "inStr=\"\" #읽어온 문자열\n",
    "\n",
    "inFp=open(\"ss.txt\", \"r\", encoding=\"utf-8\")\n",
    " \n",
    "while True:\n",
    "    inStr=inFp.readline()\n",
    "    print(inStr, end=\"\")\n",
    "    \n",
    "    if inStr==\"\":\n",
    "        break\n",
    "\n",
    "inFp.close()"
   ]
  },
  {
   "cell_type": "code",
   "execution_count": 47,
   "metadata": {
    "collapsed": true
   },
   "outputs": [
    {
     "name": "stdout",
     "output_type": "stream",
     "text": [
      "이순신 85 80 90\n",
      "이순신 85 80 90\n",
      "강감찬 75 80 95\n",
      "강감찬 75 80 95\n",
      "한석봉 99 99 99\n",
      "한석봉 99 99 99\n",
      "황진이 35 45 20\n",
      "황진이 35 45 20\n",
      "안중근 90 85 90\n",
      "안중근 90 85 90\n",
      "박문수 95 95 95\n",
      "박문수 95 95 95\n",
      "임꺽정 15 35 45\n",
      "임꺽정 15 35 45\n",
      "김정호 90 95 80\n",
      "김정호 90 95 80\n",
      "정몽주 90 90 95\n",
      "정몽주 90 90 95\n",
      "양주종 50 45 60양주종 50 45 60"
     ]
    }
   ],
   "source": [
    "inFp = None #입력 파일\n",
    "inStr=\"\" #읽어온 문자열\n",
    "\n",
    "inFp=open(\"ss.txt\", \"r\", encoding=\"utf-8\")\n",
    "\n",
    "while True:\n",
    "    inStr=inFp.readline()\n",
    "    print(inStr, end=\"\")\n",
    "    \n",
    "    if inStr==\"\":\n",
    "        break\n",
    "    print(inStr, end=\"\")\n",
    "\n",
    "inFp.close()"
   ]
  },
  {
   "cell_type": "code",
   "execution_count": 58,
   "metadata": {},
   "outputs": [
    {
     "name": "stdout",
     "output_type": "stream",
     "text": [
      "이순신 85 80 90\n",
      "강감찬 75 80 95\n",
      "한석봉 99 99 99\n",
      "황진이 35 45 20\n",
      "안중근 90 85 90\n",
      "박문수 95 95 95\n",
      "임꺽정 15 35 45\n",
      "김정호 90 95 80\n",
      "정몽주 90 90 95\n",
      "양주종 50 45 60"
     ]
    }
   ],
   "source": [
    "inFp = \"\" #입력 파일\n",
    "inlist = \"\" # 읽어온 문자열\n",
    "inFp = open(\"ss.txt\", \"r\", encoding='utf-8')\n",
    "inList=inFp.readlines()\n",
    "for inStr in inList:\n",
    "    print(inStr, end=\"\")\n",
    "inFp.close()"
   ]
  },
  {
   "cell_type": "code",
   "execution_count": 60,
   "metadata": {},
   "outputs": [
    {
     "name": "stdout",
     "output_type": "stream",
     "text": [
      "내용 입력: 테스트용\n",
      "내용 입력: 다음은 엔터만 칠 것입니다.\n",
      "내용 입력: \n",
      "---정상적으로 파일에 써졌음 ---\n"
     ]
    }
   ],
   "source": [
    "outFp = None\n",
    "outStr = \"\"\n",
    "\n",
    "outFp=open(\"data1.txt\", \"w\", encoding='utf-8')\n",
    "\n",
    "while True:\n",
    "    outStr = input(\"내용 입력: \")\n",
    "    if outStr != \"\":\n",
    "        outFp.writelines(outStr+'\\n')\n",
    "    else:\n",
    "        break\n",
    "        \n",
    "outFp.close()\n",
    "print(\"---정상적으로 파일에 써졌음 ---\")"
   ]
  },
  {
   "cell_type": "code",
   "execution_count": null,
   "metadata": {},
   "outputs": [],
   "source": [
    "outFp = None\n",
    "outStr = \"\"\n",
    "\n",
    "inFp=open(\"data1.txt\", \"r\", encoding='utf-8')\n",
    "outFp=open(\"copy1.txt\", \"w\", encoding='utf-8')"
   ]
  },
  {
   "cell_type": "code",
   "execution_count": null,
   "metadata": {},
   "outputs": [],
   "source": []
  },
  {
   "cell_type": "code",
   "execution_count": 76,
   "metadata": {},
   "outputs": [
    {
     "name": "stdout",
     "output_type": "stream",
     "text": [
      "*****성 적 표*****\n",
      "==============================\n",
      "이 름 국어 영어 수학 총점 평균 \n",
      "==============================\n",
      " 이순신 85 80 90 255 85.0\n",
      " 강감찬 75 80 95 250 83.3\n",
      " 한석봉 99 99 99 297 99.0\n",
      " 황진이 35 45 20 100 33.3\n",
      " 안중근 90 85 90 265 88.3\n",
      " 박문수 95 95 95 285 95.0\n",
      " 임꺽정 15 35 45 95 31.7\n",
      " 김정호 90 95 80 265 88.3\n",
      " 정몽주 90 90 95 275 91.7\n",
      " 양주종 50 45 60 155 51.7\n",
      "==============================\n",
      "평균: 72.4 74.9 76.9 74.7 \n"
     ]
    }
   ],
   "source": [
    "a=[]\n",
    "f=open('ss.txt', 'r', encoding='utf8')\n",
    "# with oepn('ss.txt', 'r') as f:\n",
    "for i in range(10):\n",
    "    a.append(f.readline().split()) #파일 읽어오기: with open(ss.txt, r) as f:\n",
    "    \n",
    "for i in range(len(a)): #정수\n",
    "    a[i][1] = int(a[i][1])\n",
    "    a[i][2] = int(a[i][2])\n",
    "    a[i][3] = int(a[i][3])\n",
    "    a[i].append(a[i][1] + a[i][2] + a[i][3]) #총점\n",
    "    a[i].append(a[i][4]/3) #평균\n",
    "    kt=et=mt=0\n",
    "\n",
    "for i in range(len(a)):\n",
    "    kt=kt+a[i][1] #국어\n",
    "    et=et+a[i][2] #영어\n",
    "    mt=mt+a[i][3] #수학\n",
    "\n",
    "print(\"*****성 적 표*****\")\n",
    "print(\"=\" * 30)\n",
    "print(\"이 름 국어 영어 수학 총점 평균 \")\n",
    "print(\"=\" * 30)\n",
    "\n",
    "for i in range(len(a)):\n",
    "    print(\" {} {} {} {} {} {:.1f}\"\n",
    "         .format(a[i][0],a[i][1],a[i][2],a[i][3],a[i][4],a[i][5]))\n",
    "print(\"=\"*30)\n",
    "print(\"평균: {:.1f} {:.1f} {:.1f} {:.1f} \"\n",
    "     .format(kt/10, et/10, mt/10, (kt+et+mt)/3/10))"
   ]
  },
  {
   "cell_type": "code",
   "execution_count": null,
   "metadata": {},
   "outputs": [],
   "source": []
  },
  {
   "cell_type": "markdown",
   "metadata": {},
   "source": [
    "### 십진수를 입력 받아 이진수로 변환하는 코드를 작성하시오 "
   ]
  },
  {
   "cell_type": "code",
   "execution_count": null,
   "metadata": {},
   "outputs": [],
   "source": [
    "x= int(input(\"십진수를 입력하시오: \"))\n"
   ]
  },
  {
   "cell_type": "code",
   "execution_count": 80,
   "metadata": {},
   "outputs": [
    {
     "name": "stdout",
     "output_type": "stream",
     "text": [
      "시진수를 입력하시오: 1\n",
      "1\n"
     ]
    }
   ],
   "source": [
    "decimal = int(input('십진수를 입력하시오: '))\n",
    "result = ''\n",
    "while(decimal > 0):\n",
    "    remainder = decimal % 2\n",
    "    decimal = decimal // 2\n",
    "    result = str(remainder)+result #int면 더해버리기 때문에 문자로 인식\n",
    "    \n",
    "\n",
    "print(result)"
   ]
  },
  {
   "cell_type": "code",
   "execution_count": null,
   "metadata": {},
   "outputs": [],
   "source": [
    "#이진수를 십진수로\n",
    "x = int(input(''))"
   ]
  },
  {
   "cell_type": "code",
   "execution_count": null,
   "metadata": {},
   "outputs": [],
   "source": []
  },
  {
   "cell_type": "code",
   "execution_count": null,
   "metadata": {},
   "outputs": [],
   "source": []
  },
  {
   "cell_type": "code",
   "execution_count": 85,
   "metadata": {},
   "outputs": [
    {
     "name": "stdout",
     "output_type": "stream",
     "text": [
      "숫자를 맞춰 보세요. (1 ~ 100)1\n"
     ]
    },
    {
     "ename": "KeyboardInterrupt",
     "evalue": "",
     "output_type": "error",
     "traceback": [
      "\u001b[0;31m---------------------------------------------------------------------------\u001b[0m",
      "\u001b[0;31mKeyboardInterrupt\u001b[0m                         Traceback (most recent call last)",
      "\u001b[0;32m<ipython-input-85-229dce124118>\u001b[0m in \u001b[0;36m<module>\u001b[0;34m\u001b[0m\n\u001b[1;32m      6\u001b[0m \u001b[0;34m\u001b[0m\u001b[0m\n\u001b[1;32m      7\u001b[0m \u001b[0;32mwhile\u001b[0m \u001b[0mans\u001b[0m \u001b[0;34m!=\u001b[0m \u001b[0mguess_number\u001b[0m\u001b[0;34m:\u001b[0m\u001b[0;34m\u001b[0m\u001b[0;34m\u001b[0m\u001b[0m\n\u001b[0;32m----> 8\u001b[0;31m     \u001b[0;32mif\u001b[0m \u001b[0mans\u001b[0m\u001b[0;34m>\u001b[0m\u001b[0mguess_number\u001b[0m\u001b[0;34m:\u001b[0m\u001b[0;34m\u001b[0m\u001b[0;34m\u001b[0m\u001b[0m\n\u001b[0m\u001b[1;32m      9\u001b[0m         \u001b[0mprint\u001b[0m\u001b[0;34m(\u001b[0m\u001b[0;34m\"더 작은 숫자를 입력하세요\"\u001b[0m\u001b[0;34m)\u001b[0m\u001b[0;34m\u001b[0m\u001b[0;34m\u001b[0m\u001b[0m\n\u001b[1;32m     10\u001b[0m         \u001b[0mint\u001b[0m\u001b[0;34m(\u001b[0m\u001b[0minput\u001b[0m\u001b[0;34m(\u001b[0m\u001b[0;34m)\u001b[0m\u001b[0;34m)\u001b[0m\u001b[0;34m\u001b[0m\u001b[0;34m\u001b[0m\u001b[0m\n",
      "\u001b[0;31mKeyboardInterrupt\u001b[0m: "
     ]
    }
   ],
   "source": [
    "import random\n",
    "\n",
    "guess_number = random.randint(1, 100)\n",
    "\n",
    "ans = int(input(\"숫자를 맞춰 보세요. (1 ~ 100)\"))\n",
    "\n",
    "while ans != guess_number:\n",
    "    if ans>guess_number:\n",
    "        print(\"더 작은 숫자를 입력하세요\")\n",
    "        int(input())\n",
    "   \n",
    "#     elif ans<guess_number:\n",
    "#         print('더 큰 숫자를 입력하세요.')\n",
    "#         int(input())\n",
    "#     else:\n",
    "#         print('숫자가 아닙니다.')\n",
    "#         int(input())\n",
    "# if ans==guess_number:\n",
    "#     print('정답입니다!')\n",
    "    "
   ]
  },
  {
   "cell_type": "code",
   "execution_count": 86,
   "metadata": {},
   "outputs": [
    {
     "name": "stdout",
     "output_type": "stream",
     "text": [
      "숫자를 맞춰 보세요. (1 ~ 100)\n",
      "50\n",
      "숫자가 너무 큽니다.\n",
      "30\n",
      "숫자가 너무 큽니다.\n",
      "20\n",
      "숫자가 너무 큽니다.\n",
      "10\n",
      "숫자가 너무 작습니다.\n",
      "14\n",
      "숫자가 너무 작습니다.\n",
      "17\n",
      "숫자가 너무 작습니다.\n",
      "18\n",
      "숫자가 너무 작습니다.\n",
      "19\n",
      "정답입니다. 입력한 숫자는 19 입니다.\n"
     ]
    }
   ],
   "source": [
    "import random\n",
    "\n",
    "guess_number = random.randint(1, 100)\n",
    "print(\"숫자를 맞춰 보세요. (1 ~ 100)\")\n",
    "ans = int(input())\n",
    "while (ans != guess_number):\n",
    "    if ans > guess_number:\n",
    "        print(\"숫자가 너무 큽니다.\")\n",
    "    else:\n",
    "        print(\"숫자가 너무 작습니다.\")\n",
    "    ans = int(input())\n",
    "else:\n",
    "    print(\"정답입니다.\", \"입력한 숫자는\", ans,\"입니다.\")"
   ]
  },
  {
   "cell_type": "code",
   "execution_count": 91,
   "metadata": {},
   "outputs": [
    {
     "name": "stdout",
     "output_type": "stream",
     "text": [
      "구구단 몇 단을 계산할까요(1~9)?\n",
      "3\n"
     ]
    },
    {
     "ename": "ValueError",
     "evalue": "unsupported format character '?' (0xb2e8) at index 3",
     "output_type": "error",
     "traceback": [
      "\u001b[0;31m---------------------------------------------------------------------------\u001b[0m",
      "\u001b[0;31mValueError\u001b[0m                                Traceback (most recent call last)",
      "\u001b[0;32m<ipython-input-91-1c808f944f77>\u001b[0m in \u001b[0;36m<module>\u001b[0;34m\u001b[0m\n\u001b[1;32m      4\u001b[0m \u001b[0mres\u001b[0m \u001b[0;34m=\u001b[0m \u001b[0;36m0\u001b[0m\u001b[0;34m\u001b[0m\u001b[0;34m\u001b[0m\u001b[0m\n\u001b[1;32m      5\u001b[0m \u001b[0;32mfor\u001b[0m \u001b[0mi\u001b[0m \u001b[0;32min\u001b[0m \u001b[0mrange\u001b[0m\u001b[0;34m(\u001b[0m\u001b[0;36m2\u001b[0m\u001b[0;34m,\u001b[0m \u001b[0;36m10\u001b[0m\u001b[0;34m)\u001b[0m\u001b[0;34m:\u001b[0m\u001b[0;34m\u001b[0m\u001b[0;34m\u001b[0m\u001b[0m\n\u001b[0;32m----> 6\u001b[0;31m     \u001b[0mprint\u001b[0m\u001b[0;34m(\u001b[0m\u001b[0;34m\"# %단 #\"\u001b[0m\u001b[0;34m%\u001b[0m\u001b[0mi\u001b[0m\u001b[0;34m)\u001b[0m\u001b[0;34m\u001b[0m\u001b[0;34m\u001b[0m\u001b[0m\n\u001b[0m\u001b[1;32m      7\u001b[0m     \u001b[0;32mfor\u001b[0m \u001b[0mk\u001b[0m \u001b[0;32min\u001b[0m \u001b[0mrange\u001b[0m\u001b[0;34m(\u001b[0m\u001b[0;36m1\u001b[0m\u001b[0;34m,\u001b[0m \u001b[0;36m10\u001b[0m\u001b[0;34m)\u001b[0m\u001b[0;34m:\u001b[0m\u001b[0;34m\u001b[0m\u001b[0;34m\u001b[0m\u001b[0m\n\u001b[1;32m      8\u001b[0m         \u001b[0mprint\u001b[0m\u001b[0;34m(\u001b[0m\u001b[0;34m\"%d X %d = %d\"\u001b[0m\u001b[0;34m%\u001b[0m\u001b[0;34m(\u001b[0m\u001b[0mi\u001b[0m\u001b[0;34m,\u001b[0m \u001b[0mk\u001b[0m\u001b[0;34m,\u001b[0m\u001b[0;34m(\u001b[0m\u001b[0mi\u001b[0m\u001b[0;34m*\u001b[0m\u001b[0mk\u001b[0m\u001b[0;34m)\u001b[0m\u001b[0;34m)\u001b[0m\u001b[0;34m)\u001b[0m\u001b[0;34m\u001b[0m\u001b[0;34m\u001b[0m\u001b[0m\n",
      "\u001b[0;31mValueError\u001b[0m: unsupported format character '?' (0xb2e8) at index 3"
     ]
    }
   ],
   "source": [
    "print(\"구구단 몇 단을 계산할까요(1~9)?\")\n",
    "gugu = int(input())\n",
    "dan = 1\n",
    "res = 0\n",
    "for i in range(2, 10):\n",
    "    print(\"# %단 #\"%i)\n",
    "    for k in range(1, 10):\n",
    "        print(\"%d X %d = %d\"%(i, k,(i*k)))"
   ]
  },
  {
   "cell_type": "code",
   "execution_count": 92,
   "metadata": {},
   "outputs": [
    {
     "name": "stdout",
     "output_type": "stream",
     "text": [
      "구구단 몇 단을 계산할까요(1~9)?\n",
      "9\n",
      "구구단 9단을 계산합니다.\n",
      "9 x 1 = 9\n",
      "9 x 2 = 18\n",
      "9 x 3 = 27\n",
      "9 x 4 = 36\n",
      "9 x 5 = 45\n",
      "9 x 6 = 54\n",
      "9 x 7 = 63\n",
      "9 x 8 = 72\n",
      "9 x 9 = 81\n",
      "구구단 몇 단을 계산할까요(1~9)\n",
      "12\n",
      "잘못 입력했습니다 1부터 9 사이 숫자를 입력하세요.\n",
      "3\n",
      "구구단 3단을 계산합니다.\n",
      "3 x 1 = 3\n",
      "3 x 2 = 6\n",
      "3 x 3 = 9\n",
      "3 x 4 = 12\n",
      "3 x 5 = 15\n",
      "3 x 6 = 18\n",
      "3 x 7 = 21\n",
      "3 x 8 = 24\n",
      "3 x 9 = 27\n",
      "구구단 몇 단을 계산할까요(1~9)\n",
      "0\n",
      "구구단 게임을 종료합니다.\n"
     ]
    }
   ],
   "source": [
    "print(\"구구단 몇 단을 계산할까요(1~9)?\")\n",
    "x = 1\n",
    "while(x is not 0):\n",
    "    x = int(input())\n",
    "    if x == 0: \n",
    "        break\n",
    "    if not(1 <= x <= 9):\n",
    "        print('잘못 입력했습니다', \"1부터 9 사이 숫자를 입력하세요.\")\n",
    "        continue\n",
    "    else:\n",
    "        print(\"구구단 \"+str(x)+\"단을 계산합니다.\")\n",
    "        for i in range(1, 10):\n",
    "            print(str(x)+' x '+str(i)+ \" = \" + str(x*i))\n",
    "        print(\"구구단 몇 단을 계산할까요(1~9)\")\n",
    "print(\"구구단 게임을 종료합니다.\")\n",
    "    "
   ]
  },
  {
   "cell_type": "code",
   "execution_count": null,
   "metadata": {},
   "outputs": [],
   "source": []
  },
  {
   "cell_type": "code",
   "execution_count": 95,
   "metadata": {},
   "outputs": [
    {
     "name": "stdout",
     "output_type": "stream",
     "text": [
      "문자열을 입력하세요 : f\n"
     ]
    },
    {
     "ename": "AttributeError",
     "evalue": "'str' object has no attribute 'swap'",
     "output_type": "error",
     "traceback": [
      "\u001b[0;31m---------------------------------------------------------------------------\u001b[0m",
      "\u001b[0;31mAttributeError\u001b[0m                            Traceback (most recent call last)",
      "\u001b[0;32m<ipython-input-95-f6dc467bee98>\u001b[0m in \u001b[0;36m<module>\u001b[0;34m\u001b[0m\n\u001b[1;32m      2\u001b[0m \u001b[0;32mwhile\u001b[0m\u001b[0;34m(\u001b[0m\u001b[0mspell\u001b[0m \u001b[0;32mis\u001b[0m \u001b[0;32mnot\u001b[0m \u001b[0mint\u001b[0m\u001b[0;34m)\u001b[0m\u001b[0;34m:\u001b[0m\u001b[0;34m\u001b[0m\u001b[0;34m\u001b[0m\u001b[0m\n\u001b[1;32m      3\u001b[0m     \u001b[0;32mif\u001b[0m \u001b[0mspell\u001b[0m\u001b[0;34m.\u001b[0m\u001b[0mislower\u001b[0m\u001b[0;34m:\u001b[0m\u001b[0;34m\u001b[0m\u001b[0;34m\u001b[0m\u001b[0m\n\u001b[0;32m----> 4\u001b[0;31m         \u001b[0mprint\u001b[0m\u001b[0;34m(\u001b[0m\u001b[0mspell\u001b[0m\u001b[0;34m.\u001b[0m\u001b[0mswap\u001b[0m\u001b[0;34m(\u001b[0m\u001b[0;34m)\u001b[0m\u001b[0;34m)\u001b[0m\u001b[0;34m\u001b[0m\u001b[0;34m\u001b[0m\u001b[0m\n\u001b[0m\u001b[1;32m      5\u001b[0m     \u001b[0;32melse\u001b[0m\u001b[0;34m:\u001b[0m\u001b[0;34m\u001b[0m\u001b[0;34m\u001b[0m\u001b[0m\n\u001b[1;32m      6\u001b[0m         \u001b[0mprint\u001b[0m\u001b[0;34m(\u001b[0m\u001b[0mspell\u001b[0m\u001b[0;34m.\u001b[0m\u001b[0mswap\u001b[0m\u001b[0;34m)\u001b[0m\u001b[0;34m\u001b[0m\u001b[0;34m\u001b[0m\u001b[0m\n",
      "\u001b[0;31mAttributeError\u001b[0m: 'str' object has no attribute 'swap'"
     ]
    }
   ],
   "source": [
    "spell = input(\"문자열을 입력하세요 : \")\n",
    "ㅁ\n",
    "while(spell is not int):\n",
    "    if spell.islower:\n",
    "        print(spell.swap())\n",
    "    else:\n",
    "        print(spell.swap)"
   ]
  },
  {
   "cell_type": "code",
   "execution_count": 97,
   "metadata": {},
   "outputs": [
    {
     "name": "stdout",
     "output_type": "stream",
     "text": [
      "문자열을 입력하세요 : f\n",
      "대소문자 변환 결과 --> F\n"
     ]
    }
   ],
   "source": [
    "inStr, outStr=\"\", \"\"\n",
    "ch = \"\"\n",
    "count, i = 0, 0\n",
    "\n",
    "inStr = input(\"문자열을 입력하세요 : \")\n",
    "count = len(inStr)#for 문을 돌리기 때문에 길이를 알아야 한다.\n",
    "\n",
    "for i in range(0, count):\n",
    "    ch = inStr[i]\n",
    "    if ( ord(ch) >= ord(\"A\") and ord(ch) <= ord(\"Z\")):\n",
    "        newCh = ch.lower()\n",
    "    elif (ord(ch) >= ord(\"a\") and ord(ch) <= ord(\"z\")):\n",
    "        newCh = ch.upper()\n",
    "    else:\n",
    "        newCh = ch\n",
    "        \n",
    "    outStr += newCh\n",
    "    \n",
    "print(\"대소문자 변환 결과 --> %s\" % outStr)"
   ]
  },
  {
   "cell_type": "code",
   "execution_count": null,
   "metadata": {},
   "outputs": [],
   "source": []
  }
 ],
 "metadata": {
  "kernelspec": {
   "display_name": "Python 3",
   "language": "python",
   "name": "python3"
  },
  "language_info": {
   "codemirror_mode": {
    "name": "ipython",
    "version": 3
   },
   "file_extension": ".py",
   "mimetype": "text/x-python",
   "name": "python",
   "nbconvert_exporter": "python",
   "pygments_lexer": "ipython3",
   "version": "3.7.6"
  }
 },
 "nbformat": 4,
 "nbformat_minor": 4
}
