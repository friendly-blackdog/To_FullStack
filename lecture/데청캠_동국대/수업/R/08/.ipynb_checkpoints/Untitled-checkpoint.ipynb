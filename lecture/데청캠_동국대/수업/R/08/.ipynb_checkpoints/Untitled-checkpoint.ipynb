{
 "cells": [
  {
   "cell_type": "markdown",
   "metadata": {},
   "source": [
    "계산기 무한 반복"
   ]
  },
  {
   "cell_type": "code",
   "execution_count": 13,
   "metadata": {
    "collapsed": true
   },
   "outputs": [
    {
     "name": "stdout",
     "output_type": "stream",
     "text": [
      "계산할 첫 번째 수 입력: 22\n",
      "계산할 두 번째 수 입력: 33\n",
      "게산할 연산자를 입력: *\n",
      " 22*33=726 입니다. \n",
      "\n",
      "계산할 첫 번째 수 입력: 10\n",
      "계산할 두 번째 수 입력: 4\n",
      "게산할 연산자를 입력: %\n",
      "10 % 4 = 2 입니다. \n",
      "\n"
     ]
    },
    {
     "ename": "KeyboardInterrupt",
     "evalue": "",
     "output_type": "error",
     "traceback": [
      "\u001b[0;31m---------------------------------------------------------------------------\u001b[0m",
      "\u001b[0;31mKeyboardInterrupt\u001b[0m                         Traceback (most recent call last)",
      "\u001b[0;32m/opt/anaconda3/lib/python3.7/site-packages/ipykernel/kernelbase.py\u001b[0m in \u001b[0;36m_input_request\u001b[0;34m(self, prompt, ident, parent, password)\u001b[0m\n\u001b[1;32m    883\u001b[0m             \u001b[0;32mtry\u001b[0m\u001b[0;34m:\u001b[0m\u001b[0;34m\u001b[0m\u001b[0;34m\u001b[0m\u001b[0m\n\u001b[0;32m--> 884\u001b[0;31m                 \u001b[0mident\u001b[0m\u001b[0;34m,\u001b[0m \u001b[0mreply\u001b[0m \u001b[0;34m=\u001b[0m \u001b[0mself\u001b[0m\u001b[0;34m.\u001b[0m\u001b[0msession\u001b[0m\u001b[0;34m.\u001b[0m\u001b[0mrecv\u001b[0m\u001b[0;34m(\u001b[0m\u001b[0mself\u001b[0m\u001b[0;34m.\u001b[0m\u001b[0mstdin_socket\u001b[0m\u001b[0;34m,\u001b[0m \u001b[0;36m0\u001b[0m\u001b[0;34m)\u001b[0m\u001b[0;34m\u001b[0m\u001b[0;34m\u001b[0m\u001b[0m\n\u001b[0m\u001b[1;32m    885\u001b[0m             \u001b[0;32mexcept\u001b[0m \u001b[0mException\u001b[0m\u001b[0;34m:\u001b[0m\u001b[0;34m\u001b[0m\u001b[0;34m\u001b[0m\u001b[0m\n",
      "\u001b[0;32m/opt/anaconda3/lib/python3.7/site-packages/jupyter_client/session.py\u001b[0m in \u001b[0;36mrecv\u001b[0;34m(self, socket, mode, content, copy)\u001b[0m\n\u001b[1;32m    802\u001b[0m         \u001b[0;32mtry\u001b[0m\u001b[0;34m:\u001b[0m\u001b[0;34m\u001b[0m\u001b[0;34m\u001b[0m\u001b[0m\n\u001b[0;32m--> 803\u001b[0;31m             \u001b[0mmsg_list\u001b[0m \u001b[0;34m=\u001b[0m \u001b[0msocket\u001b[0m\u001b[0;34m.\u001b[0m\u001b[0mrecv_multipart\u001b[0m\u001b[0;34m(\u001b[0m\u001b[0mmode\u001b[0m\u001b[0;34m,\u001b[0m \u001b[0mcopy\u001b[0m\u001b[0;34m=\u001b[0m\u001b[0mcopy\u001b[0m\u001b[0;34m)\u001b[0m\u001b[0;34m\u001b[0m\u001b[0;34m\u001b[0m\u001b[0m\n\u001b[0m\u001b[1;32m    804\u001b[0m         \u001b[0;32mexcept\u001b[0m \u001b[0mzmq\u001b[0m\u001b[0;34m.\u001b[0m\u001b[0mZMQError\u001b[0m \u001b[0;32mas\u001b[0m \u001b[0me\u001b[0m\u001b[0;34m:\u001b[0m\u001b[0;34m\u001b[0m\u001b[0;34m\u001b[0m\u001b[0m\n",
      "\u001b[0;32m/opt/anaconda3/lib/python3.7/site-packages/zmq/sugar/socket.py\u001b[0m in \u001b[0;36mrecv_multipart\u001b[0;34m(self, flags, copy, track)\u001b[0m\n\u001b[1;32m    474\u001b[0m         \"\"\"\n\u001b[0;32m--> 475\u001b[0;31m         \u001b[0mparts\u001b[0m \u001b[0;34m=\u001b[0m \u001b[0;34m[\u001b[0m\u001b[0mself\u001b[0m\u001b[0;34m.\u001b[0m\u001b[0mrecv\u001b[0m\u001b[0;34m(\u001b[0m\u001b[0mflags\u001b[0m\u001b[0;34m,\u001b[0m \u001b[0mcopy\u001b[0m\u001b[0;34m=\u001b[0m\u001b[0mcopy\u001b[0m\u001b[0;34m,\u001b[0m \u001b[0mtrack\u001b[0m\u001b[0;34m=\u001b[0m\u001b[0mtrack\u001b[0m\u001b[0;34m)\u001b[0m\u001b[0;34m]\u001b[0m\u001b[0;34m\u001b[0m\u001b[0;34m\u001b[0m\u001b[0m\n\u001b[0m\u001b[1;32m    476\u001b[0m         \u001b[0;31m# have first part already, only loop while more to receive\u001b[0m\u001b[0;34m\u001b[0m\u001b[0;34m\u001b[0m\u001b[0;34m\u001b[0m\u001b[0m\n",
      "\u001b[0;32mzmq/backend/cython/socket.pyx\u001b[0m in \u001b[0;36mzmq.backend.cython.socket.Socket.recv\u001b[0;34m()\u001b[0m\n",
      "\u001b[0;32mzmq/backend/cython/socket.pyx\u001b[0m in \u001b[0;36mzmq.backend.cython.socket.Socket.recv\u001b[0;34m()\u001b[0m\n",
      "\u001b[0;32mzmq/backend/cython/socket.pyx\u001b[0m in \u001b[0;36mzmq.backend.cython.socket._recv_copy\u001b[0;34m()\u001b[0m\n",
      "\u001b[0;32m/opt/anaconda3/lib/python3.7/site-packages/zmq/backend/cython/checkrc.pxd\u001b[0m in \u001b[0;36mzmq.backend.cython.checkrc._check_rc\u001b[0;34m()\u001b[0m\n",
      "\u001b[0;31mKeyboardInterrupt\u001b[0m: ",
      "\nDuring handling of the above exception, another exception occurred:\n",
      "\u001b[0;31mKeyboardInterrupt\u001b[0m                         Traceback (most recent call last)",
      "\u001b[0;32m<ipython-input-13-f7cf6439da63>\u001b[0m in \u001b[0;36m<module>\u001b[0;34m\u001b[0m\n\u001b[1;32m      1\u001b[0m \u001b[0;32mwhile\u001b[0m \u001b[0;32mTrue\u001b[0m\u001b[0;34m:\u001b[0m\u001b[0;34m\u001b[0m\u001b[0;34m\u001b[0m\u001b[0m\n\u001b[0;32m----> 2\u001b[0;31m     \u001b[0ma\u001b[0m\u001b[0;34m=\u001b[0m\u001b[0mint\u001b[0m\u001b[0;34m(\u001b[0m\u001b[0minput\u001b[0m\u001b[0;34m(\u001b[0m\u001b[0;34m\"계산할 첫 번째 수 입력: \"\u001b[0m\u001b[0;34m)\u001b[0m\u001b[0;34m)\u001b[0m\u001b[0;34m\u001b[0m\u001b[0;34m\u001b[0m\u001b[0m\n\u001b[0m\u001b[1;32m      3\u001b[0m     \u001b[0mb\u001b[0m\u001b[0;34m=\u001b[0m\u001b[0mint\u001b[0m\u001b[0;34m(\u001b[0m\u001b[0minput\u001b[0m\u001b[0;34m(\u001b[0m\u001b[0;34m\"계산할 두 번째 수 입력: \"\u001b[0m\u001b[0;34m)\u001b[0m\u001b[0;34m)\u001b[0m\u001b[0;34m\u001b[0m\u001b[0;34m\u001b[0m\u001b[0m\n\u001b[1;32m      4\u001b[0m     \u001b[0mc\u001b[0m\u001b[0;34m=\u001b[0m\u001b[0minput\u001b[0m\u001b[0;34m(\u001b[0m\u001b[0;34m\"게산할 연산자를 입력: \"\u001b[0m\u001b[0;34m)\u001b[0m\u001b[0;34m\u001b[0m\u001b[0;34m\u001b[0m\u001b[0m\n\u001b[1;32m      5\u001b[0m     \u001b[0;32mif\u001b[0m \u001b[0mc\u001b[0m\u001b[0;34m==\u001b[0m\u001b[0;34m\"+\"\u001b[0m \u001b[0;34m:\u001b[0m\u001b[0;34m\u001b[0m\u001b[0;34m\u001b[0m\u001b[0m\n",
      "\u001b[0;32m/opt/anaconda3/lib/python3.7/site-packages/ipykernel/kernelbase.py\u001b[0m in \u001b[0;36mraw_input\u001b[0;34m(self, prompt)\u001b[0m\n\u001b[1;32m    857\u001b[0m             \u001b[0mself\u001b[0m\u001b[0;34m.\u001b[0m\u001b[0m_parent_ident\u001b[0m\u001b[0;34m,\u001b[0m\u001b[0;34m\u001b[0m\u001b[0;34m\u001b[0m\u001b[0m\n\u001b[1;32m    858\u001b[0m             \u001b[0mself\u001b[0m\u001b[0;34m.\u001b[0m\u001b[0m_parent_header\u001b[0m\u001b[0;34m,\u001b[0m\u001b[0;34m\u001b[0m\u001b[0;34m\u001b[0m\u001b[0m\n\u001b[0;32m--> 859\u001b[0;31m             \u001b[0mpassword\u001b[0m\u001b[0;34m=\u001b[0m\u001b[0;32mFalse\u001b[0m\u001b[0;34m,\u001b[0m\u001b[0;34m\u001b[0m\u001b[0;34m\u001b[0m\u001b[0m\n\u001b[0m\u001b[1;32m    860\u001b[0m         )\n\u001b[1;32m    861\u001b[0m \u001b[0;34m\u001b[0m\u001b[0m\n",
      "\u001b[0;32m/opt/anaconda3/lib/python3.7/site-packages/ipykernel/kernelbase.py\u001b[0m in \u001b[0;36m_input_request\u001b[0;34m(self, prompt, ident, parent, password)\u001b[0m\n\u001b[1;32m    887\u001b[0m             \u001b[0;32mexcept\u001b[0m \u001b[0mKeyboardInterrupt\u001b[0m\u001b[0;34m:\u001b[0m\u001b[0;34m\u001b[0m\u001b[0;34m\u001b[0m\u001b[0m\n\u001b[1;32m    888\u001b[0m                 \u001b[0;31m# re-raise KeyboardInterrupt, to truncate traceback\u001b[0m\u001b[0;34m\u001b[0m\u001b[0;34m\u001b[0m\u001b[0;34m\u001b[0m\u001b[0m\n\u001b[0;32m--> 889\u001b[0;31m                 \u001b[0;32mraise\u001b[0m \u001b[0mKeyboardInterrupt\u001b[0m\u001b[0;34m\u001b[0m\u001b[0;34m\u001b[0m\u001b[0m\n\u001b[0m\u001b[1;32m    890\u001b[0m             \u001b[0;32melse\u001b[0m\u001b[0;34m:\u001b[0m\u001b[0;34m\u001b[0m\u001b[0;34m\u001b[0m\u001b[0m\n\u001b[1;32m    891\u001b[0m                 \u001b[0;32mbreak\u001b[0m\u001b[0;34m\u001b[0m\u001b[0;34m\u001b[0m\u001b[0m\n",
      "\u001b[0;31mKeyboardInterrupt\u001b[0m: "
     ]
    }
   ],
   "source": [
    "c=\"\"\n",
    "a, b=0,0\n",
    "\n",
    "while True:\n",
    "    a=int(input(\"계산할 첫 번째 수 입력: \"))\n",
    "    b=int(input(\"계산할 두 번째 수 입력: \"))\n",
    "    c=input(\"게산할 연산자를 입력: \")\n",
    "    \n",
    "    if c==\"+\" :\n",
    "        print(\" %d+%d=%d 입니다. \\n\" % (a, b, a+b))\n",
    "    elif c==\"-\":\n",
    "        print(\" %d-%d=%d 입니다. \\n\" % (a, b, a-b))\n",
    "    elif c==\"/\":\n",
    "        print(\" %d/%d=%d 입니다. \\n\" % (a, b, a/b))\n",
    "    elif c==\"*\":\n",
    "        print(\" %d*%d=%d 입니다. \\n\" % (a, b, a*b))\n",
    "    elif c==\"%\":\n",
    "        print(\"%d %% %d = %d 입니다. \\n\" % (a, b, a%b))\n",
    "    elif c==\"**\":\n",
    "        print(\"%d ** %d = %d 입니다. \\n\" % (a, b, a**b))\n",
    "    else:\n",
    "        print(\"알 수 없는 연산자입니다.\")\n",
    "    "
   ]
  },
  {
   "cell_type": "code",
   "execution_count": null,
   "metadata": {},
   "outputs": [],
   "source": [
    "for i in range(1, 100):\n",
    "    print(\"for문을 %d번 실행했습니다.\"%i)\n",
    "    break"
   ]
  },
  {
   "cell_type": "code",
   "execution_count": 17,
   "metadata": {},
   "outputs": [
    {
     "name": "stdout",
     "output_type": "stream",
     "text": [
      "계산을 그만하고 싶을 때 첫 번째 수로 0을 입력하세요.\n",
      "\n",
      "----------------\n",
      "더할 첫 번째 수 입력: 1\n",
      "더할 두 번째 수 입력: 2\n",
      "1+2=3 \n",
      "\n",
      "더할 첫 번째 수 입력: 3\n",
      "더할 두 번째 수 입력: 4\n",
      "3+4=7 \n",
      "\n",
      "더할 첫 번째 수 입력: 5\n",
      "더할 두 번째 수 입력: 6\n",
      "5+6=11 \n",
      "\n",
      "더할 첫 번째 수 입력: 0\n",
      "0을 입력해서 반복문을 탈출했습니다.\n"
     ]
    }
   ],
   "source": [
    "hap=0\n",
    "a, b=0, 0\n",
    "\n",
    "print(\"계산을 그만하고 싶을 때 첫 번째 수로 0을 입력하세요.\\n\")\n",
    "print(\"----------------\")\n",
    "while True:\n",
    "    a=int(input(\"더할 첫 번째 수 입력: \"))\n",
    "    if a==0:\n",
    "        break\n",
    "    b=int(input(\"더할 두 번째 수 입력: \"))\n",
    "    hap=a+b\n",
    "    print(\"%d+%d=%d \\n\"%(a,b,hap))\n",
    "\n",
    "print(\"0을 입력해서 반복문을 탈출했습니다.\")"
   ]
  },
  {
   "cell_type": "code",
   "execution_count": 18,
   "metadata": {},
   "outputs": [
    {
     "name": "stdout",
     "output_type": "stream",
     "text": [
      "1~100의 합에서 최초로 1000이 넘는 위치: 45\n"
     ]
    }
   ],
   "source": [
    "hap, i =0, 0\n",
    "\n",
    "for i in range(1,101):\n",
    "    hap +=i\n",
    "    \n",
    "    if hap>=1000:\n",
    "        break\n",
    "        \n",
    "print(\"1~100의 합에서 최초로 1000이 넘는 위치: %d\"%i)"
   ]
  },
  {
   "cell_type": "code",
   "execution_count": 19,
   "metadata": {},
   "outputs": [
    {
     "name": "stdout",
     "output_type": "stream",
     "text": [
      "1~100의 합계(3의 배수 제외): 3367\n"
     ]
    }
   ],
   "source": [
    "hap, i=0, 0\n",
    "\n",
    "for i in range(1,101):\n",
    "    if i%3==0: #3의 배수는 빼고 더하기\n",
    "        continue\n",
    "        \n",
    "    hap += i\n",
    "    \n",
    "print(\"1~100의 합계(3의 배수 제외): %d\" % hap)"
   ]
  },
  {
   "cell_type": "code",
   "execution_count": 22,
   "metadata": {},
   "outputs": [
    {
     "name": "stdout",
     "output_type": "stream",
     "text": [
      "1~100 합계(9의 배수 제외): 4456\n"
     ]
    }
   ],
   "source": [
    "hap, i = 0,0\n",
    "for i in range(1,101):\n",
    "    if i%9==0:\n",
    "        continue\n",
    "    \n",
    "    hap += i\n",
    "\n",
    "print(\"1~100 합계(9의 배수 제외): %d\"%hap)"
   ]
  },
  {
   "cell_type": "code",
   "execution_count": 23,
   "metadata": {},
   "outputs": [
    {
     "name": "stdout",
     "output_type": "stream",
     "text": [
      "1~100 합계(3의 배수만: 1683\n"
     ]
    }
   ],
   "source": [
    "hap, i =0, 0\n",
    "for i in range(1,101):\n",
    "    if i%3==0:\n",
    "        hap+=i\n",
    "    else:\n",
    "        continue\n",
    "print(\"1~100 합계(3의 배수만: %d\"%hap)"
   ]
  },
  {
   "cell_type": "code",
   "execution_count": 1,
   "metadata": {},
   "outputs": [
    {
     "name": "stdout",
     "output_type": "stream",
     "text": [
      "1부터 100 사이의 모든3의 배수의 합은 1683입니다.\n"
     ]
    }
   ],
   "source": [
    "sum=0\n",
    "number=1\n",
    "\n",
    "while number<=100:\n",
    "    if number %3 ==0:\n",
    "        sum=sum+number\n",
    "    number=number+1\n",
    "print(\"1부터 100 사이의 모든3의 배수의 합은 %d입니다.\" %sum)"
   ]
  },
  {
   "cell_type": "code",
   "execution_count": null,
   "metadata": {},
   "outputs": [],
   "source": [
    "hap = 0\n",
    "i = 1\n",
    "while i<100:\n",
    "    if i%3==0:\n",
    "        hap+=i\n",
    "        continue\n",
    "print(\"1부터 1-- %d\"%i)"
   ]
  },
  {
   "cell_type": "code",
   "execution_count": 15,
   "metadata": {},
   "outputs": [
    {
     "name": "stdout",
     "output_type": "stream",
     "text": [
      "0 -> -17\n",
      "10 -> -12\n",
      "20 -> -6\n",
      "30 -> -1\n",
      "40 -> 4\n",
      "50 -> 10\n",
      "60 -> 15\n",
      "70 -> 21\n",
      "80 -> 26\n",
      "90 -> 32\n",
      "100 -> 37\n"
     ]
    }
   ],
   "source": [
    "for f_temp in range(0, 100+1, 10):\n",
    "    c_temp=(f_temp-32)*5/9\n",
    "    print(\"%d -> %d\" %(f_temp, c_temp))"
   ]
  },
  {
   "cell_type": "code",
   "execution_count": 9,
   "metadata": {},
   "outputs": [
    {
     "name": "stdout",
     "output_type": "stream",
     "text": [
      "0 -> -17.78\n",
      "10 -> -12.22\n",
      "20 -> -6.67\n",
      "30 -> -1.11\n",
      "40 -> 4.44\n",
      "50 -> 10.0\n",
      "60 -> 15.56\n",
      "70 -> 21.11\n",
      "80 -> 26.67\n",
      "90 -> 32.22\n",
      "100 -> 37.78\n"
     ]
    }
   ],
   "source": [
    "for t in range(0, 100+1, 10):\n",
    "    c=(t-32.0) * 5.0/9.0\n",
    "    print(t, \"->\", round(c, 2))"
   ]
  },
  {
   "cell_type": "markdown",
   "metadata": {},
   "source": [
    "사용자가 입력한 정수의 합을 계산하는 프로그램을 작성하자. 사용자가 0을 입력하기 전까지 정수를 계속하여 읽도록 한다."
   ]
  },
  {
   "cell_type": "code",
   "execution_count": 26,
   "metadata": {},
   "outputs": [
    {
     "name": "stdout",
     "output_type": "stream",
     "text": [
      "정수를 입력하시오: 1\n",
      "정수를 입력하시오: 2\n",
      "정수를 입력하시오: 3\n",
      "정수를 입력하시오: 4\n",
      "정수를 입력하시오: 0\n",
      "10\n"
     ]
    }
   ],
   "source": [
    "sum=0\n",
    "while True:\n",
    "    x = int(input(\"정수를 입력하시오: \"))\n",
    "    if x == 0:\n",
    "        break\n",
    "    sum=sum+x\n",
    "print(\"합은 \",sum,\"입니다.\")\n",
    "    \n"
   ]
  },
  {
   "cell_type": "markdown",
   "metadata": {},
   "source": [
    "사용자에게 곱셈 퀴즈를 내고 답을 사용자로부터 받는 프로그램에서 사용자가 올바른 답을 입력할 때까지 반복하도록 수정하여 보자. while문 사용"
   ]
  },
  {
   "cell_type": "code",
   "execution_count": 31,
   "metadata": {},
   "outputs": [
    {
     "name": "stdout",
     "output_type": "stream",
     "text": [
      "3X9= 1\n",
      "오답입니다. \n",
      "\n",
      "3X9= 2\n",
      "오답입니다. \n",
      "\n",
      "3X9= 27\n",
      "정답입니다.\n"
     ]
    }
   ],
   "source": [
    "while True:\n",
    "    x = int(input(\"3X9= \"))\n",
    "    if x == 27:\n",
    "        break\n",
    "    else:\n",
    "        print(\"오답입니다. \\n\")\n",
    "print(\"정답입니다.\")"
   ]
  },
  {
   "cell_type": "code",
   "execution_count": 32,
   "metadata": {},
   "outputs": [
    {
     "name": "stdout",
     "output_type": "stream",
     "text": [
      "3X9는1\n",
      "3X9는3\n",
      "3X9는27\n",
      "맞았습니다.\n"
     ]
    }
   ],
   "source": [
    "ans=0\n",
    "while ans != 3*9:\n",
    "    ans = int(input(\"3X9는\"))\n",
    "print(\"맞았습니다.\")"
   ]
  },
  {
   "cell_type": "markdown",
   "metadata": {},
   "source": [
    "무한 루프 break\n",
    "\n",
    "while True:\n",
    "    반복문장\n",
    "    반복문장\n",
    "    if 조건:\n",
    "        break"
   ]
  },
  {
   "cell_type": "code",
   "execution_count": 36,
   "metadata": {},
   "outputs": [
    {
     "name": "stdout",
     "output_type": "stream",
     "text": [
      "신호등 색상을 입력하시오 red\n",
      "신호등 색상을 입력하시오 red\n",
      "신호등 색상을 입력하시오 orange\n",
      "신호등 색상을 입력하시오 blue\n",
      "전진!!\n"
     ]
    }
   ],
   "source": [
    "while True:\n",
    "    color = input(\"신호등 색상을 입력하시오 \")\n",
    "    if color==\"blue\":\n",
    "        break\n",
    "print(\"전진!!\")"
   ]
  },
  {
   "cell_type": "code",
   "execution_count": 39,
   "metadata": {},
   "outputs": [],
   "source": [
    "a=[]\n",
    "f=open(\"ss.txt\", \"r\", encoding='utf8')\n",
    "for i in range(10):\n",
    "    a.append(f.readline().split())\n",
    "    \n",
    "f.close()"
   ]
  },
  {
   "cell_type": "code",
   "execution_count": null,
   "metadata": {},
   "outputs": [],
   "source": []
  },
  {
   "cell_type": "markdown",
   "metadata": {},
   "source": [
    "# 함수 "
   ]
  },
  {
   "cell_type": "code",
   "execution_count": 41,
   "metadata": {},
   "outputs": [
    {
     "data": {
      "text/plain": [
       "10"
      ]
     },
     "execution_count": 41,
     "metadata": {},
     "output_type": "execute_result"
    }
   ],
   "source": [
    "aa=[10, 20, 30, 40, 50]\n",
    "aa[0]"
   ]
  },
  {
   "cell_type": "code",
   "execution_count": 42,
   "metadata": {},
   "outputs": [
    {
     "data": {
      "text/plain": [
       "[20, 30]"
      ]
     },
     "execution_count": 42,
     "metadata": {},
     "output_type": "execute_result"
    }
   ],
   "source": [
    "aa[1:3]"
   ]
  },
  {
   "cell_type": "code",
   "execution_count": 43,
   "metadata": {},
   "outputs": [
    {
     "data": {
      "text/plain": [
       "[40, 50]"
      ]
     },
     "execution_count": 43,
     "metadata": {},
     "output_type": "execute_result"
    }
   ],
   "source": [
    "aa[3:]"
   ]
  },
  {
   "cell_type": "code",
   "execution_count": null,
   "metadata": {},
   "outputs": [],
   "source": []
  },
  {
   "cell_type": "code",
   "execution_count": null,
   "metadata": {},
   "outputs": [],
   "source": []
  }
 ],
 "metadata": {
  "kernelspec": {
   "display_name": "Python 3",
   "language": "python",
   "name": "python3"
  },
  "language_info": {
   "codemirror_mode": {
    "name": "ipython",
    "version": 3
   },
   "file_extension": ".py",
   "mimetype": "text/x-python",
   "name": "python",
   "nbconvert_exporter": "python",
   "pygments_lexer": "ipython3",
   "version": "3.7.6"
  }
 },
 "nbformat": 4,
 "nbformat_minor": 4
}
