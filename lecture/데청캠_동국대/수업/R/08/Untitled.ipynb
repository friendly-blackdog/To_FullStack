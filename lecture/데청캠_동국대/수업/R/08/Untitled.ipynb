{
 "cells": [
  {
   "cell_type": "markdown",
   "metadata": {},
   "source": [
    "계산기 무한 반복"
   ]
  },
  {
   "cell_type": "code",
   "execution_count": 13,
   "metadata": {
    "collapsed": true
   },
   "outputs": [
    {
     "name": "stdout",
     "output_type": "stream",
     "text": [
      "계산할 첫 번째 수 입력: 22\n",
      "계산할 두 번째 수 입력: 33\n",
      "게산할 연산자를 입력: *\n",
      " 22*33=726 입니다. \n",
      "\n",
      "계산할 첫 번째 수 입력: 10\n",
      "계산할 두 번째 수 입력: 4\n",
      "게산할 연산자를 입력: %\n",
      "10 % 4 = 2 입니다. \n",
      "\n"
     ]
    },
    {
     "ename": "KeyboardInterrupt",
     "evalue": "",
     "output_type": "error",
     "traceback": [
      "\u001b[0;31m---------------------------------------------------------------------------\u001b[0m",
      "\u001b[0;31mKeyboardInterrupt\u001b[0m                         Traceback (most recent call last)",
      "\u001b[0;32m/opt/anaconda3/lib/python3.7/site-packages/ipykernel/kernelbase.py\u001b[0m in \u001b[0;36m_input_request\u001b[0;34m(self, prompt, ident, parent, password)\u001b[0m\n\u001b[1;32m    883\u001b[0m             \u001b[0;32mtry\u001b[0m\u001b[0;34m:\u001b[0m\u001b[0;34m\u001b[0m\u001b[0;34m\u001b[0m\u001b[0m\n\u001b[0;32m--> 884\u001b[0;31m                 \u001b[0mident\u001b[0m\u001b[0;34m,\u001b[0m \u001b[0mreply\u001b[0m \u001b[0;34m=\u001b[0m \u001b[0mself\u001b[0m\u001b[0;34m.\u001b[0m\u001b[0msession\u001b[0m\u001b[0;34m.\u001b[0m\u001b[0mrecv\u001b[0m\u001b[0;34m(\u001b[0m\u001b[0mself\u001b[0m\u001b[0;34m.\u001b[0m\u001b[0mstdin_socket\u001b[0m\u001b[0;34m,\u001b[0m \u001b[0;36m0\u001b[0m\u001b[0;34m)\u001b[0m\u001b[0;34m\u001b[0m\u001b[0;34m\u001b[0m\u001b[0m\n\u001b[0m\u001b[1;32m    885\u001b[0m             \u001b[0;32mexcept\u001b[0m \u001b[0mException\u001b[0m\u001b[0;34m:\u001b[0m\u001b[0;34m\u001b[0m\u001b[0;34m\u001b[0m\u001b[0m\n",
      "\u001b[0;32m/opt/anaconda3/lib/python3.7/site-packages/jupyter_client/session.py\u001b[0m in \u001b[0;36mrecv\u001b[0;34m(self, socket, mode, content, copy)\u001b[0m\n\u001b[1;32m    802\u001b[0m         \u001b[0;32mtry\u001b[0m\u001b[0;34m:\u001b[0m\u001b[0;34m\u001b[0m\u001b[0;34m\u001b[0m\u001b[0m\n\u001b[0;32m--> 803\u001b[0;31m             \u001b[0mmsg_list\u001b[0m \u001b[0;34m=\u001b[0m \u001b[0msocket\u001b[0m\u001b[0;34m.\u001b[0m\u001b[0mrecv_multipart\u001b[0m\u001b[0;34m(\u001b[0m\u001b[0mmode\u001b[0m\u001b[0;34m,\u001b[0m \u001b[0mcopy\u001b[0m\u001b[0;34m=\u001b[0m\u001b[0mcopy\u001b[0m\u001b[0;34m)\u001b[0m\u001b[0;34m\u001b[0m\u001b[0;34m\u001b[0m\u001b[0m\n\u001b[0m\u001b[1;32m    804\u001b[0m         \u001b[0;32mexcept\u001b[0m \u001b[0mzmq\u001b[0m\u001b[0;34m.\u001b[0m\u001b[0mZMQError\u001b[0m \u001b[0;32mas\u001b[0m \u001b[0me\u001b[0m\u001b[0;34m:\u001b[0m\u001b[0;34m\u001b[0m\u001b[0;34m\u001b[0m\u001b[0m\n",
      "\u001b[0;32m/opt/anaconda3/lib/python3.7/site-packages/zmq/sugar/socket.py\u001b[0m in \u001b[0;36mrecv_multipart\u001b[0;34m(self, flags, copy, track)\u001b[0m\n\u001b[1;32m    474\u001b[0m         \"\"\"\n\u001b[0;32m--> 475\u001b[0;31m         \u001b[0mparts\u001b[0m \u001b[0;34m=\u001b[0m \u001b[0;34m[\u001b[0m\u001b[0mself\u001b[0m\u001b[0;34m.\u001b[0m\u001b[0mrecv\u001b[0m\u001b[0;34m(\u001b[0m\u001b[0mflags\u001b[0m\u001b[0;34m,\u001b[0m \u001b[0mcopy\u001b[0m\u001b[0;34m=\u001b[0m\u001b[0mcopy\u001b[0m\u001b[0;34m,\u001b[0m \u001b[0mtrack\u001b[0m\u001b[0;34m=\u001b[0m\u001b[0mtrack\u001b[0m\u001b[0;34m)\u001b[0m\u001b[0;34m]\u001b[0m\u001b[0;34m\u001b[0m\u001b[0;34m\u001b[0m\u001b[0m\n\u001b[0m\u001b[1;32m    476\u001b[0m         \u001b[0;31m# have first part already, only loop while more to receive\u001b[0m\u001b[0;34m\u001b[0m\u001b[0;34m\u001b[0m\u001b[0;34m\u001b[0m\u001b[0m\n",
      "\u001b[0;32mzmq/backend/cython/socket.pyx\u001b[0m in \u001b[0;36mzmq.backend.cython.socket.Socket.recv\u001b[0;34m()\u001b[0m\n",
      "\u001b[0;32mzmq/backend/cython/socket.pyx\u001b[0m in \u001b[0;36mzmq.backend.cython.socket.Socket.recv\u001b[0;34m()\u001b[0m\n",
      "\u001b[0;32mzmq/backend/cython/socket.pyx\u001b[0m in \u001b[0;36mzmq.backend.cython.socket._recv_copy\u001b[0;34m()\u001b[0m\n",
      "\u001b[0;32m/opt/anaconda3/lib/python3.7/site-packages/zmq/backend/cython/checkrc.pxd\u001b[0m in \u001b[0;36mzmq.backend.cython.checkrc._check_rc\u001b[0;34m()\u001b[0m\n",
      "\u001b[0;31mKeyboardInterrupt\u001b[0m: ",
      "\nDuring handling of the above exception, another exception occurred:\n",
      "\u001b[0;31mKeyboardInterrupt\u001b[0m                         Traceback (most recent call last)",
      "\u001b[0;32m<ipython-input-13-f7cf6439da63>\u001b[0m in \u001b[0;36m<module>\u001b[0;34m\u001b[0m\n\u001b[1;32m      1\u001b[0m \u001b[0;32mwhile\u001b[0m \u001b[0;32mTrue\u001b[0m\u001b[0;34m:\u001b[0m\u001b[0;34m\u001b[0m\u001b[0;34m\u001b[0m\u001b[0m\n\u001b[0;32m----> 2\u001b[0;31m     \u001b[0ma\u001b[0m\u001b[0;34m=\u001b[0m\u001b[0mint\u001b[0m\u001b[0;34m(\u001b[0m\u001b[0minput\u001b[0m\u001b[0;34m(\u001b[0m\u001b[0;34m\"계산할 첫 번째 수 입력: \"\u001b[0m\u001b[0;34m)\u001b[0m\u001b[0;34m)\u001b[0m\u001b[0;34m\u001b[0m\u001b[0;34m\u001b[0m\u001b[0m\n\u001b[0m\u001b[1;32m      3\u001b[0m     \u001b[0mb\u001b[0m\u001b[0;34m=\u001b[0m\u001b[0mint\u001b[0m\u001b[0;34m(\u001b[0m\u001b[0minput\u001b[0m\u001b[0;34m(\u001b[0m\u001b[0;34m\"계산할 두 번째 수 입력: \"\u001b[0m\u001b[0;34m)\u001b[0m\u001b[0;34m)\u001b[0m\u001b[0;34m\u001b[0m\u001b[0;34m\u001b[0m\u001b[0m\n\u001b[1;32m      4\u001b[0m     \u001b[0mc\u001b[0m\u001b[0;34m=\u001b[0m\u001b[0minput\u001b[0m\u001b[0;34m(\u001b[0m\u001b[0;34m\"게산할 연산자를 입력: \"\u001b[0m\u001b[0;34m)\u001b[0m\u001b[0;34m\u001b[0m\u001b[0;34m\u001b[0m\u001b[0m\n\u001b[1;32m      5\u001b[0m     \u001b[0;32mif\u001b[0m \u001b[0mc\u001b[0m\u001b[0;34m==\u001b[0m\u001b[0;34m\"+\"\u001b[0m \u001b[0;34m:\u001b[0m\u001b[0;34m\u001b[0m\u001b[0;34m\u001b[0m\u001b[0m\n",
      "\u001b[0;32m/opt/anaconda3/lib/python3.7/site-packages/ipykernel/kernelbase.py\u001b[0m in \u001b[0;36mraw_input\u001b[0;34m(self, prompt)\u001b[0m\n\u001b[1;32m    857\u001b[0m             \u001b[0mself\u001b[0m\u001b[0;34m.\u001b[0m\u001b[0m_parent_ident\u001b[0m\u001b[0;34m,\u001b[0m\u001b[0;34m\u001b[0m\u001b[0;34m\u001b[0m\u001b[0m\n\u001b[1;32m    858\u001b[0m             \u001b[0mself\u001b[0m\u001b[0;34m.\u001b[0m\u001b[0m_parent_header\u001b[0m\u001b[0;34m,\u001b[0m\u001b[0;34m\u001b[0m\u001b[0;34m\u001b[0m\u001b[0m\n\u001b[0;32m--> 859\u001b[0;31m             \u001b[0mpassword\u001b[0m\u001b[0;34m=\u001b[0m\u001b[0;32mFalse\u001b[0m\u001b[0;34m,\u001b[0m\u001b[0;34m\u001b[0m\u001b[0;34m\u001b[0m\u001b[0m\n\u001b[0m\u001b[1;32m    860\u001b[0m         )\n\u001b[1;32m    861\u001b[0m \u001b[0;34m\u001b[0m\u001b[0m\n",
      "\u001b[0;32m/opt/anaconda3/lib/python3.7/site-packages/ipykernel/kernelbase.py\u001b[0m in \u001b[0;36m_input_request\u001b[0;34m(self, prompt, ident, parent, password)\u001b[0m\n\u001b[1;32m    887\u001b[0m             \u001b[0;32mexcept\u001b[0m \u001b[0mKeyboardInterrupt\u001b[0m\u001b[0;34m:\u001b[0m\u001b[0;34m\u001b[0m\u001b[0;34m\u001b[0m\u001b[0m\n\u001b[1;32m    888\u001b[0m                 \u001b[0;31m# re-raise KeyboardInterrupt, to truncate traceback\u001b[0m\u001b[0;34m\u001b[0m\u001b[0;34m\u001b[0m\u001b[0;34m\u001b[0m\u001b[0m\n\u001b[0;32m--> 889\u001b[0;31m                 \u001b[0;32mraise\u001b[0m \u001b[0mKeyboardInterrupt\u001b[0m\u001b[0;34m\u001b[0m\u001b[0;34m\u001b[0m\u001b[0m\n\u001b[0m\u001b[1;32m    890\u001b[0m             \u001b[0;32melse\u001b[0m\u001b[0;34m:\u001b[0m\u001b[0;34m\u001b[0m\u001b[0;34m\u001b[0m\u001b[0m\n\u001b[1;32m    891\u001b[0m                 \u001b[0;32mbreak\u001b[0m\u001b[0;34m\u001b[0m\u001b[0;34m\u001b[0m\u001b[0m\n",
      "\u001b[0;31mKeyboardInterrupt\u001b[0m: "
     ]
    }
   ],
   "source": [
    "c=\"\"\n",
    "a, b=0,0\n",
    "\n",
    "while True:\n",
    "    a=int(input(\"계산할 첫 번째 수 입력: \"))\n",
    "    b=int(input(\"계산할 두 번째 수 입력: \"))\n",
    "    c=input(\"게산할 연산자를 입력: \")\n",
    "    \n",
    "    if c==\"+\" :\n",
    "        print(\" %d+%d=%d 입니다. \\n\" % (a, b, a+b))\n",
    "    elif c==\"-\":\n",
    "        print(\" %d-%d=%d 입니다. \\n\" % (a, b, a-b))\n",
    "    elif c==\"/\":\n",
    "        print(\" %d/%d=%d 입니다. \\n\" % (a, b, a/b))\n",
    "    elif c==\"*\":\n",
    "        print(\" %d*%d=%d 입니다. \\n\" % (a, b, a*b))\n",
    "    elif c==\"%\":\n",
    "        print(\"%d %% %d = %d 입니다. \\n\" % (a, b, a%b))\n",
    "    elif c==\"**\":\n",
    "        print(\"%d ** %d = %d 입니다. \\n\" % (a, b, a**b))\n",
    "    else:\n",
    "        print(\"알 수 없는 연산자입니다.\")\n",
    "    "
   ]
  },
  {
   "cell_type": "code",
   "execution_count": null,
   "metadata": {},
   "outputs": [],
   "source": [
    "for i in range(1, 100):\n",
    "    print(\"for문을 %d번 실행했습니다.\"%i)\n",
    "    break"
   ]
  },
  {
   "cell_type": "code",
   "execution_count": 17,
   "metadata": {},
   "outputs": [
    {
     "name": "stdout",
     "output_type": "stream",
     "text": [
      "계산을 그만하고 싶을 때 첫 번째 수로 0을 입력하세요.\n",
      "\n",
      "----------------\n",
      "더할 첫 번째 수 입력: 1\n",
      "더할 두 번째 수 입력: 2\n",
      "1+2=3 \n",
      "\n",
      "더할 첫 번째 수 입력: 3\n",
      "더할 두 번째 수 입력: 4\n",
      "3+4=7 \n",
      "\n",
      "더할 첫 번째 수 입력: 5\n",
      "더할 두 번째 수 입력: 6\n",
      "5+6=11 \n",
      "\n",
      "더할 첫 번째 수 입력: 0\n",
      "0을 입력해서 반복문을 탈출했습니다.\n"
     ]
    }
   ],
   "source": [
    "hap=0\n",
    "a, b=0, 0\n",
    "\n",
    "print(\"계산을 그만하고 싶을 때 첫 번째 수로 0을 입력하세요.\\n\")\n",
    "print(\"----------------\")\n",
    "while True:\n",
    "    a=int(input(\"더할 첫 번째 수 입력: \"))\n",
    "    if a==0:\n",
    "        break\n",
    "    b=int(input(\"더할 두 번째 수 입력: \"))\n",
    "    hap=a+b\n",
    "    print(\"%d+%d=%d \\n\"%(a,b,hap))\n",
    "\n",
    "print(\"0을 입력해서 반복문을 탈출했습니다.\")"
   ]
  },
  {
   "cell_type": "code",
   "execution_count": 18,
   "metadata": {},
   "outputs": [
    {
     "name": "stdout",
     "output_type": "stream",
     "text": [
      "1~100의 합에서 최초로 1000이 넘는 위치: 45\n"
     ]
    }
   ],
   "source": [
    "hap, i =0, 0\n",
    "\n",
    "for i in range(1,101):\n",
    "    hap +=i\n",
    "    \n",
    "    if hap>=1000:\n",
    "        break\n",
    "        \n",
    "print(\"1~100의 합에서 최초로 1000이 넘는 위치: %d\"%i)"
   ]
  },
  {
   "cell_type": "code",
   "execution_count": 19,
   "metadata": {},
   "outputs": [
    {
     "name": "stdout",
     "output_type": "stream",
     "text": [
      "1~100의 합계(3의 배수 제외): 3367\n"
     ]
    }
   ],
   "source": [
    "hap, i=0, 0\n",
    "\n",
    "for i in range(1,101):\n",
    "    if i%3==0: #3의 배수는 빼고 더하기\n",
    "        continue\n",
    "        \n",
    "    hap += i\n",
    "    \n",
    "print(\"1~100의 합계(3의 배수 제외): %d\" % hap)"
   ]
  },
  {
   "cell_type": "code",
   "execution_count": 22,
   "metadata": {},
   "outputs": [
    {
     "name": "stdout",
     "output_type": "stream",
     "text": [
      "1~100 합계(9의 배수 제외): 4456\n"
     ]
    }
   ],
   "source": [
    "hap, i = 0,0\n",
    "for i in range(1,101):\n",
    "    if i%9==0:\n",
    "        continue\n",
    "    \n",
    "    hap += i\n",
    "\n",
    "print(\"1~100 합계(9의 배수 제외): %d\"%hap)"
   ]
  },
  {
   "cell_type": "code",
   "execution_count": 23,
   "metadata": {},
   "outputs": [
    {
     "name": "stdout",
     "output_type": "stream",
     "text": [
      "1~100 합계(3의 배수만: 1683\n"
     ]
    }
   ],
   "source": [
    "hap, i =0, 0\n",
    "for i in range(1,101):\n",
    "    if i%3==0:\n",
    "        hap+=i\n",
    "    else:\n",
    "        continue\n",
    "print(\"1~100 합계(3의 배수만: %d\"%hap)"
   ]
  },
  {
   "cell_type": "code",
   "execution_count": 1,
   "metadata": {},
   "outputs": [
    {
     "name": "stdout",
     "output_type": "stream",
     "text": [
      "1부터 100 사이의 모든3의 배수의 합은 1683입니다.\n"
     ]
    }
   ],
   "source": [
    "sum=0\n",
    "number=1\n",
    "\n",
    "while number<=100:\n",
    "    if number %3 ==0:\n",
    "        sum=sum+number\n",
    "    number=number+1\n",
    "print(\"1부터 100 사이의 모든3의 배수의 합은 %d입니다.\" %sum)"
   ]
  },
  {
   "cell_type": "code",
   "execution_count": null,
   "metadata": {},
   "outputs": [],
   "source": [
    "hap = 0\n",
    "i = 1\n",
    "while i<100:\n",
    "    if i%3==0:\n",
    "        hap+=i\n",
    "        continue\n",
    "print(\"1부터 1-- %d\"%i)"
   ]
  },
  {
   "cell_type": "code",
   "execution_count": 15,
   "metadata": {},
   "outputs": [
    {
     "name": "stdout",
     "output_type": "stream",
     "text": [
      "0 -> -17\n",
      "10 -> -12\n",
      "20 -> -6\n",
      "30 -> -1\n",
      "40 -> 4\n",
      "50 -> 10\n",
      "60 -> 15\n",
      "70 -> 21\n",
      "80 -> 26\n",
      "90 -> 32\n",
      "100 -> 37\n"
     ]
    }
   ],
   "source": [
    "for f_temp in range(0, 100+1, 10):\n",
    "    c_temp=(f_temp-32)*5/9\n",
    "    print(\"%d -> %d\" %(f_temp, c_temp))"
   ]
  },
  {
   "cell_type": "code",
   "execution_count": 9,
   "metadata": {},
   "outputs": [
    {
     "name": "stdout",
     "output_type": "stream",
     "text": [
      "0 -> -17.78\n",
      "10 -> -12.22\n",
      "20 -> -6.67\n",
      "30 -> -1.11\n",
      "40 -> 4.44\n",
      "50 -> 10.0\n",
      "60 -> 15.56\n",
      "70 -> 21.11\n",
      "80 -> 26.67\n",
      "90 -> 32.22\n",
      "100 -> 37.78\n"
     ]
    }
   ],
   "source": [
    "for t in range(0, 100+1, 10):\n",
    "    c=(t-32.0) * 5.0/9.0\n",
    "    print(t, \"->\", round(c, 2))"
   ]
  },
  {
   "cell_type": "markdown",
   "metadata": {},
   "source": [
    "사용자가 입력한 정수의 합을 계산하는 프로그램을 작성하자. 사용자가 0을 입력하기 전까지 정수를 계속하여 읽도록 한다."
   ]
  },
  {
   "cell_type": "code",
   "execution_count": 26,
   "metadata": {},
   "outputs": [
    {
     "name": "stdout",
     "output_type": "stream",
     "text": [
      "정수를 입력하시오: 1\n",
      "정수를 입력하시오: 2\n",
      "정수를 입력하시오: 3\n",
      "정수를 입력하시오: 4\n",
      "정수를 입력하시오: 0\n",
      "10\n"
     ]
    }
   ],
   "source": [
    "sum=0\n",
    "while True:\n",
    "    x = int(input(\"정수를 입력하시오: \"))\n",
    "    if x == 0:\n",
    "        break\n",
    "    sum=sum+x\n",
    "print(\"합은 \",sum,\"입니다.\")\n",
    "    \n"
   ]
  },
  {
   "cell_type": "markdown",
   "metadata": {},
   "source": [
    "사용자에게 곱셈 퀴즈를 내고 답을 사용자로부터 받는 프로그램에서 사용자가 올바른 답을 입력할 때까지 반복하도록 수정하여 보자. while문 사용"
   ]
  },
  {
   "cell_type": "code",
   "execution_count": 31,
   "metadata": {},
   "outputs": [
    {
     "name": "stdout",
     "output_type": "stream",
     "text": [
      "3X9= 1\n",
      "오답입니다. \n",
      "\n",
      "3X9= 2\n",
      "오답입니다. \n",
      "\n",
      "3X9= 27\n",
      "정답입니다.\n"
     ]
    }
   ],
   "source": [
    "while True:\n",
    "    x = int(input(\"3X9= \"))\n",
    "    if x == 27:\n",
    "        break\n",
    "    else:\n",
    "        print(\"오답입니다. \\n\")\n",
    "print(\"정답입니다.\")"
   ]
  },
  {
   "cell_type": "code",
   "execution_count": 32,
   "metadata": {},
   "outputs": [
    {
     "name": "stdout",
     "output_type": "stream",
     "text": [
      "3X9는1\n",
      "3X9는3\n",
      "3X9는27\n",
      "맞았습니다.\n"
     ]
    }
   ],
   "source": [
    "ans=0\n",
    "while ans != 3*9:\n",
    "    ans = int(input(\"3X9는\"))\n",
    "print(\"맞았습니다.\")"
   ]
  },
  {
   "cell_type": "markdown",
   "metadata": {},
   "source": [
    "무한 루프 break\n",
    "\n",
    "while True:\n",
    "    반복문장\n",
    "    반복문장\n",
    "    if 조건:\n",
    "        break"
   ]
  },
  {
   "cell_type": "code",
   "execution_count": 36,
   "metadata": {},
   "outputs": [
    {
     "name": "stdout",
     "output_type": "stream",
     "text": [
      "신호등 색상을 입력하시오 red\n",
      "신호등 색상을 입력하시오 red\n",
      "신호등 색상을 입력하시오 orange\n",
      "신호등 색상을 입력하시오 blue\n",
      "전진!!\n"
     ]
    }
   ],
   "source": [
    "while True:\n",
    "    color = input(\"신호등 색상을 입력하시오 \")\n",
    "    if color==\"blue\":\n",
    "        break\n",
    "print(\"전진!!\")"
   ]
  },
  {
   "cell_type": "code",
   "execution_count": 39,
   "metadata": {},
   "outputs": [],
   "source": [
    "a=[]\n",
    "f=open(\"ss.txt\", \"r\", encoding='utf8')\n",
    "for i in range(10):\n",
    "    a.append(f.readline().split())\n",
    "    \n",
    "f.close()"
   ]
  },
  {
   "cell_type": "code",
   "execution_count": null,
   "metadata": {},
   "outputs": [],
   "source": []
  },
  {
   "cell_type": "markdown",
   "metadata": {},
   "source": [
    "# 함수 "
   ]
  },
  {
   "cell_type": "code",
   "execution_count": 41,
   "metadata": {},
   "outputs": [
    {
     "data": {
      "text/plain": [
       "10"
      ]
     },
     "execution_count": 41,
     "metadata": {},
     "output_type": "execute_result"
    }
   ],
   "source": [
    "aa=[10, 20, 30, 40, 50]\n",
    "aa[0]"
   ]
  },
  {
   "cell_type": "code",
   "execution_count": 42,
   "metadata": {},
   "outputs": [
    {
     "data": {
      "text/plain": [
       "[20, 30]"
      ]
     },
     "execution_count": 42,
     "metadata": {},
     "output_type": "execute_result"
    }
   ],
   "source": [
    "aa[1:3]"
   ]
  },
  {
   "cell_type": "code",
   "execution_count": 43,
   "metadata": {},
   "outputs": [
    {
     "data": {
      "text/plain": [
       "[40, 50]"
      ]
     },
     "execution_count": 43,
     "metadata": {},
     "output_type": "execute_result"
    }
   ],
   "source": [
    "aa[3:]"
   ]
  },
  {
   "cell_type": "code",
   "execution_count": 44,
   "metadata": {},
   "outputs": [
    {
     "data": {
      "text/plain": [
       "'파'"
      ]
     },
     "execution_count": 44,
     "metadata": {},
     "output_type": "execute_result"
    }
   ],
   "source": [
    "ss=\"파이썬만세\"\n",
    "ss[0]"
   ]
  },
  {
   "cell_type": "code",
   "execution_count": 46,
   "metadata": {},
   "outputs": [
    {
     "data": {
      "text/plain": [
       "'이썬'"
      ]
     },
     "execution_count": 46,
     "metadata": {},
     "output_type": "execute_result"
    }
   ],
   "source": [
    "ss[1:3]"
   ]
  },
  {
   "cell_type": "code",
   "execution_count": 47,
   "metadata": {},
   "outputs": [
    {
     "data": {
      "text/plain": [
       "'만세'"
      ]
     },
     "execution_count": 47,
     "metadata": {},
     "output_type": "execute_result"
    }
   ],
   "source": [
    "ss[3:]"
   ]
  },
  {
   "cell_type": "code",
   "execution_count": 48,
   "metadata": {},
   "outputs": [
    {
     "data": {
      "text/plain": [
       "'파이썬만세'"
      ]
     },
     "execution_count": 48,
     "metadata": {},
     "output_type": "execute_result"
    }
   ],
   "source": [
    "ss=\"파이썬\"+'만세'\n",
    "ss"
   ]
  },
  {
   "cell_type": "code",
   "execution_count": 49,
   "metadata": {},
   "outputs": [
    {
     "data": {
      "text/plain": [
       "'파이썬파이썬파이썬'"
      ]
     },
     "execution_count": 49,
     "metadata": {},
     "output_type": "execute_result"
    }
   ],
   "source": [
    "ss='파이썬'*3\n",
    "ss"
   ]
  },
  {
   "cell_type": "code",
   "execution_count": 50,
   "metadata": {},
   "outputs": [
    {
     "data": {
      "text/plain": [
       "7"
      ]
     },
     "execution_count": 50,
     "metadata": {},
     "output_type": "execute_result"
    }
   ],
   "source": [
    "ss='파이썬abcd'\n",
    "len(ss)"
   ]
  },
  {
   "cell_type": "code",
   "execution_count": 51,
   "metadata": {},
   "outputs": [
    {
     "name": "stdout",
     "output_type": "stream",
     "text": [
      "파$이$썬$짱$!$"
     ]
    }
   ],
   "source": [
    "ss='파이썬짱!'\n",
    "\n",
    "sslen=len(ss)\n",
    "for i in range(0, sslen):\n",
    "    print(ss[i]+'$', end='')"
   ]
  },
  {
   "cell_type": "code",
   "execution_count": 61,
   "metadata": {},
   "outputs": [
    {
     "name": "stdout",
     "output_type": "stream",
     "text": [
      "문자열을 입력하세요: df\n",
      "내용을 거꾸로 출력 --> fd\n"
     ]
    }
   ],
   "source": [
    "inStr,outStr=\"\", \"\"\n",
    "count, i = 0, 0\n",
    "\n",
    "inStr = input(\"문자열을 입력하세요: \")\n",
    "count = len(inStr)\n",
    "\n",
    "for i in range(0, count):\n",
    "    outStr+=inStr[count-(i+1)]\n",
    "\n",
    "print(\"내용을 거꾸로 출력 --> %s\" % outStr)\n",
    "    "
   ]
  },
  {
   "cell_type": "code",
   "execution_count": null,
   "metadata": {},
   "outputs": [],
   "source": []
  },
  {
   "cell_type": "code",
   "execution_count": null,
   "metadata": {},
   "outputs": [],
   "source": []
  },
  {
   "cell_type": "code",
   "execution_count": null,
   "metadata": {},
   "outputs": [],
   "source": []
  },
  {
   "cell_type": "markdown",
   "metadata": {},
   "source": [
    "# 문자열 함수 활용 "
   ]
  },
  {
   "cell_type": "code",
   "execution_count": 62,
   "metadata": {},
   "outputs": [
    {
     "data": {
      "text/plain": [
       "'PYTHON IS EASY. 그래서 PROGRAMMING이 재미있지 말입니다 ^^'"
      ]
     },
     "execution_count": 62,
     "metadata": {},
     "output_type": "execute_result"
    }
   ],
   "source": [
    "ss='Python is Easy. 그래서 programming이 재미있지 말입니다 ^^'\n",
    "ss.upper()"
   ]
  },
  {
   "cell_type": "code",
   "execution_count": 63,
   "metadata": {},
   "outputs": [
    {
     "data": {
      "text/plain": [
       "'python is easy. 그래서 programming이 재미있지 말입니다 ^^'"
      ]
     },
     "execution_count": 63,
     "metadata": {},
     "output_type": "execute_result"
    }
   ],
   "source": [
    "ss.lower()"
   ]
  },
  {
   "cell_type": "code",
   "execution_count": 64,
   "metadata": {},
   "outputs": [
    {
     "data": {
      "text/plain": [
       "'pYTHON iS eASY. 그래서 pROGRAMMING이 재미있지 말입니다 ^^'"
      ]
     },
     "execution_count": 64,
     "metadata": {},
     "output_type": "execute_result"
    }
   ],
   "source": [
    "ss.title().swapcase()"
   ]
  },
  {
   "cell_type": "code",
   "execution_count": 65,
   "metadata": {},
   "outputs": [
    {
     "data": {
      "text/plain": [
       "'Python Is Easy. 그래서 Programming이 재미있지 말입니다 ^^'"
      ]
     },
     "execution_count": 65,
     "metadata": {},
     "output_type": "execute_result"
    }
   ],
   "source": [
    "ss.title()"
   ]
  },
  {
   "cell_type": "code",
   "execution_count": null,
   "metadata": {},
   "outputs": [],
   "source": []
  },
  {
   "cell_type": "code",
   "execution_count": 70,
   "metadata": {},
   "outputs": [
    {
     "name": "stdout",
     "output_type": "stream",
     "text": [
      "문자열 입력 ==> hello\n",
      "출력 문자열 ==>(hello)"
     ]
    }
   ],
   "source": [
    "ss=input(\"문자열 입력 ==> \")\n",
    "print(\"출력 문자열 ==>\", end=\"\")\n",
    "\n",
    "\n",
    "if ss.startswith('(')== False:\n",
    "    print(\"(\", end='')\n",
    "\n",
    "print(ss, end='')\n",
    "\n",
    "if ss.endswith(')') == False:\n",
    "    print(\")\", end='')"
   ]
  },
  {
   "cell_type": "code",
   "execution_count": 71,
   "metadata": {},
   "outputs": [
    {
     "data": {
      "text/plain": [
       "'파    이   썬'"
      ]
     },
     "execution_count": 71,
     "metadata": {},
     "output_type": "execute_result"
    }
   ],
   "source": [
    "ss='    파    이   썬    '\n",
    "ss.strip()"
   ]
  },
  {
   "cell_type": "code",
   "execution_count": 72,
   "metadata": {},
   "outputs": [
    {
     "data": {
      "text/plain": [
       "'    파    이   썬'"
      ]
     },
     "execution_count": 72,
     "metadata": {},
     "output_type": "execute_result"
    }
   ],
   "source": [
    "ss.rstrip()"
   ]
  },
  {
   "cell_type": "code",
   "execution_count": 73,
   "metadata": {},
   "outputs": [
    {
     "data": {
      "text/plain": [
       "'파    이   썬    '"
      ]
     },
     "execution_count": 73,
     "metadata": {},
     "output_type": "execute_result"
    }
   ],
   "source": [
    "ss.lstrip()"
   ]
  },
  {
   "cell_type": "code",
   "execution_count": 74,
   "metadata": {},
   "outputs": [
    {
     "name": "stdout",
     "output_type": "stream",
     "text": [
      "파---이---썬\n"
     ]
    }
   ],
   "source": [
    "ss='----파---이---썬----'\n",
    "print(ss.strip('-'))"
   ]
  },
  {
   "cell_type": "code",
   "execution_count": 77,
   "metadata": {},
   "outputs": [
    {
     "name": "stdout",
     "output_type": "stream",
     "text": [
      "파 <<이>> 썬\n"
     ]
    }
   ],
   "source": [
    "ss='<<<파 <<이>> 썬>>>'\n",
    "print(ss.strip('<>'))"
   ]
  },
  {
   "cell_type": "code",
   "execution_count": 81,
   "metadata": {},
   "outputs": [
    {
     "name": "stdout",
     "output_type": "stream",
     "text": [
      "원 문자열, ==> [  한글  Python  프로그래밍  ]\n",
      "공백 제거, ==> [한글Python프로그래밍]\n"
     ]
    }
   ],
   "source": [
    "inStr=\"  한글  Python  프로그래밍  \"\n",
    "outStr =\"\"\n",
    "\n",
    "for i in range(0, len(inStr)):\n",
    "    if inStr[i] != ' ':\n",
    "        outStr += inStr[i]\n",
    "    \n",
    "print(\"원 문자열, ==> \"+'['+inStr+']')\n",
    "print(\"공백 제거, ==> \"+'['+outStr+']')"
   ]
  },
  {
   "cell_type": "code",
   "execution_count": 82,
   "metadata": {},
   "outputs": [
    {
     "data": {
      "text/plain": [
       "'열심히 Python을 공부중~~'"
      ]
     },
     "execution_count": 82,
     "metadata": {},
     "output_type": "execute_result"
    }
   ],
   "source": [
    "ss = '열심히 파이썬을 공부중~~'\n",
    "ss.replace('파이썬', 'Python')"
   ]
  },
  {
   "cell_type": "code",
   "execution_count": 90,
   "metadata": {},
   "outputs": [
    {
     "name": "stdout",
     "output_type": "stream",
     "text": [
      "문자열 입력 ==> po\n",
      "출력 문자열 ==> p$"
     ]
    }
   ],
   "source": [
    "ss=input(\"문자열 입력 ==> \")\n",
    "print(\"출력 문자열 ==> \", end=\"\")\n",
    "for i in range(0, len(ss)):\n",
    "    if ss[i] != 'o':\n",
    "        print(ss[i], end='')\n",
    "    else:\n",
    "         print('$', end='')"
   ]
  },
  {
   "cell_type": "code",
   "execution_count": 91,
   "metadata": {},
   "outputs": [
    {
     "data": {
      "text/plain": [
       "['Python을', '열심히', '공부', '중']"
      ]
     },
     "execution_count": 91,
     "metadata": {},
     "output_type": "execute_result"
    }
   ],
   "source": [
    "ss='Python을 열심히 공부 중'\n",
    "ss.split()"
   ]
  },
  {
   "cell_type": "code",
   "execution_count": 92,
   "metadata": {},
   "outputs": [
    {
     "data": {
      "text/plain": [
       "['하나', '둘', '셋']"
      ]
     },
     "execution_count": 92,
     "metadata": {},
     "output_type": "execute_result"
    }
   ],
   "source": [
    "ss='하나:둘:셋'\n",
    "ss.split(':')"
   ]
  },
  {
   "cell_type": "code",
   "execution_count": 93,
   "metadata": {},
   "outputs": [
    {
     "data": {
      "text/plain": [
       "['하나', '둘', '셋']"
      ]
     },
     "execution_count": 93,
     "metadata": {},
     "output_type": "execute_result"
    }
   ],
   "source": [
    "ss='하나\\n둘\\n셋'\n",
    "ss.splitlines()"
   ]
  },
  {
   "cell_type": "code",
   "execution_count": 95,
   "metadata": {},
   "outputs": [
    {
     "data": {
      "text/plain": [
       "'파%이%썬'"
      ]
     },
     "execution_count": 95,
     "metadata": {},
     "output_type": "execute_result"
    }
   ],
   "source": [
    "ss='%'\n",
    "ss.join('파이썬')"
   ]
  },
  {
   "cell_type": "code",
   "execution_count": 106,
   "metadata": {},
   "outputs": [
    {
     "name": "stdout",
     "output_type": "stream",
     "text": [
      "날짜(연/월/일) 입력 ==> 2019/12/31\n",
      "입력한 날짜의 10년 후==> 2029년12월31일\n"
     ]
    }
   ],
   "source": [
    "ss = input(\"날짜(연/월/일) 입력 ==> \")\n",
    "ssList=ss.split('/')\n",
    "\n",
    "print(\"입력한 날짜의 10년 후==> \", end=\"\")\n",
    "print(str(int(ssList[0]) + 10) + '년', end='')\n",
    "print(ssList[1] + \"월\", end=\"\")\n",
    "print(ssList[2] + '일')"
   ]
  },
  {
   "cell_type": "code",
   "execution_count": null,
   "metadata": {},
   "outputs": [],
   "source": []
  },
  {
   "cell_type": "code",
   "execution_count": null,
   "metadata": {},
   "outputs": [],
   "source": []
  },
  {
   "cell_type": "code",
   "execution_count": null,
   "metadata": {},
   "outputs": [],
   "source": []
  },
  {
   "cell_type": "code",
   "execution_count": null,
   "metadata": {},
   "outputs": [],
   "source": []
  },
  {
   "cell_type": "markdown",
   "metadata": {},
   "source": [
    "# 함수"
   ]
  },
  {
   "cell_type": "code",
   "execution_count": 107,
   "metadata": {},
   "outputs": [],
   "source": [
    "def print_address():\n",
    "    print(\"서울특별시 종로구 1번지\")\n",
    "    print(\"파이썬 빌딩 7층\")\n",
    "    print(\"홍길동\")"
   ]
  },
  {
   "cell_type": "code",
   "execution_count": 108,
   "metadata": {},
   "outputs": [
    {
     "name": "stdout",
     "output_type": "stream",
     "text": [
      "서울특별시 종로구 1번지\n",
      "파이썬 빌딩 7층\n",
      "홍길동\n"
     ]
    }
   ],
   "source": [
    "print_address()"
   ]
  },
  {
   "cell_type": "code",
   "execution_count": 111,
   "metadata": {},
   "outputs": [
    {
     "name": "stdout",
     "output_type": "stream",
     "text": [
      "100과 200의 plus() 함수 결과는 300\n"
     ]
    }
   ],
   "source": [
    "## 함수 정의 부분\n",
    "def plus(v1, v2):\n",
    "    result=0\n",
    "    result=v1+v2\n",
    "    return result\n",
    "\n",
    "##변수 선언 부분\n",
    "hap = 0\n",
    "\n",
    "# 메인 코드\n",
    "hap=plus(100, 200)\n",
    "print(\"100과 200의 plus() 함수 결과는 %d\" % hap)"
   ]
  },
  {
   "cell_type": "markdown",
   "metadata": {},
   "source": [
    "# 계산기 "
   ]
  },
  {
   "cell_type": "code",
   "execution_count": 115,
   "metadata": {},
   "outputs": [
    {
     "name": "stdout",
     "output_type": "stream",
     "text": [
      "첫 번째 숫자 입력: 4\n",
      "계산 입력(+,-,*,/): +\n",
      "두 번째 숫자 입력: 1\n",
      "## 계산기: 4 + 1 = 5\n"
     ]
    }
   ],
   "source": [
    "# 함수 정의\n",
    "def calc(v1, v2, op):\n",
    "    result=0\n",
    "    if op == '+':\n",
    "        result = v1 + v2\n",
    "    elif op == '-':\n",
    "        result = v1 - v2\n",
    "    elif op == '*':\n",
    "        result = v1 * v2\n",
    "    elif op == '/':\n",
    "        result = v1 / v2\n",
    "    \n",
    "    return result\n",
    "\n",
    "#변수 선언 부분\n",
    "res = 0\n",
    "var1, var2, oper=0,0, \"\"\n",
    "\n",
    "# 메인 코드\n",
    "var1 = int(input(\"첫 번째 숫자 입력: \"))\n",
    "oper=input(\"계산 입력(+,-,*,/): \")\n",
    "var2 = int(input(\"두 번째 숫자 입력: \"))\n",
    "\n",
    "res = calc(var1, var2, oper)\n",
    "\n",
    "print(\"## 계산기: %d %s %d = %d\" % (var1, oper,var2,res))"
   ]
  },
  {
   "cell_type": "code",
   "execution_count": 117,
   "metadata": {},
   "outputs": [
    {
     "name": "stdout",
     "output_type": "stream",
     "text": [
      "매개변수 2개 함수 호출 결과 ==> 30\n",
      "매개변수 3개 함수 호출 결과 ==> 60\n"
     ]
    }
   ],
   "source": [
    "#함수 정의 부분\n",
    "def para_func(*para):\n",
    "    result=0\n",
    "    for num in para:\n",
    "        result = result + num\n",
    "    \n",
    "    return result\n",
    "\n",
    "# 변수 선언 부분\n",
    "hap = 0\n",
    "\n",
    "# 메인 코드\n",
    "hap = para_func(10, 20)\n",
    "print(\"매개변수 2개 함수 호출 결과 ==> %d\" % hap)\n",
    "hap = para_func(10, 20, 30)\n",
    "print(\"매개변수 3개 함수 호출 결과 ==> %d\" % hap)"
   ]
  },
  {
   "cell_type": "code",
   "execution_count": 119,
   "metadata": {},
   "outputs": [
    {
     "name": "stdout",
     "output_type": "stream",
     "text": [
      "아이오아이 --->11명입니다\n",
      "소녀시대 --->8명입니다\n",
      "걸스데이 --->4명입니다\n",
      "AOA --->7명입니다\n"
     ]
    }
   ],
   "source": [
    "def dic_func(**para):\n",
    "    for k in para.keys():\n",
    "        print(\"%s --->%d명입니다\" %(k, para[k]))\n",
    "\n",
    "dic_func(아이오아이=11, 소녀시대=8, 걸스데이=4, AOA=7)"
   ]
  },
  {
   "cell_type": "code",
   "execution_count": 120,
   "metadata": {},
   "outputs": [
    {
     "name": "stdout",
     "output_type": "stream",
     "text": [
      "화씨온도를 입력하시오: 23\n",
      "-5.0\n"
     ]
    }
   ],
   "source": [
    "def FtoC(temp_f):\n",
    "    temp_c = (5.0 * (temp_f - 32.0)) / 9.0\n",
    "    return temp_c\n",
    "\n",
    "temp_f = float(input(\"화씨온도를 입력하시오: \"))\n",
    "\n",
    "#FtoC() 함수를 호출한다.\n",
    "print(FtoC(temp_f))"
   ]
  },
  {
   "cell_type": "markdown",
   "metadata": {},
   "source": [
    "# 소수 판별"
   ]
  },
  {
   "cell_type": "code",
   "execution_count": null,
   "metadata": {},
   "outputs": [],
   "source": [
    "def is_prime(num):\n",
    "    if num != 1:\n",
    "        for i in range(2, num):\n",
    "            if num % i == 0:\n",
    "                return False\n",
    "    else:\n",
    "        return False\n",
    "    \n",
    "    \n",
    "            "
   ]
  },
  {
   "cell_type": "code",
   "execution_count": null,
   "metadata": {},
   "outputs": [],
   "source": []
  },
  {
   "cell_type": "code",
   "execution_count": 121,
   "metadata": {},
   "outputs": [
    {
     "name": "stdout",
     "output_type": "stream",
     "text": [
      "** 로또 추첨을 시작합니다. ** \n",
      "\n",
      "[30]\n",
      "[30, 35]\n",
      "[30, 35, 3]\n",
      "[30, 35, 3, 43]\n",
      "[30, 35, 3, 43, 38]\n",
      "[30, 35, 3, 43, 38, 16]\n",
      "추첨된 로또 번호 ==> 3 16 30 35 38 43 "
     ]
    }
   ],
   "source": [
    "import random\n",
    "\n",
    "#함수 선언\n",
    "def getNumber():\n",
    "    return random.randrange(1, 46)\n",
    "\n",
    "# 변수 선언\n",
    "lotto = []\n",
    "num = 0\n",
    "\n",
    "#메인 코드\n",
    "print(\"** 로또 추첨을 시작합니다. ** \\n\")\n",
    "\n",
    "while True:\n",
    "    num = getNumber()\n",
    "    \n",
    "    if lotto.count(num) == 0:\n",
    "        lotto.append(num)\n",
    "    print(lotto)\n",
    "    if len(lotto) >= 6:\n",
    "        break\n",
    "        \n",
    "print(\"추첨된 로또 번호 ==> \", end='')\n",
    "lotto.sort()\n",
    "for i in range(0,6):\n",
    "    print(\"%d \" % lotto[i], end='')\n"
   ]
  },
  {
   "cell_type": "code",
   "execution_count": 124,
   "metadata": {},
   "outputs": [
    {
     "name": "stdout",
     "output_type": "stream",
     "text": [
      "1번째 숫자: 10\n",
      "2번째 숫자: 20\n",
      "3번째 숫자: 30\n",
      "4번째 숫자: 40\n",
      "합계==>100 \n"
     ]
    }
   ],
   "source": [
    "aa = []\n",
    "for i in range(0, 4):\n",
    "    aa.append(0)\n",
    "hap = 0\n",
    "\n",
    "for i in range(0,4):\n",
    "    aa[i]=int(input(str(i+1)+\"번째 숫자: \"))\n",
    "    \n",
    "hap=aa[0]+aa[1]+aa[2]+aa[3]\n",
    "\n",
    "print(\"합계 ==> %d \" % hap)"
   ]
  },
  {
   "cell_type": "code",
   "execution_count": 125,
   "metadata": {},
   "outputs": [
    {
     "name": "stdout",
     "output_type": "stream",
     "text": [
      "bb[0]은 198, bb[99]는 0 입력됨 \n"
     ]
    }
   ],
   "source": [
    "aa=[]\n",
    "bb=[]\n",
    "value=0\n",
    "\n",
    "for i in range(0, 100):\n",
    "    aa.append(value)\n",
    "    value+=2\n",
    "    \n",
    "for i in range(0, 100):\n",
    "    bb.append(aa[99-i])\n",
    "    \n",
    "print(\"bb[0]은 %d, bb[99]는 %d 입력됨 \" % (bb[0], bb[99]))"
   ]
  },
  {
   "cell_type": "code",
   "execution_count": 126,
   "metadata": {},
   "outputs": [
    {
     "name": "stdout",
     "output_type": "stream",
     "text": [
      "aa[-1]은 40, aa[-2]는 30\n"
     ]
    }
   ],
   "source": [
    "aa=[10, 20, 30, 40]\n",
    "print(\"aa[-1]은 %d, aa[-2]는 %d\" % (aa[-1], aa[-2]))"
   ]
  },
  {
   "cell_type": "code",
   "execution_count": 127,
   "metadata": {},
   "outputs": [
    {
     "data": {
      "text/plain": [
       "['A', 'B', 'C']"
      ]
     },
     "execution_count": 127,
     "metadata": {},
     "output_type": "execute_result"
    }
   ],
   "source": [
    "letters=['A','B','C','D','E','F']\n",
    "letters[:3]"
   ]
  },
  {
   "cell_type": "code",
   "execution_count": 129,
   "metadata": {},
   "outputs": [
    {
     "data": {
      "text/plain": [
       "['D', 'E', 'F']"
      ]
     },
     "execution_count": 129,
     "metadata": {},
     "output_type": "execute_result"
    }
   ],
   "source": [
    "letters[3:]"
   ]
  },
  {
   "cell_type": "code",
   "execution_count": 133,
   "metadata": {},
   "outputs": [
    {
     "data": {
      "text/plain": [
       "['A', 'B', 'C', 'D', 'E', 'F']"
      ]
     },
     "execution_count": 133,
     "metadata": {},
     "output_type": "execute_result"
    }
   ],
   "source": [
    "letters[:]"
   ]
  },
  {
   "cell_type": "code",
   "execution_count": 131,
   "metadata": {},
   "outputs": [],
   "source": [
    "heroes=[\"아이언맨\", \"토르\",\"헐크\",\"스칼렛 위치\"]\n",
    "heroes[1]=\"닥터 스트레인지\""
   ]
  },
  {
   "cell_type": "code",
   "execution_count": 132,
   "metadata": {},
   "outputs": [
    {
     "name": "stdout",
     "output_type": "stream",
     "text": [
      "['아이언맨', '닥터 스트레인지', '헐크', '스칼렛 위치']\n"
     ]
    }
   ],
   "source": [
    "print(heroes)"
   ]
  },
  {
   "cell_type": "code",
   "execution_count": 134,
   "metadata": {},
   "outputs": [
    {
     "name": "stdout",
     "output_type": "stream",
     "text": [
      "['아이언맨', '닥터 스트레인지', '헐크', '스칼렛 위치', '스파이더맨']\n"
     ]
    }
   ],
   "source": [
    "heroes.append(\"스파이더맨\")\n",
    "print(heroes)"
   ]
  },
  {
   "cell_type": "code",
   "execution_count": 135,
   "metadata": {},
   "outputs": [
    {
     "name": "stdout",
     "output_type": "stream",
     "text": [
      "['아이언맨', '배트맨', '닥터 스트레인지', '헐크', '스칼렛 위치', '스파이더맨']\n"
     ]
    }
   ],
   "source": [
    "heroes.insert(1, \"배트맨\")\n",
    "print(heroes)"
   ]
  },
  {
   "cell_type": "code",
   "execution_count": 136,
   "metadata": {},
   "outputs": [
    {
     "name": "stdout",
     "output_type": "stream",
     "text": [
      "['아이언맨', '배트맨', '닥터 스트레인지', '헐크', '스파이더맨']\n"
     ]
    }
   ],
   "source": [
    "heroes.remove(\"스칼렛 위치\")\n",
    "print(heroes)"
   ]
  },
  {
   "cell_type": "code",
   "execution_count": 137,
   "metadata": {},
   "outputs": [
    {
     "name": "stdout",
     "output_type": "stream",
     "text": [
      "['배트맨', '닥터 스트레인지', '헐크', '스파이더맨']\n"
     ]
    }
   ],
   "source": [
    "del heroes[0]\n",
    "print(heroes)"
   ]
  },
  {
   "cell_type": "code",
   "execution_count": 138,
   "metadata": {},
   "outputs": [
    {
     "name": "stdout",
     "output_type": "stream",
     "text": [
      "스파이더맨\n"
     ]
    }
   ],
   "source": [
    "last_hero = heroes.pop()\n",
    "print(last_hero)"
   ]
  },
  {
   "cell_type": "code",
   "execution_count": 139,
   "metadata": {},
   "outputs": [],
   "source": [
    "heroes=[\"아이언맨\",\"토르\",\"헐크\",\"스칼렛 위치\"]"
   ]
  },
  {
   "cell_type": "code",
   "execution_count": 140,
   "metadata": {},
   "outputs": [
    {
     "name": "stdout",
     "output_type": "stream",
     "text": [
      "[1, 2, 3, 4, 5, 6, 7, 8, 9]\n"
     ]
    }
   ],
   "source": [
    "numbers =[9,6,7,1,8,4,5,3,2]\n",
    "numbers.sort()\n",
    "print(numbers)"
   ]
  },
  {
   "cell_type": "code",
   "execution_count": null,
   "metadata": {},
   "outputs": [],
   "source": []
  },
  {
   "cell_type": "code",
   "execution_count": null,
   "metadata": {},
   "outputs": [],
   "source": []
  },
  {
   "cell_type": "code",
   "execution_count": null,
   "metadata": {},
   "outputs": [],
   "source": []
  },
  {
   "cell_type": "markdown",
   "metadata": {},
   "source": [
    "# 실습 "
   ]
  },
  {
   "cell_type": "code",
   "execution_count": 159,
   "metadata": {},
   "outputs": [
    {
     "name": "stdout",
     "output_type": "stream",
     "text": [
      "현재 리스트: [30, 10, 20]\n"
     ]
    }
   ],
   "source": [
    "myList= [30, 10, 20]\n",
    "print(\"현재 리스트: %s\" % myList)"
   ]
  },
  {
   "cell_type": "code",
   "execution_count": 160,
   "metadata": {},
   "outputs": [
    {
     "name": "stdout",
     "output_type": "stream",
     "text": [
      "append(40) 후의 리스트: [30, 10, 20, 40]\n"
     ]
    }
   ],
   "source": [
    "myList.append(40)\n",
    "print(\"append(40) 후의 리스트: %s\" % myList)"
   ]
  },
  {
   "cell_type": "code",
   "execution_count": 161,
   "metadata": {},
   "outputs": [
    {
     "name": "stdout",
     "output_type": "stream",
     "text": [
      "pop()으로 추출한 값 40\n",
      "pop() 후의 리스트 [30, 10, 20]\n"
     ]
    }
   ],
   "source": [
    "print(\"pop()으로 추출한 값 %s\" % myList.pop())\n",
    "print(\"pop() 후의 리스트 %s\" % myList)"
   ]
  },
  {
   "cell_type": "code",
   "execution_count": 162,
   "metadata": {},
   "outputs": [
    {
     "name": "stdout",
     "output_type": "stream",
     "text": [
      "sort() 후의 리스트: [10, 20, 30]\n"
     ]
    }
   ],
   "source": [
    "myList.sort()\n",
    "print(\"sort() 후의 리스트: %s\" % myList)"
   ]
  },
  {
   "cell_type": "code",
   "execution_count": 163,
   "metadata": {},
   "outputs": [
    {
     "name": "stdout",
     "output_type": "stream",
     "text": [
      "reverse() 후의 리스트: [30, 20, 10]\n"
     ]
    }
   ],
   "source": [
    "myList.reverse()\n",
    "print(\"reverse() 후의 리스트: %s\" % myList)"
   ]
  },
  {
   "cell_type": "code",
   "execution_count": 166,
   "metadata": {},
   "outputs": [
    {
     "name": "stdout",
     "output_type": "stream",
     "text": [
      "20값의 위치: 1\n"
     ]
    }
   ],
   "source": [
    "print(\"20값의 위치: %s\" % myList.index(20))"
   ]
  },
  {
   "cell_type": "code",
   "execution_count": 167,
   "metadata": {},
   "outputs": [
    {
     "name": "stdout",
     "output_type": "stream",
     "text": [
      "insert(2, 222)후의 리스트:\n"
     ]
    }
   ],
   "source": [
    "myList.insert(2, 222)\n",
    "print(\"insert(2, 222)후의 리스트:\" % myList)"
   ]
  },
  {
   "cell_type": "code",
   "execution_count": 168,
   "metadata": {},
   "outputs": [
    {
     "name": "stdout",
     "output_type": "stream",
     "text": [
      "remove(222) 후의 리스트: [30, 20, 10]\n"
     ]
    }
   ],
   "source": [
    "myList.remove(222)\n",
    "print(\"remove(222) 후의 리스트: %s\" % myList)"
   ]
  },
  {
   "cell_type": "code",
   "execution_count": 169,
   "metadata": {},
   "outputs": [
    {
     "name": "stdout",
     "output_type": "stream",
     "text": [
      "extend([77, 88, 77]) 후의 리스트: [30, 20, 10, 77, 88, 77]\n"
     ]
    }
   ],
   "source": [
    "myList.extend([77, 88, 77])\n",
    "print(\"extend([77, 88, 77]) 후의 리스트: %s\" % myList)"
   ]
  },
  {
   "cell_type": "code",
   "execution_count": 170,
   "metadata": {},
   "outputs": [
    {
     "name": "stdout",
     "output_type": "stream",
     "text": [
      "77 값의 개수 : 2\n"
     ]
    }
   ],
   "source": [
    "myList.count(77)\n",
    "print(\"77 값의 개수 : %d\" % myList.count(77))"
   ]
  },
  {
   "cell_type": "code",
   "execution_count": null,
   "metadata": {},
   "outputs": [],
   "source": []
  },
  {
   "cell_type": "code",
   "execution_count": null,
   "metadata": {},
   "outputs": [],
   "source": []
  },
  {
   "cell_type": "markdown",
   "metadata": {},
   "source": [
    "# 튜플"
   ]
  },
  {
   "cell_type": "code",
   "execution_count": 171,
   "metadata": {},
   "outputs": [
    {
     "data": {
      "text/plain": [
       "(10, 20, 30)"
      ]
     },
     "execution_count": 171,
     "metadata": {},
     "output_type": "execute_result"
    }
   ],
   "source": [
    "tt1=(10, 20, 30)\n",
    "tt1\n",
    "tt2=(10, 20, 30)\n",
    "tt2"
   ]
  },
  {
   "cell_type": "code",
   "execution_count": 174,
   "metadata": {},
   "outputs": [
    {
     "data": {
      "text/plain": [
       "{1: 'a', 2: 'b', 3: 'c'}"
      ]
     },
     "execution_count": 174,
     "metadata": {},
     "output_type": "execute_result"
    }
   ],
   "source": [
    "dic1={1:'a', 2:'b', 3:'c'}\n",
    "dic1"
   ]
  },
  {
   "cell_type": "code",
   "execution_count": 176,
   "metadata": {},
   "outputs": [
    {
     "data": {
      "text/plain": [
       "{'학번': 1000, '이름': '홍길동', '학과': '열공학과'}"
      ]
     },
     "execution_count": 176,
     "metadata": {},
     "output_type": "execute_result"
    }
   ],
   "source": [
    "student1={'학번':1000, '이름':'홍길동', '학과':'열공학과'}\n",
    "student1"
   ]
  },
  {
   "cell_type": "code",
   "execution_count": 178,
   "metadata": {},
   "outputs": [
    {
     "data": {
      "text/plain": [
       "{'학번': 1000, '이름': '홍길동', '학과': '열공학과', '연락처': '010-1111-2222'}"
      ]
     },
     "execution_count": 178,
     "metadata": {},
     "output_type": "execute_result"
    }
   ],
   "source": [
    "student1['연락처']='010-1111-2222'\n",
    "student1"
   ]
  },
  {
   "cell_type": "code",
   "execution_count": 179,
   "metadata": {},
   "outputs": [
    {
     "data": {
      "text/plain": [
       "{'학번': 1000, '이름': '홍길동', '학과': '파이썬학과', '연락처': '010-1111-2222'}"
      ]
     },
     "execution_count": 179,
     "metadata": {},
     "output_type": "execute_result"
    }
   ],
   "source": [
    "student1['학과']='파이썬학과'\n",
    "student1"
   ]
  },
  {
   "cell_type": "code",
   "execution_count": 180,
   "metadata": {},
   "outputs": [
    {
     "data": {
      "text/plain": [
       "{'학번': 1000, '이름': '홍길동', '학과': '파이썬학과'}"
      ]
     },
     "execution_count": 180,
     "metadata": {},
     "output_type": "execute_result"
    }
   ],
   "source": [
    "#del(딕셔너리이름[키]) 함수를 사용하여 삭제\n",
    "del(student1['연락처'])\n",
    "student1"
   ]
  },
  {
   "cell_type": "code",
   "execution_count": 181,
   "metadata": {},
   "outputs": [
    {
     "data": {
      "text/plain": [
       "'파이썬학과'"
      ]
     },
     "execution_count": 181,
     "metadata": {},
     "output_type": "execute_result"
    }
   ],
   "source": [
    "student1['학번']\n",
    "student1['이름']\n",
    "student1['학과']"
   ]
  },
  {
   "cell_type": "code",
   "execution_count": 183,
   "metadata": {},
   "outputs": [
    {
     "data": {
      "text/plain": [
       "'홍길동'"
      ]
     },
     "execution_count": 183,
     "metadata": {},
     "output_type": "execute_result"
    }
   ],
   "source": [
    "student1.get('이름')"
   ]
  },
  {
   "cell_type": "code",
   "execution_count": 184,
   "metadata": {},
   "outputs": [
    {
     "ename": "KeyError",
     "evalue": "'주소'",
     "output_type": "error",
     "traceback": [
      "\u001b[0;31m---------------------------------------------------------------------------\u001b[0m",
      "\u001b[0;31mKeyError\u001b[0m                                  Traceback (most recent call last)",
      "\u001b[0;32m<ipython-input-184-319e06e31aed>\u001b[0m in \u001b[0;36m<module>\u001b[0;34m\u001b[0m\n\u001b[0;32m----> 1\u001b[0;31m \u001b[0mstudent1\u001b[0m\u001b[0;34m[\u001b[0m\u001b[0;34m'주소'\u001b[0m\u001b[0;34m]\u001b[0m\u001b[0;34m\u001b[0m\u001b[0;34m\u001b[0m\u001b[0m\n\u001b[0m\u001b[1;32m      2\u001b[0m \u001b[0mstudent1\u001b[0m\u001b[0;34m.\u001b[0m\u001b[0mget\u001b[0m\u001b[0;34m(\u001b[0m\u001b[0;34m'주소'\u001b[0m\u001b[0;34m)\u001b[0m\u001b[0;34m\u001b[0m\u001b[0;34m\u001b[0m\u001b[0m\n",
      "\u001b[0;31mKeyError\u001b[0m: '주소'"
     ]
    }
   ],
   "source": [
    "student1['주소'] \n",
    "student1.get('주소')"
   ]
  },
  {
   "cell_type": "code",
   "execution_count": 185,
   "metadata": {},
   "outputs": [
    {
     "data": {
      "text/plain": [
       "dict_keys(['학번', '이름', '학과'])"
      ]
     },
     "execution_count": 185,
     "metadata": {},
     "output_type": "execute_result"
    }
   ],
   "source": [
    "student1.keys()"
   ]
  },
  {
   "cell_type": "code",
   "execution_count": 186,
   "metadata": {},
   "outputs": [
    {
     "data": {
      "text/plain": [
       "['학번', '이름', '학과']"
      ]
     },
     "execution_count": 186,
     "metadata": {},
     "output_type": "execute_result"
    }
   ],
   "source": [
    "list(student1.keys())"
   ]
  },
  {
   "cell_type": "code",
   "execution_count": null,
   "metadata": {},
   "outputs": [],
   "source": []
  }
 ],
 "metadata": {
  "kernelspec": {
   "display_name": "Python 3",
   "language": "python",
   "name": "python3"
  },
  "language_info": {
   "codemirror_mode": {
    "name": "ipython",
    "version": 3
   },
   "file_extension": ".py",
   "mimetype": "text/x-python",
   "name": "python",
   "nbconvert_exporter": "python",
   "pygments_lexer": "ipython3",
   "version": "3.7.6"
  }
 },
 "nbformat": 4,
 "nbformat_minor": 4
}
