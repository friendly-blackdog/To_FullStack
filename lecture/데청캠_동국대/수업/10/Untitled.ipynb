{
 "cells": [
  {
   "cell_type": "code",
   "execution_count": 2,
   "metadata": {},
   "outputs": [],
   "source": [
    "a1=[]\n",
    "for i in range(10):\n",
    "    a1.append(i)"
   ]
  },
  {
   "cell_type": "code",
   "execution_count": 3,
   "metadata": {},
   "outputs": [
    {
     "name": "stdout",
     "output_type": "stream",
     "text": [
      "[0, 1, 2, 3, 4, 5, 6, 7, 8, 9, 10, 11, 12, 13, 14, 15, 16, 17, 18, 19, 20, 21, 22, 23, 24, 25, 26, 27, 28, 29, 30, 31, 32, 33, 34, 35, 36, 37, 38, 39, 40, 41, 42, 43, 44, 45, 46, 47, 48, 49, 50, 51, 52, 53, 54, 55, 56, 57, 58, 59, 60, 61, 62, 63, 64, 65, 66, 67, 68, 69, 70, 71, 72, 73, 74, 75, 76, 77, 78, 79, 80, 81, 82, 83, 84, 85, 86, 87, 88, 89, 90, 91, 92, 93, 94, 95, 96, 97, 98, 99]\n"
     ]
    }
   ],
   "source": [
    "a2 = [i for i in range(100)] #0부터 99까지 생성되는 것을 a2에 바로 넣는다.\n",
    "print(a2)"
   ]
  },
  {
   "cell_type": "code",
   "execution_count": 4,
   "metadata": {},
   "outputs": [
    {
     "name": "stdout",
     "output_type": "stream",
     "text": [
      "1970 1월1일0시부터 흘러온 시간 : 1595204265초\n"
     ]
    }
   ],
   "source": [
    "import time as t\n",
    "\n",
    "t1 = t.time()\n",
    "print('1970 1월1일0시부터 흘러온 시간 : {}초'.format(int(t1)))"
   ]
  },
  {
   "cell_type": "code",
   "execution_count": 5,
   "metadata": {},
   "outputs": [
    {
     "name": "stdout",
     "output_type": "stream",
     "text": [
      "time.struct_time(tm_year=2020, tm_mon=7, tm_mday=20, tm_hour=0, tm_min=17, tm_sec=56, tm_wday=0, tm_yday=202, tm_isdst=0)\n"
     ]
    }
   ],
   "source": [
    "t2 = t.gmtime()\n",
    "print(t2)"
   ]
  },
  {
   "cell_type": "code",
   "execution_count": 6,
   "metadata": {},
   "outputs": [
    {
     "name": "stdout",
     "output_type": "stream",
     "text": [
      "\n",
      " UTC 시간 \n",
      "2020년7월20일\n",
      "0시17분56초\n"
     ]
    }
   ],
   "source": [
    "print('\\n UTC 시간 ')\n",
    "print('{}년{}월{}일'.format(t2.tm_year, t2.tm_mon, t2.tm_mday))\n",
    "print('{}시{}분{}초'.format(t2.tm_hour, t2.tm_min, t2.tm_sec))"
   ]
  },
  {
   "cell_type": "code",
   "execution_count": 7,
   "metadata": {},
   "outputs": [
    {
     "name": "stdout",
     "output_type": "stream",
     "text": [
      "\n",
      " local - 내컴퓨터 시간 \n",
      "2020년7월20일\n",
      "9시19분40초\n"
     ]
    }
   ],
   "source": [
    "t3 = t.localtime()\n",
    "print('\\n local - 내컴퓨터 시간 ')\n",
    "print('{}년{}월{}일'.format(t3.tm_year, t3.tm_mon, t3.tm_mday))\n",
    "print('{}시{}분{}초'.format(t3.tm_hour, t3.tm_min, t3.tm_sec))"
   ]
  },
  {
   "cell_type": "code",
   "execution_count": null,
   "metadata": {},
   "outputs": [],
   "source": []
  },
  {
   "cell_type": "code",
   "execution_count": null,
   "metadata": {},
   "outputs": [],
   "source": []
  },
  {
   "cell_type": "markdown",
   "metadata": {},
   "source": [
    "## 실행시간 측정 "
   ]
  },
  {
   "cell_type": "code",
   "execution_count": 8,
   "metadata": {
    "collapsed": true
   },
   "outputs": [
    {
     "name": "stdout",
     "output_type": "stream",
     "text": [
      "==========> 0\n",
      "==========> 1\n",
      "==========> 2\n",
      "==========> 3\n",
      "==========> 4\n",
      "==========> 5\n",
      "==========> 6\n",
      "==========> 7\n",
      "==========> 8\n",
      "==========> 9\n",
      "==========> 10\n",
      "==========> 11\n",
      "==========> 12\n",
      "==========> 13\n",
      "==========> 14\n",
      "==========> 15\n",
      "==========> 16\n",
      "==========> 17\n",
      "==========> 18\n",
      "==========> 19\n",
      "==========> 20\n",
      "==========> 21\n",
      "==========> 22\n",
      "==========> 23\n",
      "==========> 24\n",
      "==========> 25\n",
      "==========> 26\n",
      "==========> 27\n",
      "==========> 28\n",
      "==========> 29\n",
      "==========> 30\n",
      "==========> 31\n",
      "==========> 32\n",
      "==========> 33\n",
      "==========> 34\n",
      "==========> 35\n",
      "==========> 36\n",
      "==========> 37\n",
      "==========> 38\n",
      "==========> 39\n",
      "==========> 40\n",
      "==========> 41\n",
      "==========> 42\n",
      "==========> 43\n",
      "==========> 44\n",
      "==========> 45\n",
      "==========> 46\n",
      "==========> 47\n",
      "==========> 48\n",
      "==========> 49\n",
      "==========> 50\n",
      "==========> 51\n",
      "==========> 52\n",
      "==========> 53\n",
      "==========> 54\n",
      "==========> 55\n",
      "==========> 56\n",
      "==========> 57\n",
      "==========> 58\n",
      "==========> 59\n",
      "==========> 60\n",
      "==========> 61\n",
      "==========> 62\n",
      "==========> 63\n",
      "==========> 64\n",
      "==========> 65\n",
      "==========> 66\n",
      "==========> 67\n",
      "==========> 68\n",
      "==========> 69\n",
      "==========> 70\n",
      "==========> 71\n",
      "==========> 72\n",
      "==========> 73\n",
      "==========> 74\n",
      "==========> 75\n",
      "==========> 76\n",
      "==========> 77\n",
      "==========> 78\n",
      "==========> 79\n",
      "==========> 80\n",
      "==========> 81\n",
      "==========> 82\n",
      "==========> 83\n",
      "==========> 84\n",
      "==========> 85\n",
      "==========> 86\n",
      "==========> 87\n",
      "==========> 88\n",
      "==========> 89\n",
      "==========> 90\n",
      "==========> 91\n",
      "==========> 92\n",
      "==========> 93\n",
      "==========> 94\n",
      "==========> 95\n",
      "==========> 96\n",
      "==========> 97\n",
      "==========> 98\n",
      "==========> 99\n",
      " 실행 시간  0.009096860885620117\n"
     ]
    }
   ],
   "source": [
    "start = t.time()\n",
    "\n",
    "for i in range(100):\n",
    "    print(\"==========>\", i)\n",
    "end = t.time()\n",
    "\n",
    "print(\" 실행 시간 \", end - start)"
   ]
  },
  {
   "cell_type": "code",
   "execution_count": 10,
   "metadata": {},
   "outputs": [
    {
     "name": "stdout",
     "output_type": "stream",
     "text": [
      "0  Python... \n",
      "1  Python... \n",
      "2  Python... \n",
      "3  Python... \n",
      "4  Python... \n"
     ]
    }
   ],
   "source": [
    "for i in range(5):\n",
    "    t.sleep(3) #0.5 delay, 1, 3등으로 변경 가능\n",
    "    print(i, \" Python... \")"
   ]
  },
  {
   "cell_type": "markdown",
   "metadata": {},
   "source": [
    "## Datetime "
   ]
  },
  {
   "cell_type": "code",
   "execution_count": 12,
   "metadata": {},
   "outputs": [
    {
     "name": "stdout",
     "output_type": "stream",
     "text": [
      " ** datetime        ** \n",
      "2020년7월20일\n",
      "9시29분49초\n"
     ]
    }
   ],
   "source": [
    "import datetime as d\n",
    "\n",
    "print(\" ** datetime        ** \")\n",
    "now = d.datetime.now()\n",
    "print('{}년{}월{}일'.format(now.year, now.month, now.day))\n",
    "print('{}시{}분{}초'.format(now.hour, now.minute, now.second))"
   ]
  },
  {
   "cell_type": "markdown",
   "metadata": {},
   "source": [
    "## Calender 모듈 사용 "
   ]
  },
  {
   "cell_type": "code",
   "execution_count": 14,
   "metadata": {},
   "outputs": [
    {
     "name": "stdout",
     "output_type": "stream",
     "text": [
      " 2020년 올해의 달력  \n",
      "                                  2020\n",
      "\n",
      "      January                   February                   March\n",
      "Mo Tu We Th Fr Sa Su      Mo Tu We Th Fr Sa Su      Mo Tu We Th Fr Sa Su\n",
      "       1  2  3  4  5                      1  2                         1\n",
      " 6  7  8  9 10 11 12       3  4  5  6  7  8  9       2  3  4  5  6  7  8\n",
      "13 14 15 16 17 18 19      10 11 12 13 14 15 16       9 10 11 12 13 14 15\n",
      "20 21 22 23 24 25 26      17 18 19 20 21 22 23      16 17 18 19 20 21 22\n",
      "27 28 29 30 31            24 25 26 27 28 29         23 24 25 26 27 28 29\n",
      "                                                    30 31\n",
      "\n",
      "       April                      May                       June\n",
      "Mo Tu We Th Fr Sa Su      Mo Tu We Th Fr Sa Su      Mo Tu We Th Fr Sa Su\n",
      "       1  2  3  4  5                   1  2  3       1  2  3  4  5  6  7\n",
      " 6  7  8  9 10 11 12       4  5  6  7  8  9 10       8  9 10 11 12 13 14\n",
      "13 14 15 16 17 18 19      11 12 13 14 15 16 17      15 16 17 18 19 20 21\n",
      "20 21 22 23 24 25 26      18 19 20 21 22 23 24      22 23 24 25 26 27 28\n",
      "27 28 29 30               25 26 27 28 29 30 31      29 30\n",
      "\n",
      "        July                     August                  September\n",
      "Mo Tu We Th Fr Sa Su      Mo Tu We Th Fr Sa Su      Mo Tu We Th Fr Sa Su\n",
      "       1  2  3  4  5                      1  2          1  2  3  4  5  6\n",
      " 6  7  8  9 10 11 12       3  4  5  6  7  8  9       7  8  9 10 11 12 13\n",
      "13 14 15 16 17 18 19      10 11 12 13 14 15 16      14 15 16 17 18 19 20\n",
      "20 21 22 23 24 25 26      17 18 19 20 21 22 23      21 22 23 24 25 26 27\n",
      "27 28 29 30 31            24 25 26 27 28 29 30      28 29 30\n",
      "                          31\n",
      "\n",
      "      October                   November                  December\n",
      "Mo Tu We Th Fr Sa Su      Mo Tu We Th Fr Sa Su      Mo Tu We Th Fr Sa Su\n",
      "          1  2  3  4                         1          1  2  3  4  5  6\n",
      " 5  6  7  8  9 10 11       2  3  4  5  6  7  8       7  8  9 10 11 12 13\n",
      "12 13 14 15 16 17 18       9 10 11 12 13 14 15      14 15 16 17 18 19 20\n",
      "19 20 21 22 23 24 25      16 17 18 19 20 21 22      21 22 23 24 25 26 27\n",
      "26 27 28 29 30 31         23 24 25 26 27 28 29      28 29 30 31\n",
      "                          30\n",
      "\n",
      "  달력 확인  \n",
      "  년도 :  2021\n",
      " 월 : 4\n",
      "     April 2021\n",
      "Mo Tu We Th Fr Sa Su\n",
      "          1  2  3  4\n",
      " 5  6  7  8  9 10 11\n",
      "12 13 14 15 16 17 18\n",
      "19 20 21 22 23 24 25\n",
      "26 27 28 29 30\n",
      "\n",
      " 요일 확인 \n",
      "  년도 :  2021\n",
      " 월 : 2\n",
      " 일 : 7\n",
      "일 요일\n"
     ]
    }
   ],
   "source": [
    "import calendar as cal\n",
    "c = cal.calendar(2020)\n",
    "print(\" 2020년 올해의 달력  \")\n",
    "print(c)\n",
    "print(\"  달력 확인  \")\n",
    "year = int(input(\"  년도 :  \"))\n",
    "month = int(input(\" 월 : \"))\n",
    "print(cal.month(year, month))\n",
    "#요일 확인\n",
    "print(\" 요일 확인 \")\n",
    "year = int(input(\"  년도 :  \"))\n",
    "month = int(input(\" 월 : \"))\n",
    "day = int(input(\" 일 : \"))\n",
    "week = ['월', '화', '수', '목', '금', '토', '일',]\n",
    "q = cal.weekday(year, month, day)\n",
    "print(week[q], '요일')"
   ]
  },
  {
   "cell_type": "code",
   "execution_count": null,
   "metadata": {},
   "outputs": [],
   "source": []
  },
  {
   "cell_type": "code",
   "execution_count": null,
   "metadata": {},
   "outputs": [],
   "source": []
  },
  {
   "cell_type": "markdown",
   "metadata": {},
   "source": [
    "## Random 모듈 사용 1 "
   ]
  },
  {
   "cell_type": "code",
   "execution_count": 15,
   "metadata": {},
   "outputs": [
    {
     "name": "stdout",
     "output_type": "stream",
     "text": [
      " * 0 ~ 1    값 *\n",
      " ----------------\n",
      "0.11593404303953003\n",
      "0.6376768738648203\n",
      "0.5893403875963605\n",
      "0.29647602387524274\n",
      "0.9529421837209957\n",
      "0.6392223583479194\n",
      "0.24284935319486334\n",
      "0.804138080737949\n",
      "0.29822890298987914\n",
      "0.9406511878559306\n"
     ]
    }
   ],
   "source": [
    "import random as r\n",
    "\n",
    "print(\" * 0 ~ 1    값 *\")\n",
    "print(\" ----------------\")\n",
    "for i in range(10):\n",
    "    print(r.random())"
   ]
  },
  {
   "cell_type": "code",
   "execution_count": 17,
   "metadata": {},
   "outputs": [
    {
     "name": "stdout",
     "output_type": "stream",
     "text": [
      " 1~1000 사이의 값 * \n",
      "1 === 143\n",
      "2 === 262\n",
      "3 === 209\n",
      "4 === 348\n",
      "5 === 630\n",
      "6 === 269\n",
      "7 === 497\n",
      "8 === 6\n",
      "9 === 331\n",
      "10 === 262\n"
     ]
    }
   ],
   "source": [
    "print(\" 1~1000 사이의 값 * \")\n",
    "for i in range(10):\n",
    "    print(i+1, \"===\", r.randint(1, 1000))"
   ]
  },
  {
   "cell_type": "markdown",
   "metadata": {},
   "source": [
    "## Random 모듈 사용 2 "
   ]
  },
  {
   "cell_type": "code",
   "execution_count": 18,
   "metadata": {},
   "outputs": [
    {
     "name": "stdout",
     "output_type": "stream",
     "text": [
      "['터키', '홍콩', '동해', '파리', '제주도']\n"
     ]
    }
   ],
   "source": [
    "dest = [\"터키\", \"홍콩\", \"동해\", \"파리\", \"제주도\"]\n",
    "print(dest)"
   ]
  },
  {
   "cell_type": "code",
   "execution_count": 19,
   "metadata": {},
   "outputs": [
    {
     "name": "stdout",
     "output_type": "stream",
     "text": [
      " 어디로 갈까? \n",
      "1 === 제주도\n",
      "2 === 홍콩\n",
      "3 === 제주도\n"
     ]
    }
   ],
   "source": [
    "print(\" 어디로 갈까? \")\n",
    "for i in range(3):\n",
    "    print(i+1, \"===\",r.choice(dest))"
   ]
  },
  {
   "cell_type": "markdown",
   "metadata": {},
   "source": [
    "## Random 모듈 사용 3 "
   ]
  },
  {
   "cell_type": "code",
   "execution_count": 20,
   "metadata": {},
   "outputs": [
    {
     "name": "stdout",
     "output_type": "stream",
     "text": [
      " lotto number \n",
      "===========================\n",
      "1 번 ===> [2, 4, 18, 19, 41, 42]\n",
      "2 번 ===> [1, 4, 5, 36, 37, 45]\n",
      "3 번 ===> [3, 4, 19, 28, 29, 30]\n",
      "4 번 ===> [7, 9, 15, 22, 27, 28]\n",
      "5 번 ===> [3, 8, 9, 25, 40, 44]\n",
      "6 번 ===> [8, 9, 26, 27, 32, 39]\n",
      "7 번 ===> [10, 20, 25, 39, 44, 45]\n",
      "8 번 ===> [3, 20, 23, 28, 30, 38]\n",
      "9 번 ===> [4, 8, 10, 29, 33, 41]\n",
      "10 번 ===> [4, 13, 14, 25, 39, 43]\n"
     ]
    }
   ],
   "source": [
    "print(\" lotto number \")\n",
    "print(\"===========================\")\n",
    "\n",
    "for i in range(10):\n",
    "    number = r.sample(range(1, 46), 6)\n",
    "    number.sort()\n",
    "    print(i+1, \"번 ===>\",number)"
   ]
  },
  {
   "cell_type": "code",
   "execution_count": null,
   "metadata": {},
   "outputs": [],
   "source": []
  },
  {
   "cell_type": "markdown",
   "metadata": {},
   "source": [
    "## 실습문제(1) "
   ]
  },
  {
   "cell_type": "code",
   "execution_count": 27,
   "metadata": {},
   "outputs": [
    {
     "name": "stdout",
     "output_type": "stream",
     "text": [
      "원하는 수를 입력하시오:20\n",
      "i=> 20, Sum =>  20\n",
      "i=> 18, Sum =>  38\n",
      "i=> 16, Sum =>  54\n",
      "i=> 14, Sum =>  68\n",
      "i=> 12, Sum =>  80\n",
      "i=> 10, Sum =>  90\n",
      "i=>  8, Sum =>  98\n",
      "i=>  6, Sum => 104\n",
      "i=>  4, Sum => 108\n",
      "i=>  2, Sum => 110\n",
      " Sum = 110\n"
     ]
    }
   ],
   "source": [
    "Sum = 0\n",
    "i=int(input(\"원하는 수를 입력하시오:\"))\n",
    "for i in range(i, 0, -2):\n",
    "    Sum = Sum + i\n",
    "    print(\"i=> {:2d}, Sum => {:3d}\".format(i, Sum))\n",
    "print(\" Sum = {}\".format(Sum))"
   ]
  },
  {
   "cell_type": "markdown",
   "metadata": {},
   "source": [
    "## 실습문제(2) "
   ]
  },
  {
   "cell_type": "code",
   "execution_count": 30,
   "metadata": {},
   "outputs": [
    {
     "name": "stdout",
     "output_type": "stream",
     "text": [
      "숫자 입력: 5\n",
      "0\n",
      "0\n",
      "0\n",
      "0\n",
      "0\n"
     ]
    }
   ],
   "source": [
    "res = 1\n",
    "i=int(input(\"숫자 입력: \"))\n",
    "for s in range(i):\n",
    "    res = res * s\n",
    "    print(res)"
   ]
  },
  {
   "cell_type": "code",
   "execution_count": 33,
   "metadata": {},
   "outputs": [
    {
     "name": "stdout",
     "output_type": "stream",
     "text": [
      "숫자 입력 : 5\n",
      "120\n"
     ]
    }
   ],
   "source": [
    "def factorial(k):\n",
    "    result = 1\n",
    "    for i in range(2, k+1):\n",
    "        result *= i\n",
    "    return result\n",
    "\n",
    "k = int(input(\"숫자 입력 : \"))\n",
    "print(factorial(k))"
   ]
  },
  {
   "cell_type": "markdown",
   "metadata": {},
   "source": [
    "## 실습문제(3) "
   ]
  },
  {
   "cell_type": "code",
   "execution_count": 41,
   "metadata": {},
   "outputs": [
    {
     "name": "stdout",
     "output_type": "stream",
     "text": [
      "단어를 입력하시오: tet\n",
      "입력하신 단어는 회문 입니다\n",
      "None\n"
     ]
    }
   ],
   "source": [
    "def palindrome(c):\n",
    "    if c==c[::-1]:\n",
    "        print(\"입력하신 단어는 회문 입니다\")\n",
    "    else:\n",
    "        print(\"입력하신 단어는 회문이 아닙니다\")\n",
    "        \n",
    "c = input(\"단어를 입력하시오: \")\n",
    "print(palindrome(c))"
   ]
  },
  {
   "cell_type": "code",
   "execution_count": 43,
   "metadata": {},
   "outputs": [
    {
     "name": "stdout",
     "output_type": "stream",
     "text": [
      "단어를 입력하세요.pop\n",
      "회문이오.\n",
      "None\n"
     ]
    }
   ],
   "source": [
    "def pal2(n):\n",
    "    rev = ''.join(reversed(n))\n",
    "    \n",
    "    if n == rev:\n",
    "        print(\"회문이오.\")\n",
    "    else:\n",
    "        print(\"XXXXX\")\n",
    "        \n",
    "n = input(\"단어를 입력하세요.\")\n",
    "print(pal2(n))"
   ]
  },
  {
   "cell_type": "markdown",
   "metadata": {},
   "source": [
    "## 실습문제(4) "
   ]
  },
  {
   "cell_type": "code",
   "execution_count": 66,
   "metadata": {},
   "outputs": [
    {
     "name": "stdout",
     "output_type": "stream",
     "text": [
      "날짜를 입력하시오: 2020-7-2\n",
      "올바른 날짜입니다.\n"
     ]
    }
   ],
   "source": [
    "class Date:\n",
    "    @staticmethod\n",
    "    def is_date_valid(date_string):\n",
    "        year, month, day=map(int, date_string.split('-'))\n",
    "        return (month>0 and month<=12) and (day>0 and day<=31)\n",
    "    \n",
    "date=input(\"날짜를 입력하시오: \")\n",
    "if Date.is_date_valid(date):\n",
    "    print(\"올바른 날짜입니다.\")\n",
    "else:\n",
    "    print(\"잘못된 날짜 형식입니다.\")"
   ]
  },
  {
   "cell_type": "code",
   "execution_count": null,
   "metadata": {},
   "outputs": [],
   "source": []
  },
  {
   "cell_type": "code",
   "execution_count": null,
   "metadata": {},
   "outputs": [],
   "source": []
  },
  {
   "cell_type": "markdown",
   "metadata": {},
   "source": [
    "## 실습문제(6) "
   ]
  },
  {
   "cell_type": "code",
   "execution_count": 59,
   "metadata": {},
   "outputs": [],
   "source": [
    "def check_length(x):\n",
    "    if len(x[0])>=len(x[1]):\n",
    "        print(x[0])\n",
    "    else:\n",
    "        print(x[1])"
   ]
  },
  {
   "cell_type": "code",
   "execution_count": 61,
   "metadata": {},
   "outputs": [
    {
     "name": "stdout",
     "output_type": "stream",
     "text": [
      "두 문자열을 입력하시오.(', '로 구분) : 나는 파이썬이다, 나는 자바이다\n",
      "나\n"
     ]
    }
   ],
   "source": [
    "x = input(\"두 문자열을 입력하시오.(', '로 구분) : \")\n",
    "list = x.split(', ')\n",
    "\n",
    "\n",
    "check_length(x)"
   ]
  },
  {
   "cell_type": "code",
   "execution_count": null,
   "metadata": {},
   "outputs": [],
   "source": [
    "def len_check(k):\n",
    "    if len(k[0]) >= len(k[1]):\n",
    "        print(k[0])\n",
    "    else:\n",
    "        print(k[1])\n",
    "        \n",
    "k = input(\"문자열\")\n",
    "list = k.split(\", \")\n",
    "\n",
    "len_check(k)\n",
    "    "
   ]
  },
  {
   "cell_type": "markdown",
   "metadata": {},
   "source": [
    "## 실습문제(7) "
   ]
  },
  {
   "cell_type": "code",
   "execution_count": 46,
   "metadata": {},
   "outputs": [],
   "source": [
    "def Check_for_existence(k, n):\n",
    "#     n = int(input(\"확인할 숫자를 적으세요: \"))\n",
    "    if n in k:\n",
    "        print(\"%d => True\"%n)\n",
    "    else:\n",
    "        print(\"%d => False\"%n)"
   ]
  },
  {
   "cell_type": "code",
   "execution_count": 48,
   "metadata": {},
   "outputs": [
    {
     "name": "stdout",
     "output_type": "stream",
     "text": [
      "5 => False\n",
      "10 => True\n"
     ]
    }
   ],
   "source": [
    "k = [2, 4, 6, 8, 10]\n",
    "Check_for_existence(k, 5)\n",
    "Check_for_existence(k, 10)"
   ]
  },
  {
   "cell_type": "code",
   "execution_count": 49,
   "metadata": {},
   "outputs": [
    {
     "name": "stdout",
     "output_type": "stream",
     "text": [
      "[2, 4, 6, 8, 10]\n",
      "5=> False\n",
      "10=> True\n"
     ]
    }
   ],
   "source": [
    "def Check_for_existence(k, t):\n",
    "    print(\"%d=> \"%t, end=\"\")\n",
    "    if t in k:\n",
    "        print(True)\n",
    "    else:\n",
    "        print(False)\n",
    "k=[2,4,6,8,10]\n",
    "print(k)\n",
    "Check_for_existence(k,5)\n",
    "Check_for_existence(k, 10)"
   ]
  },
  {
   "cell_type": "code",
   "execution_count": null,
   "metadata": {},
   "outputs": [],
   "source": []
  },
  {
   "cell_type": "code",
   "execution_count": null,
   "metadata": {},
   "outputs": [],
   "source": []
  },
  {
   "cell_type": "code",
   "execution_count": null,
   "metadata": {},
   "outputs": [],
   "source": []
  },
  {
   "cell_type": "code",
   "execution_count": null,
   "metadata": {},
   "outputs": [],
   "source": []
  },
  {
   "cell_type": "markdown",
   "metadata": {},
   "source": [
    "# HTML 데이터 다루기"
   ]
  },
  {
   "cell_type": "code",
   "execution_count": 1,
   "metadata": {},
   "outputs": [
    {
     "name": "stdout",
     "output_type": "stream",
     "text": [
      "Start Download\n",
      "End Download\n"
     ]
    }
   ],
   "source": [
    "import urllib.request    #urllib 모듈 호출\n",
    "url=\"http://storage.googleapis.com/patents/grant_full_text/2014/ipg140107.zip\"\n",
    "\n",
    "print(\"Start Download\")\n",
    "fname, header = urllib.request.urlretrieve(url, 'ipg140107.zip') #urlretrieve()함수 호출(URL 주소, 다운로드할 파일명), 결과값으로 다운로드한 파일명과 header 정보를 언패킹\n",
    "print(\"End Download\")"
   ]
  },
  {
   "cell_type": "code",
   "execution_count": 2,
   "metadata": {},
   "outputs": [
    {
     "name": "stdout",
     "output_type": "stream",
     "text": [
      "codo***\n",
      "outb7***\n",
      "dubba4***\n",
      "multicuspi***\n",
      "crownm***\n",
      "triformo***\n",
      "spania***\n",
      "magazin***\n",
      "presby***\n",
      "trophody***\n",
      "nontr***\n",
      "enranck***\n",
      "canc***\n",
      "uncanker***\n",
      "wrymo***\n",
      "non***\n",
      "luminat***\n",
      "oblig***\n",
      "anna***\n",
      "hyperth***\n",
      "toplabl***\n",
      "dolce0***\n",
      "rudals2***\n",
      "jjw980***\n",
      "elvlz***\n",
      "skmid***\n",
      "qkep***\n",
      "kisslov***\n",
      "maskman***\n",
      "sungt***\n"
     ]
    }
   ],
   "source": [
    "import re\n",
    "import urllib.request\n",
    "\n",
    "url = \"http://goo.gl/U7mSQl\"                 # 접속할 페이지\n",
    "html = urllib.request.urlopen(url)           # 웹 페이지 열기\n",
    "html_contents = str(html.read())             # 웹 페이지의 내용을 문자열로 가져옴\n",
    "id_results = re.findall(r\"([A-Za-z0-9]+\\*\\*\\*)\", html_contents)\n",
    "#findall 전체 찾기, 정규 표현식 패턴대로 데이터 찾기\n",
    "\n",
    "for result in id_results:      # 찾은 정보를 화면에 출력\n",
    "    print(result)"
   ]
  },
  {
   "cell_type": "code",
   "execution_count": null,
   "metadata": {},
   "outputs": [],
   "source": []
  }
 ],
 "metadata": {
  "kernelspec": {
   "display_name": "Python 3",
   "language": "python",
   "name": "python3"
  },
  "language_info": {
   "codemirror_mode": {
    "name": "ipython",
    "version": 3
   },
   "file_extension": ".py",
   "mimetype": "text/x-python",
   "name": "python",
   "nbconvert_exporter": "python",
   "pygments_lexer": "ipython3",
   "version": "3.7.6"
  }
 },
 "nbformat": 4,
 "nbformat_minor": 4
}
